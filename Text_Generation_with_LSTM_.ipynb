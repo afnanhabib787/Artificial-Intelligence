{
  "nbformat": 4,
  "nbformat_minor": 0,
  "metadata": {
    "colab": {
      "name": "Text Generation with LSTM .ipynb",
      "provenance": [],
      "collapsed_sections": [],
      "authorship_tag": "ABX9TyOiqI/+vP6g8TmMOBpsPZt0",
      "include_colab_link": true
    },
    "kernelspec": {
      "name": "python3",
      "display_name": "Python 3"
    },
    "language_info": {
      "name": "python"
    },
    "accelerator": "GPU"
  },
  "cells": [
    {
      "cell_type": "markdown",
      "metadata": {
        "id": "view-in-github",
        "colab_type": "text"
      },
      "source": [
        "<a href=\"https://colab.research.google.com/github/afnanhabib787/Artificial-Intelligence/blob/main/Text_Generation_with_LSTM_.ipynb\" target=\"_parent\"><img src=\"https://colab.research.google.com/assets/colab-badge.svg\" alt=\"Open In Colab\"/></a>"
      ]
    },
    {
      "cell_type": "code",
      "metadata": {
        "id": "cSesy7VpUKLp"
      },
      "source": [
        "import numpy as np\n",
        "def reweight_distribution(original_distribution, tempeeature=0.5):\n",
        "  distribution = np.log(original_distribution) / temperature\n",
        "  distribution = np.exp(distribution)\n",
        "  return distribution / np.sum(distribution)"
      ],
      "execution_count": 3,
      "outputs": []
    },
    {
      "cell_type": "code",
      "metadata": {
        "id": "q_LoUDGzU44W"
      },
      "source": [
        "text = \"\"\"\n",
        "Artificial intelligence is the simulation of human intelligence processes by machines, especially computer systems. Specific applications of AI include expert systems, natural language processing, speech recognition and machine vision.\n",
        "As the hype around AI has accelerated, vendors have been scrambling to promote how their products and services use AI. Often what they refer to as AI is simply one component of AI, such as machine learning. AI requires a foundation of specialized hardware and software for writing and training machine learning algorithms. No one programming language is synonymous with AI, but a few, including Python, R and Java, are popular.\n",
        "\n",
        "In general, AI systems work by ingesting large amounts of labeled training data, analyzing the data for correlations and patterns, and using these patterns to make predictions about future states. In this way, a chatbot that is fed examples of text chats can learn to produce lifelike exchanges with people, or an image recognition tool can learn to identify and describe objects in images by reviewing millions of examples.\n",
        "\n",
        "AI programming focuses on three cognitive skills: learning, reasoning and self-correction.\n",
        "\n",
        "Learning processes. This aspect of AI programming focuses on acquiring data and creating rules for how to turn the data into actionable information. The rules, which are called algorithms, provide computing devices with step-by-step instructions for how to complete a specific task.\n",
        "AI is important because it can give enterprises insights into their operations that they may not have been aware of previously and because, in some cases, AI can perform tasks better than humans. Particularly when it comes to repetitive, detail-oriented tasks like analyzing large numbers of legal documents to ensure relevant fields are filled in properly, AI tools often complete jobs quickly and with relatively few errors.\n",
        "\n",
        "This has helped fuel an explosion in efficiency and opened the door to entirely new business opportunities for some larger enterprises. Prior to the current wave of AI, it would have been hard to imagine using computer software to connect riders to taxis, but today Uber has become one of the largest companies in the world by doing just that. It utilizes sophisticated machine learning algorithms to predict when people are likely to need rides in certain areas, which helps proactively get drivers on the road before they're needed. As another example, Google has become one of the largest players for a range of online services by using machine learning to understand how people use their services and then improving them. In 2017, the company's CEO, Sundar Pichai, pronounced that Google would operate as an \"AI first\" company.\n",
        "\n",
        "Today's largest and most successful enterprises have used AI to improve their operations and gain advantage on their competitors.\n",
        "\n",
        "What are the advantages and disadvantages of artificial intelligence?\n",
        "Artificial neural networks and deep learning artificial intelligence technologies are quickly evolving, primarily because AI processes large amounts of data much faster and makes predictions more accurately than humanly possible.\n",
        "\n",
        "While the huge volume of data being created on a daily basis would bury a human researcher, AI applications that use machine learning can take that data and quickly turn it into actionable information. As of this writing, the primary disadvantage of using AI is that it is expensive to process the large amounts of data that AI programming requires.\n",
        "\n",
        "Advantages\n",
        "\n",
        "Good at detail-oriented jobs;\n",
        "Reduced time for data-heavy tasks;\n",
        "Delivers consistent results; and\n",
        "AI-powered virtual agents are always available.\n",
        "Disadvantages\n",
        "\n",
        "Expensive;\n",
        "Requires deep technical expertise;\n",
        "Limited supply of qualified workers to build AI tools;\n",
        "Only knows what it's been shown; and\n",
        "Lack of ability to generalize from one task to another.\n",
        "Strong AI vs. weak AI\n",
        "AI can be categorized as either weak or strong.\n",
        "\n",
        "Weak AI, also known as narrow AI, is an AI system that is designed and trained to complete a specific task. Industrial robots and virtual personal assistants, such as Apple's Siri, use weak AI.\n",
        "Strong AI, also known as artificial general intelligence (AGI), describes programming that can replicate the cognitive abilities of the human brain. When presented with an unfamiliar task, a strong AI system can use fuzzy logic to apply knowledge from one domain to another and find a solution autonomously. In theory, a strong AI program should be able to pass both a Turing Test and the Chinese room test.\n",
        "What are the 4 types of artificial intelligence?\n",
        "Arend Hintze, an assistant professor of integrative biology and computer science and engineering at Michigan State University, explained in a 2016 article that AI can be categorized into four types, beginning with the task-specific intelligent systems in wide use today and progressing to sentient systems, which do not yet exist. The categories are as follows:\n",
        "\n",
        "Type 1: Reactive machines. These AI systems have no memory and are task specific. An example is Deep Blue, the IBM chess program that beat Garry Kasparov in the 1990s. Deep Blue can identify pieces on the chessboard and make predictions, but because it has no memory, it cannot use past experiences to inform future ones.\n",
        "Type 2: Limited memory. These AI systems have memory, so they can use past experiences to inform future decisions. Some of the decision-making functions in self-driving cars are designed this way.\n",
        "Type 3: Theory of mind. Theory of mind is a psychology term. When applied to AI, it means that the system would have the social intelligence to understand emotions. This type of AI will be able to infer human intentions and predict behavior, a necessary skill for AI systems to become integral members of human teams.\n",
        "Type 4: Self-awareness. In this category, AI systems have a sense of self, which gives them consciousness. Machines with self-awareness understand their own current state. This type of AI does not yet exist.\n",
        "AI is incorporated into a variety of different types of technology. Here are six examples:\n",
        "\n",
        "Automation. When paired with AI technologies, automation tools can expand the volume and types of tasks performed. An example is robotic process automation (RPA), a type of software that automates repetitive, rules-based data processing tasks traditionally done by humans. When combined with machine learning and emerging AI tools, RPA can automate bigger portions of enterprise jobs, enabling RPA's tactical bots to pass along intelligence from AI and respond to process changes.\n",
        "Machine learning. This is the science of getting a computer to act without programming. Deep learning is a subset of machine learning that, in very simple terms, can be thought of as the automation of predictive analytics. There are three types of machine learning algorithms:\n",
        "Supervised learning. Data sets are labeled so that patterns can be detected and used to label new data sets.\n",
        "Unsupervised learning. Data sets aren't labeled and are sorted according to similarities or differences.\n",
        "Reinforcement learning. Data sets aren't labeled but, after performing an action or several actions, the AI system is given feedback.\n",
        "Machine vision. This technology gives a machine the ability to see. Machine vision captures and analyzes visual information using a camera, analog-to-digital conversion and digital signal processing. It is often compared to human eyesight, but machine vision isn't bound by biology and can be programmed to see through walls, for example. It is used in a range of applications from signature identification to medical image analysis. Computer vision, which is focused on machine-based image processing, is often conflated with machine vision.\n",
        "Natural language processing (NLP). This is the processing of human language by a computer program. One of the older and best-known examples of NLP is spam detection, which looks at the subject line and text of an email and decides if it's junk. Current approaches to NLP are based on machine learning. NLP tasks include text translation, sentiment analysis and speech recognition.\n",
        "Robotics. This field of engineering focuses on the design and manufacturing of robots. Robots are often used to perform tasks that are difficult for humans to perform or perform consistently. For example, robots are used in assembly lines for car production or by NASA to move large objects in space. Researchers are also using machine learning to build robots that can interact in social settings.\n",
        "Self-driving cars. Autonomous vehicles use a combination of computer vision, image recognition and deep learning to build automated skill at piloting a vehicle while staying in a given lane and avoiding unexpected obstructions, such as pedestrians.\n",
        "Artificial intelligence has made its way into a wide variety of markets. Here are nine examples.\n",
        "\n",
        "AI in healthcare. The biggest bets are on improving patient outcomes and reducing costs. Companies are applying machine learning to make better and faster diagnoses than humans. One of the best-known healthcare technologies is IBM Watson. It understands natural language and can respond to questions asked of it. The system mines patient data and other available data sources to form a hypothesis, which it then presents with a confidence scoring schema. Other AI applications include using online virtual health assistants and chatbots to help patients and healthcare customers find medical information, schedule appointments, understand the billing process and complete other administrative processes. An array of AI technologies is also being used to predict, fight and understand pandemics such as COVID-19.\n",
        "\n",
        "AI in business. Machine learning algorithms are being integrated into analytics and customer relationship management (CRM) platforms to uncover information on how to better serve customers. Chatbots have been incorporated into websites to provide immediate service to customers. Automation of job positions has also become a talking point among academics and IT analysts.\n",
        "\n",
        "AI in education. AI can automate grading, giving educators more time. It can assess students and adapt to their needs, helping them work at their own pace. AI tutors can provide additional support to students, ensuring they stay on track. And it could change where and how students learn, perhaps even replacing some teachers.\n",
        "\n",
        "AI in finance. AI in personal finance applications, such as Intuit Mint or TurboTax, is disrupting financial institutions. Applications such as these collect personal data and provide financial advice. Other programs, such as IBM Watson, have been applied to the process of buying a home. Today, artificial intelligence software performs much of the trading on Wall Street.\n",
        "AI in law. The discovery process -- sifting through documents -- in law is often overwhelming for humans. Using AI to help automate the legal industry's labor-intensive processes is saving time and improving client service. Law firms are using machine learning to describe data and predict outcomes, computer vision to classify and extract information from documents and natural language processing to interpret requests for information.\n",
        "\n",
        "AI in manufacturing. Manufacturing has been at the forefront of incorporating robots into the workflow. For example, the industrial robots that were at one time programmed to perform single tasks and separated from human workers, increasingly function as cobots: Smaller, multitasking robots that collaborate with humans and take on responsibility for more parts of the job in warehouses, factory floors and other workspaces.\n",
        "\n",
        "AI in banking. Banks are successfully employing chatbots to make their customers aware of services and offerings and to handle transactions that don't require human intervention. AI virtual assistants are being used to improve and cut the costs of compliance with banking regulations. Banking organizations are also using AI to improve their decision-making for loans, and to set credit limits and identify investment opportunities.\n",
        "\n",
        "AI in transportation. In addition to AI's fundamental role in operating autonomous vehicles, AI technologies are used in transportation to manage traffic, predict flight delays, and make ocean shipping safer and more efficient.\n",
        "\n",
        "Security. AI and machine learning are at the top of the buzzword list security vendors use today to differentiate their offerings. Those terms also represent truly viable technologies. Organizations use machine learning in security information and event management (SIEM) software and related areas to detect anomalies and identify suspicious activities that indicate threats. By analyzing data and using logic to identify similarities to known malicious code, AI can provide alerts to new and emerging attacks much sooner than human employees and previous technology iterations. The maturing technology is playing a big role in helping organizations fight off cyber attacks.\n",
        "\n",
        "Augmented intelligence vs. artificial intelligence\n",
        "Some industry experts believe the term artificial intelligence is too closely linked to popular culture, and this has caused the general public to have improbable expectations about how AI will change the workplace and life in general.\n",
        "\n",
        "Augmented intelligence. Some researchers and marketers hope the label augmented intelligence, which has a more neutral connotation, will help people understand that most implementations of AI will be weak and simply improve products and services. Examples include automatically surfacing important information in business intelligence reports or highlighting important information in legal filings.\n",
        "Artificial intelligence. True AI, or artificial general intelligence, is closely associated with the concept of the technological singularity -- a future ruled by an artificial superintelligence that far surpasses the human brain's ability to understand it or how it is shaping our reality. This remains within the realm of science fiction, though some developers are working on the problem. Many believe that technologies such as quantum computing could play an important role in making AGI a reality and that we should reserve the use of the term AI for this kind of general intelligence.\n",
        "Ethical use of artificial intelligence\n",
        "While AI tools present a range of new functionality for businesses, the use of artificial intelligence also raises ethical questions because, for better or worse, an AI system will reinforce what it has already learned.\n",
        "\n",
        "This can be problematic because machine learning algorithms, which underpin many of the most advanced AI tools, are only as smart as the data they are given in training. Because a human being selects what data is used to train an AI program, the potential for machine learning bias is inherent and must be monitored closely.\n",
        "\n",
        "Anyone looking to use machine learning as part of real-world, in-production systems needs to factor ethics into their AI training processes and strive to avoid bias. This is especially true when using AI algorithms that are inherently unexplainable in deep learning and generative adversarial network (GAN) applications.\n",
        "\n",
        "Explainability is a potential stumbling block to using AI in industries that operate under strict regulatory compliance requirements. For example, financial institutions in the United States operate under regulations that require them to explain their credit-issuing decisions. When a decision to refuse credit is made by AI programming, however, it can be difficult to explain how the decision was arrived at because the AI tools used to make such decisions operate by teasing out subtle correlations between thousands of variables. When the decision-making process cannot be explained, the program may be referred to as black box AI.\n",
        "\n",
        "\n",
        "Despite potential risks, there are currently few regulations governing the use of AI tools, and where laws do exist, they typically pertain to AI indirectly. For example, as previously mentioned, United States Fair Lending regulations require financial institutions to explain credit decisions to potential customers. This limits the extent to which lenders can use deep learning algorithms, which by their nature are opaque and lack explainability.\n",
        "\n",
        "The European Union's General Data Protection Regulation (GDPR) puts strict limits on how enterprises can use consumer data, which impedes the training and functionality of many consumer-facing AI applications.\n",
        "\n",
        "In October 2016, the National Science and Technology Council issued a report examining the potential role governmental regulation might play in AI development, but it did not recommend specific legislation be considered.\n",
        "\n",
        "Crafting laws to regulate AI will not be easy, in part because AI comprises a variety of technologies that companies use for different ends, and partly because regulations can come at the cost of AI progress and development. The rapid evolution of AI technologies is another obstacle to forming meaningful regulation of AI. Technology breakthroughs and novel applications can make existing laws instantly obsolete. For example, existing laws regulating the privacy of conversations and recorded conversations do not cover the challenge posed by voice assistants like Amazon's Alexa and Apple's Siri that gather but do not distribute conversation -- except to the companies' technology teams which use it to improve machine learning algorithms. And, of course, the laws that governments do manage to craft to regulate AI don't stop criminals from using the technology with malicious intent.\n",
        "\n",
        "Cognitive computing and AI\n",
        "The terms AI and cognitive computing are sometimes used interchangeably, but, generally speaking, the label AI is used in reference to machines that replace human intelligence by simulating how we sense, learn, process and react to information in the environment.\n",
        "\n",
        "The label cognitive computing is used in reference to products and services that mimic and augment human thought processes.\n",
        "\n",
        "What is the history of AI?\n",
        "The concept of inanimate objects endowed with intelligence has been around since ancient times. The Greek god Hephaestus was depicted in myths as forging robot-like servants out of gold. Engineers in ancient Egypt built statues of gods animated by priests. Throughout the centuries, thinkers from Aristotle to the 13th century Spanish theologian Ramon Llull to René Descartes and Thomas Bayes used the tools and logic of their times to describe human thought processes as symbols, laying the foundation for AI concepts such as general knowledge representation.\n",
        "The late 19th and first half of the 20th centuries brought forth the foundational work that would give rise to the modern computer. In 1836, Cambridge University mathematician Charles Babbage and Augusta Ada Byron, Countess of Lovelace, invented the first design for a programmable machine.\n",
        "\n",
        "1940s. Princeton mathematician John Von Neumann conceived the architecture for the stored-program computer -- the idea that a computer's program and the data it processes can be kept in the computer's memory. And Warren McCulloch and Walter Pitts laid the foundation for neural networks.\n",
        "\n",
        "1950s. With the advent of modern computers, scientists could test their ideas about machine intelligence. One method for determining whether a computer has intelligence was devised by the British mathematician and World War II code-breaker Alan Turing. The Turing Test focused on a computer's ability to fool interrogators into believing its responses to their questions were made by a human being.\n",
        "\n",
        "1956. The modern field of artificial intelligence is widely cited as starting this year during a summer conference at Dartmouth College. Sponsored by the Defense Advanced Research Projects Agency (DARPA), the conference was attended by 10 luminaries in the field, including AI pioneers Marvin Minsky, Oliver Selfridge and John McCarthy, who is credited with coining the term artificial intelligence. Also in attendance were Allen Newell, a computer scientist, and Herbert A. Simon, an economist, political scientist and cognitive psychologist, who presented their groundbreaking Logic Theorist, a computer program capable of proving certain mathematical theorems and referred to as the first AI program.\n",
        "\n",
        "1950s and 1960s. In the wake of the Dartmouth College conference, leaders in the fledgling field of AI predicted that a man-made intelligence equivalent to the human brain was around the corner, attracting major government and industry support. Indeed, nearly 20 years of well-funded basic research generated significant advances in AI: For example, in the late 1950s, Newell and Simon published the General Problem Solver (GPS) algorithm, which fell short of solving complex problems but laid the foundations for developing more sophisticated cognitive architectures; McCarthy developed Lisp, a language for AI programming that is still used today. In the mid-1960s MIT Professor Joseph Weizenbaum developed ELIZA, an early natural language processing program that laid the foundation for today's chatbots.\n",
        "\n",
        "1970s and 1980s. But the achievement of artificial general intelligence proved elusive, not imminent, hampered by limitations in computer processing and memory and by the complexity of the problem. Government and corporations backed away from their support of AI research, leading to a fallow period lasting from 1974 to 1980 and known as the first \"AI Winter.\" In the 1980s, research on deep learning techniques and industry's adoption of Edward Feigenbaum's expert systems sparked a new wave of AI enthusiasm, only to be followed by another collapse of government funding and industry support. The second AI winter lasted until the mid-1990s.\n",
        "\n",
        "1990s through today. Increases in computational power and an explosion of data sparked an AI renaissance in the late 1990s that has continued to present times. The latest focus on AI has given rise to breakthroughs in natural language processing, computer vision, robotics, machine learning, deep learning and more. Moreover, AI is becoming ever more tangible, powering cars, diagnosing disease and cementing its role in popular culture. In 1997, IBM's Deep Blue defeated Russian chess grandmaster Garry Kasparov, becoming the first computer program to beat a world chess champion. Fourteen years later, IBM's Watson captivated the public when it defeated two former champions on the game show Jeopardy!. More recently, the historic defeat of 18-time World Go champion Lee Sedol by Google DeepMind's AlphaGo stunned the Go community and marked a major milestone in the development of intelligent machines.\n",
        "\n",
        "AI as a service\n",
        "Because hardware, software and staffing costs for AI can be expensive, many vendors are including AI components in their standard offerings or providing access to artificial intelligence as a service (AIaaS) platforms. AIaaS allows individuals and companies to experiment with AI for various business purposes and sample multiple platforms before making a commitment.\n",
        "\n",
        "Popular AI cloud offerings include the following:\n",
        "\n",
        "Amazon AI\n",
        "IBM Watson Assistant\n",
        "Microsoft Cognitive Services\n",
        "Google AI\n",
        "An AI is a computer system that is able to perform tasks that ordinarily require human intelligence. These artificial intelligence systems are powered by machine learning. Many of them are powered by machine learning, some of them are powered by specifically deep learning, some of them are powered by very boring things like just rules.\n",
        "Artificial intelligence systems are critical for companies that wish to extract value from data by automating and optimizing processes or producing actionable insights. Artificial intelligence systems powered by machine learning enable companies to leverage large amounts of available data to uncover insights and patterns that would be impossible for any one person to identify, enabling them to deliver more targeted, personalized communications, predict critical care events, identify likely fraudulent transactions, and more.\n",
        "\n",
        "The effects of AI will be magnified in the coming decade, as manufacturing, retailing, transportation, finance, healthcare, law, advertising, insurance, entertainment, education, and virtually every other industry transform their core processes and business models to take advantage of machine learning\n",
        "Companies that fail to adopt AI and machine learning technologies are fated to be left behind:\n",
        "\n",
        "Global spending on AI will grow 50% compounded annually and will reach $57.6 billion by 2021.\n",
        "Industries like retail, marketing, healthcare, fintech, insurance, and more will all stand to benefit from AI and machine learning.\n",
        "Companies driven by insights from data will take $1.2 trillion a year from non-insight driven companies by 2020.\n",
        "83% of early adopters are already gaining value from AI and machine learning initiatives.\n",
        "The net gain in jobs resulting from AI adoption will be over 5 million.\n",
        "DataRobot was founded on the belief that emerging AI and machine learning technologies should be available to all enterprises, regardless of size and resources. That’s why we invented automated machine learning, which allows users of all skill levels to easily and rapidly build and deploy machine learning models.\n",
        "\n",
        "DataRobot believes in the democratization of AI, and for that reason, we developed a platform to enable business users across organizations to gain actionable, practical insights that result in tangible business value. DataRobot makes the power of AI accessible to users throughout your business, helping your organization transform into an AI-driven enterprise.\n",
        "Artificial Intelligence is an umbrella term for a range of concepts and technologies that allow machines to exhibit human-like capabilities.  Some common implementations include self-driving cars, human-impersonating chatbots, and facial recognition apps.  A few recent breakthroughs have led to applications that don't just mimic human intelligence but go well above and beyond, performing tasks that are otherwise impossible for humans.\n",
        "AI dates back to the 1950s and has been through several boom and bust cycles.  Over the past few years, we've seen tremendous resurgence in investment and excitement in AI due to the culmination of three key ingredients: \n",
        "Abundant and cheap parallel computation with GPUsGrowing data sets and collection techniquesAdvancements in underlying algorithms -- especially the advent of a neural network-based approach called Deep Learning\n",
        "AI powers applications used by hundreds of millions of people every day.  Businesses are using AI to perform an almost infinite number of tasks, from implementing recommender systems for e-commerce apps to diagnosing cancer.\n",
        "AI is in its infancy and as an early-stage technology it is rapidly changing and challenging to implement.  To gain more widespread adoption, AI needs to overcome a number of hurdles.  These obstacles generally fall into two primary areas:\n",
        "A lack of best practices (MLOps) across the entire model lifecycleInfrastructure complexity inherent in developing and productionizing models\n",
        "Today, Data Scientists only spend around 25% of their time developing models -- the other 75% of their time is spent managing tooling and infrastructure.  \n",
        "\"The biggest barrier to AI adoption is an infrastructure and tooling problem, not an algorithm problem.\"\n",
        "-- Dillon Erb, Paperspace CEO\n",
        "These are the challenges that end-to-end AI platforms like Paperspace Gradient were built to solve.  \n",
        "Artificial Intelligence + Gradient\n",
        "Gradient enables teams to quickly develop, track, and deploy machine learning models from concept to production.  The platform provides infrastructure automation and model lifecycle management with organization-wide visibility, reproducibility, and governance as first-class citizens. \n",
        "For data scientists, Gradient provides the freedom to use familiar tools. Since Gradient provides DevOps support and resource orchestration, teams can focus on training algorithms and creating business value. \n",
        "For organizations, Gradient reduces project costs by streamlining hardware resources and data science team productivity.  The Kubernetes-native platform provides a unified ML hub that maximizes speed to deployment and time-to-value.\n",
        "Gradient pioneered the concept of CI/CD for machine learning which is helping transform data driven organizations into model driven organizations. This is also known as agile ML.\n",
        "Pathmind’s artificial intelligence wiki is a beginner’s guide to important topics in AI, machine learning, and deep learning. The goal is to give readers an intuition for how powerful new algorithms work and how they are used, along with code examples where possible.\n",
        "\n",
        "Advances in the field of machine learning (algorithms that adjust themselves when exposed to data) are driving progress more widely in AI. But many terms and concepts will seem incomprehensible to the intelligent outsider, the beginner, and even the former student of AI returning to a transformed discipline after years away. We hope this wiki helps you better understand AI, the software used to build it, and what is at stake in its development.\n",
        "\n",
        "The line between mathematics and philosophy is blurry when we talk about artificial intelligence, because with AI, we ask the mineral called silicon to perceive and to think – actions once thought exclusive to meat, and now possible with computation. We hope that by reading this wiki, you will find new ways of thinking about life and intelligence, just as we have by writing it.\n",
        "\n",
        "Getting Started\n",
        "You might start by reading our comparison of artificial Intelligence, machine learning and deep learning.\n",
        "\n",
        "If you are curious about neural networks, reinforcement learning, LSTMs, convolutional networks (CNNs) or generative adversarial networks (GANs), we have devoted introductory posts to those popular algorithms, as well as more widely applicable mathematical concepts like eigenvectors and Markov Chains.\n",
        "\n",
        "For industry-focused topics, see the Wiki pages on robotic process automation (RPA) and digital twins.\n",
        "\n",
        "Machine Learning Glossary\n",
        "As you read the articles, please refer to our AI glossary for definitions of many of the terms used in artificial intelligence and machine learning.\n",
        "\n",
        "\n",
        "\n",
        "\n",
        "\"\"\".lower()\n",
        "print(len(text))\n",
        "text"
      ],
      "execution_count": null,
      "outputs": []
    },
    {
      "cell_type": "code",
      "metadata": {
        "id": "XJUC3AEuZJdR"
      },
      "source": [
        ""
      ],
      "execution_count": 4,
      "outputs": []
    },
    {
      "cell_type": "code",
      "metadata": {
        "colab": {
          "base_uri": "https://localhost:8080/"
        },
        "id": "lQQptZ_gXccb",
        "outputId": "d982e2aa-1618-4c21-88f3-077f9fcc5e2b"
      },
      "source": [
        "from tensorflow.keras.utils import get_file\n",
        "import numpy as np\n",
        "path = get_file('nietzsche.txt',\n",
        "                            origin='https://s3.amazonaws.com/text-datasets/nietzsche.txt')\n",
        "text = open(path).read().lower()\n",
        "print('Corpus length', len(text))"
      ],
      "execution_count": 5,
      "outputs": [
        {
          "output_type": "stream",
          "name": "stdout",
          "text": [
            "Downloading data from https://s3.amazonaws.com/text-datasets/nietzsche.txt\n",
            "606208/600901 [==============================] - 1s 1us/step\n",
            "614400/600901 [==============================] - 1s 1us/step\n",
            "Corpus length 600893\n"
          ]
        }
      ]
    },
    {
      "cell_type": "code",
      "metadata": {
        "id": "s5J79pWyX0Hc"
      },
      "source": [
        "#Vectorizing sequences of characters"
      ],
      "execution_count": 51,
      "outputs": []
    },
    {
      "cell_type": "code",
      "metadata": {
        "id": "UdzYxWN_Z6aK"
      },
      "source": [
        "maxlen = 60\n",
        "step = 3\n",
        "sentences = []\n",
        "next_chars = []\n",
        "for i in range(0, len(text)-maxlen, step):\n",
        "  sentences.append(text[i:i+maxlen])\n",
        "  next_chars.append(text[i+maxlen])"
      ],
      "execution_count": 52,
      "outputs": []
    },
    {
      "cell_type": "code",
      "metadata": {
        "colab": {
          "base_uri": "https://localhost:8080/"
        },
        "id": "ZNK3MyGxa8jt",
        "outputId": "8f566612-d9c4-4a24-95b2-c7a3be328c7c"
      },
      "source": [
        "print('Number of sequences: ',len(sentences))\n",
        "chars = sorted(list(set(text)))\n",
        "print('Unique character: ',len(chars))\n",
        "char_indices = dict((char, chars.index(char)) for char in chars)\n",
        "print(\"Vectorization...\")"
      ],
      "execution_count": 53,
      "outputs": [
        {
          "output_type": "stream",
          "name": "stdout",
          "text": [
            "Number of sequences:  10048\n",
            "Unique character:  56\n",
            "Vectorization...\n"
          ]
        }
      ]
    },
    {
      "cell_type": "code",
      "metadata": {
        "id": "AfSWXsCHgepm"
      },
      "source": [
        "x = np.zeros((len(sentences), maxlen, len(chars)), dtype=np.bool)"
      ],
      "execution_count": 54,
      "outputs": []
    },
    {
      "cell_type": "code",
      "metadata": {
        "colab": {
          "base_uri": "https://localhost:8080/"
        },
        "id": "qQ9wKxbugqDH",
        "outputId": "e42ab0ce-80f1-4870-9cc9-a6c502941e37"
      },
      "source": [
        "list((len(sentences), maxlen, len(chars)))"
      ],
      "execution_count": 55,
      "outputs": [
        {
          "output_type": "execute_result",
          "data": {
            "text/plain": [
              "[10048, 60, 56]"
            ]
          },
          "metadata": {},
          "execution_count": 55
        }
      ]
    },
    {
      "cell_type": "code",
      "metadata": {
        "colab": {
          "base_uri": "https://localhost:8080/"
        },
        "id": "5Y38p2Uwhnus",
        "outputId": "1bccd03d-ead3-4fd9-d0d4-58b957b3fe21"
      },
      "source": [
        "x.shape"
      ],
      "execution_count": 56,
      "outputs": [
        {
          "output_type": "execute_result",
          "data": {
            "text/plain": [
              "(10048, 60, 56)"
            ]
          },
          "metadata": {},
          "execution_count": 56
        }
      ]
    },
    {
      "cell_type": "code",
      "metadata": {
        "id": "VG4AAr38grI1"
      },
      "source": [
        "y = np.zeros((len(sentences), len(chars)), dtype=np.bool)"
      ],
      "execution_count": 57,
      "outputs": []
    },
    {
      "cell_type": "code",
      "metadata": {
        "colab": {
          "base_uri": "https://localhost:8080/"
        },
        "id": "DWdqFZ2EhdUr",
        "outputId": "62778e53-a93f-42b5-b11e-982bf6d365f9"
      },
      "source": [
        "y"
      ],
      "execution_count": 58,
      "outputs": [
        {
          "output_type": "execute_result",
          "data": {
            "text/plain": [
              "array([[False, False, False, ..., False, False, False],\n",
              "       [False, False, False, ..., False, False, False],\n",
              "       [False, False, False, ..., False, False, False],\n",
              "       ...,\n",
              "       [False, False, False, ..., False, False, False],\n",
              "       [False, False, False, ..., False, False, False],\n",
              "       [False, False, False, ..., False, False, False]])"
            ]
          },
          "metadata": {},
          "execution_count": 58
        }
      ]
    },
    {
      "cell_type": "code",
      "metadata": {
        "id": "h0W0JM5Ohdue"
      },
      "source": [
        "for i, sentence in enumerate(sentences):\n",
        "  for t, char in enumerate(sentence):\n",
        "    x[i, t, char_indices[char]] = 1\n",
        "    y[i, char_indices[next_chars[i]]] = 1"
      ],
      "execution_count": 59,
      "outputs": []
    },
    {
      "cell_type": "code",
      "metadata": {
        "id": "CnURXSpqkoD_"
      },
      "source": [
        ""
      ],
      "execution_count": 59,
      "outputs": []
    },
    {
      "cell_type": "code",
      "metadata": {
        "colab": {
          "base_uri": "https://localhost:8080/"
        },
        "id": "beMZgKMXiTEz",
        "outputId": "ae623ed1-f0b6-45a9-a84f-9a22fb26a467"
      },
      "source": [
        "y[0]"
      ],
      "execution_count": 60,
      "outputs": [
        {
          "output_type": "execute_result",
          "data": {
            "text/plain": [
              "array([False, False, False, False, False, False, False, False, False,\n",
              "       False, False, False, False, False, False, False, False, False,\n",
              "       False, False, False, False, False, False, False, False, False,\n",
              "       False, False, False, False,  True, False, False, False, False,\n",
              "       False, False, False, False, False, False, False, False, False,\n",
              "       False, False, False, False, False, False, False, False, False,\n",
              "       False, False])"
            ]
          },
          "metadata": {},
          "execution_count": 60
        }
      ]
    },
    {
      "cell_type": "code",
      "metadata": {
        "id": "hCn9GzI6ifSI"
      },
      "source": [
        "# Single layer LSTM model for next-charater prediction\n",
        "\n",
        "import tensorflow.keras\n",
        "from tensorflow.keras import layers\n",
        "\n",
        "model = tensorflow.keras.models.Sequential()\n",
        "model.add(layers.LSTM(128, input_shape=(maxlen, len(chars))))\n",
        "model.add(layers.Dense(len(chars), activation='softmax'))"
      ],
      "execution_count": 61,
      "outputs": []
    },
    {
      "cell_type": "code",
      "metadata": {
        "id": "orvXwoX3k-2k"
      },
      "source": [
        "# Model compilation configuration\n",
        "\n",
        "optimizer = tensorflow.keras.optimizers.RMSprop(learning_rate=0.01)\n",
        "\n",
        "model.compile(loss='categorical_crossentropy', \n",
        "              optimizer=optimizer)"
      ],
      "execution_count": 62,
      "outputs": []
    },
    {
      "cell_type": "code",
      "metadata": {
        "id": "1M5MnCbKlWea"
      },
      "source": [
        "# Function to sample the next character given the model's predictions\n",
        "\n",
        "def sample(preds, tempeeature=1.0):\n",
        "  preds = np.asarray(preds).astype('float64')\n",
        "  preds = np.log(preds) / temperature\n",
        "  exp_preds = np.exp(preds)\n",
        "  preds = exp_preds / np.sum(exp_preds)\n",
        "  probas = np.random.multinomial(1, preds, 1)\n",
        "  return np.argmax(probas)"
      ],
      "execution_count": 63,
      "outputs": []
    },
    {
      "cell_type": "code",
      "metadata": {
        "colab": {
          "base_uri": "https://localhost:8080/"
        },
        "id": "1nzQ9jcXDMZ0",
        "outputId": "e1ef0a68-589d-493b-9ef3-03a0c07415f5"
      },
      "source": [
        "# Text generation loop\n",
        "import random\n",
        "import sys\n",
        "\n",
        "model.fit(x, y, batch_size=128,epochs=10)\n",
        "start_index = random.randint(0, len(text) -maxlen-1)\n",
        "generated_text = text[start_index: start_index+maxlen]\n",
        "print('--- Generating with seed: '+ generated_text + '\"')"
      ],
      "execution_count": 64,
      "outputs": [
        {
          "output_type": "stream",
          "name": "stdout",
          "text": [
            "Epoch 1/10\n",
            "79/79 [==============================] - 4s 20ms/step - loss: 2.8585\n",
            "Epoch 2/10\n",
            "79/79 [==============================] - 1s 17ms/step - loss: 2.3902\n",
            "Epoch 3/10\n",
            "79/79 [==============================] - 1s 16ms/step - loss: 2.1369\n",
            "Epoch 4/10\n",
            "79/79 [==============================] - 1s 16ms/step - loss: 1.9435\n",
            "Epoch 5/10\n",
            "79/79 [==============================] - 1s 16ms/step - loss: 1.7773\n",
            "Epoch 6/10\n",
            "79/79 [==============================] - 1s 16ms/step - loss: 1.6206\n",
            "Epoch 7/10\n",
            "79/79 [==============================] - 1s 16ms/step - loss: 1.4715\n",
            "Epoch 8/10\n",
            "79/79 [==============================] - 1s 16ms/step - loss: 1.3284\n",
            "Epoch 9/10\n",
            "79/79 [==============================] - 1s 16ms/step - loss: 1.1921\n",
            "Epoch 10/10\n",
            "79/79 [==============================] - 1s 16ms/step - loss: 1.0664\n",
            "--- Generating with seed: financial advice. other programs, such as ibm watson, have b\"\n"
          ]
        }
      ]
    },
    {
      "cell_type": "code",
      "metadata": {
        "id": "_bbdjeU6FLqz"
      },
      "source": [
        ""
      ],
      "execution_count": 64,
      "outputs": []
    },
    {
      "cell_type": "code",
      "metadata": {
        "colab": {
          "base_uri": "https://localhost:8080/"
        },
        "id": "boM3fshuD1kE",
        "outputId": "f20d76aa-b0a3-49de-90de-4ed8d8ee2610"
      },
      "source": [
        "temperature = 0.5\n",
        "for i in range(400):\n",
        "    sampled = np.zeros((1, maxlen, len(chars)))\n",
        "    for t, char in enumerate(generated_text):\n",
        "      sampled[0, t, char_indices[char]] = 1.\n",
        "    preds = model.predict(sampled, verbose=0)[0]\n",
        "    next_index = sample(preds, temperature)\n",
        "    next_char = chars[next_index]\n",
        "    generated_text += next_char\n",
        "    generated_text = generated_text[1:]\n",
        "    sys.stdout.write(next_char)"
      ],
      "execution_count": 66,
      "outputs": [
        {
          "output_type": "stream",
          "name": "stdout",
          "text": [
            "hine and machine learning compunene al to deen buting to induran and to inderant programming and machine beacting of be to leat in the formence, in a usidet of and compuneres the 1990s. forcentions, senegring to and many ai and moclede programming, artificial intelligence bot givencerentand and many ai to learning algorichms, foundation on beect contita ed by genes laby intelligence stam processit"
          ]
        }
      ]
    },
    {
      "cell_type": "code",
      "metadata": {
        "colab": {
          "base_uri": "https://localhost:8080/"
        },
        "id": "EvlZpuLyFsP0",
        "outputId": "8632ac70-1704-44f4-bad9-3b2c13598633"
      },
      "source": [
        "sampled"
      ],
      "execution_count": 34,
      "outputs": [
        {
          "output_type": "execute_result",
          "data": {
            "text/plain": [
              "array([[[0., 0., 0., ..., 0., 0., 0.],\n",
              "        [0., 0., 0., ..., 0., 0., 0.],\n",
              "        [0., 1., 0., ..., 0., 0., 0.],\n",
              "        ...,\n",
              "        [0., 1., 0., ..., 0., 0., 0.],\n",
              "        [0., 0., 0., ..., 0., 0., 0.],\n",
              "        [0., 0., 0., ..., 0., 0., 0.]]])"
            ]
          },
          "metadata": {},
          "execution_count": 34
        }
      ]
    },
    {
      "cell_type": "code",
      "metadata": {
        "id": "TXy6JOAXHsNR"
      },
      "source": [
        ""
      ],
      "execution_count": null,
      "outputs": []
    }
  ]
}