{
  "nbformat": 4,
  "nbformat_minor": 0,
  "metadata": {
    "colab": {
      "name": "Manual feature extraction - Assignment - Afnan Habib.ipynb",
      "provenance": [],
      "collapsed_sections": [],
      "authorship_tag": "ABX9TyOtx4aSRYGXdcG3cjN5wRla",
      "include_colab_link": true
    },
    "kernelspec": {
      "name": "python3",
      "display_name": "Python 3"
    },
    "language_info": {
      "name": "python"
    }
  },
  "cells": [
    {
      "cell_type": "markdown",
      "metadata": {
        "id": "view-in-github",
        "colab_type": "text"
      },
      "source": [
        "<a href=\"https://colab.research.google.com/github/afnanhabib787/Artificial-Intelligence/blob/main/Manual_feature_extraction_Assignment_Afnan_Habib.ipynb\" target=\"_parent\"><img src=\"https://colab.research.google.com/assets/colab-badge.svg\" alt=\"Open In Colab\"/></a>"
      ]
    },
    {
      "cell_type": "markdown",
      "source": [
        "## Function to perform convolution operation"
      ],
      "metadata": {
        "id": "CDLLKgqBN8hU"
      }
    },
    {
      "cell_type": "code",
      "source": [
        "def convolution2d(image, kernel, stride):\n",
        "    \n",
        "    kernel_rows, kernel_columns = kernel.shape\n",
        "    image_rows, image_columns = image.shape\n",
        "\n",
        "    output_rows = (image_rows - kernel_rows) // stride + 1\n",
        "    \n",
        "    output_columns = (image_rows - kernel_columns) // stride + 1\n",
        "    \n",
        "    new_image = np.zeros((output_rows, output_columns)).astype(np.float32)\n",
        "\n",
        "    for y in range(0, output_rows):\n",
        "        for x in range(0, output_columns):\n",
        "            new_image[y][x] = np.sum(image[y * stride:y * stride + kernel_rows, x * stride:x * stride + kernel_columns] * kernel).astype(np.float32)\n",
        "    return new_image"
      ],
      "metadata": {
        "id": "FFse7svBrNXr"
      },
      "execution_count": null,
      "outputs": []
    },
    {
      "cell_type": "markdown",
      "source": [
        "## Random 2d array generation with size of (32,32)\n",
        "## Random kernel (filter) with size of (5,5)"
      ],
      "metadata": {
        "id": "Nmo8hbigODbT"
      }
    },
    {
      "cell_type": "code",
      "source": [
        "import numpy as np\n",
        "image = np.random.randint(0,255, size=(32,32))\n",
        "\n",
        "kernel = np.random.randint(-1,2, size=(5,5))\n",
        "print(\"Image shape: {} \\n {} \\n\\n Kernel shape: {} \\n {}\".format(image.shape, image, kernel.shape, kernel))"
      ],
      "metadata": {
        "colab": {
          "base_uri": "https://localhost:8080/"
        },
        "id": "K0RYh4CPsdD-",
        "outputId": "83c06b2f-310e-4930-c480-c64809b29264"
      },
      "execution_count": null,
      "outputs": [
        {
          "output_type": "stream",
          "name": "stdout",
          "text": [
            "Image shape: (32, 32) \n",
            " [[127 101 146 ... 106  14 100]\n",
            " [241 210 178 ...  81 195 135]\n",
            " [ 84 140  68 ... 228  58 104]\n",
            " ...\n",
            " [180  60  42 ... 113 246 249]\n",
            " [142 207 232 ... 125 122  76]\n",
            " [232  43 176 ... 122 171 199]] \n",
            "\n",
            " Kernel shape: (5, 5) \n",
            " [[ 0 -1  0  1 -1]\n",
            " [ 0 -1  1  1  0]\n",
            " [ 1  0  0  1  1]\n",
            " [ 1  0  1  0  0]\n",
            " [ 1 -1  1  0 -1]]\n"
          ]
        }
      ]
    },
    {
      "cell_type": "markdown",
      "source": [
        "## Convolving Image with kernel, before convolution the size of image was (32,32), and after convoltion the size of image is (28,28)"
      ],
      "metadata": {
        "id": "Jsu60dASO8pE"
      }
    },
    {
      "cell_type": "code",
      "source": [
        "convolved = convolution2d(image,kernel,1)\n",
        "print('Size of image after first convolution: ', convolved.shape)"
      ],
      "metadata": {
        "colab": {
          "base_uri": "https://localhost:8080/"
        },
        "id": "fPysFr3-sj4w",
        "outputId": "88981d5e-b931-4881-cf1a-bd0381656732"
      },
      "execution_count": null,
      "outputs": [
        {
          "output_type": "stream",
          "name": "stdout",
          "text": [
            "Size of image after first convolution:  (28, 28)\n"
          ]
        }
      ]
    },
    {
      "cell_type": "markdown",
      "source": [
        "## Applying ReLu function, the negative values are 0"
      ],
      "metadata": {
        "id": "09Xc9EL1tnab"
      }
    },
    {
      "cell_type": "code",
      "source": [
        "convolved_relu = np.maximum(convolved, 0)\n",
        "print(convolved_relu)"
      ],
      "metadata": {
        "colab": {
          "base_uri": "https://localhost:8080/"
        },
        "id": "IphlGzewwknY",
        "outputId": "e43695a0-7ec8-471f-b012-09361fbdd669"
      },
      "execution_count": null,
      "outputs": [
        {
          "output_type": "stream",
          "name": "stdout",
          "text": [
            "[[ 721.  819.   31.  911.  495.  642.  398.  654.   66.  717.  588.  504.\n",
            "  1017.  612.  632.  616.  339.  465.  427.  829.  757.  175.  700.  683.\n",
            "   140.  944.  715.  153.]\n",
            " [ 183.  608.  640.  832.  474.  321.  703.  667.  712.  939.  961.  843.\n",
            "   415. 1071.  389.  618. 1042.  687.  717. 1099.  658.  695.  575.  732.\n",
            "   419.  504.  952.  810.]\n",
            " [ 463.  449.  229. 1064.  795.  586.  690.  934.  732.  564. 1431.  628.\n",
            "     0.  923. 1028.  360.  473. 1320.  655.  504.  609. 1328.  124.  776.\n",
            "   831.  564.  649.  732.]\n",
            " [ 589.  597.  509.  377. 1049.  822.  472.  736.  536.  538.  998.  282.\n",
            "   530. 1019.  161. 1203.  399.  795.  839.  762.  674.  833.  736.  720.\n",
            "   359.  780.  788.  596.]\n",
            " [ 586.  899.  477.  566.  812.  475.  412.  820.   43.  789.  453.  695.\n",
            "   879.  908.    0. 1413.  738.  814.  988. 1010.  227.  375.  734.  455.\n",
            "   249.  730.  938.  625.]\n",
            " [ 569. 1165.  397.  785.  546.  518.  574.  457.  645.  395.  919.  367.\n",
            "   646. 1130.  367.  940.  455.  986. 1083.  528.   61.  510.  366.  183.\n",
            "   871.  522.  995.  732.]\n",
            " [1020. 1033.  703.  633.  569.  656.  853.  715.  390.  788.  880.  128.\n",
            "   926. 1044.  901.  722.   26.  642.  931.  397.  233.  544.  392.  287.\n",
            "  1075.  612. 1189.  476.]\n",
            " [1000. 1029.  775.  299.  871.  247.  935. 1036.  441.  876.  954.  114.\n",
            "  1258.  546.  992. 1000.  273.  570.  552.  367.  587.  420.  878.  373.\n",
            "   694.  951.  504.  375.]\n",
            " [ 982.   29.  790.  936.  560.  388. 1091.  508.  552. 1113.  786.  327.\n",
            "  1244.  273. 1154.  641.  509.  664.  753.  159.  665. 1045.  598.  435.\n",
            "   651.  977.  698.  800.]\n",
            " [ 769.  209.  718. 1058.  647.  853.  855.  104.  244. 1057.  607.  484.\n",
            "  1436.  162.  778.  270.  569. 1084.  536.  669.  443.  671. 1247.  823.\n",
            "   484. 1327.  959.  795.]\n",
            " [1016.  780.  295.  488.  921.  699.  778.  200.   35.  799.  805.  468.\n",
            "  1069.  866.  209.  648.  421.  793.  901.  535.  603.  440.  790.  743.\n",
            "   238. 1253.  298.  698.]\n",
            " [ 724.  780.  604.  953.  413.  571.  731.  433.   13.  895.  498.  822.\n",
            "   565.  905.  371.  747.  223.  859.  780.  750.  577.  358.  667.  220.\n",
            "   377.  908.  407.  574.]\n",
            " [ 722.  571.  814.  825.  346.  148.  861.  186.  193. 1348.  327.  511.\n",
            "   663.  904.  417.  639.  421. 1042.  362.  346. 1223.  304.  662.  943.\n",
            "   436.  518.  670. 1069.]\n",
            " [1059.  372.  282.  360.  938.  307.  533.  616.  601.  811.  425.  628.\n",
            "   310.  668.  508.  461.  561.  625.  201.  814.  825.  125.  758.  993.\n",
            "   641.  840.  641.  686.]\n",
            " [ 490.  477.  369.  246.  615. 1064.  784.  694. 1171.  644.  514.  735.\n",
            "   421.  645.  191.  684.  340.  257.  370.  191. 1085.  491.  650.  514.\n",
            "  1045.  907.  785.  436.]\n",
            " [ 123.  463. 1047.  721.  827.  820. 1164.  414.  743.  663.  402.  597.\n",
            "   372.  933.   21.  273.  570.  431.  404.   32.  884.  843.  779.  479.\n",
            "   942.  728.  807.  527.]\n",
            " [ 680.  306.  873.  878.  579.  669.  531.  307.  269.  499.    0.  808.\n",
            "   582.  604.  487.  275.  328.  763.  446.  210.  929.  338. 1213.  537.\n",
            "   495.  652.  777.  230.]\n",
            " [ 798.  113.  749.  531.  537.  618.  176.  234.  777.  480.  474.  819.\n",
            "   385. 1034.  300.  407.  851.  385.  604.  894.  858.  451. 1009.  554.\n",
            "   615.  529.  744.  269.]\n",
            " [ 322.    0. 1037.  264.  290.  868.  567.   50. 1340.  572.  927.  776.\n",
            "   650. 1372.  296.  502. 1106.  640.  668.  437. 1070.  884.  786.  443.\n",
            "   610.  882.  760.  615.]\n",
            " [ 108.   54. 1100.  826.  526. 1061.  887.  644.  796.  719.  942.  858.\n",
            "   777.  936.  526.  518.  531.  772.  792.  537.  252.  665. 1077.  373.\n",
            "   274. 1224.  201.  450.]\n",
            " [ 578.  314. 1189.  718.  738. 1013.  401.  845. 1043.  597.    0.  856.\n",
            "   844.  491.  573.  334.   39.  653.  477. 1015.  136.   27. 1078.  607.\n",
            "   304.  474.  486.  500.]\n",
            " [ 953.  403.  680.  906.  465.  753.  322.  834.  918.  695.  293.  455.\n",
            "   654.  670.  308.  207.  393.  348.  267.  684.  667.  826.  427.  725.\n",
            "   495.  589.  565.  503.]\n",
            " [ 504.  157.  552.  747.   58.  898.  332.  765.  542.  859.  744.  437.\n",
            "   258. 1081.  203.  451.  578.  874. 1049.  356.  767.  985.  871.  708.\n",
            "   390.  916.  632.  899.]\n",
            " [ 420.  469.  660.  295. 1038.  751.  726.  690.  371.  581. 1200.  660.\n",
            "   236.  901. 1048.  504.  445.  818. 1233.  647.  193.  666. 1412.  745.\n",
            "    85. 1072.  497. 1200.]\n",
            " [ 554.  788.  717.  562.  817.  897.  629.  786.  904.  455.  683. 1195.\n",
            "   740.   75. 1080. 1034.  174.  752.  522.  734.  622.   96.  510. 1156.\n",
            "   437.  434.  579. 1176.]\n",
            " [ 673.  474.  537.  666.  429.  856.  671.  566.  607.  875.  494. 1145.\n",
            "   582.  531.  500.  896.  554.  355.  755.  352.  704.  731.  505.  503.\n",
            "   977.  908.   57.  586.]\n",
            " [ 261.  558.  485.  556.  672.  564.  484.  643.  601.  329.  520.  691.\n",
            "   554.  736.  513.  929.  481.  762.  509.  665.  850.  459. 1049.  593.\n",
            "   408.  998.  459.  669.]\n",
            " [ 927.  761.  621.  854.  719.  350.  500.  606.  454.  603.  190.  457.\n",
            "   925.  592.  610. 1148.  453. 1163.  263.  243. 1000.  594.  472.  472.\n",
            "   663.  895.  586.  939.]]\n"
          ]
        }
      ]
    },
    {
      "cell_type": "markdown",
      "source": [
        "## Applying MaxPooling with window size of (2,2), After applying MaxPooling the image size is (14, 14)"
      ],
      "metadata": {
        "id": "1lgC2QhKP4st"
      }
    },
    {
      "cell_type": "code",
      "source": [
        "import numpy as np\n",
        "import skimage.measure\n",
        "\n",
        "\n",
        "convolved_relu_max_pooling = skimage.measure.block_reduce(convolved_relu, (2,2), np.max)\n",
        "print(\"Image size: \", convolved_relu_max_pooling.shape)"
      ],
      "metadata": {
        "colab": {
          "base_uri": "https://localhost:8080/"
        },
        "id": "Hqxtx_ezKYCO",
        "outputId": "33ba6440-6da9-4bc8-f273-b89c204ce2e3"
      },
      "execution_count": null,
      "outputs": [
        {
          "output_type": "stream",
          "name": "stdout",
          "text": [
            "Image size:  (14, 14)\n"
          ]
        }
      ]
    },
    {
      "cell_type": "markdown",
      "source": [
        "## Applying convolution second time "
      ],
      "metadata": {
        "id": "eVdnQANZM6tt"
      }
    },
    {
      "cell_type": "code",
      "source": [
        "convolved2 = convolution2d(convolved_relu_max_pooling,kernel,1)\n",
        "print(\"Image size: \", convolved2.shape)"
      ],
      "metadata": {
        "colab": {
          "base_uri": "https://localhost:8080/"
        },
        "id": "QDo8de5dM_or",
        "outputId": "1dccbc5d-44c3-415e-d5a8-4a05d85f0659"
      },
      "execution_count": null,
      "outputs": [
        {
          "output_type": "stream",
          "name": "stdout",
          "text": [
            "Image size:  (10, 10)\n"
          ]
        }
      ]
    },
    {
      "cell_type": "markdown",
      "source": [
        "## Applying ReLu function second time"
      ],
      "metadata": {
        "id": "yarUnFEfQWly"
      }
    },
    {
      "cell_type": "code",
      "source": [
        "convolved2_relu = np.maximum(convolved2, 0)\n",
        "print(convolved2_relu)"
      ],
      "metadata": {
        "colab": {
          "base_uri": "https://localhost:8080/"
        },
        "id": "zluRiICuNjhi",
        "outputId": "e9e93c85-3218-4ab1-e92a-994c9b7d2f0b"
      },
      "execution_count": null,
      "outputs": [
        {
          "output_type": "stream",
          "name": "stdout",
          "text": [
            "[[4114. 4767. 4463. 6181. 5421. 5069. 5610. 3994. 3823. 4268.]\n",
            " [4854. 3791. 5384. 5473. 5426. 4797. 4838. 4210. 3299. 5395.]\n",
            " [5325. 4907. 5175. 5047. 6709. 2898. 4979. 4178. 5045. 4977.]\n",
            " [4293. 5170. 4704. 4618. 6760. 3186. 4280. 3113. 5784. 4778.]\n",
            " [4300. 5159. 3784. 4554. 5552. 2713. 4480. 2619. 4423. 5070.]\n",
            " [3139. 4769. 4410. 3705. 4881. 1985. 5957. 3013. 4372. 4964.]\n",
            " [3092. 5679. 4895. 3380. 5056. 3247. 4675. 3911. 5566. 4181.]\n",
            " [3719. 4701. 5185. 4698. 4806. 3740. 4546. 4964. 5018. 5418.]\n",
            " [4171. 4466. 5534. 4968. 3679. 4735. 5171. 4306. 4952. 4995.]\n",
            " [3118. 4608. 4611. 4621. 3138. 5155. 5022. 4956. 5291. 5426.]]\n"
          ]
        }
      ]
    },
    {
      "cell_type": "markdown",
      "source": [
        "## Applying MaxPooling, image size is (5, 5) now"
      ],
      "metadata": {
        "id": "mvBySGH-Qc4J"
      }
    },
    {
      "cell_type": "code",
      "source": [
        "convolved2_relu_max_pooling = skimage.measure.block_reduce(convolved2_relu, (2,2), np.max)\n",
        "print(\"Image size: \", convolved2_relu_max_pooling.shape)"
      ],
      "metadata": {
        "colab": {
          "base_uri": "https://localhost:8080/"
        },
        "id": "_7jpvDDSNpT2",
        "outputId": "94ccfd1f-8147-4786-a122-bf794312f6d4"
      },
      "execution_count": null,
      "outputs": [
        {
          "output_type": "stream",
          "name": "stdout",
          "text": [
            "Image size:  (5, 5)\n"
          ]
        }
      ]
    },
    {
      "cell_type": "markdown",
      "source": [
        "## -------------------------- END --------------------------"
      ],
      "metadata": {
        "id": "AzkqHPb9Q6NP"
      }
    }
  ]
}