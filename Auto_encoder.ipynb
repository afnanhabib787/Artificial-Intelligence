{
  "nbformat": 4,
  "nbformat_minor": 0,
  "metadata": {
    "colab": {
      "name": "Auto encoder.ipynb",
      "provenance": [],
      "authorship_tag": "ABX9TyN1j5QwDuV5o2g+1huyi63U",
      "include_colab_link": true
    },
    "kernelspec": {
      "name": "python3",
      "display_name": "Python 3"
    },
    "language_info": {
      "name": "python"
    },
    "accelerator": "GPU"
  },
  "cells": [
    {
      "cell_type": "markdown",
      "metadata": {
        "id": "view-in-github",
        "colab_type": "text"
      },
      "source": [
        "<a href=\"https://colab.research.google.com/github/afnanhabib787/Artificial-Intelligence/blob/main/Auto_encoder.ipynb\" target=\"_parent\"><img src=\"https://colab.research.google.com/assets/colab-badge.svg\" alt=\"Open In Colab\"/></a>"
      ]
    },
    {
      "cell_type": "code",
      "metadata": {
        "id": "ppca-EIGV_Hk"
      },
      "source": [
        "import numpy as np\n",
        "import keras\n",
        "from tensorflow.keras.datasets import mnist\n",
        "from tensorflow.keras.models import Sequential, Model\n",
        "from tensorflow.keras.layers import Dense, Input\n",
        "from tensorflow.keras import optimizers\n",
        "from tensorflow.keras.optimizers import Adam"
      ],
      "execution_count": 8,
      "outputs": []
    },
    {
      "cell_type": "code",
      "metadata": {
        "id": "TVIOYklUyXD3"
      },
      "source": [
        "(x_train, y_tr), (x_test, y_test) = mnist.load_data()\n",
        "x_train = x_train.reshape(60000, 784) / 255\n",
        "val_x = x_test.reshape(10000, 784) / 255"
      ],
      "execution_count": 9,
      "outputs": []
    },
    {
      "cell_type": "code",
      "metadata": {
        "id": "DJwn54jJybie"
      },
      "source": [
        "autoencoder = Sequential()\n",
        "autoencoder.add(Dense(512, activation=\"elu\", input_shape=(784,)))\n",
        "autoencoder.add(Dense(128, activation=\"elu\"))\n",
        "autoencoder.add(Dense(10, activation=\"linear\",name=\"latinVector\")) #total 10 classes\n",
        "autoencoder.add(Dense(128, activation=\"elu\"))\n",
        "autoencoder.add(Dense(512, activation=\"elu\"))\n",
        "autoencoder.add(Dense(784, activation=\"sigmoid\"))\n",
        "\n",
        "autoencoder.compile(loss='mean_squared_error', optimizer=Adam())"
      ],
      "execution_count": 10,
      "outputs": []
    },
    {
      "cell_type": "code",
      "metadata": {
        "colab": {
          "base_uri": "https://localhost:8080/"
        },
        "id": "ZXVhNodWGloA",
        "outputId": "f2589627-26f8-40e6-f8a4-d626cc0b37b6"
      },
      "source": [
        "model = autoencoder.fit(x_train,x_train, batch_size=1024, epochs=10, verbose=1,\n",
        "                        validation_data=(val_x, val_x))"
      ],
      "execution_count": 11,
      "outputs": [
        {
          "output_type": "stream",
          "name": "stdout",
          "text": [
            "Epoch 1/10\n",
            "59/59 [==============================] - 2s 17ms/step - loss: 0.0742 - val_loss: 0.0484\n",
            "Epoch 2/10\n",
            "59/59 [==============================] - 1s 13ms/step - loss: 0.0418 - val_loss: 0.0365\n",
            "Epoch 3/10\n",
            "59/59 [==============================] - 1s 13ms/step - loss: 0.0340 - val_loss: 0.0302\n",
            "Epoch 4/10\n",
            "59/59 [==============================] - 1s 13ms/step - loss: 0.0287 - val_loss: 0.0263\n",
            "Epoch 5/10\n",
            "59/59 [==============================] - 1s 13ms/step - loss: 0.0256 - val_loss: 0.0240\n",
            "Epoch 6/10\n",
            "59/59 [==============================] - 1s 13ms/step - loss: 0.0237 - val_loss: 0.0225\n",
            "Epoch 7/10\n",
            "59/59 [==============================] - 1s 13ms/step - loss: 0.0223 - val_loss: 0.0214\n",
            "Epoch 8/10\n",
            "59/59 [==============================] - 1s 14ms/step - loss: 0.0213 - val_loss: 0.0205\n",
            "Epoch 9/10\n",
            "59/59 [==============================] - 1s 13ms/step - loss: 0.0205 - val_loss: 0.0198\n",
            "Epoch 10/10\n",
            "59/59 [==============================] - 1s 13ms/step - loss: 0.0198 - val_loss: 0.0191\n"
          ]
        }
      ]
    },
    {
      "cell_type": "code",
      "metadata": {
        "colab": {
          "base_uri": "https://localhost:8080/"
        },
        "id": "Lny2XBp5NyD1",
        "outputId": "783b7272-53a0-4fd3-c142-c33ad8254b0d"
      },
      "source": [
        "encoder = Model(autoencoder.input, autoencoder.get_layer('latinVector').output)\n",
        "encoded_data = encoder.predict(x_train)\n",
        "encoding_dim = 10\n",
        "encoded_data[0]"
      ],
      "execution_count": 12,
      "outputs": [
        {
          "output_type": "execute_result",
          "data": {
            "text/plain": [
              "array([ -6.724723 ,  30.402382 ,   8.195906 ,  13.920865 ,  -1.4524078,\n",
              "        -9.954253 ,  38.37574  ,  -9.831039 ,  10.839326 , -24.807693 ],\n",
              "      dtype=float32)"
            ]
          },
          "metadata": {},
          "execution_count": 12
        }
      ]
    },
    {
      "cell_type": "code",
      "metadata": {
        "colab": {
          "base_uri": "https://localhost:8080/"
        },
        "id": "GbmKhZuAP_bk",
        "outputId": "e0cb31f4-599a-49be-973d-84fe7acbf8b1"
      },
      "source": [
        "x_train[0]"
      ],
      "execution_count": 13,
      "outputs": [
        {
          "output_type": "execute_result",
          "data": {
            "text/plain": [
              "array([0.        , 0.        , 0.        , 0.        , 0.        ,\n",
              "       0.        , 0.        , 0.        , 0.        , 0.        ,\n",
              "       0.        , 0.        , 0.        , 0.        , 0.        ,\n",
              "       0.        , 0.        , 0.        , 0.        , 0.        ,\n",
              "       0.        , 0.        , 0.        , 0.        , 0.        ,\n",
              "       0.        , 0.        , 0.        , 0.        , 0.        ,\n",
              "       0.        , 0.        , 0.        , 0.        , 0.        ,\n",
              "       0.        , 0.        , 0.        , 0.        , 0.        ,\n",
              "       0.        , 0.        , 0.        , 0.        , 0.        ,\n",
              "       0.        , 0.        , 0.        , 0.        , 0.        ,\n",
              "       0.        , 0.        , 0.        , 0.        , 0.        ,\n",
              "       0.        , 0.        , 0.        , 0.        , 0.        ,\n",
              "       0.        , 0.        , 0.        , 0.        , 0.        ,\n",
              "       0.        , 0.        , 0.        , 0.        , 0.        ,\n",
              "       0.        , 0.        , 0.        , 0.        , 0.        ,\n",
              "       0.        , 0.        , 0.        , 0.        , 0.        ,\n",
              "       0.        , 0.        , 0.        , 0.        , 0.        ,\n",
              "       0.        , 0.        , 0.        , 0.        , 0.        ,\n",
              "       0.        , 0.        , 0.        , 0.        , 0.        ,\n",
              "       0.        , 0.        , 0.        , 0.        , 0.        ,\n",
              "       0.        , 0.        , 0.        , 0.        , 0.        ,\n",
              "       0.        , 0.        , 0.        , 0.        , 0.        ,\n",
              "       0.        , 0.        , 0.        , 0.        , 0.        ,\n",
              "       0.        , 0.        , 0.        , 0.        , 0.        ,\n",
              "       0.        , 0.        , 0.        , 0.        , 0.        ,\n",
              "       0.        , 0.        , 0.        , 0.        , 0.        ,\n",
              "       0.        , 0.        , 0.        , 0.        , 0.        ,\n",
              "       0.        , 0.        , 0.        , 0.        , 0.        ,\n",
              "       0.        , 0.        , 0.        , 0.        , 0.        ,\n",
              "       0.        , 0.        , 0.        , 0.        , 0.        ,\n",
              "       0.        , 0.        , 0.01176471, 0.07058824, 0.07058824,\n",
              "       0.07058824, 0.49411765, 0.53333333, 0.68627451, 0.10196078,\n",
              "       0.65098039, 1.        , 0.96862745, 0.49803922, 0.        ,\n",
              "       0.        , 0.        , 0.        , 0.        , 0.        ,\n",
              "       0.        , 0.        , 0.        , 0.        , 0.        ,\n",
              "       0.        , 0.11764706, 0.14117647, 0.36862745, 0.60392157,\n",
              "       0.66666667, 0.99215686, 0.99215686, 0.99215686, 0.99215686,\n",
              "       0.99215686, 0.88235294, 0.6745098 , 0.99215686, 0.94901961,\n",
              "       0.76470588, 0.25098039, 0.        , 0.        , 0.        ,\n",
              "       0.        , 0.        , 0.        , 0.        , 0.        ,\n",
              "       0.        , 0.        , 0.        , 0.19215686, 0.93333333,\n",
              "       0.99215686, 0.99215686, 0.99215686, 0.99215686, 0.99215686,\n",
              "       0.99215686, 0.99215686, 0.99215686, 0.98431373, 0.36470588,\n",
              "       0.32156863, 0.32156863, 0.21960784, 0.15294118, 0.        ,\n",
              "       0.        , 0.        , 0.        , 0.        , 0.        ,\n",
              "       0.        , 0.        , 0.        , 0.        , 0.        ,\n",
              "       0.        , 0.07058824, 0.85882353, 0.99215686, 0.99215686,\n",
              "       0.99215686, 0.99215686, 0.99215686, 0.77647059, 0.71372549,\n",
              "       0.96862745, 0.94509804, 0.        , 0.        , 0.        ,\n",
              "       0.        , 0.        , 0.        , 0.        , 0.        ,\n",
              "       0.        , 0.        , 0.        , 0.        , 0.        ,\n",
              "       0.        , 0.        , 0.        , 0.        , 0.        ,\n",
              "       0.31372549, 0.61176471, 0.41960784, 0.99215686, 0.99215686,\n",
              "       0.80392157, 0.04313725, 0.        , 0.16862745, 0.60392157,\n",
              "       0.        , 0.        , 0.        , 0.        , 0.        ,\n",
              "       0.        , 0.        , 0.        , 0.        , 0.        ,\n",
              "       0.        , 0.        , 0.        , 0.        , 0.        ,\n",
              "       0.        , 0.        , 0.        , 0.        , 0.05490196,\n",
              "       0.00392157, 0.60392157, 0.99215686, 0.35294118, 0.        ,\n",
              "       0.        , 0.        , 0.        , 0.        , 0.        ,\n",
              "       0.        , 0.        , 0.        , 0.        , 0.        ,\n",
              "       0.        , 0.        , 0.        , 0.        , 0.        ,\n",
              "       0.        , 0.        , 0.        , 0.        , 0.        ,\n",
              "       0.        , 0.        , 0.        , 0.        , 0.54509804,\n",
              "       0.99215686, 0.74509804, 0.00784314, 0.        , 0.        ,\n",
              "       0.        , 0.        , 0.        , 0.        , 0.        ,\n",
              "       0.        , 0.        , 0.        , 0.        , 0.        ,\n",
              "       0.        , 0.        , 0.        , 0.        , 0.        ,\n",
              "       0.        , 0.        , 0.        , 0.        , 0.        ,\n",
              "       0.        , 0.        , 0.04313725, 0.74509804, 0.99215686,\n",
              "       0.2745098 , 0.        , 0.        , 0.        , 0.        ,\n",
              "       0.        , 0.        , 0.        , 0.        , 0.        ,\n",
              "       0.        , 0.        , 0.        , 0.        , 0.        ,\n",
              "       0.        , 0.        , 0.        , 0.        , 0.        ,\n",
              "       0.        , 0.        , 0.        , 0.        , 0.        ,\n",
              "       0.        , 0.1372549 , 0.94509804, 0.88235294, 0.62745098,\n",
              "       0.42352941, 0.00392157, 0.        , 0.        , 0.        ,\n",
              "       0.        , 0.        , 0.        , 0.        , 0.        ,\n",
              "       0.        , 0.        , 0.        , 0.        , 0.        ,\n",
              "       0.        , 0.        , 0.        , 0.        , 0.        ,\n",
              "       0.        , 0.        , 0.        , 0.        , 0.        ,\n",
              "       0.31764706, 0.94117647, 0.99215686, 0.99215686, 0.46666667,\n",
              "       0.09803922, 0.        , 0.        , 0.        , 0.        ,\n",
              "       0.        , 0.        , 0.        , 0.        , 0.        ,\n",
              "       0.        , 0.        , 0.        , 0.        , 0.        ,\n",
              "       0.        , 0.        , 0.        , 0.        , 0.        ,\n",
              "       0.        , 0.        , 0.        , 0.        , 0.17647059,\n",
              "       0.72941176, 0.99215686, 0.99215686, 0.58823529, 0.10588235,\n",
              "       0.        , 0.        , 0.        , 0.        , 0.        ,\n",
              "       0.        , 0.        , 0.        , 0.        , 0.        ,\n",
              "       0.        , 0.        , 0.        , 0.        , 0.        ,\n",
              "       0.        , 0.        , 0.        , 0.        , 0.        ,\n",
              "       0.        , 0.        , 0.        , 0.0627451 , 0.36470588,\n",
              "       0.98823529, 0.99215686, 0.73333333, 0.        , 0.        ,\n",
              "       0.        , 0.        , 0.        , 0.        , 0.        ,\n",
              "       0.        , 0.        , 0.        , 0.        , 0.        ,\n",
              "       0.        , 0.        , 0.        , 0.        , 0.        ,\n",
              "       0.        , 0.        , 0.        , 0.        , 0.        ,\n",
              "       0.        , 0.        , 0.        , 0.97647059, 0.99215686,\n",
              "       0.97647059, 0.25098039, 0.        , 0.        , 0.        ,\n",
              "       0.        , 0.        , 0.        , 0.        , 0.        ,\n",
              "       0.        , 0.        , 0.        , 0.        , 0.        ,\n",
              "       0.        , 0.        , 0.        , 0.        , 0.        ,\n",
              "       0.        , 0.        , 0.        , 0.18039216, 0.50980392,\n",
              "       0.71764706, 0.99215686, 0.99215686, 0.81176471, 0.00784314,\n",
              "       0.        , 0.        , 0.        , 0.        , 0.        ,\n",
              "       0.        , 0.        , 0.        , 0.        , 0.        ,\n",
              "       0.        , 0.        , 0.        , 0.        , 0.        ,\n",
              "       0.        , 0.        , 0.        , 0.        , 0.15294118,\n",
              "       0.58039216, 0.89803922, 0.99215686, 0.99215686, 0.99215686,\n",
              "       0.98039216, 0.71372549, 0.        , 0.        , 0.        ,\n",
              "       0.        , 0.        , 0.        , 0.        , 0.        ,\n",
              "       0.        , 0.        , 0.        , 0.        , 0.        ,\n",
              "       0.        , 0.        , 0.        , 0.        , 0.        ,\n",
              "       0.09411765, 0.44705882, 0.86666667, 0.99215686, 0.99215686,\n",
              "       0.99215686, 0.99215686, 0.78823529, 0.30588235, 0.        ,\n",
              "       0.        , 0.        , 0.        , 0.        , 0.        ,\n",
              "       0.        , 0.        , 0.        , 0.        , 0.        ,\n",
              "       0.        , 0.        , 0.        , 0.        , 0.        ,\n",
              "       0.        , 0.09019608, 0.25882353, 0.83529412, 0.99215686,\n",
              "       0.99215686, 0.99215686, 0.99215686, 0.77647059, 0.31764706,\n",
              "       0.00784314, 0.        , 0.        , 0.        , 0.        ,\n",
              "       0.        , 0.        , 0.        , 0.        , 0.        ,\n",
              "       0.        , 0.        , 0.        , 0.        , 0.        ,\n",
              "       0.        , 0.        , 0.07058824, 0.67058824, 0.85882353,\n",
              "       0.99215686, 0.99215686, 0.99215686, 0.99215686, 0.76470588,\n",
              "       0.31372549, 0.03529412, 0.        , 0.        , 0.        ,\n",
              "       0.        , 0.        , 0.        , 0.        , 0.        ,\n",
              "       0.        , 0.        , 0.        , 0.        , 0.        ,\n",
              "       0.        , 0.        , 0.        , 0.21568627, 0.6745098 ,\n",
              "       0.88627451, 0.99215686, 0.99215686, 0.99215686, 0.99215686,\n",
              "       0.95686275, 0.52156863, 0.04313725, 0.        , 0.        ,\n",
              "       0.        , 0.        , 0.        , 0.        , 0.        ,\n",
              "       0.        , 0.        , 0.        , 0.        , 0.        ,\n",
              "       0.        , 0.        , 0.        , 0.        , 0.        ,\n",
              "       0.        , 0.53333333, 0.99215686, 0.99215686, 0.99215686,\n",
              "       0.83137255, 0.52941176, 0.51764706, 0.0627451 , 0.        ,\n",
              "       0.        , 0.        , 0.        , 0.        , 0.        ,\n",
              "       0.        , 0.        , 0.        , 0.        , 0.        ,\n",
              "       0.        , 0.        , 0.        , 0.        , 0.        ,\n",
              "       0.        , 0.        , 0.        , 0.        , 0.        ,\n",
              "       0.        , 0.        , 0.        , 0.        , 0.        ,\n",
              "       0.        , 0.        , 0.        , 0.        , 0.        ,\n",
              "       0.        , 0.        , 0.        , 0.        , 0.        ,\n",
              "       0.        , 0.        , 0.        , 0.        , 0.        ,\n",
              "       0.        , 0.        , 0.        , 0.        , 0.        ,\n",
              "       0.        , 0.        , 0.        , 0.        , 0.        ,\n",
              "       0.        , 0.        , 0.        , 0.        , 0.        ,\n",
              "       0.        , 0.        , 0.        , 0.        , 0.        ,\n",
              "       0.        , 0.        , 0.        , 0.        , 0.        ,\n",
              "       0.        , 0.        , 0.        , 0.        , 0.        ,\n",
              "       0.        , 0.        , 0.        , 0.        , 0.        ,\n",
              "       0.        , 0.        , 0.        , 0.        , 0.        ,\n",
              "       0.        , 0.        , 0.        , 0.        , 0.        ,\n",
              "       0.        , 0.        , 0.        , 0.        , 0.        ,\n",
              "       0.        , 0.        , 0.        , 0.        , 0.        ,\n",
              "       0.        , 0.        , 0.        , 0.        ])"
            ]
          },
          "metadata": {},
          "execution_count": 13
        }
      ]
    },
    {
      "cell_type": "code",
      "metadata": {
        "id": "dXRuBibPQqE5"
      },
      "source": [
        "# Return Decoder \n",
        "encode_input = Input(shape=(encoding_dim,))\n",
        "\n",
        "decoder = autoencoder.layers[-3](encode_input)\n",
        "decoder = autoencoder.layers[-2](decoder)\n",
        "decoder = autoencoder.layers[-1](decoder)\n",
        "\n",
        "decoder = Model(encode_input,decoder)"
      ],
      "execution_count": 14,
      "outputs": []
    },
    {
      "cell_type": "code",
      "metadata": {
        "colab": {
          "base_uri": "https://localhost:8080/"
        },
        "id": "Hzwp0vdoTju8",
        "outputId": "6ab18578-20d9-497f-91bf-d606442e086e"
      },
      "source": [
        "%matplotlib inline\n",
        "from keras.preprocessing import image\n",
        "\n",
        "img = image.load_img('/content/cat.jpg', target_size=(28,28), color_mode='grayscale')\n",
        "input_img = image.img_to_array(img)\n",
        "print(input_img.shape)\n",
        "inputs = input_img.reshape(1,784) / 255\n",
        "\n",
        "target_data = autoencoder.predict(inputs)\n",
        "dist = np.linalg.norm(inputs - target_data, axis=-1)\n",
        "print(dist)"
      ],
      "execution_count": 15,
      "outputs": [
        {
          "output_type": "stream",
          "name": "stdout",
          "text": [
            "(28, 28, 1)\n",
            "[21.070824]\n"
          ]
        }
      ]
    },
    {
      "cell_type": "code",
      "metadata": {
        "colab": {
          "base_uri": "https://localhost:8080/"
        },
        "id": "3rxG_g9iVE-l",
        "outputId": "d2b0759b-5823-4cd2-b461-aff8ebe57161"
      },
      "source": [
        "%matplotlib inline\n",
        "from keras.preprocessing import image\n",
        "\n",
        "img = image.load_img('/content/5.png', target_size=(28,28), color_mode='grayscale')\n",
        "input_img = image.img_to_array(img)\n",
        "print(input_img.shape)\n",
        "inputs = input_img.reshape(1,784) / 255\n",
        "\n",
        "target_data = autoencoder.predict(inputs)\n",
        "dist = np.linalg.norm(inputs - target_data, axis=-1)\n",
        "print(dist)"
      ],
      "execution_count": 16,
      "outputs": [
        {
          "output_type": "stream",
          "name": "stdout",
          "text": [
            "(28, 28, 1)\n",
            "[21.367912]\n"
          ]
        }
      ]
    },
    {
      "cell_type": "code",
      "metadata": {
        "colab": {
          "base_uri": "https://localhost:8080/"
        },
        "id": "QX48MVXLVPxI",
        "outputId": "d9a31b77-badf-4197-d634-e5cf737c4cec"
      },
      "source": [
        "inputs = x_train[0].reshape(1,784)\n",
        "target_data = autoencoder.predict(inputs)\n",
        "dist = np.linalg.norm(inputs - target_data, axis=-1)\n",
        "print(dist)"
      ],
      "execution_count": 17,
      "outputs": [
        {
          "output_type": "stream",
          "name": "stdout",
          "text": [
            "[5.3244808]\n"
          ]
        }
      ]
    },
    {
      "cell_type": "code",
      "metadata": {
        "id": "AXGeoFnudo_W"
      },
      "source": [
        "# Denoising Autoencoder\n",
        "import numpy as np\n",
        "import keras\n",
        "from keras.datasets import mnist\n",
        "from keras.models import Sequential, Model\n",
        "from keras.layers import Dense, Input, Conv2D, MaxPooling2D, UpSampling2D\n",
        "from keras import optimizers\n",
        "from tensorflow.keras.optimizers import Adam\n",
        "import matplotlib.pyplot as plt"
      ],
      "execution_count": 19,
      "outputs": []
    },
    {
      "cell_type": "code",
      "metadata": {
        "id": "9Xxy49oPewUq"
      },
      "source": [
        "(x_train, y_tr), (x_test, y_test) = mnist.load_data()\n",
        "x_train = x_train.reshape(60000, 28,28,1) / 255\n",
        "val_x = x_test.reshape(10000, 28,28,1) / 255"
      ],
      "execution_count": 20,
      "outputs": []
    },
    {
      "cell_type": "code",
      "metadata": {
        "colab": {
          "base_uri": "https://localhost:8080/",
          "height": 282
        },
        "id": "Z0x4cOWqfYgI",
        "outputId": "5dbe99a2-04d7-4372-932e-53772726116f"
      },
      "source": [
        "noise_factor = 0.5\n",
        "x_train_noisy = x_train + noise_factor * np.random.normal(loc=0.0, scale=1.0, size=x_train.shape)\n",
        "x_test_noisy = x_test + noise_factor * np.random.normal(loc=0.0, scale=1.0, size=x_test.shape)\n",
        "\n",
        "x_train_noisy = np.clip(x_train_noisy, 0.,1)\n",
        "x_test_noisy = np.clip(x_test_noisy, 0., 1.)\n",
        "\n",
        "plt.imshow(x_test_noisy[1].reshape(28,28))\n"
      ],
      "execution_count": 27,
      "outputs": [
        {
          "output_type": "execute_result",
          "data": {
            "text/plain": [
              "<matplotlib.image.AxesImage at 0x7f82bd290c10>"
            ]
          },
          "metadata": {},
          "execution_count": 27
        },
        {
          "output_type": "display_data",
          "data": {
            "image/png": "[encoded data removed]",
            "text/plain": [
              "<Figure size 432x288 with 1 Axes>"
            ]
          },
          "metadata": {
            "needs_background": "light"
          }
        }
      ]
    },
    {
      "cell_type": "code",
      "metadata": {
        "colab": {
          "base_uri": "https://localhost:8080/",
          "height": 282
        },
        "id": "rG2qCu5CgDYu",
        "outputId": "6e1bf1d1-ec63-41d5-8f97-3aa0b1a34fbc"
      },
      "source": [
        "plt.imshow(x_test[5].reshape(28,28))"
      ],
      "execution_count": 47,
      "outputs": [
        {
          "output_type": "execute_result",
          "data": {
            "text/plain": [
              "<matplotlib.image.AxesImage at 0x7f82bcb904d0>"
            ]
          },
          "metadata": {},
          "execution_count": 47
        },
        {
          "output_type": "display_data",
          "data": {
            "image/png": "[encoded data removed]",
            "text/plain": [
              "<Figure size 432x288 with 1 Axes>"
            ]
          },
          "metadata": {
            "needs_background": "light"
          }
        }
      ]
    },
    {
      "cell_type": "code",
      "metadata": {
        "id": "Bmxo-hY1hT-7"
      },
      "source": [
        "input_img = Input(shape=(28,28,1))\n",
        "nn = Conv2D(32, (3,3), activation='relu', padding='same')(input_img)\n",
        "nn = MaxPooling2D((2,2), padding='same')(nn)\n",
        "nn = Conv2D(32, (3,3), activation='relu', padding='same')(nn)\n",
        "\n",
        "encoded = MaxPooling2D((2,2), padding='same')(nn) "
      ],
      "execution_count": 30,
      "outputs": []
    },
    {
      "cell_type": "code",
      "metadata": {
        "id": "UY0Zmd7kh5N4"
      },
      "source": [
        "nn = Conv2D(32, (3,3), activation='relu', padding='same')(encoded)\n",
        "nn = UpSampling2D((2,2))(nn)\n",
        "nn = Conv2D(32, (3,3), activation='relu', padding='same')(nn)\n",
        "nn = UpSampling2D((2,2))(nn)\n",
        "\n",
        "decoded = Conv2D(1, (3,3), padding='same', activation='sigmoid')(nn)"
      ],
      "execution_count": 31,
      "outputs": []
    },
    {
      "cell_type": "code",
      "metadata": {
        "colab": {
          "base_uri": "https://localhost:8080/"
        },
        "id": "tIcY_EyAiwYQ",
        "outputId": "80bcf5b6-e263-49b0-ec65-8d51cc6e2b79"
      },
      "source": [
        "autoencoder = Model(input_img, decoded)\n",
        "\n",
        "autoencoder.compile(optimizer='adadelta', loss='binary_crossentropy')\n",
        "\n",
        "autoencoder.fit(x_train_noisy, x_train, epochs=50, batch_size=265, validation_data=(x_test_noisy, x_test))"
      ],
      "execution_count": 33,
      "outputs": [
        {
          "output_type": "stream",
          "name": "stdout",
          "text": [
            "Epoch 1/50\n",
            "227/227 [==============================] - 8s 33ms/step - loss: 0.6765 - val_loss: 5.7222\n",
            "Epoch 2/50\n",
            "227/227 [==============================] - 7s 31ms/step - loss: 0.6651 - val_loss: 8.4056\n",
            "Epoch 3/50\n",
            "227/227 [==============================] - 7s 31ms/step - loss: 0.6502 - val_loss: 12.4495\n",
            "Epoch 4/50\n",
            "227/227 [==============================] - 7s 31ms/step - loss: 0.6272 - val_loss: 18.9790\n",
            "Epoch 5/50\n",
            "227/227 [==============================] - 7s 31ms/step - loss: 0.5948 - val_loss: 29.4856\n",
            "Epoch 6/50\n",
            "227/227 [==============================] - 7s 31ms/step - loss: 0.5584 - val_loss: 43.8588\n",
            "Epoch 7/50\n",
            "227/227 [==============================] - 7s 32ms/step - loss: 0.5316 - val_loss: 56.8791\n",
            "Epoch 8/50\n",
            "227/227 [==============================] - 7s 31ms/step - loss: 0.5190 - val_loss: 64.4167\n",
            "Epoch 9/50\n",
            "227/227 [==============================] - 7s 31ms/step - loss: 0.5130 - val_loss: 67.3895\n",
            "Epoch 10/50\n",
            "227/227 [==============================] - 7s 31ms/step - loss: 0.5085 - val_loss: 67.9228\n",
            "Epoch 11/50\n",
            "227/227 [==============================] - 7s 31ms/step - loss: 0.5042 - val_loss: 67.7557\n",
            "Epoch 12/50\n",
            "227/227 [==============================] - 7s 31ms/step - loss: 0.4999 - val_loss: 67.3488\n",
            "Epoch 13/50\n",
            "227/227 [==============================] - 7s 31ms/step - loss: 0.4955 - val_loss: 66.7999\n",
            "Epoch 14/50\n",
            "227/227 [==============================] - 7s 31ms/step - loss: 0.4910 - val_loss: 66.2397\n",
            "Epoch 15/50\n",
            "227/227 [==============================] - 7s 31ms/step - loss: 0.4864 - val_loss: 65.6348\n",
            "Epoch 16/50\n",
            "227/227 [==============================] - 7s 32ms/step - loss: 0.4816 - val_loss: 65.0565\n",
            "Epoch 17/50\n",
            "227/227 [==============================] - 7s 32ms/step - loss: 0.4768 - val_loss: 64.5564\n",
            "Epoch 18/50\n",
            "227/227 [==============================] - 7s 32ms/step - loss: 0.4718 - val_loss: 64.0255\n",
            "Epoch 19/50\n",
            "227/227 [==============================] - 7s 32ms/step - loss: 0.4666 - val_loss: 63.2901\n",
            "Epoch 20/50\n",
            "227/227 [==============================] - 7s 32ms/step - loss: 0.4611 - val_loss: 62.4572\n",
            "Epoch 21/50\n",
            "227/227 [==============================] - 7s 31ms/step - loss: 0.4552 - val_loss: 61.5551\n",
            "Epoch 22/50\n",
            "227/227 [==============================] - 7s 31ms/step - loss: 0.4490 - val_loss: 60.4068\n",
            "Epoch 23/50\n",
            "227/227 [==============================] - 7s 31ms/step - loss: 0.4424 - val_loss: 59.2075\n",
            "Epoch 24/50\n",
            "227/227 [==============================] - 7s 31ms/step - loss: 0.4353 - val_loss: 57.7852\n",
            "Epoch 25/50\n",
            "227/227 [==============================] - 7s 31ms/step - loss: 0.4278 - val_loss: 56.2629\n",
            "Epoch 26/50\n",
            "227/227 [==============================] - 7s 31ms/step - loss: 0.4196 - val_loss: 54.4535\n",
            "Epoch 27/50\n",
            "227/227 [==============================] - 7s 31ms/step - loss: 0.4108 - val_loss: 52.6410\n",
            "Epoch 28/50\n",
            "227/227 [==============================] - 7s 32ms/step - loss: 0.4014 - val_loss: 50.6894\n",
            "Epoch 29/50\n",
            "227/227 [==============================] - 7s 31ms/step - loss: 0.3914 - val_loss: 48.7453\n",
            "Epoch 30/50\n",
            "227/227 [==============================] - 7s 31ms/step - loss: 0.3808 - val_loss: 46.2112\n",
            "Epoch 31/50\n",
            "227/227 [==============================] - 7s 32ms/step - loss: 0.3695 - val_loss: 43.2961\n",
            "Epoch 32/50\n",
            "227/227 [==============================] - 7s 31ms/step - loss: 0.3573 - val_loss: 39.4883\n",
            "Epoch 33/50\n",
            "227/227 [==============================] - 7s 31ms/step - loss: 0.3440 - val_loss: 35.3287\n",
            "Epoch 34/50\n",
            "227/227 [==============================] - 7s 31ms/step - loss: 0.3299 - val_loss: 30.5908\n",
            "Epoch 35/50\n",
            "227/227 [==============================] - 7s 31ms/step - loss: 0.3157 - val_loss: 26.1149\n",
            "Epoch 36/50\n",
            "227/227 [==============================] - 7s 31ms/step - loss: 0.3018 - val_loss: 22.7263\n",
            "Epoch 37/50\n",
            "227/227 [==============================] - 7s 31ms/step - loss: 0.2893 - val_loss: 19.6892\n",
            "Epoch 38/50\n",
            "227/227 [==============================] - 7s 31ms/step - loss: 0.2781 - val_loss: 16.3729\n",
            "Epoch 39/50\n",
            "227/227 [==============================] - 7s 31ms/step - loss: 0.2680 - val_loss: 12.7329\n",
            "Epoch 40/50\n",
            "227/227 [==============================] - 7s 31ms/step - loss: 0.2588 - val_loss: 8.3752\n",
            "Epoch 41/50\n",
            "227/227 [==============================] - 7s 32ms/step - loss: 0.2503 - val_loss: 3.6174\n",
            "Epoch 42/50\n",
            "227/227 [==============================] - 7s 31ms/step - loss: 0.2424 - val_loss: -2.1075\n",
            "Epoch 43/50\n",
            "227/227 [==============================] - 7s 31ms/step - loss: 0.2350 - val_loss: -8.4774\n",
            "Epoch 44/50\n",
            "227/227 [==============================] - 7s 32ms/step - loss: 0.2285 - val_loss: -13.9483\n",
            "Epoch 45/50\n",
            "227/227 [==============================] - 7s 31ms/step - loss: 0.2232 - val_loss: -18.9454\n",
            "Epoch 46/50\n",
            "227/227 [==============================] - 7s 31ms/step - loss: 0.2186 - val_loss: -23.7220\n",
            "Epoch 47/50\n",
            "227/227 [==============================] - 7s 31ms/step - loss: 0.2147 - val_loss: -27.8406\n",
            "Epoch 48/50\n",
            "227/227 [==============================] - 7s 32ms/step - loss: 0.2114 - val_loss: -31.4924\n",
            "Epoch 49/50\n",
            "227/227 [==============================] - 7s 31ms/step - loss: 0.2085 - val_loss: -34.5593\n",
            "Epoch 50/50\n",
            "227/227 [==============================] - 7s 31ms/step - loss: 0.2059 - val_loss: -37.1640\n"
          ]
        },
        {
          "output_type": "execute_result",
          "data": {
            "text/plain": [
              "<keras.callbacks.History at 0x7f82bd01f910>"
            ]
          },
          "metadata": {},
          "execution_count": 33
        }
      ]
    },
    {
      "cell_type": "code",
      "metadata": {
        "colab": {
          "base_uri": "https://localhost:8080/",
          "height": 282
        },
        "id": "eLw-_I4FtpXR",
        "outputId": "46a455c4-2010-4073-8537-4f162740484e"
      },
      "source": [
        "plt.imshow(x_test_noisy[5].reshape(28,28))"
      ],
      "execution_count": 35,
      "outputs": [
        {
          "output_type": "execute_result",
          "data": {
            "text/plain": [
              "<matplotlib.image.AxesImage at 0x7f82bcdcd410>"
            ]
          },
          "metadata": {},
          "execution_count": 35
        },
        {
          "output_type": "display_data",
          "data": {
            "image/png": "[encoded data removed]",
            "text/plain": [
              "<Figure size 432x288 with 1 Axes>"
            ]
          },
          "metadata": {
            "needs_background": "light"
          }
        }
      ]
    },
    {
      "cell_type": "code",
      "metadata": {
        "id": "4CkH2YzEwwd8"
      },
      "source": [
        "result = autoencoder.predict(x_test[5].reshape(1,28,28,1))"
      ],
      "execution_count": 61,
      "outputs": []
    },
    {
      "cell_type": "code",
      "metadata": {
        "colab": {
          "base_uri": "https://localhost:8080/",
          "height": 282
        },
        "id": "s43V9ekQw5xL",
        "outputId": "b47c7480-2bee-45f2-c3ec-c8dfda31b25e"
      },
      "source": [
        "plt.imshow(result.reshape(28,28))"
      ],
      "execution_count": 62,
      "outputs": [
        {
          "output_type": "execute_result",
          "data": {
            "text/plain": [
              "<matplotlib.image.AxesImage at 0x7f82402e5d90>"
            ]
          },
          "metadata": {},
          "execution_count": 62
        },
        {
          "output_type": "display_data",
          "data": {
            "image/png": "[encoded data removed]",
            "text/plain": [
              "<Figure size 432x288 with 1 Axes>"
            ]
          },
          "metadata": {
            "needs_background": "light"
          }
        }
      ]
    },
    {
      "cell_type": "code",
      "metadata": {
        "colab": {
          "base_uri": "https://localhost:8080/"
        },
        "id": "9mKVgZMCw8QN",
        "outputId": "92b7a4fc-15dc-4a1e-9d70-1d5d293b55f1"
      },
      "source": [
        "\n"
      ],
      "execution_count": 60,
      "outputs": [
        {
          "output_type": "stream",
          "name": "stdout",
          "text": [
            "(1, 28, 3)\n"
          ]
        }
      ]
    },
    {
      "cell_type": "code",
      "metadata": {
        "id": "vKpbAfveydCI"
      },
      "source": [
        ""
      ],
      "execution_count": null,
      "outputs": []
    }
  ]
}