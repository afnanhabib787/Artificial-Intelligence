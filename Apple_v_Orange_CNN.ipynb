{
  "nbformat": 4,
  "nbformat_minor": 0,
  "metadata": {
    "colab": {
      "name": "Apple v Orange CNN.ipynb",
      "provenance": [],
      "collapsed_sections": [],
      "authorship_tag": "ABX9TyMugYqtIi6w/R9iVu5/hOxT",
      "include_colab_link": true
    },
    "kernelspec": {
      "name": "python3",
      "display_name": "Python 3"
    },
    "language_info": {
      "name": "python"
    },
    "accelerator": "GPU"
  },
  "cells": [
    {
      "cell_type": "markdown",
      "metadata": {
        "id": "view-in-github",
        "colab_type": "text"
      },
      "source": [
        "<a href=\"https://colab.research.google.com/github/afnanhabib787/Artificial-Intelligence/blob/main/Apple_v_Orange_CNN.ipynb\" target=\"_parent\"><img src=\"https://colab.research.google.com/assets/colab-badge.svg\" alt=\"Open In Colab\"/></a>"
      ]
    },
    {
      "cell_type": "code",
      "metadata": {
        "colab": {
          "base_uri": "https://localhost:8080/"
        },
        "id": "XJlu85xrqZdR",
        "outputId": "bf2bf81a-7118-4baf-e3ab-3aa1687f91b5"
      },
      "source": [
        "!pip install kaggle"
      ],
      "execution_count": null,
      "outputs": [
        {
          "output_type": "stream",
          "name": "stdout",
          "text": [
            "Requirement already satisfied: kaggle in /usr/local/lib/python3.7/dist-packages (1.5.12)\n",
            "Requirement already satisfied: six>=1.10 in /usr/local/lib/python3.7/dist-packages (from kaggle) (1.15.0)\n",
            "Requirement already satisfied: certifi in /usr/local/lib/python3.7/dist-packages (from kaggle) (2021.5.30)\n",
            "Requirement already satisfied: urllib3 in /usr/local/lib/python3.7/dist-packages (from kaggle) (1.24.3)\n",
            "Requirement already satisfied: python-slugify in /usr/local/lib/python3.7/dist-packages (from kaggle) (5.0.2)\n",
            "Requirement already satisfied: tqdm in /usr/local/lib/python3.7/dist-packages (from kaggle) (4.62.2)\n",
            "Requirement already satisfied: python-dateutil in /usr/local/lib/python3.7/dist-packages (from kaggle) (2.8.2)\n",
            "Requirement already satisfied: requests in /usr/local/lib/python3.7/dist-packages (from kaggle) (2.23.0)\n",
            "Requirement already satisfied: text-unidecode>=1.3 in /usr/local/lib/python3.7/dist-packages (from python-slugify->kaggle) (1.3)\n",
            "Requirement already satisfied: idna<3,>=2.5 in /usr/local/lib/python3.7/dist-packages (from requests->kaggle) (2.10)\n",
            "Requirement already satisfied: chardet<4,>=3.0.2 in /usr/local/lib/python3.7/dist-packages (from requests->kaggle) (3.0.4)\n"
          ]
        }
      ]
    },
    {
      "cell_type": "code",
      "metadata": {
        "colab": {
          "resources": {
            "http://localhost:8080/nbextensions/google.colab/files.js": {
              "data": "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",
              "ok": true,
              "headers": [
                [
                  "content-type",
                  "application/javascript"
                ]
              ],
              "status": 200,
              "status_text": ""
            }
          },
          "base_uri": "https://localhost:8080/",
          "height": 89
        },
        "id": "ntX_13EUq2Et",
        "outputId": "d7ee3f99-c51e-4656-b471-9dec7a0a93fc"
      },
      "source": [
        "from google.colab import files\n",
        "files.upload()"
      ],
      "execution_count": null,
      "outputs": [
        {
          "output_type": "display_data",
          "data": {
            "text/html": [
              "\n",
              "     <input type=\"file\" id=\"files-89efd46b-ab35-4fac-8422-1ed270ef0f34\" name=\"files[]\" multiple disabled\n",
              "        style=\"border:none\" />\n",
              "     <output id=\"result-89efd46b-ab35-4fac-8422-1ed270ef0f34\">\n",
              "      Upload widget is only available when the cell has been executed in the\n",
              "      current browser session. Please rerun this cell to enable.\n",
              "      </output>\n",
              "      <script src=\"/nbextensions/google.colab/files.js\"></script> "
            ],
            "text/plain": [
              "<IPython.core.display.HTML object>"
            ]
          },
          "metadata": {}
        },
        {
          "output_type": "stream",
          "name": "stdout",
          "text": [
            "Saving kaggle.json to kaggle.json\n"
          ]
        },
        {
          "output_type": "execute_result",
          "data": {
            "text/plain": [
              "{'kaggle.json': b'{\"username\":\"afnanhabib787\",\"key\":\"30b2e622f6c5384f87a3c6ea1e6a3cab\"}'}"
            ]
          },
          "metadata": {},
          "execution_count": 1
        }
      ]
    },
    {
      "cell_type": "code",
      "metadata": {
        "id": "JXtzmMlcrJ-N"
      },
      "source": [
        "#Make a directory named kaggle and copy the kaggle.json file there.\n",
        "!mkdir -p ~/.kaggle\n",
        "!cp kaggle.json ~/.kaggle/\n",
        "# change the permission of the file\n",
        "!chmod 600 ~/.kaggle/kaggle.json"
      ],
      "execution_count": null,
      "outputs": []
    },
    {
      "cell_type": "code",
      "metadata": {
        "colab": {
          "base_uri": "https://localhost:8080/"
        },
        "id": "r6BbzFbKrQVG",
        "outputId": "7877f415-8194-4d65-b122-63a94c2a9d20"
      },
      "source": [
        "!kaggle datasets download -d balraj98/apple2orange-dataset"
      ],
      "execution_count": null,
      "outputs": [
        {
          "output_type": "stream",
          "name": "stdout",
          "text": [
            "Downloading apple2orange-dataset.zip to /content\n",
            " 98% 73.0M/74.8M [00:01<00:00, 43.1MB/s]\n",
            "100% 74.8M/74.8M [00:01<00:00, 57.3MB/s]\n"
          ]
        }
      ]
    },
    {
      "cell_type": "code",
      "metadata": {
        "colab": {
          "base_uri": "https://localhost:8080/"
        },
        "id": "X4ce15k6rUg_",
        "outputId": "1038dca8-6dae-4762-baf8-54e42dc18a1b"
      },
      "source": [
        "from zipfile import ZipFile\n",
        "file_name = 'apple2orange-dataset.zip' #the file is your dataset exact name\n",
        "with ZipFile(file_name, 'r') as zip:\n",
        "  zip.extractall()\n",
        "  print('Done')"
      ],
      "execution_count": null,
      "outputs": [
        {
          "output_type": "stream",
          "name": "stdout",
          "text": [
            "Done\n"
          ]
        }
      ]
    },
    {
      "cell_type": "code",
      "metadata": {
        "id": "o66ZuYbsrhLj"
      },
      "source": [
        "from tensorflow.keras.preprocessing.image import ImageDataGenerator\n",
        "train_data_gen = ImageDataGenerator(rescale = 1.0/255)"
      ],
      "execution_count": null,
      "outputs": []
    },
    {
      "cell_type": "code",
      "metadata": {
        "colab": {
          "base_uri": "https://localhost:8080/"
        },
        "id": "XTq2nDDCr_C1",
        "outputId": "778b0b97-06c4-40d8-e449-dff222da5840"
      },
      "source": [
        "train_data = train_data_gen.flow_from_directory(\n",
        "    \"/content/train_data\",\n",
        "    target_size=(150,150),\n",
        "    batch_size=30,\n",
        "    class_mode='binary'\n",
        ")"
      ],
      "execution_count": null,
      "outputs": [
        {
          "output_type": "stream",
          "name": "stdout",
          "text": [
            "Found 2014 images belonging to 2 classes.\n"
          ]
        }
      ]
    },
    {
      "cell_type": "code",
      "metadata": {
        "colab": {
          "base_uri": "https://localhost:8080/"
        },
        "id": "OhJoS6Knshce",
        "outputId": "04858440-94d9-4693-cb3f-3ec039194cb3"
      },
      "source": [
        "train_data.class_indices\n"
      ],
      "execution_count": null,
      "outputs": [
        {
          "output_type": "execute_result",
          "data": {
            "text/plain": [
              "{'trainA': 0, 'trainB': 1}"
            ]
          },
          "metadata": {},
          "execution_count": 12
        }
      ]
    },
    {
      "cell_type": "code",
      "metadata": {
        "id": "XJIWJp3gsqJo"
      },
      "source": [
        "from tensorflow.keras import layers\n",
        "from tensorflow.keras import models\n",
        "model = models.Sequential()\n",
        "\n",
        "model.add(layers.Conv2D(32, (3, 3), activation='relu',\n",
        "input_shape=(150, 150, 3)))\n",
        "model.add(layers.MaxPooling2D((2, 2)))\n",
        "\n",
        "model.add(layers.Conv2D(64, (3, 3), activation='relu'))\n",
        "model.add(layers.MaxPooling2D((2, 2)))\n",
        "\n",
        "model.add(layers.Conv2D(128, (3, 3), activation='relu'))\n",
        "model.add(layers.MaxPooling2D((2, 2)))\n",
        "\n",
        "model.add(layers.Conv2D(128, (3, 3), activation='relu'))\n",
        "model.add(layers.MaxPooling2D((2, 2)))\n",
        "\n",
        "\n",
        "model.add(layers.Flatten())\n",
        "model.add(layers.Dense(512, activation='relu'))\n",
        "model.add(layers.Dense(1, activation='sigmoid'))\n"
      ],
      "execution_count": null,
      "outputs": []
    },
    {
      "cell_type": "code",
      "metadata": {
        "colab": {
          "base_uri": "https://localhost:8080/"
        },
        "id": "b7_twzFTteFT",
        "outputId": "3b9f166b-5b37-4801-fdba-b7955b59164e"
      },
      "source": [
        "model.summary()"
      ],
      "execution_count": null,
      "outputs": [
        {
          "output_type": "stream",
          "name": "stdout",
          "text": [
            "Model: \"sequential\"\n",
            "_________________________________________________________________\n",
            "Layer (type)                 Output Shape              Param #   \n",
            "=================================================================\n",
            "conv2d (Conv2D)              (None, 148, 148, 32)      896       \n",
            "_________________________________________________________________\n",
            "max_pooling2d (MaxPooling2D) (None, 74, 74, 32)        0         \n",
            "_________________________________________________________________\n",
            "conv2d_1 (Conv2D)            (None, 72, 72, 64)        18496     \n",
            "_________________________________________________________________\n",
            "max_pooling2d_1 (MaxPooling2 (None, 36, 36, 64)        0         \n",
            "_________________________________________________________________\n",
            "conv2d_2 (Conv2D)            (None, 34, 34, 128)       73856     \n",
            "_________________________________________________________________\n",
            "max_pooling2d_2 (MaxPooling2 (None, 17, 17, 128)       0         \n",
            "_________________________________________________________________\n",
            "conv2d_3 (Conv2D)            (None, 15, 15, 128)       147584    \n",
            "_________________________________________________________________\n",
            "max_pooling2d_3 (MaxPooling2 (None, 7, 7, 128)         0         \n",
            "_________________________________________________________________\n",
            "flatten (Flatten)            (None, 6272)              0         \n",
            "_________________________________________________________________\n",
            "dense (Dense)                (None, 512)               3211776   \n",
            "_________________________________________________________________\n",
            "dense_1 (Dense)              (None, 1)                 513       \n",
            "=================================================================\n",
            "Total params: 3,453,121\n",
            "Trainable params: 3,453,121\n",
            "Non-trainable params: 0\n",
            "_________________________________________________________________\n"
          ]
        }
      ]
    },
    {
      "cell_type": "code",
      "metadata": {
        "id": "jgjfjjhQx4RO"
      },
      "source": [
        "from tensorflow.keras import optimizers\n",
        "model.compile(loss='binary_crossentropy',\n",
        "              optimizer=optimizers.RMSprop(learning_rate=1e-4),\n",
        "              metrics=[['acc']])"
      ],
      "execution_count": null,
      "outputs": []
    },
    {
      "cell_type": "code",
      "metadata": {
        "colab": {
          "base_uri": "https://localhost:8080/"
        },
        "id": "hS7_kHOMQZuB",
        "outputId": "8db86f2d-4ff8-418f-e79e-41ccac95283c"
      },
      "source": [
        "history = model.fit_generator(\n",
        "    train_data,\n",
        "    epochs=30\n",
        "    )"
      ],
      "execution_count": null,
      "outputs": [
        {
          "output_type": "stream",
          "name": "stderr",
          "text": [
            "/usr/local/lib/python3.7/dist-packages/keras/engine/training.py:1972: UserWarning: `Model.fit_generator` is deprecated and will be removed in a future version. Please use `Model.fit`, which supports generators.\n",
            "  warnings.warn('`Model.fit_generator` is deprecated and '\n"
          ]
        },
        {
          "output_type": "stream",
          "name": "stdout",
          "text": [
            "Epoch 1/30\n",
            "68/68 [==============================] - 90s 1s/step - loss: 0.3205 - acc: 0.8640\n",
            "Epoch 2/30\n",
            "68/68 [==============================] - 90s 1s/step - loss: 0.2448 - acc: 0.9032\n",
            "Epoch 3/30\n",
            "68/68 [==============================] - 91s 1s/step - loss: 0.2266 - acc: 0.9186\n",
            "Epoch 4/30\n",
            "68/68 [==============================] - 90s 1s/step - loss: 0.2021 - acc: 0.9220\n",
            "Epoch 5/30\n",
            "68/68 [==============================] - 90s 1s/step - loss: 0.1952 - acc: 0.9315\n",
            "Epoch 6/30\n",
            "68/68 [==============================] - 90s 1s/step - loss: 0.1833 - acc: 0.9265\n",
            "Epoch 7/30\n",
            "68/68 [==============================] - 90s 1s/step - loss: 0.1719 - acc: 0.9325\n",
            "Epoch 8/30\n",
            "68/68 [==============================] - 90s 1s/step - loss: 0.1577 - acc: 0.9389\n",
            "Epoch 9/30\n",
            "68/68 [==============================] - 90s 1s/step - loss: 0.1576 - acc: 0.9444\n",
            "Epoch 10/30\n",
            "68/68 [==============================] - 90s 1s/step - loss: 0.1464 - acc: 0.9489\n",
            "Epoch 11/30\n",
            "68/68 [==============================] - 90s 1s/step - loss: 0.1385 - acc: 0.9459\n",
            "Epoch 12/30\n",
            "68/68 [==============================] - 90s 1s/step - loss: 0.1309 - acc: 0.9513\n",
            "Epoch 13/30\n",
            "68/68 [==============================] - 91s 1s/step - loss: 0.1284 - acc: 0.9568\n",
            "Epoch 14/30\n",
            "68/68 [==============================] - 90s 1s/step - loss: 0.1144 - acc: 0.9543\n",
            "Epoch 15/30\n",
            "68/68 [==============================] - 90s 1s/step - loss: 0.1018 - acc: 0.9623\n",
            "Epoch 16/30\n",
            "68/68 [==============================] - 91s 1s/step - loss: 0.1076 - acc: 0.9618\n",
            "Epoch 17/30\n",
            "68/68 [==============================] - 90s 1s/step - loss: 0.0903 - acc: 0.9702\n",
            "Epoch 18/30\n",
            "68/68 [==============================] - 90s 1s/step - loss: 0.0893 - acc: 0.9677\n",
            "Epoch 19/30\n",
            "68/68 [==============================] - 90s 1s/step - loss: 0.0860 - acc: 0.9707\n",
            "Epoch 20/30\n",
            "68/68 [==============================] - 90s 1s/step - loss: 0.0790 - acc: 0.9747\n",
            "Epoch 21/30\n",
            "68/68 [==============================] - 90s 1s/step - loss: 0.0799 - acc: 0.9786\n",
            "Epoch 22/30\n",
            "68/68 [==============================] - 90s 1s/step - loss: 0.0686 - acc: 0.9722\n",
            "Epoch 23/30\n",
            "68/68 [==============================] - 90s 1s/step - loss: 0.0570 - acc: 0.9806\n",
            "Epoch 24/30\n",
            "68/68 [==============================] - 90s 1s/step - loss: 0.0606 - acc: 0.9762\n",
            "Epoch 25/30\n",
            "68/68 [==============================] - 90s 1s/step - loss: 0.0500 - acc: 0.9851\n",
            "Epoch 26/30\n",
            "68/68 [==============================] - 90s 1s/step - loss: 0.0465 - acc: 0.9826\n",
            "Epoch 27/30\n",
            "68/68 [==============================] - 90s 1s/step - loss: 0.0433 - acc: 0.9836\n",
            "Epoch 28/30\n",
            "68/68 [==============================] - 90s 1s/step - loss: 0.0413 - acc: 0.9861\n",
            "Epoch 29/30\n",
            "68/68 [==============================] - 90s 1s/step - loss: 0.0377 - acc: 0.9886\n",
            "Epoch 30/30\n",
            "29/68 [===========>..................] - ETA: 50s - loss: 0.0359 - acc: 0.9882"
          ]
        }
      ]
    },
    {
      "cell_type": "code",
      "metadata": {
        "id": "KXHYyRNqQ8kQ",
        "colab": {
          "base_uri": "https://localhost:8080/"
        },
        "outputId": "7d5e4e26-5cb4-4853-9b9e-8b4662685242"
      },
      "source": [
        "test_data = train_data_gen.flow_from_directory(\n",
        "    \"/content/test_data\",\n",
        "    target_size=(150,150),\n",
        "    batch_size=30,\n",
        "    class_mode='binary'\n",
        ")"
      ],
      "execution_count": 23,
      "outputs": [
        {
          "output_type": "stream",
          "name": "stdout",
          "text": [
            "Found 514 images belonging to 2 classes.\n"
          ]
        }
      ]
    },
    {
      "cell_type": "code",
      "metadata": {
        "colab": {
          "base_uri": "https://localhost:8080/"
        },
        "id": "KboiJdhMOboC",
        "outputId": "d3b7900a-8985-4e27-f543-b34c54782d26"
      },
      "source": [
        "test_data.class_indices"
      ],
      "execution_count": 25,
      "outputs": [
        {
          "output_type": "execute_result",
          "data": {
            "text/plain": [
              "{'testA': 0, 'testB': 1}"
            ]
          },
          "metadata": {},
          "execution_count": 25
        }
      ]
    },
    {
      "cell_type": "code",
      "metadata": {
        "colab": {
          "base_uri": "https://localhost:8080/"
        },
        "id": "Qnzqt2AFOfFP",
        "outputId": "19a84985-a3b0-4e3f-b779-19575207ae18"
      },
      "source": [
        "model.evaluate(test_data)"
      ],
      "execution_count": 46,
      "outputs": [
        {
          "output_type": "stream",
          "name": "stdout",
          "text": [
            "18/18 [==============================] - 7s 362ms/step - loss: 0.2462 - acc: 0.9358\n"
          ]
        },
        {
          "output_type": "execute_result",
          "data": {
            "text/plain": [
              "[0.24616359174251556, 0.9357976913452148]"
            ]
          },
          "metadata": {},
          "execution_count": 46
        }
      ]
    },
    {
      "cell_type": "code",
      "metadata": {
        "id": "1isKtdwXQCvF"
      },
      "source": [
        "from keras.preprocessing import image\n",
        "img = image.load_img('/content/test_data/testA/n07740461_10011.jpg', target_size=(150,150))"
      ],
      "execution_count": 40,
      "outputs": []
    },
    {
      "cell_type": "code",
      "metadata": {
        "id": "9tP34zHQQW-_"
      },
      "source": [
        "x = image.img_to_array(img)"
      ],
      "execution_count": 41,
      "outputs": []
    },
    {
      "cell_type": "code",
      "metadata": {
        "colab": {
          "base_uri": "https://localhost:8080/"
        },
        "id": "j_d_ujpxQcLL",
        "outputId": "5ee5467a-1ce2-4af3-e3e3-18b81a8c2689"
      },
      "source": [
        "x.shape"
      ],
      "execution_count": 42,
      "outputs": [
        {
          "output_type": "execute_result",
          "data": {
            "text/plain": [
              "(150, 150, 3)"
            ]
          },
          "metadata": {},
          "execution_count": 42
        }
      ]
    },
    {
      "cell_type": "code",
      "metadata": {
        "id": "x5eQwMT-QgUm"
      },
      "source": [
        "x = x.reshape((1,) + x.shape)"
      ],
      "execution_count": 43,
      "outputs": []
    },
    {
      "cell_type": "code",
      "metadata": {
        "colab": {
          "base_uri": "https://localhost:8080/"
        },
        "id": "bFrQqkfeQpJV",
        "outputId": "9e57bfeb-3ddc-4b67-c9dc-f704b5209285"
      },
      "source": [
        "x.shape"
      ],
      "execution_count": 44,
      "outputs": [
        {
          "output_type": "execute_result",
          "data": {
            "text/plain": [
              "(1, 150, 150, 3)"
            ]
          },
          "metadata": {},
          "execution_count": 44
        }
      ]
    },
    {
      "cell_type": "code",
      "metadata": {
        "colab": {
          "base_uri": "https://localhost:8080/"
        },
        "id": "qt11-LwXQsW_",
        "outputId": "b927267c-2d34-4f9b-cb5b-a161d276a963"
      },
      "source": [
        "model.predict(x)"
      ],
      "execution_count": 45,
      "outputs": [
        {
          "output_type": "execute_result",
          "data": {
            "text/plain": [
              "array([[1.]], dtype=float32)"
            ]
          },
          "metadata": {},
          "execution_count": 45
        }
      ]
    },
    {
      "cell_type": "code",
      "metadata": {
        "id": "bg9SknpFPwwq"
      },
      "source": [
        "model.predict(test_data)"
      ],
      "execution_count": null,
      "outputs": []
    },
    {
      "cell_type": "code",
      "metadata": {
        "id": "ESpqYiQQOrLW"
      },
      "source": [
        "import numpy as np\n",
        "\n",
        "np.where(model.predict(test_data)>0,\"Orange\",\"Apple\")"
      ],
      "execution_count": null,
      "outputs": []
    },
    {
      "cell_type": "code",
      "metadata": {
        "colab": {
          "base_uri": "https://localhost:8080/"
        },
        "id": "OROhhmJnO9y5",
        "outputId": "f225c41c-a086-4bc0-dba1-32fe64303798"
      },
      "source": [
        "train_datagen = ImageDataGenerator(\n",
        "    rescale=1./255,\n",
        "    rotation_range=40,\n",
        "    width_shift_range=0.2,\n",
        "    height_shift_range=0.2,\n",
        "    shear_range=0.2,\n",
        "    zoom_range=0.2,\n",
        "    horizontal_flip=True,)\n",
        "\n",
        "test_datagen = ImageDataGenerator(rescale=1./255)\n",
        "\n",
        "train_generator = train_datagen.flow_from_directory(\n",
        "    '/content/train_data',\n",
        "    target_size=(150, 150),\n",
        "    batch_size=32,\n",
        "    class_mode='binary')"
      ],
      "execution_count": 50,
      "outputs": [
        {
          "output_type": "stream",
          "name": "stdout",
          "text": [
            "Found 2014 images belonging to 2 classes.\n"
          ]
        }
      ]
    },
    {
      "cell_type": "code",
      "metadata": {
        "id": "5ZZHdc5eSJbn"
      },
      "source": [
        "model = models.Sequential()\n",
        "\n",
        "model.add(layers.Conv2D(32, (3, 3), activation='relu',\n",
        "input_shape=(150, 150, 3)))\n",
        "model.add(layers.MaxPooling2D((2, 2)))\n",
        "\n",
        "model.add(layers.Conv2D(64, (3, 3), activation='relu'))\n",
        "model.add(layers.MaxPooling2D((2, 2)))\n",
        "\n",
        "model.add(layers.Conv2D(128, (3, 3), activation='relu'))\n",
        "model.add(layers.MaxPooling2D((2, 2)))\n",
        "\n",
        "model.add(layers.Conv2D(128, (3, 3), activation='relu'))\n",
        "model.add(layers.MaxPooling2D((2, 2)))\n",
        "\n",
        "model.add(layers.Flatten())\n",
        "\n",
        "model.add(layers.Dropout(0.5))\n",
        "\n",
        "model.add(layers.Dense(512, activation='relu'))\n",
        "model.add(layers.Dense(1, activation='sigmoid'))\n",
        "\n",
        "model.compile(loss='binary_crossentropy',\n",
        "optimizer=optimizers.RMSprop(learning_rate=1e-4),\n",
        "metrics=['acc'])"
      ],
      "execution_count": 51,
      "outputs": []
    },
    {
      "cell_type": "code",
      "metadata": {
        "colab": {
          "base_uri": "https://localhost:8080/"
        },
        "id": "X-vffaNzS2rC",
        "outputId": "e35438ca-7d90-4659-eef9-2454f6c4a3f9"
      },
      "source": [
        "model.summary()"
      ],
      "execution_count": 52,
      "outputs": [
        {
          "output_type": "stream",
          "name": "stdout",
          "text": [
            "Model: \"sequential_1\"\n",
            "_________________________________________________________________\n",
            "Layer (type)                 Output Shape              Param #   \n",
            "=================================================================\n",
            "conv2d_4 (Conv2D)            (None, 148, 148, 32)      896       \n",
            "_________________________________________________________________\n",
            "max_pooling2d_4 (MaxPooling2 (None, 74, 74, 32)        0         \n",
            "_________________________________________________________________\n",
            "conv2d_5 (Conv2D)            (None, 72, 72, 64)        18496     \n",
            "_________________________________________________________________\n",
            "max_pooling2d_5 (MaxPooling2 (None, 36, 36, 64)        0         \n",
            "_________________________________________________________________\n",
            "conv2d_6 (Conv2D)            (None, 34, 34, 128)       73856     \n",
            "_________________________________________________________________\n",
            "max_pooling2d_6 (MaxPooling2 (None, 17, 17, 128)       0         \n",
            "_________________________________________________________________\n",
            "conv2d_7 (Conv2D)            (None, 15, 15, 128)       147584    \n",
            "_________________________________________________________________\n",
            "max_pooling2d_7 (MaxPooling2 (None, 7, 7, 128)         0         \n",
            "_________________________________________________________________\n",
            "flatten_1 (Flatten)          (None, 6272)              0         \n",
            "_________________________________________________________________\n",
            "dropout (Dropout)            (None, 6272)              0         \n",
            "_________________________________________________________________\n",
            "dense_2 (Dense)              (None, 512)               3211776   \n",
            "_________________________________________________________________\n",
            "dense_3 (Dense)              (None, 1)                 513       \n",
            "=================================================================\n",
            "Total params: 3,453,121\n",
            "Trainable params: 3,453,121\n",
            "Non-trainable params: 0\n",
            "_________________________________________________________________\n"
          ]
        }
      ]
    },
    {
      "cell_type": "code",
      "metadata": {
        "colab": {
          "base_uri": "https://localhost:8080/"
        },
        "id": "BXbEK2sMS4K8",
        "outputId": "71ee383f-9e31-4bef-e0e5-13736723ae58"
      },
      "source": [
        "history = model.fit_generator(\n",
        "    train_generator,\n",
        "    epochs=20,\n",
        "    )"
      ],
      "execution_count": 54,
      "outputs": [
        {
          "output_type": "stream",
          "name": "stderr",
          "text": [
            "/usr/local/lib/python3.7/dist-packages/keras/engine/training.py:1972: UserWarning: `Model.fit_generator` is deprecated and will be removed in a future version. Please use `Model.fit`, which supports generators.\n",
            "  warnings.warn('`Model.fit_generator` is deprecated and '\n"
          ]
        },
        {
          "output_type": "stream",
          "name": "stdout",
          "text": [
            "Epoch 1/20\n",
            "63/63 [==============================] - 99s 2s/step - loss: 0.1719 - acc: 0.9340\n",
            "Epoch 2/20\n",
            "63/63 [==============================] - 101s 2s/step - loss: 0.1806 - acc: 0.9394\n",
            "Epoch 3/20\n",
            "63/63 [==============================] - 102s 2s/step - loss: 0.1770 - acc: 0.9295\n",
            "Epoch 4/20\n",
            "63/63 [==============================] - 101s 2s/step - loss: 0.1691 - acc: 0.9374\n",
            "Epoch 5/20\n",
            "63/63 [==============================] - 103s 2s/step - loss: 0.1761 - acc: 0.9305\n",
            "Epoch 6/20\n",
            "63/63 [==============================] - 105s 2s/step - loss: 0.1700 - acc: 0.9335\n",
            "Epoch 7/20\n",
            "63/63 [==============================] - 104s 2s/step - loss: 0.1677 - acc: 0.9330\n",
            "Epoch 8/20\n",
            "63/63 [==============================] - 102s 2s/step - loss: 0.1664 - acc: 0.9330\n",
            "Epoch 9/20\n",
            "63/63 [==============================] - 102s 2s/step - loss: 0.1671 - acc: 0.9330\n",
            "Epoch 10/20\n",
            "63/63 [==============================] - 103s 2s/step - loss: 0.1649 - acc: 0.9374\n",
            "Epoch 11/20\n",
            "63/63 [==============================] - 103s 2s/step - loss: 0.1598 - acc: 0.9335\n",
            "Epoch 12/20\n",
            "63/63 [==============================] - 102s 2s/step - loss: 0.1691 - acc: 0.9364\n",
            "Epoch 13/20\n",
            "63/63 [==============================] - 101s 2s/step - loss: 0.1652 - acc: 0.9315\n",
            "Epoch 14/20\n",
            "63/63 [==============================] - 101s 2s/step - loss: 0.1492 - acc: 0.9474\n",
            "Epoch 15/20\n",
            "63/63 [==============================] - 101s 2s/step - loss: 0.1560 - acc: 0.9374\n",
            "Epoch 16/20\n",
            "63/63 [==============================] - 100s 2s/step - loss: 0.1457 - acc: 0.9429\n",
            "Epoch 17/20\n",
            "63/63 [==============================] - 99s 2s/step - loss: 0.1440 - acc: 0.9379\n",
            "Epoch 18/20\n",
            "63/63 [==============================] - 101s 2s/step - loss: 0.1470 - acc: 0.9414\n",
            "Epoch 19/20\n",
            "63/63 [==============================] - 100s 2s/step - loss: 0.1441 - acc: 0.9444\n",
            "Epoch 20/20\n",
            "63/63 [==============================] - 100s 2s/step - loss: 0.1484 - acc: 0.9409\n"
          ]
        }
      ]
    },
    {
      "cell_type": "code",
      "metadata": {
        "colab": {
          "base_uri": "https://localhost:8080/"
        },
        "id": "nYfmnDWDTDyl",
        "outputId": "14de9a18-96ae-412b-c716-4003ef1c1a06"
      },
      "source": [
        "model.evaluate(test_data)"
      ],
      "execution_count": 55,
      "outputs": [
        {
          "output_type": "stream",
          "name": "stdout",
          "text": [
            "18/18 [==============================] - 7s 370ms/step - loss: 0.1701 - acc: 0.9319\n"
          ]
        },
        {
          "output_type": "execute_result",
          "data": {
            "text/plain": [
              "[0.17010512948036194, 0.9319066405296326]"
            ]
          },
          "metadata": {},
          "execution_count": 55
        }
      ]
    },
    {
      "cell_type": "code",
      "metadata": {
        "colab": {
          "base_uri": "https://localhost:8080/"
        },
        "id": "9t2Ei49wiV_R",
        "outputId": "d42c4fb9-4763-49f3-a2bf-ab5388c8441d"
      },
      "source": [
        "model.predict(test_data)"
      ],
      "execution_count": 56,
      "outputs": [
        {
          "output_type": "execute_result",
          "data": {
            "text/plain": [
              "array([[4.60147858e-04],\n",
              "       [9.13008407e-05],\n",
              "       [6.90636039e-03],\n",
              "       [1.20472908e-03],\n",
              "       [9.48328376e-01],\n",
              "       [5.11600156e-05],\n",
              "       [1.26625389e-01],\n",
              "       [1.01712840e-05],\n",
              "       [9.95967686e-01],\n",
              "       [9.98792887e-01],\n",
              "       [9.41830158e-01],\n",
              "       [1.65949166e-02],\n",
              "       [2.89976597e-04],\n",
              "       [8.87101889e-03],\n",
              "       [9.32579160e-01],\n",
              "       [5.72468996e-01],\n",
              "       [2.11174793e-05],\n",
              "       [9.90844011e-01],\n",
              "       [4.69976395e-01],\n",
              "       [2.08482742e-02],\n",
              "       [9.97863114e-01],\n",
              "       [8.65380287e-01],\n",
              "       [8.17477703e-04],\n",
              "       [5.18491864e-03],\n",
              "       [9.93827462e-01],\n",
              "       [8.03864002e-03],\n",
              "       [1.98485851e-02],\n",
              "       [3.87827069e-01],\n",
              "       [1.50388479e-03],\n",
              "       [9.05410528e-01],\n",
              "       [9.98593450e-01],\n",
              "       [9.95708466e-01],\n",
              "       [9.74859178e-01],\n",
              "       [8.29310920e-06],\n",
              "       [1.22707933e-01],\n",
              "       [8.77884150e-01],\n",
              "       [2.93704569e-02],\n",
              "       [8.59173119e-01],\n",
              "       [1.32450759e-02],\n",
              "       [9.46462154e-04],\n",
              "       [9.47767258e-01],\n",
              "       [9.78186369e-01],\n",
              "       [6.23729825e-03],\n",
              "       [1.15979783e-04],\n",
              "       [2.75100172e-02],\n",
              "       [9.38418984e-01],\n",
              "       [9.12761509e-01],\n",
              "       [9.90038455e-01],\n",
              "       [9.99677539e-01],\n",
              "       [7.52024055e-02],\n",
              "       [9.78326797e-03],\n",
              "       [9.78238463e-01],\n",
              "       [3.06904316e-04],\n",
              "       [2.52078414e-01],\n",
              "       [5.73569536e-03],\n",
              "       [2.44608521e-03],\n",
              "       [9.95428085e-01],\n",
              "       [2.32074797e-01],\n",
              "       [1.40994787e-04],\n",
              "       [9.93966699e-01],\n",
              "       [4.46759150e-05],\n",
              "       [9.98248696e-01],\n",
              "       [3.27952802e-02],\n",
              "       [4.57105041e-03],\n",
              "       [9.95120287e-01],\n",
              "       [3.09723318e-02],\n",
              "       [8.62104535e-01],\n",
              "       [6.87449753e-01],\n",
              "       [4.11571562e-02],\n",
              "       [1.12375617e-03],\n",
              "       [2.07942285e-05],\n",
              "       [5.54954946e-01],\n",
              "       [4.81639177e-01],\n",
              "       [2.43449211e-03],\n",
              "       [8.06311369e-02],\n",
              "       [6.33046966e-07],\n",
              "       [4.47754115e-01],\n",
              "       [2.00927258e-04],\n",
              "       [9.99377191e-01],\n",
              "       [4.87560692e-06],\n",
              "       [9.99320745e-01],\n",
              "       [4.84822154e-01],\n",
              "       [5.82572818e-03],\n",
              "       [9.93164659e-01],\n",
              "       [9.10897553e-01],\n",
              "       [8.81252289e-01],\n",
              "       [3.79893750e-01],\n",
              "       [7.30833411e-03],\n",
              "       [6.20871782e-04],\n",
              "       [9.96941328e-01],\n",
              "       [8.72086465e-01],\n",
              "       [2.37706304e-03],\n",
              "       [5.66283762e-02],\n",
              "       [7.84453094e-01],\n",
              "       [9.47304368e-01],\n",
              "       [9.88749504e-01],\n",
              "       [5.25990367e-01],\n",
              "       [1.56223774e-04],\n",
              "       [2.64787525e-01],\n",
              "       [6.91405773e-01],\n",
              "       [2.49048935e-06],\n",
              "       [2.09058225e-02],\n",
              "       [4.64646399e-01],\n",
              "       [1.68189406e-03],\n",
              "       [2.85503268e-03],\n",
              "       [2.07841396e-04],\n",
              "       [5.89922726e-01],\n",
              "       [1.20410621e-02],\n",
              "       [2.93011069e-02],\n",
              "       [1.79532170e-03],\n",
              "       [9.64073658e-01],\n",
              "       [9.29595947e-01],\n",
              "       [9.25986409e-01],\n",
              "       [9.95976448e-01],\n",
              "       [9.86285627e-01],\n",
              "       [8.94446313e-01],\n",
              "       [9.85107660e-01],\n",
              "       [7.98779368e-01],\n",
              "       [9.08712387e-01],\n",
              "       [9.84178364e-01],\n",
              "       [9.98815179e-01],\n",
              "       [2.56001949e-04],\n",
              "       [1.72090232e-02],\n",
              "       [3.74815136e-05],\n",
              "       [9.96276200e-01],\n",
              "       [9.95962262e-01],\n",
              "       [9.98595834e-01],\n",
              "       [6.54627138e-06],\n",
              "       [7.77271390e-03],\n",
              "       [1.24186277e-04],\n",
              "       [9.58367229e-01],\n",
              "       [9.92689013e-01],\n",
              "       [1.94486380e-02],\n",
              "       [6.79974910e-05],\n",
              "       [3.22994590e-03],\n",
              "       [1.64628029e-04],\n",
              "       [9.96940435e-05],\n",
              "       [3.88383865e-04],\n",
              "       [1.17705286e-01],\n",
              "       [9.94144440e-01],\n",
              "       [9.97768164e-01],\n",
              "       [7.13846239e-05],\n",
              "       [1.43909156e-02],\n",
              "       [4.54367757e-01],\n",
              "       [6.58899546e-04],\n",
              "       [1.48891211e-02],\n",
              "       [9.97715116e-01],\n",
              "       [9.91346598e-01],\n",
              "       [3.67945194e-01],\n",
              "       [9.89316583e-01],\n",
              "       [8.72684360e-01],\n",
              "       [9.81727004e-01],\n",
              "       [2.31057405e-04],\n",
              "       [9.27296460e-01],\n",
              "       [9.53142941e-01],\n",
              "       [4.03356552e-03],\n",
              "       [7.07556903e-01],\n",
              "       [9.83228862e-01],\n",
              "       [7.54564404e-01],\n",
              "       [3.35486114e-01],\n",
              "       [3.29652429e-03],\n",
              "       [6.33771300e-01],\n",
              "       [3.64589691e-03],\n",
              "       [6.75546169e-01],\n",
              "       [9.97350216e-01],\n",
              "       [2.78403759e-02],\n",
              "       [3.16570440e-05],\n",
              "       [8.86444509e-01],\n",
              "       [9.94979024e-01],\n",
              "       [5.46907977e-05],\n",
              "       [2.70810723e-03],\n",
              "       [1.23366146e-04],\n",
              "       [9.82908785e-01],\n",
              "       [1.00848811e-04],\n",
              "       [9.01687503e-01],\n",
              "       [7.85946846e-04],\n",
              "       [1.83045864e-04],\n",
              "       [1.27968192e-03],\n",
              "       [9.78155877e-05],\n",
              "       [8.69633079e-01],\n",
              "       [2.53650546e-03],\n",
              "       [9.89236712e-01],\n",
              "       [9.98944163e-01],\n",
              "       [9.40245628e-01],\n",
              "       [6.11405134e-01],\n",
              "       [1.96259022e-01],\n",
              "       [9.91022050e-01],\n",
              "       [2.82701254e-02],\n",
              "       [2.07304955e-04],\n",
              "       [5.06845117e-03],\n",
              "       [5.41214049e-02],\n",
              "       [9.95852232e-01],\n",
              "       [9.97723758e-01],\n",
              "       [9.94814396e-01],\n",
              "       [9.98816490e-01],\n",
              "       [9.82168672e-07],\n",
              "       [8.70567560e-03],\n",
              "       [1.37875395e-06],\n",
              "       [9.94132519e-01],\n",
              "       [9.90584731e-01],\n",
              "       [7.39475310e-01],\n",
              "       [9.94797468e-01],\n",
              "       [4.30482149e-01],\n",
              "       [9.07964349e-01],\n",
              "       [3.68237495e-04],\n",
              "       [9.95152354e-01],\n",
              "       [9.97400880e-01],\n",
              "       [9.86175895e-01],\n",
              "       [4.30253774e-01],\n",
              "       [9.46166620e-06],\n",
              "       [2.27957964e-04],\n",
              "       [6.78151846e-04],\n",
              "       [1.51744485e-03],\n",
              "       [6.44531846e-03],\n",
              "       [9.96591449e-01],\n",
              "       [6.24826074e-01],\n",
              "       [3.70772832e-05],\n",
              "       [2.08488554e-01],\n",
              "       [9.94489729e-01],\n",
              "       [3.30746174e-04],\n",
              "       [8.30189288e-01],\n",
              "       [2.82447755e-01],\n",
              "       [5.54544866e-01],\n",
              "       [9.96495187e-01],\n",
              "       [2.75626302e-01],\n",
              "       [1.84370577e-02],\n",
              "       [4.05184090e-01],\n",
              "       [9.97608304e-01],\n",
              "       [9.97397780e-01],\n",
              "       [9.78275895e-01],\n",
              "       [9.93271947e-01],\n",
              "       [9.68035817e-01],\n",
              "       [5.37847698e-01],\n",
              "       [2.11188197e-03],\n",
              "       [3.08632851e-04],\n",
              "       [7.21752644e-04],\n",
              "       [2.98322439e-02],\n",
              "       [2.55256891e-04],\n",
              "       [5.03658712e-01],\n",
              "       [2.42012739e-02],\n",
              "       [2.07494367e-07],\n",
              "       [4.14724797e-01],\n",
              "       [5.41272104e-01],\n",
              "       [2.20230222e-03],\n",
              "       [9.41222548e-01],\n",
              "       [4.44319040e-01],\n",
              "       [9.99058664e-01],\n",
              "       [9.98814344e-01],\n",
              "       [1.09342225e-04],\n",
              "       [2.53587782e-01],\n",
              "       [9.94321942e-01],\n",
              "       [9.99504209e-01],\n",
              "       [5.62590897e-01],\n",
              "       [5.49793243e-04],\n",
              "       [2.72098482e-02],\n",
              "       [9.98067200e-01],\n",
              "       [3.09663960e-06],\n",
              "       [9.39460993e-01],\n",
              "       [3.98382545e-03],\n",
              "       [1.55796677e-01],\n",
              "       [1.46353245e-03],\n",
              "       [7.06474311e-05],\n",
              "       [2.90542841e-04],\n",
              "       [8.77928257e-01],\n",
              "       [3.58960824e-05],\n",
              "       [8.85289073e-01],\n",
              "       [9.84957874e-01],\n",
              "       [6.48274660e-01],\n",
              "       [2.52169073e-02],\n",
              "       [1.89602375e-04],\n",
              "       [1.66428447e-01],\n",
              "       [3.19921970e-03],\n",
              "       [1.62580609e-03],\n",
              "       [4.75884470e-08],\n",
              "       [3.92014086e-02],\n",
              "       [9.37597156e-01],\n",
              "       [9.93631840e-01],\n",
              "       [8.40861559e-01],\n",
              "       [2.46345997e-04],\n",
              "       [9.51478160e-06],\n",
              "       [9.99113560e-01],\n",
              "       [1.96427107e-03],\n",
              "       [3.42348218e-03],\n",
              "       [9.97345328e-01],\n",
              "       [9.96859193e-01],\n",
              "       [1.29833817e-02],\n",
              "       [1.96539283e-01],\n",
              "       [4.98685241e-03],\n",
              "       [8.82702589e-01],\n",
              "       [9.85649228e-01],\n",
              "       [9.87410307e-01],\n",
              "       [5.47581911e-03],\n",
              "       [9.50665712e-01],\n",
              "       [2.18525529e-02],\n",
              "       [1.50468647e-02],\n",
              "       [3.22347879e-03],\n",
              "       [7.18339384e-01],\n",
              "       [1.28871202e-03],\n",
              "       [4.88251899e-05],\n",
              "       [9.88365173e-01],\n",
              "       [4.05793726e-01],\n",
              "       [9.39885020e-01],\n",
              "       [5.74121177e-01],\n",
              "       [9.97433662e-01],\n",
              "       [9.47604895e-01],\n",
              "       [1.89457536e-02],\n",
              "       [7.02223063e-01],\n",
              "       [9.70943729e-05],\n",
              "       [3.99857759e-04],\n",
              "       [8.88586879e-01],\n",
              "       [1.11111203e-05],\n",
              "       [9.53931451e-01],\n",
              "       [9.67906952e-01],\n",
              "       [9.31054354e-04],\n",
              "       [9.85372066e-03],\n",
              "       [2.45034695e-04],\n",
              "       [9.81404603e-01],\n",
              "       [8.21944654e-01],\n",
              "       [1.93266749e-01],\n",
              "       [8.89205337e-01],\n",
              "       [1.00880265e-02],\n",
              "       [9.76463616e-01],\n",
              "       [8.95963073e-01],\n",
              "       [4.25567031e-02],\n",
              "       [3.97773683e-02],\n",
              "       [2.19643116e-04],\n",
              "       [3.27951893e-05],\n",
              "       [2.23995328e-01],\n",
              "       [1.36213005e-02],\n",
              "       [6.65935636e-01],\n",
              "       [1.13871694e-03],\n",
              "       [1.62720680e-04],\n",
              "       [6.18005991e-01],\n",
              "       [4.52834368e-03],\n",
              "       [5.15158117e-01],\n",
              "       [4.64102626e-03],\n",
              "       [9.15581226e-01],\n",
              "       [5.85158408e-01],\n",
              "       [1.17740035e-03],\n",
              "       [4.92409766e-02],\n",
              "       [2.17005610e-03],\n",
              "       [9.95155513e-01],\n",
              "       [9.84580815e-01],\n",
              "       [4.84627485e-03],\n",
              "       [9.23642993e-01],\n",
              "       [9.10207510e-01],\n",
              "       [5.25994301e-01],\n",
              "       [1.58286393e-02],\n",
              "       [9.85036969e-01],\n",
              "       [1.55790925e-01],\n",
              "       [9.82176423e-01],\n",
              "       [1.94272399e-03],\n",
              "       [4.48690712e-01],\n",
              "       [1.16593480e-01],\n",
              "       [9.59888577e-01],\n",
              "       [1.99139118e-04],\n",
              "       [2.41738558e-03],\n",
              "       [2.28767794e-06],\n",
              "       [9.69760776e-01],\n",
              "       [9.79819059e-01],\n",
              "       [3.62949371e-02],\n",
              "       [3.45158935e-01],\n",
              "       [9.90835071e-01],\n",
              "       [7.61359930e-04],\n",
              "       [1.03148355e-04],\n",
              "       [3.44476104e-03],\n",
              "       [4.21325833e-01],\n",
              "       [9.91950154e-01],\n",
              "       [9.82732534e-01],\n",
              "       [7.97488570e-01],\n",
              "       [9.99135196e-01],\n",
              "       [3.90185177e-01],\n",
              "       [3.14652920e-04],\n",
              "       [4.39878702e-02],\n",
              "       [2.22325325e-04],\n",
              "       [9.98055816e-01],\n",
              "       [2.62383151e-06],\n",
              "       [5.44476509e-02],\n",
              "       [1.07423097e-01],\n",
              "       [1.00167883e-04],\n",
              "       [5.61788678e-03],\n",
              "       [2.67148018e-03],\n",
              "       [9.78802681e-01],\n",
              "       [9.94533420e-01],\n",
              "       [1.36935711e-03],\n",
              "       [9.93000507e-01],\n",
              "       [8.98977280e-01],\n",
              "       [6.95466995e-04],\n",
              "       [4.75381196e-01],\n",
              "       [1.57052279e-03],\n",
              "       [7.50199914e-01],\n",
              "       [7.06504703e-01],\n",
              "       [9.90555286e-01],\n",
              "       [1.09355420e-01],\n",
              "       [5.97387552e-04],\n",
              "       [8.68213058e-01],\n",
              "       [9.92188811e-01],\n",
              "       [3.45321625e-01],\n",
              "       [4.16636467e-04],\n",
              "       [6.78049624e-02],\n",
              "       [1.69873238e-03],\n",
              "       [9.57356095e-01],\n",
              "       [9.92723107e-01],\n",
              "       [5.81592321e-04],\n",
              "       [3.11899185e-03],\n",
              "       [2.20435231e-06],\n",
              "       [9.92582202e-01],\n",
              "       [5.97830951e-01],\n",
              "       [9.35818374e-01],\n",
              "       [2.87920237e-04],\n",
              "       [4.65869904e-04],\n",
              "       [9.85885978e-01],\n",
              "       [9.99024630e-01],\n",
              "       [9.71820056e-01],\n",
              "       [9.93567824e-01],\n",
              "       [9.58830059e-01],\n",
              "       [4.54620167e-05],\n",
              "       [6.85620606e-02],\n",
              "       [3.39270650e-06],\n",
              "       [9.83257174e-01],\n",
              "       [6.41673803e-04],\n",
              "       [9.79870915e-01],\n",
              "       [1.07571483e-03],\n",
              "       [8.55409671e-05],\n",
              "       [8.66461158e-01],\n",
              "       [6.33874536e-03],\n",
              "       [5.17751932e-01],\n",
              "       [1.89550370e-01],\n",
              "       [6.36311825e-07],\n",
              "       [9.02919769e-01],\n",
              "       [3.06260226e-05],\n",
              "       [9.71552730e-03],\n",
              "       [9.92717981e-01],\n",
              "       [2.03460455e-04],\n",
              "       [1.92580163e-01],\n",
              "       [6.75717890e-01],\n",
              "       [9.90640521e-01],\n",
              "       [1.22377276e-03],\n",
              "       [3.60285342e-01],\n",
              "       [9.74671364e-01],\n",
              "       [4.89444375e-01],\n",
              "       [9.22996461e-01],\n",
              "       [9.82569575e-01],\n",
              "       [6.28361106e-03],\n",
              "       [9.58110273e-01],\n",
              "       [9.86783683e-01],\n",
              "       [1.52272999e-01],\n",
              "       [9.36224878e-01],\n",
              "       [4.70977902e-05],\n",
              "       [9.85343874e-01],\n",
              "       [9.38683748e-04],\n",
              "       [9.77219641e-01],\n",
              "       [1.43787265e-03],\n",
              "       [1.00974143e-02],\n",
              "       [9.77067232e-01],\n",
              "       [8.42040896e-01],\n",
              "       [8.69220793e-01],\n",
              "       [6.09340750e-05],\n",
              "       [7.36135781e-01],\n",
              "       [4.44453657e-02],\n",
              "       [9.94422376e-01],\n",
              "       [1.72696710e-02],\n",
              "       [2.30664015e-03],\n",
              "       [9.46503758e-01],\n",
              "       [3.60727310e-04],\n",
              "       [9.92282271e-01],\n",
              "       [1.01639725e-05],\n",
              "       [8.56165290e-02],\n",
              "       [7.89888620e-01],\n",
              "       [1.70126557e-03],\n",
              "       [1.05219483e-02],\n",
              "       [9.76907670e-01],\n",
              "       [9.44846153e-01],\n",
              "       [9.97074604e-01],\n",
              "       [9.77955699e-01],\n",
              "       [3.81055772e-02],\n",
              "       [4.96850163e-01],\n",
              "       [4.42386299e-01],\n",
              "       [5.38337231e-03],\n",
              "       [9.36927199e-01],\n",
              "       [2.39339471e-03],\n",
              "       [6.68609142e-03],\n",
              "       [9.88403201e-01],\n",
              "       [2.08943874e-01],\n",
              "       [7.10049868e-02],\n",
              "       [4.23254967e-01],\n",
              "       [6.34510219e-01],\n",
              "       [1.89751387e-03],\n",
              "       [9.60547924e-01],\n",
              "       [9.77741480e-01],\n",
              "       [9.26971972e-01],\n",
              "       [3.83139133e-01],\n",
              "       [9.99027133e-01],\n",
              "       [2.81813443e-02],\n",
              "       [9.73054707e-01],\n",
              "       [3.16411257e-04],\n",
              "       [6.92772865e-03],\n",
              "       [9.85332251e-01],\n",
              "       [8.09830725e-02],\n",
              "       [8.62300396e-04],\n",
              "       [2.56092250e-02],\n",
              "       [3.08335125e-02],\n",
              "       [9.93121982e-01],\n",
              "       [9.88777876e-01],\n",
              "       [9.98512685e-01],\n",
              "       [1.06579065e-03],\n",
              "       [9.91437793e-01],\n",
              "       [3.34416032e-02],\n",
              "       [2.12967396e-04],\n",
              "       [7.51258433e-02],\n",
              "       [9.35028136e-01],\n",
              "       [2.23955512e-03],\n",
              "       [1.70424210e-05],\n",
              "       [3.64336073e-02]], dtype=float32)"
            ]
          },
          "metadata": {},
          "execution_count": 56
        }
      ]
    },
    {
      "cell_type": "code",
      "metadata": {
        "id": "dn-IHIrTidEp"
      },
      "source": [
        "import numpy as np\n",
        "\n",
        "a =np.where(model.predict(test_data)>0.5,\"Orange\",\"Apple\")"
      ],
      "execution_count": 69,
      "outputs": []
    },
    {
      "cell_type": "code",
      "metadata": {
        "id": "c14SlZY9ioaU"
      },
      "source": [
        ""
      ],
      "execution_count": null,
      "outputs": []
    },
    {
      "cell_type": "code",
      "metadata": {
        "id": "1CRuNZPdkXwF"
      },
      "source": [
        ""
      ],
      "execution_count": null,
      "outputs": []
    }
  ]
}