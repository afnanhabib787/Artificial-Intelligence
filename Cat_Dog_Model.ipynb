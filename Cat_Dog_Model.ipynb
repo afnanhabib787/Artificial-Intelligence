{
  "nbformat": 4,
  "nbformat_minor": 0,
  "metadata": {
    "colab": {
      "name": "Cat Dog Model.ipynb",
      "provenance": [],
      "authorship_tag": "ABX9TyNRm8Q6MQoPJ2uHThhwHWi9",
      "include_colab_link": true
    },
    "kernelspec": {
      "name": "python3",
      "display_name": "Python 3"
    },
    "language_info": {
      "name": "python"
    },
    "accelerator": "GPU"
  },
  "cells": [
    {
      "cell_type": "markdown",
      "metadata": {
        "id": "view-in-github",
        "colab_type": "text"
      },
      "source": [
        "<a href=\"https://colab.research.google.com/github/afnanhabib787/Artificial-Intelligence/blob/main/Cat_Dog_Model.ipynb\" target=\"_parent\"><img src=\"https://colab.research.google.com/assets/colab-badge.svg\" alt=\"Open In Colab\"/></a>"
      ]
    },
    {
      "cell_type": "code",
      "metadata": {
        "colab": {
          "base_uri": "https://localhost:8080/"
        },
        "id": "9y4c_ZsGjN0p",
        "outputId": "34394828-7641-4727-e909-62b4113da844"
      },
      "source": [
        "!unzip /content/testing1.zip"
      ],
      "execution_count": 2,
      "outputs": [
        {
          "output_type": "stream",
          "name": "stdout",
          "text": [
            "Archive:  /content/testing1.zip\n",
            "   creating: testing1/\n",
            "   creating: testing1/Cat/\n",
            "  inflating: testing1/Cat/cat.1000.jpg  \n",
            "  inflating: testing1/Cat/cat.1001.jpg  \n",
            "  inflating: testing1/Cat/cat.1002.jpg  \n",
            "  inflating: testing1/Cat/cat.1003.jpg  \n",
            "  inflating: testing1/Cat/cat.1004.jpg  \n",
            "  inflating: testing1/Cat/cat.1005.jpg  \n",
            "  inflating: testing1/Cat/cat.1006.jpg  \n",
            "  inflating: testing1/Cat/cat.1007.jpg  \n",
            "  inflating: testing1/Cat/cat.801.jpg  \n",
            "  inflating: testing1/Cat/cat.802.jpg  \n",
            "  inflating: testing1/Cat/cat.803.jpg  \n",
            "  inflating: testing1/Cat/cat.804.jpg  \n",
            "  inflating: testing1/Cat/cat.805.jpg  \n",
            "  inflating: testing1/Cat/cat.806.jpg  \n",
            "  inflating: testing1/Cat/cat.807.jpg  \n",
            "  inflating: testing1/Cat/cat.808.jpg  \n",
            "  inflating: testing1/Cat/cat.809.jpg  \n",
            "  inflating: testing1/Cat/cat.810.jpg  \n",
            "  inflating: testing1/Cat/cat.811.jpg  \n",
            "  inflating: testing1/Cat/cat.812.jpg  \n",
            "  inflating: testing1/Cat/cat.813.jpg  \n",
            "  inflating: testing1/Cat/cat.814.jpg  \n",
            "  inflating: testing1/Cat/cat.815.jpg  \n",
            "  inflating: testing1/Cat/cat.816.jpg  \n",
            "  inflating: testing1/Cat/cat.817.jpg  \n",
            "  inflating: testing1/Cat/cat.818.jpg  \n",
            "  inflating: testing1/Cat/cat.819.jpg  \n",
            "  inflating: testing1/Cat/cat.820.jpg  \n",
            "  inflating: testing1/Cat/cat.821.jpg  \n",
            "  inflating: testing1/Cat/cat.822.jpg  \n",
            "  inflating: testing1/Cat/cat.823.jpg  \n",
            "  inflating: testing1/Cat/cat.824.jpg  \n",
            "  inflating: testing1/Cat/cat.825.jpg  \n",
            "  inflating: testing1/Cat/cat.826.jpg  \n",
            "  inflating: testing1/Cat/cat.827.jpg  \n",
            "  inflating: testing1/Cat/cat.828.jpg  \n",
            "  inflating: testing1/Cat/cat.829.jpg  \n",
            "  inflating: testing1/Cat/cat.830.jpg  \n",
            "  inflating: testing1/Cat/cat.831.jpg  \n",
            "  inflating: testing1/Cat/cat.832.jpg  \n",
            "  inflating: testing1/Cat/cat.833.jpg  \n",
            "  inflating: testing1/Cat/cat.834.jpg  \n",
            "  inflating: testing1/Cat/cat.835.jpg  \n",
            "  inflating: testing1/Cat/cat.836.jpg  \n",
            "  inflating: testing1/Cat/cat.837.jpg  \n",
            "  inflating: testing1/Cat/cat.838.jpg  \n",
            "  inflating: testing1/Cat/cat.839.jpg  \n",
            "  inflating: testing1/Cat/cat.840.jpg  \n",
            "  inflating: testing1/Cat/cat.841.jpg  \n",
            "  inflating: testing1/Cat/cat.842.jpg  \n",
            "  inflating: testing1/Cat/cat.843.jpg  \n",
            "  inflating: testing1/Cat/cat.844.jpg  \n",
            "  inflating: testing1/Cat/cat.845.jpg  \n",
            "  inflating: testing1/Cat/cat.846.jpg  \n",
            "  inflating: testing1/Cat/cat.847.jpg  \n",
            "  inflating: testing1/Cat/cat.848.jpg  \n",
            "  inflating: testing1/Cat/cat.849.jpg  \n",
            "  inflating: testing1/Cat/cat.850.jpg  \n",
            "  inflating: testing1/Cat/cat.851.jpg  \n",
            "  inflating: testing1/Cat/cat.852.jpg  \n",
            "  inflating: testing1/Cat/cat.853.jpg  \n",
            "  inflating: testing1/Cat/cat.854.jpg  \n",
            "  inflating: testing1/Cat/cat.855.jpg  \n",
            "  inflating: testing1/Cat/cat.856.jpg  \n",
            "  inflating: testing1/Cat/cat.857.jpg  \n",
            "  inflating: testing1/Cat/cat.858.jpg  \n",
            "  inflating: testing1/Cat/cat.859.jpg  \n",
            "  inflating: testing1/Cat/cat.860.jpg  \n",
            "  inflating: testing1/Cat/cat.861.jpg  \n",
            "  inflating: testing1/Cat/cat.862.jpg  \n",
            "  inflating: testing1/Cat/cat.863.jpg  \n",
            "  inflating: testing1/Cat/cat.864.jpg  \n",
            "  inflating: testing1/Cat/cat.865.jpg  \n",
            "  inflating: testing1/Cat/cat.866.jpg  \n",
            "  inflating: testing1/Cat/cat.867.jpg  \n",
            "  inflating: testing1/Cat/cat.868.jpg  \n",
            "  inflating: testing1/Cat/cat.869.jpg  \n",
            "  inflating: testing1/Cat/cat.870.jpg  \n",
            "  inflating: testing1/Cat/cat.871.jpg  \n",
            "  inflating: testing1/Cat/cat.872.jpg  \n",
            "  inflating: testing1/Cat/cat.873.jpg  \n",
            "  inflating: testing1/Cat/cat.874.jpg  \n",
            "  inflating: testing1/Cat/cat.875.jpg  \n",
            "  inflating: testing1/Cat/cat.876.jpg  \n",
            "  inflating: testing1/Cat/cat.877.jpg  \n",
            "  inflating: testing1/Cat/cat.878.jpg  \n",
            "  inflating: testing1/Cat/cat.879.jpg  \n",
            "  inflating: testing1/Cat/cat.880.jpg  \n",
            "  inflating: testing1/Cat/cat.881.jpg  \n",
            "  inflating: testing1/Cat/cat.882.jpg  \n",
            "  inflating: testing1/Cat/cat.883.jpg  \n",
            "  inflating: testing1/Cat/cat.884.jpg  \n",
            "  inflating: testing1/Cat/cat.885.jpg  \n",
            "  inflating: testing1/Cat/cat.886.jpg  \n",
            "  inflating: testing1/Cat/cat.887.jpg  \n",
            "  inflating: testing1/Cat/cat.888.jpg  \n",
            "  inflating: testing1/Cat/cat.889.jpg  \n",
            "  inflating: testing1/Cat/cat.890.jpg  \n",
            "  inflating: testing1/Cat/cat.891.jpg  \n",
            "  inflating: testing1/Cat/cat.892.jpg  \n",
            "  inflating: testing1/Cat/cat.893.jpg  \n",
            "  inflating: testing1/Cat/cat.894.jpg  \n",
            "  inflating: testing1/Cat/cat.895.jpg  \n",
            "  inflating: testing1/Cat/cat.896.jpg  \n",
            "  inflating: testing1/Cat/cat.897.jpg  \n",
            "  inflating: testing1/Cat/cat.898.jpg  \n",
            "  inflating: testing1/Cat/cat.899.jpg  \n",
            "  inflating: testing1/Cat/cat.900.jpg  \n",
            "  inflating: testing1/Cat/cat.901.jpg  \n",
            "  inflating: testing1/Cat/cat.902.jpg  \n",
            "  inflating: testing1/Cat/cat.903.jpg  \n",
            "  inflating: testing1/Cat/cat.904.jpg  \n",
            "  inflating: testing1/Cat/cat.905.jpg  \n",
            "  inflating: testing1/Cat/cat.906.jpg  \n",
            "  inflating: testing1/Cat/cat.907.jpg  \n",
            "  inflating: testing1/Cat/cat.908.jpg  \n",
            "  inflating: testing1/Cat/cat.909.jpg  \n",
            "  inflating: testing1/Cat/cat.910.jpg  \n",
            "  inflating: testing1/Cat/cat.911.jpg  \n",
            "  inflating: testing1/Cat/cat.912.jpg  \n",
            "  inflating: testing1/Cat/cat.913.jpg  \n",
            "  inflating: testing1/Cat/cat.914.jpg  \n",
            "  inflating: testing1/Cat/cat.915.jpg  \n",
            "  inflating: testing1/Cat/cat.916.jpg  \n",
            "  inflating: testing1/Cat/cat.917.jpg  \n",
            "  inflating: testing1/Cat/cat.918.jpg  \n",
            "  inflating: testing1/Cat/cat.919.jpg  \n",
            "  inflating: testing1/Cat/cat.920.jpg  \n",
            "  inflating: testing1/Cat/cat.921.jpg  \n",
            "  inflating: testing1/Cat/cat.922.jpg  \n",
            "  inflating: testing1/Cat/cat.923.jpg  \n",
            "  inflating: testing1/Cat/cat.924.jpg  \n",
            "  inflating: testing1/Cat/cat.925.jpg  \n",
            "  inflating: testing1/Cat/cat.926.jpg  \n",
            "  inflating: testing1/Cat/cat.927.jpg  \n",
            "  inflating: testing1/Cat/cat.928.jpg  \n",
            "  inflating: testing1/Cat/cat.929.jpg  \n",
            "  inflating: testing1/Cat/cat.930.jpg  \n",
            "  inflating: testing1/Cat/cat.931.jpg  \n",
            "  inflating: testing1/Cat/cat.932.jpg  \n",
            "  inflating: testing1/Cat/cat.933.jpg  \n",
            "  inflating: testing1/Cat/cat.934.jpg  \n",
            "  inflating: testing1/Cat/cat.935.jpg  \n",
            "  inflating: testing1/Cat/cat.936.jpg  \n",
            "  inflating: testing1/Cat/cat.937.jpg  \n",
            "  inflating: testing1/Cat/cat.938.jpg  \n",
            "  inflating: testing1/Cat/cat.939.jpg  \n",
            "  inflating: testing1/Cat/cat.940.jpg  \n",
            "  inflating: testing1/Cat/cat.941.jpg  \n",
            "  inflating: testing1/Cat/cat.942.jpg  \n",
            "  inflating: testing1/Cat/cat.943.jpg  \n",
            "  inflating: testing1/Cat/cat.944.jpg  \n",
            "  inflating: testing1/Cat/cat.945.jpg  \n",
            "  inflating: testing1/Cat/cat.946.jpg  \n",
            "  inflating: testing1/Cat/cat.947.jpg  \n",
            "  inflating: testing1/Cat/cat.948.jpg  \n",
            "  inflating: testing1/Cat/cat.949.jpg  \n",
            "  inflating: testing1/Cat/cat.950.jpg  \n",
            "  inflating: testing1/Cat/cat.951.jpg  \n",
            "  inflating: testing1/Cat/cat.952.jpg  \n",
            "  inflating: testing1/Cat/cat.953.jpg  \n",
            "  inflating: testing1/Cat/cat.954.jpg  \n",
            "  inflating: testing1/Cat/cat.955.jpg  \n",
            "  inflating: testing1/Cat/cat.956.jpg  \n",
            "  inflating: testing1/Cat/cat.957.jpg  \n",
            "  inflating: testing1/Cat/cat.958.jpg  \n",
            "  inflating: testing1/Cat/cat.959.jpg  \n",
            "  inflating: testing1/Cat/cat.960.jpg  \n",
            "  inflating: testing1/Cat/cat.961.jpg  \n",
            "  inflating: testing1/Cat/cat.962.jpg  \n",
            "  inflating: testing1/Cat/cat.963.jpg  \n",
            "  inflating: testing1/Cat/cat.964.jpg  \n",
            "  inflating: testing1/Cat/cat.965.jpg  \n",
            "  inflating: testing1/Cat/cat.966.jpg  \n",
            "  inflating: testing1/Cat/cat.967.jpg  \n",
            "  inflating: testing1/Cat/cat.968.jpg  \n",
            "  inflating: testing1/Cat/cat.969.jpg  \n",
            "  inflating: testing1/Cat/cat.970.jpg  \n",
            "  inflating: testing1/Cat/cat.971.jpg  \n",
            "  inflating: testing1/Cat/cat.972.jpg  \n",
            "  inflating: testing1/Cat/cat.973.jpg  \n",
            "  inflating: testing1/Cat/cat.974.jpg  \n",
            "  inflating: testing1/Cat/cat.975.jpg  \n",
            "  inflating: testing1/Cat/cat.976.jpg  \n",
            "  inflating: testing1/Cat/cat.977.jpg  \n",
            "  inflating: testing1/Cat/cat.978.jpg  \n",
            "  inflating: testing1/Cat/cat.979.jpg  \n",
            "  inflating: testing1/Cat/cat.980.jpg  \n",
            "  inflating: testing1/Cat/cat.981.jpg  \n",
            "  inflating: testing1/Cat/cat.982.jpg  \n",
            "  inflating: testing1/Cat/cat.983.jpg  \n",
            "  inflating: testing1/Cat/cat.984.jpg  \n",
            "  inflating: testing1/Cat/cat.985.jpg  \n",
            "  inflating: testing1/Cat/cat.986.jpg  \n",
            "  inflating: testing1/Cat/cat.987.jpg  \n",
            "  inflating: testing1/Cat/cat.988.jpg  \n",
            "  inflating: testing1/Cat/cat.989.jpg  \n",
            "  inflating: testing1/Cat/cat.990.jpg  \n",
            "  inflating: testing1/Cat/cat.991.jpg  \n",
            "  inflating: testing1/Cat/cat.992.jpg  \n",
            "  inflating: testing1/Cat/cat.993.jpg  \n",
            "  inflating: testing1/Cat/cat.994.jpg  \n",
            "  inflating: testing1/Cat/cat.995.jpg  \n",
            "  inflating: testing1/Cat/cat.996.jpg  \n",
            "  inflating: testing1/Cat/cat.997.jpg  \n",
            "  inflating: testing1/Cat/cat.998.jpg  \n",
            "  inflating: testing1/Cat/cat.999.jpg  \n",
            "   creating: testing1/Dog/\n",
            "  inflating: testing1/Dog/dog.1000.jpg  \n",
            "  inflating: testing1/Dog/dog.1001.jpg  \n",
            "  inflating: testing1/Dog/dog.1002.jpg  \n",
            "  inflating: testing1/Dog/dog.1003.jpg  \n",
            "  inflating: testing1/Dog/dog.1004.jpg  \n",
            "  inflating: testing1/Dog/dog.1005.jpg  \n",
            "  inflating: testing1/Dog/dog.1006.jpg  \n",
            "  inflating: testing1/Dog/dog.1007.jpg  \n",
            "  inflating: testing1/Dog/dog.1008.jpg  \n",
            "  inflating: testing1/Dog/dog.1009.jpg  \n",
            "  inflating: testing1/Dog/dog.801.jpg  \n",
            "  inflating: testing1/Dog/dog.802.jpg  \n",
            "  inflating: testing1/Dog/dog.803.jpg  \n",
            "  inflating: testing1/Dog/dog.804.jpg  \n",
            "  inflating: testing1/Dog/dog.805.jpg  \n",
            "  inflating: testing1/Dog/dog.806.jpg  \n",
            "  inflating: testing1/Dog/dog.807.jpg  \n",
            "  inflating: testing1/Dog/dog.808.jpg  \n",
            "  inflating: testing1/Dog/dog.809.jpg  \n",
            "  inflating: testing1/Dog/dog.810.jpg  \n",
            "  inflating: testing1/Dog/dog.811.jpg  \n",
            "  inflating: testing1/Dog/dog.812.jpg  \n",
            "  inflating: testing1/Dog/dog.813.jpg  \n",
            "  inflating: testing1/Dog/dog.814.jpg  \n",
            "  inflating: testing1/Dog/dog.815.jpg  \n",
            "  inflating: testing1/Dog/dog.816.jpg  \n",
            "  inflating: testing1/Dog/dog.817.jpg  \n",
            "  inflating: testing1/Dog/dog.818.jpg  \n",
            "  inflating: testing1/Dog/dog.819.jpg  \n",
            "  inflating: testing1/Dog/dog.820.jpg  \n",
            "  inflating: testing1/Dog/dog.821.jpg  \n",
            "  inflating: testing1/Dog/dog.822.jpg  \n",
            "  inflating: testing1/Dog/dog.823.jpg  \n",
            "  inflating: testing1/Dog/dog.824.jpg  \n",
            "  inflating: testing1/Dog/dog.825.jpg  \n",
            "  inflating: testing1/Dog/dog.826.jpg  \n",
            "  inflating: testing1/Dog/dog.827.jpg  \n",
            "  inflating: testing1/Dog/dog.828.jpg  \n",
            "  inflating: testing1/Dog/dog.829.jpg  \n",
            "  inflating: testing1/Dog/dog.830.jpg  \n",
            "  inflating: testing1/Dog/dog.831.jpg  \n",
            "  inflating: testing1/Dog/dog.832.jpg  \n",
            "  inflating: testing1/Dog/dog.833.jpg  \n",
            "  inflating: testing1/Dog/dog.834.jpg  \n",
            "  inflating: testing1/Dog/dog.835.jpg  \n",
            "  inflating: testing1/Dog/dog.836.jpg  \n",
            "  inflating: testing1/Dog/dog.837.jpg  \n",
            "  inflating: testing1/Dog/dog.838.jpg  \n",
            "  inflating: testing1/Dog/dog.839.jpg  \n",
            "  inflating: testing1/Dog/dog.840.jpg  \n",
            "  inflating: testing1/Dog/dog.841.jpg  \n",
            "  inflating: testing1/Dog/dog.842.jpg  \n",
            "  inflating: testing1/Dog/dog.843.jpg  \n",
            "  inflating: testing1/Dog/dog.844.jpg  \n",
            "  inflating: testing1/Dog/dog.845.jpg  \n",
            "  inflating: testing1/Dog/dog.846.jpg  \n",
            "  inflating: testing1/Dog/dog.847.jpg  \n",
            "  inflating: testing1/Dog/dog.848.jpg  \n",
            "  inflating: testing1/Dog/dog.849.jpg  \n",
            "  inflating: testing1/Dog/dog.850.jpg  \n",
            "  inflating: testing1/Dog/dog.851.jpg  \n",
            "  inflating: testing1/Dog/dog.852.jpg  \n",
            "  inflating: testing1/Dog/dog.853.jpg  \n",
            "  inflating: testing1/Dog/dog.854.jpg  \n",
            "  inflating: testing1/Dog/dog.855.jpg  \n",
            "  inflating: testing1/Dog/dog.856.jpg  \n",
            "  inflating: testing1/Dog/dog.857.jpg  \n",
            "  inflating: testing1/Dog/dog.858.jpg  \n",
            "  inflating: testing1/Dog/dog.859.jpg  \n",
            "  inflating: testing1/Dog/dog.860.jpg  \n",
            "  inflating: testing1/Dog/dog.861.jpg  \n",
            "  inflating: testing1/Dog/dog.862.jpg  \n",
            "  inflating: testing1/Dog/dog.863.jpg  \n",
            "  inflating: testing1/Dog/dog.864.jpg  \n",
            "  inflating: testing1/Dog/dog.865.jpg  \n",
            "  inflating: testing1/Dog/dog.866.jpg  \n",
            "  inflating: testing1/Dog/dog.867.jpg  \n",
            "  inflating: testing1/Dog/dog.868.jpg  \n",
            "  inflating: testing1/Dog/dog.869.jpg  \n",
            "  inflating: testing1/Dog/dog.870.jpg  \n",
            "  inflating: testing1/Dog/dog.871.jpg  \n",
            "  inflating: testing1/Dog/dog.872.jpg  \n",
            "  inflating: testing1/Dog/dog.873.jpg  \n",
            "  inflating: testing1/Dog/dog.874.jpg  \n",
            "  inflating: testing1/Dog/dog.875.jpg  \n",
            "  inflating: testing1/Dog/dog.876.jpg  \n",
            "  inflating: testing1/Dog/dog.877.jpg  \n",
            "  inflating: testing1/Dog/dog.878.jpg  \n",
            "  inflating: testing1/Dog/dog.879.jpg  \n",
            "  inflating: testing1/Dog/dog.880.jpg  \n",
            "  inflating: testing1/Dog/dog.881.jpg  \n",
            "  inflating: testing1/Dog/dog.882.jpg  \n",
            "  inflating: testing1/Dog/dog.883.jpg  \n",
            "  inflating: testing1/Dog/dog.884.jpg  \n",
            "  inflating: testing1/Dog/dog.885.jpg  \n",
            "  inflating: testing1/Dog/dog.886.jpg  \n",
            "  inflating: testing1/Dog/dog.887.jpg  \n",
            "  inflating: testing1/Dog/dog.888.jpg  \n",
            "  inflating: testing1/Dog/dog.889.jpg  \n",
            "  inflating: testing1/Dog/dog.890.jpg  \n",
            "  inflating: testing1/Dog/dog.891.jpg  \n",
            "  inflating: testing1/Dog/dog.892.jpg  \n",
            "  inflating: testing1/Dog/dog.893.jpg  \n",
            "  inflating: testing1/Dog/dog.894.jpg  \n",
            "  inflating: testing1/Dog/dog.895.jpg  \n",
            "  inflating: testing1/Dog/dog.896.jpg  \n",
            "  inflating: testing1/Dog/dog.897.jpg  \n",
            "  inflating: testing1/Dog/dog.898.jpg  \n",
            "  inflating: testing1/Dog/dog.899.jpg  \n",
            "  inflating: testing1/Dog/dog.900.jpg  \n",
            "  inflating: testing1/Dog/dog.901.jpg  \n",
            "  inflating: testing1/Dog/dog.902.jpg  \n",
            "  inflating: testing1/Dog/dog.903.jpg  \n",
            "  inflating: testing1/Dog/dog.904.jpg  \n",
            "  inflating: testing1/Dog/dog.905.jpg  \n",
            "  inflating: testing1/Dog/dog.906.jpg  \n",
            "  inflating: testing1/Dog/dog.907.jpg  \n",
            "  inflating: testing1/Dog/dog.908.jpg  \n",
            "  inflating: testing1/Dog/dog.909.jpg  \n",
            "  inflating: testing1/Dog/dog.910.jpg  \n",
            "  inflating: testing1/Dog/dog.911.jpg  \n",
            "  inflating: testing1/Dog/dog.912.jpg  \n",
            "  inflating: testing1/Dog/dog.913.jpg  \n",
            "  inflating: testing1/Dog/dog.914.jpg  \n",
            "  inflating: testing1/Dog/dog.915.jpg  \n",
            "  inflating: testing1/Dog/dog.916.jpg  \n",
            "  inflating: testing1/Dog/dog.917.jpg  \n",
            "  inflating: testing1/Dog/dog.918.jpg  \n",
            "  inflating: testing1/Dog/dog.919.jpg  \n",
            "  inflating: testing1/Dog/dog.920.jpg  \n",
            "  inflating: testing1/Dog/dog.921.jpg  \n",
            "  inflating: testing1/Dog/dog.922.jpg  \n",
            "  inflating: testing1/Dog/dog.923.jpg  \n",
            "  inflating: testing1/Dog/dog.924.jpg  \n",
            "  inflating: testing1/Dog/dog.925.jpg  \n",
            "  inflating: testing1/Dog/dog.926.jpg  \n",
            "  inflating: testing1/Dog/dog.927.jpg  \n",
            "  inflating: testing1/Dog/dog.928.jpg  \n",
            "  inflating: testing1/Dog/dog.929.jpg  \n",
            "  inflating: testing1/Dog/dog.930.jpg  \n",
            "  inflating: testing1/Dog/dog.931.jpg  \n",
            "  inflating: testing1/Dog/dog.932.jpg  \n",
            "  inflating: testing1/Dog/dog.933.jpg  \n",
            "  inflating: testing1/Dog/dog.934.jpg  \n",
            "  inflating: testing1/Dog/dog.935.jpg  \n",
            "  inflating: testing1/Dog/dog.936.jpg  \n",
            "  inflating: testing1/Dog/dog.937.jpg  \n",
            "  inflating: testing1/Dog/dog.938.jpg  \n",
            "  inflating: testing1/Dog/dog.939.jpg  \n",
            "  inflating: testing1/Dog/dog.940.jpg  \n",
            "  inflating: testing1/Dog/dog.941.jpg  \n",
            "  inflating: testing1/Dog/dog.942.jpg  \n",
            "  inflating: testing1/Dog/dog.943.jpg  \n",
            "  inflating: testing1/Dog/dog.944.jpg  \n",
            "  inflating: testing1/Dog/dog.945.jpg  \n",
            "  inflating: testing1/Dog/dog.946.jpg  \n",
            "  inflating: testing1/Dog/dog.947.jpg  \n",
            "  inflating: testing1/Dog/dog.948.jpg  \n",
            "  inflating: testing1/Dog/dog.949.jpg  \n",
            "  inflating: testing1/Dog/dog.950.jpg  \n",
            "  inflating: testing1/Dog/dog.951.jpg  \n",
            "  inflating: testing1/Dog/dog.952.jpg  \n",
            "  inflating: testing1/Dog/dog.953.jpg  \n",
            "  inflating: testing1/Dog/dog.954.jpg  \n",
            "  inflating: testing1/Dog/dog.955.jpg  \n",
            "  inflating: testing1/Dog/dog.956.jpg  \n",
            "  inflating: testing1/Dog/dog.957.jpg  \n",
            "  inflating: testing1/Dog/dog.958.jpg  \n",
            "  inflating: testing1/Dog/dog.959.jpg  \n",
            "  inflating: testing1/Dog/dog.960.jpg  \n",
            "  inflating: testing1/Dog/dog.961.jpg  \n",
            "  inflating: testing1/Dog/dog.962.jpg  \n",
            "  inflating: testing1/Dog/dog.963.jpg  \n",
            "  inflating: testing1/Dog/dog.964.jpg  \n",
            "  inflating: testing1/Dog/dog.965.jpg  \n",
            "  inflating: testing1/Dog/dog.966.jpg  \n",
            "  inflating: testing1/Dog/dog.967.jpg  \n",
            "  inflating: testing1/Dog/dog.968.jpg  \n",
            "  inflating: testing1/Dog/dog.969.jpg  \n",
            "  inflating: testing1/Dog/dog.970.jpg  \n",
            "  inflating: testing1/Dog/dog.971.jpg  \n",
            "  inflating: testing1/Dog/dog.972.jpg  \n",
            "  inflating: testing1/Dog/dog.973.jpg  \n",
            "  inflating: testing1/Dog/dog.974.jpg  \n",
            "  inflating: testing1/Dog/dog.975.jpg  \n",
            "  inflating: testing1/Dog/dog.976.jpg  \n",
            "  inflating: testing1/Dog/dog.977.jpg  \n",
            "  inflating: testing1/Dog/dog.978.jpg  \n",
            "  inflating: testing1/Dog/dog.979.jpg  \n",
            "  inflating: testing1/Dog/dog.980.jpg  \n",
            "  inflating: testing1/Dog/dog.981.jpg  \n",
            "  inflating: testing1/Dog/dog.982.jpg  \n",
            "  inflating: testing1/Dog/dog.983.jpg  \n",
            "  inflating: testing1/Dog/dog.984.jpg  \n",
            "  inflating: testing1/Dog/dog.985.jpg  \n",
            "  inflating: testing1/Dog/dog.986.jpg  \n",
            "  inflating: testing1/Dog/dog.987.jpg  \n",
            "  inflating: testing1/Dog/dog.988.jpg  \n",
            "  inflating: testing1/Dog/dog.989.jpg  \n",
            "  inflating: testing1/Dog/dog.990.jpg  \n",
            "  inflating: testing1/Dog/dog.991.jpg  \n",
            "  inflating: testing1/Dog/dog.992.jpg  \n",
            "  inflating: testing1/Dog/dog.993.jpg  \n",
            "  inflating: testing1/Dog/dog.994.jpg  \n",
            "  inflating: testing1/Dog/dog.995.jpg  \n",
            "  inflating: testing1/Dog/dog.996.jpg  \n",
            "  inflating: testing1/Dog/dog.997.jpg  \n",
            "  inflating: testing1/Dog/dog.998.jpg  \n",
            "  inflating: testing1/Dog/dog.999.jpg  \n"
          ]
        }
      ]
    },
    {
      "cell_type": "code",
      "metadata": {
        "colab": {
          "base_uri": "https://localhost:8080/"
        },
        "id": "1sdJkRlgEF3t",
        "outputId": "93352d48-ae8a-448d-b147-bf88b696614c"
      },
      "source": [
        "!pip install kaggle"
      ],
      "execution_count": 54,
      "outputs": [
        {
          "output_type": "stream",
          "name": "stdout",
          "text": [
            "Requirement already satisfied: kaggle in /usr/local/lib/python3.7/dist-packages (1.5.12)\n",
            "Requirement already satisfied: certifi in /usr/local/lib/python3.7/dist-packages (from kaggle) (2021.5.30)\n",
            "Requirement already satisfied: tqdm in /usr/local/lib/python3.7/dist-packages (from kaggle) (4.62.2)\n",
            "Requirement already satisfied: python-dateutil in /usr/local/lib/python3.7/dist-packages (from kaggle) (2.8.2)\n",
            "Requirement already satisfied: python-slugify in /usr/local/lib/python3.7/dist-packages (from kaggle) (5.0.2)\n",
            "Requirement already satisfied: urllib3 in /usr/local/lib/python3.7/dist-packages (from kaggle) (1.24.3)\n",
            "Requirement already satisfied: six>=1.10 in /usr/local/lib/python3.7/dist-packages (from kaggle) (1.15.0)\n",
            "Requirement already satisfied: requests in /usr/local/lib/python3.7/dist-packages (from kaggle) (2.23.0)\n",
            "Requirement already satisfied: text-unidecode>=1.3 in /usr/local/lib/python3.7/dist-packages (from python-slugify->kaggle) (1.3)\n",
            "Requirement already satisfied: idna<3,>=2.5 in /usr/local/lib/python3.7/dist-packages (from requests->kaggle) (2.10)\n",
            "Requirement already satisfied: chardet<4,>=3.0.2 in /usr/local/lib/python3.7/dist-packages (from requests->kaggle) (3.0.4)\n"
          ]
        }
      ]
    },
    {
      "cell_type": "code",
      "metadata": {
        "colab": {
          "resources": {
            "http://localhost:8080/nbextensions/google.colab/files.js": {
              "data": "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",
              "ok": true,
              "headers": [
                [
                  "content-type",
                  "application/javascript"
                ]
              ],
              "status": 200,
              "status_text": ""
            }
          },
          "base_uri": "https://localhost:8080/",
          "height": 89
        },
        "id": "cR51u4rbEJkH",
        "outputId": "32c23f97-0563-4397-d1e7-af7a4b243dcd"
      },
      "source": [
        "from google.colab import files\n",
        "files.upload()"
      ],
      "execution_count": 56,
      "outputs": [
        {
          "output_type": "display_data",
          "data": {
            "text/html": [
              "\n",
              "     <input type=\"file\" id=\"files-250dec1c-9f03-4203-8033-bfc9852f65b0\" name=\"files[]\" multiple disabled\n",
              "        style=\"border:none\" />\n",
              "     <output id=\"result-250dec1c-9f03-4203-8033-bfc9852f65b0\">\n",
              "      Upload widget is only available when the cell has been executed in the\n",
              "      current browser session. Please rerun this cell to enable.\n",
              "      </output>\n",
              "      <script src=\"/nbextensions/google.colab/files.js\"></script> "
            ],
            "text/plain": [
              "<IPython.core.display.HTML object>"
            ]
          },
          "metadata": {}
        },
        {
          "output_type": "stream",
          "name": "stdout",
          "text": [
            "Saving kaggle.json to kaggle.json\n"
          ]
        },
        {
          "output_type": "execute_result",
          "data": {
            "text/plain": [
              "{'kaggle.json': b'{\"username\":\"afnanhabib787\",\"key\":\"30b2e622f6c5384f87a3c6ea1e6a3cab\"}'}"
            ]
          },
          "metadata": {},
          "execution_count": 56
        }
      ]
    },
    {
      "cell_type": "code",
      "metadata": {
        "id": "FXS1idsPEmSz"
      },
      "source": [
        "#Make a directory named kaggle and copy the kaggle.json file there.\n",
        "!mkdir -p ~/.kaggle\n",
        "!cp kaggle.json ~/.kaggle/\n",
        "# change the permission of the file\n",
        "!chmod 600 ~/.kaggle/kaggle.json"
      ],
      "execution_count": 57,
      "outputs": []
    },
    {
      "cell_type": "code",
      "metadata": {
        "colab": {
          "base_uri": "https://localhost:8080/"
        },
        "id": "fyuGJ5WwE0aY",
        "outputId": "7d6cf3e0-1b35-4367-b94a-e3bd40e41227"
      },
      "source": [
        "# !your dataset api command!\n",
        "!kaggle datasets download -d tongpython/cat-and-dog"
      ],
      "execution_count": 61,
      "outputs": [
        {
          "output_type": "stream",
          "name": "stdout",
          "text": [
            "Downloading cat-and-dog.zip to /content\n",
            " 95% 208M/218M [00:01<00:00, 118MB/s]\n",
            "100% 218M/218M [00:01<00:00, 118MB/s]\n"
          ]
        }
      ]
    },
    {
      "cell_type": "code",
      "metadata": {
        "colab": {
          "base_uri": "https://localhost:8080/"
        },
        "id": "atHGjb_9Gqh8",
        "outputId": "0ffcee5f-d353-4d12-bad1-76ab26e895ac"
      },
      "source": [
        "from zipfile import ZipFile\n",
        "file_name = 'cat-and-dog.zip' #the file is your dataset exact name\n",
        "with ZipFile(file_name, 'r') as zip:\n",
        "  zip.extractall()\n",
        "  print('Done')"
      ],
      "execution_count": 62,
      "outputs": [
        {
          "output_type": "stream",
          "name": "stdout",
          "text": [
            "Done\n"
          ]
        }
      ]
    },
    {
      "cell_type": "code",
      "metadata": {
        "id": "SKVRELbxkhEc"
      },
      "source": [
        "from tensorflow.keras.preprocessing.image import ImageDataGenerator"
      ],
      "execution_count": 63,
      "outputs": []
    },
    {
      "cell_type": "code",
      "metadata": {
        "id": "meVwmJSQEIr1"
      },
      "source": [
        ""
      ],
      "execution_count": 63,
      "outputs": []
    },
    {
      "cell_type": "code",
      "metadata": {
        "id": "mGYf4FomlGyq"
      },
      "source": [
        "train_data_gen = ImageDataGenerator(rescale = 1.0/255)"
      ],
      "execution_count": 64,
      "outputs": []
    },
    {
      "cell_type": "code",
      "metadata": {
        "colab": {
          "base_uri": "https://localhost:8080/"
        },
        "id": "ua40-oG0lMOo",
        "outputId": "bf7dd496-32af-41f9-b78d-15cb2dbc8e3e"
      },
      "source": [
        "train_data = train_data_gen.flow_from_directory(\n",
        "    \"/content/training_set/training_set\",\n",
        "    target_size=(150,150),\n",
        "    batch_size=30,\n",
        "    class_mode='binary'\n",
        ")"
      ],
      "execution_count": 74,
      "outputs": [
        {
          "output_type": "stream",
          "name": "stdout",
          "text": [
            "Found 8005 images belonging to 2 classes.\n"
          ]
        }
      ]
    },
    {
      "cell_type": "code",
      "metadata": {
        "colab": {
          "base_uri": "https://localhost:8080/"
        },
        "id": "OJTnp7CjldhA",
        "outputId": "7a1c916e-5b93-4997-f397-fb6d4d099e4c"
      },
      "source": [
        "train_data.class_indices\n"
      ],
      "execution_count": 75,
      "outputs": [
        {
          "output_type": "execute_result",
          "data": {
            "text/plain": [
              "{'cats': 0, 'dogs': 1}"
            ]
          },
          "metadata": {},
          "execution_count": 75
        }
      ]
    },
    {
      "cell_type": "code",
      "metadata": {
        "id": "CBznD-V_qPcR"
      },
      "source": [
        ""
      ],
      "execution_count": 75,
      "outputs": []
    },
    {
      "cell_type": "code",
      "metadata": {
        "id": "RZoTrBuKqQ3X"
      },
      "source": [
        "from tensorflow.keras.models import Sequential\n",
        "from tensorflow.keras.layers import Dense, Flatten\n",
        "from tensorflow.keras.optimizers import Adam, SGD"
      ],
      "execution_count": 76,
      "outputs": []
    },
    {
      "cell_type": "code",
      "metadata": {
        "id": "nbLKqYC0qvZZ"
      },
      "source": [
        "model = Sequential()\n",
        "model.add(Flatten())\n",
        "model.add(Dense(800, activation='relu'))\n",
        "\n",
        "\n",
        "model.add(Dense(1, activation='sigmoid'))"
      ],
      "execution_count": 77,
      "outputs": []
    },
    {
      "cell_type": "code",
      "metadata": {
        "id": "oasQVGtXrNqa"
      },
      "source": [
        "model.compile(loss='binary_crossentropy',\n",
        "              optimizer='adam',\n",
        "              metrics=['acc'])"
      ],
      "execution_count": 78,
      "outputs": []
    },
    {
      "cell_type": "code",
      "metadata": {
        "colab": {
          "base_uri": "https://localhost:8080/"
        },
        "id": "hxEE9rcwrbPa",
        "outputId": "42f6532d-e7fe-4289-c803-b93e293440d8"
      },
      "source": [
        "model.fit(train_data,epochs=8)"
      ],
      "execution_count": 79,
      "outputs": [
        {
          "output_type": "stream",
          "name": "stdout",
          "text": [
            "Epoch 1/8\n",
            "267/267 [==============================] - 28s 102ms/step - loss: 9.7203 - acc: 0.5203\n",
            "Epoch 2/8\n",
            "267/267 [==============================] - 27s 102ms/step - loss: 2.8621 - acc: 0.5641\n",
            "Epoch 3/8\n",
            "267/267 [==============================] - 27s 103ms/step - loss: 1.2781 - acc: 0.5935\n",
            "Epoch 4/8\n",
            "267/267 [==============================] - 27s 101ms/step - loss: 0.9476 - acc: 0.6037\n",
            "Epoch 5/8\n",
            "267/267 [==============================] - 28s 103ms/step - loss: 0.7470 - acc: 0.6181\n",
            "Epoch 6/8\n",
            "267/267 [==============================] - 28s 103ms/step - loss: 0.6432 - acc: 0.6482\n",
            "Epoch 7/8\n",
            "267/267 [==============================] - 27s 102ms/step - loss: 0.6308 - acc: 0.6542\n",
            "Epoch 8/8\n",
            "267/267 [==============================] - 27s 101ms/step - loss: 0.6215 - acc: 0.6546\n"
          ]
        },
        {
          "output_type": "execute_result",
          "data": {
            "text/plain": [
              "<keras.callbacks.History at 0x7f6e01c5b2d0>"
            ]
          },
          "metadata": {},
          "execution_count": 79
        }
      ]
    },
    {
      "cell_type": "code",
      "metadata": {
        "colab": {
          "base_uri": "https://localhost:8080/"
        },
        "id": "BC2hn_f0sW4R",
        "outputId": "cfed6109-4416-410e-b204-1253dfc8d049"
      },
      "source": [
        "!unzip /content/testing2.zip"
      ],
      "execution_count": 29,
      "outputs": [
        {
          "output_type": "stream",
          "name": "stdout",
          "text": [
            "Archive:  /content/testing2.zip\n",
            "replace testing2/Cat/cat.0.jpg? [y]es, [n]o, [A]ll, [N]one, [r]ename: "
          ]
        }
      ]
    },
    {
      "cell_type": "code",
      "metadata": {
        "colab": {
          "base_uri": "https://localhost:8080/"
        },
        "id": "boXIXqW8rgB0",
        "outputId": "2cb6bdf0-1471-452d-f819-78f8784a16da"
      },
      "source": [
        "test_data = train_data_gen.flow_from_directory(\n",
        "    \"/content/testing2\",\n",
        "    target_size=(150,150),\n",
        "    batch_size=10,\n",
        "    class_mode='binary'\n",
        ")"
      ],
      "execution_count": 22,
      "outputs": [
        {
          "output_type": "stream",
          "name": "stdout",
          "text": [
            "Found 6 images belonging to 2 classes.\n"
          ]
        }
      ]
    },
    {
      "cell_type": "code",
      "metadata": {
        "colab": {
          "base_uri": "https://localhost:8080/"
        },
        "id": "Sy7hXTOIsqak",
        "outputId": "3bbe7e42-1c18-4ef3-9c65-3b59359c016d"
      },
      "source": [
        "model.predict(train_data)"
      ],
      "execution_count": 53,
      "outputs": [
        {
          "output_type": "execute_result",
          "data": {
            "text/plain": [
              "array([[2.90946744e-04],\n",
              "       [2.49818084e-03],\n",
              "       [7.57354655e-07],\n",
              "       [9.99664664e-01],\n",
              "       [9.99999166e-01],\n",
              "       [1.18241804e-02],\n",
              "       [2.29044096e-03],\n",
              "       [9.99320030e-01],\n",
              "       [5.37810661e-02],\n",
              "       [9.97830212e-01],\n",
              "       [9.99888778e-01],\n",
              "       [9.93428528e-01],\n",
              "       [1.06266290e-01],\n",
              "       [2.97202705e-03],\n",
              "       [9.92949605e-01],\n",
              "       [9.96403098e-01],\n",
              "       [4.38863208e-05],\n",
              "       [9.99999642e-01],\n",
              "       [8.60881191e-05],\n",
              "       [9.83833849e-01],\n",
              "       [9.99976635e-01],\n",
              "       [9.99993682e-01],\n",
              "       [1.29041979e-02],\n",
              "       [9.96383905e-01],\n",
              "       [1.83674183e-05],\n",
              "       [9.96389568e-01],\n",
              "       [9.99996543e-01],\n",
              "       [7.77833071e-03],\n",
              "       [9.99985933e-01],\n",
              "       [2.95051344e-04],\n",
              "       [9.94972229e-01],\n",
              "       [9.99938130e-01],\n",
              "       [5.39793182e-05],\n",
              "       [9.83354390e-01],\n",
              "       [5.05890585e-02],\n",
              "       [9.99849677e-01],\n",
              "       [9.99363840e-01],\n",
              "       [9.99978781e-01],\n",
              "       [9.99784172e-01],\n",
              "       [2.83457734e-06],\n",
              "       [9.98809099e-01],\n",
              "       [6.34688069e-04],\n",
              "       [9.99976754e-01],\n",
              "       [8.51590303e-04],\n",
              "       [1.91593106e-04],\n",
              "       [5.27676381e-03],\n",
              "       [6.49173744e-03],\n",
              "       [2.84952996e-03],\n",
              "       [4.20058429e-01],\n",
              "       [3.67908180e-02],\n",
              "       [9.99967098e-01],\n",
              "       [6.07726024e-03],\n",
              "       [9.40934494e-02],\n",
              "       [4.47102473e-04],\n",
              "       [3.82588711e-04],\n",
              "       [3.48781198e-01],\n",
              "       [9.99517322e-01],\n",
              "       [8.44690658e-05],\n",
              "       [9.81475592e-01],\n",
              "       [9.81984317e-01],\n",
              "       [1.20001631e-02],\n",
              "       [7.43376417e-03],\n",
              "       [1.69434562e-01],\n",
              "       [1.44116804e-02],\n",
              "       [9.99637842e-01],\n",
              "       [9.97788072e-01],\n",
              "       [2.83009082e-01],\n",
              "       [9.97800171e-01],\n",
              "       [1.30669838e-02],\n",
              "       [9.99976754e-01],\n",
              "       [9.99710143e-01],\n",
              "       [9.97234643e-01],\n",
              "       [9.99054134e-01],\n",
              "       [3.41930172e-05],\n",
              "       [1.03985008e-06],\n",
              "       [9.99977350e-01],\n",
              "       [9.99953747e-01],\n",
              "       [5.71381813e-03],\n",
              "       [1.17369898e-01],\n",
              "       [9.98666763e-01],\n",
              "       [9.99920487e-01],\n",
              "       [9.99996543e-01],\n",
              "       [1.49285921e-03],\n",
              "       [9.99956727e-01],\n",
              "       [4.02980484e-04],\n",
              "       [9.99696970e-01],\n",
              "       [3.23131345e-02],\n",
              "       [9.99027371e-01],\n",
              "       [2.38376320e-03],\n",
              "       [9.98954892e-01],\n",
              "       [9.65587219e-08],\n",
              "       [9.99912381e-01],\n",
              "       [9.99631405e-01],\n",
              "       [9.96165276e-01],\n",
              "       [9.99994397e-01],\n",
              "       [9.99990940e-01],\n",
              "       [9.99990821e-01],\n",
              "       [1.59308605e-03],\n",
              "       [9.99765933e-01],\n",
              "       [3.80369904e-03],\n",
              "       [1.56139198e-04],\n",
              "       [1.11750420e-03],\n",
              "       [9.99991536e-01],\n",
              "       [7.70016313e-02],\n",
              "       [9.96261179e-01],\n",
              "       [2.90013361e-03],\n",
              "       [9.99999046e-01],\n",
              "       [1.61049906e-02],\n",
              "       [9.78687882e-01],\n",
              "       [9.99999642e-01],\n",
              "       [6.16987586e-01],\n",
              "       [9.79250312e-01],\n",
              "       [9.84109240e-04],\n",
              "       [7.12891445e-02],\n",
              "       [6.82078884e-04],\n",
              "       [5.65357113e-05],\n",
              "       [1.24456473e-01],\n",
              "       [8.03890172e-04],\n",
              "       [1.07214239e-03],\n",
              "       [1.28762409e-01],\n",
              "       [8.70680138e-02],\n",
              "       [1.26170670e-03],\n",
              "       [9.99703228e-01],\n",
              "       [9.99996662e-01],\n",
              "       [9.99810755e-01],\n",
              "       [3.41952273e-06],\n",
              "       [7.46363699e-02],\n",
              "       [9.99409556e-01],\n",
              "       [3.08658018e-05],\n",
              "       [9.75056708e-01],\n",
              "       [9.98128831e-01],\n",
              "       [9.89181697e-01],\n",
              "       [4.99890884e-04],\n",
              "       [9.84438479e-01],\n",
              "       [9.99304771e-01],\n",
              "       [2.48256000e-03],\n",
              "       [9.91159260e-01],\n",
              "       [9.99119341e-01],\n",
              "       [2.51123570e-02],\n",
              "       [5.37738919e-01],\n",
              "       [5.44011535e-04],\n",
              "       [3.05086753e-04],\n",
              "       [2.31282953e-02],\n",
              "       [9.99998331e-01],\n",
              "       [9.92691815e-01],\n",
              "       [9.95790541e-01],\n",
              "       [9.99972582e-01],\n",
              "       [1.35987699e-02],\n",
              "       [9.99690533e-01],\n",
              "       [3.52951854e-01],\n",
              "       [9.99433339e-01],\n",
              "       [9.97072339e-01],\n",
              "       [9.76439476e-01],\n",
              "       [9.61085498e-01],\n",
              "       [4.60746698e-02],\n",
              "       [3.51895168e-02],\n",
              "       [6.43821573e-03],\n",
              "       [9.92048204e-01],\n",
              "       [1.65445860e-02],\n",
              "       [9.98580813e-01],\n",
              "       [8.83024186e-02],\n",
              "       [9.99972939e-01],\n",
              "       [9.99339283e-01],\n",
              "       [9.99994516e-01],\n",
              "       [2.72715138e-03],\n",
              "       [9.19149518e-01],\n",
              "       [9.29491187e-04],\n",
              "       [2.37994820e-01],\n",
              "       [9.99920607e-01],\n",
              "       [2.51113400e-02],\n",
              "       [9.99093413e-01],\n",
              "       [9.86629725e-01],\n",
              "       [9.84740198e-01],\n",
              "       [9.96105492e-01],\n",
              "       [9.88538265e-01],\n",
              "       [1.44689813e-01],\n",
              "       [3.76374610e-02],\n",
              "       [9.95413840e-01],\n",
              "       [4.24000360e-02],\n",
              "       [2.56223548e-02],\n",
              "       [1.75316440e-04],\n",
              "       [9.99475062e-01],\n",
              "       [4.07614207e-05],\n",
              "       [6.71236543e-04],\n",
              "       [9.99817073e-01],\n",
              "       [1.80558854e-04],\n",
              "       [5.68454014e-03],\n",
              "       [9.93381143e-02],\n",
              "       [8.96469653e-01],\n",
              "       [9.99779761e-01],\n",
              "       [4.64256927e-02],\n",
              "       [2.46149711e-02],\n",
              "       [1.91708491e-03],\n",
              "       [7.29131997e-02],\n",
              "       [6.89165713e-03],\n",
              "       [3.53715877e-04],\n",
              "       [9.99705851e-01],\n",
              "       [5.95059525e-03],\n",
              "       [1.04185641e-01],\n",
              "       [9.99866843e-01],\n",
              "       [4.30357410e-03],\n",
              "       [9.99770701e-01],\n",
              "       [9.99479949e-01],\n",
              "       [9.99468386e-01],\n",
              "       [3.65921795e-01],\n",
              "       [2.55373120e-01],\n",
              "       [9.99999762e-01],\n",
              "       [3.02176079e-04],\n",
              "       [2.54583880e-02],\n",
              "       [2.08017766e-03],\n",
              "       [9.99772966e-01],\n",
              "       [9.59245205e-01],\n",
              "       [9.95359719e-01],\n",
              "       [9.33949888e-01],\n",
              "       [9.99328494e-01],\n",
              "       [9.95331466e-01],\n",
              "       [9.67872620e-01],\n",
              "       [9.98610020e-01],\n",
              "       [9.99741256e-01],\n",
              "       [1.25371411e-01],\n",
              "       [9.99963403e-01],\n",
              "       [9.99991536e-01],\n",
              "       [9.99999285e-01],\n",
              "       [9.98931825e-01],\n",
              "       [3.23437015e-03],\n",
              "       [9.99538064e-01],\n",
              "       [9.96073484e-01],\n",
              "       [9.36427736e-04],\n",
              "       [9.99512911e-01],\n",
              "       [4.60313777e-06],\n",
              "       [2.09834077e-03],\n",
              "       [4.17868160e-02],\n",
              "       [9.83938396e-01],\n",
              "       [9.98271346e-01],\n",
              "       [9.99389887e-01],\n",
              "       [9.99611795e-01],\n",
              "       [9.97875333e-01],\n",
              "       [9.99985099e-01],\n",
              "       [9.98257697e-01],\n",
              "       [1.02111655e-04],\n",
              "       [1.24168834e-02],\n",
              "       [3.36345673e-01],\n",
              "       [2.56030849e-04],\n",
              "       [2.63455033e-01],\n",
              "       [1.05502107e-03],\n",
              "       [9.99992132e-01],\n",
              "       [9.99871254e-01],\n",
              "       [9.99703825e-01],\n",
              "       [9.99401569e-01],\n",
              "       [9.99899149e-01],\n",
              "       [9.98604834e-01],\n",
              "       [3.89898241e-06],\n",
              "       [4.44396719e-04],\n",
              "       [1.20816939e-03],\n",
              "       [9.99898434e-01],\n",
              "       [9.99993920e-01],\n",
              "       [9.99007046e-01],\n",
              "       [9.99851346e-01],\n",
              "       [9.94583905e-01],\n",
              "       [2.73608166e-04],\n",
              "       [9.99999642e-01],\n",
              "       [2.72420258e-03],\n",
              "       [5.11182062e-02],\n",
              "       [9.99997377e-01],\n",
              "       [8.78684998e-01],\n",
              "       [8.58135056e-03],\n",
              "       [9.88372505e-01],\n",
              "       [9.99202311e-01],\n",
              "       [6.09175384e-01],\n",
              "       [9.96657133e-01],\n",
              "       [8.28893296e-03],\n",
              "       [5.88950189e-03],\n",
              "       [1.41899571e-01],\n",
              "       [9.99999642e-01],\n",
              "       [5.26046970e-05],\n",
              "       [3.61819938e-02],\n",
              "       [9.97129261e-01],\n",
              "       [1.34754822e-01],\n",
              "       [1.32865238e-03],\n",
              "       [9.98053193e-01],\n",
              "       [3.39595158e-06],\n",
              "       [9.49183851e-02],\n",
              "       [9.99997616e-01],\n",
              "       [3.09341958e-05],\n",
              "       [9.96071696e-01],\n",
              "       [9.99692917e-01],\n",
              "       [3.45685257e-05],\n",
              "       [7.21729780e-03],\n",
              "       [9.92700577e-01],\n",
              "       [9.98948991e-01],\n",
              "       [9.79099154e-01],\n",
              "       [2.29650140e-02],\n",
              "       [8.91578617e-04],\n",
              "       [9.99989629e-01],\n",
              "       [4.41054143e-02],\n",
              "       [7.26811215e-03],\n",
              "       [5.06726268e-04],\n",
              "       [9.99807417e-01],\n",
              "       [9.72883165e-01],\n",
              "       [9.27454093e-05],\n",
              "       [2.15477552e-02],\n",
              "       [9.99825180e-01],\n",
              "       [9.99968290e-01],\n",
              "       [9.98809457e-01],\n",
              "       [9.89631236e-01],\n",
              "       [3.90667847e-05],\n",
              "       [9.99992609e-01],\n",
              "       [4.35898034e-03],\n",
              "       [9.49078500e-01],\n",
              "       [1.00000000e+00],\n",
              "       [3.39609124e-02],\n",
              "       [1.00000000e+00],\n",
              "       [2.10891366e-02],\n",
              "       [1.03271438e-03],\n",
              "       [1.06514759e-01],\n",
              "       [9.99985218e-01],\n",
              "       [3.74281928e-02],\n",
              "       [4.44270410e-02],\n",
              "       [7.11924440e-05],\n",
              "       [8.61484004e-05],\n",
              "       [1.90248434e-02],\n",
              "       [9.99819934e-01],\n",
              "       [6.14900701e-03],\n",
              "       [4.50376607e-03],\n",
              "       [4.08648048e-04],\n",
              "       [1.81948617e-01],\n",
              "       [9.99997020e-01],\n",
              "       [9.99606788e-01],\n",
              "       [9.99560773e-01],\n",
              "       [2.60916445e-03],\n",
              "       [9.95668769e-01],\n",
              "       [9.99964952e-01],\n",
              "       [8.07539793e-04],\n",
              "       [9.97044027e-01],\n",
              "       [8.23014751e-02],\n",
              "       [1.27548706e-02],\n",
              "       [9.99279559e-01],\n",
              "       [1.27953188e-02],\n",
              "       [7.19801366e-01],\n",
              "       [6.98505552e-04],\n",
              "       [4.11106739e-03],\n",
              "       [6.90510846e-04],\n",
              "       [9.98074651e-01],\n",
              "       [6.79802448e-02],\n",
              "       [5.23995375e-04],\n",
              "       [9.99970078e-01],\n",
              "       [3.54979038e-02],\n",
              "       [9.99940634e-01],\n",
              "       [9.99475896e-01],\n",
              "       [2.23364594e-04],\n",
              "       [9.99987245e-01],\n",
              "       [7.54895434e-02],\n",
              "       [4.76004207e-04],\n",
              "       [9.99918103e-01],\n",
              "       [9.75320399e-01],\n",
              "       [6.07905626e-01],\n",
              "       [9.99311566e-01],\n",
              "       [9.99737203e-01],\n",
              "       [4.49383399e-03],\n",
              "       [1.79754086e-02],\n",
              "       [9.99197543e-01],\n",
              "       [9.99999523e-01],\n",
              "       [1.02550715e-01],\n",
              "       [9.99836206e-01],\n",
              "       [5.97479753e-02],\n",
              "       [5.55121480e-03],\n",
              "       [9.99719799e-01],\n",
              "       [9.99929786e-01],\n",
              "       [9.97901082e-01],\n",
              "       [9.91324544e-01],\n",
              "       [3.36361397e-03],\n",
              "       [2.00822670e-02],\n",
              "       [2.00159460e-01],\n",
              "       [9.97427285e-01],\n",
              "       [1.68568149e-01],\n",
              "       [6.35403580e-07],\n",
              "       [9.89572167e-01],\n",
              "       [9.99947309e-01],\n",
              "       [9.99761999e-01],\n",
              "       [1.48436666e-04],\n",
              "       [9.59135771e-01],\n",
              "       [2.38258275e-03],\n",
              "       [9.99969482e-01],\n",
              "       [9.96499419e-01],\n",
              "       [9.99999881e-01],\n",
              "       [9.99997139e-01],\n",
              "       [9.99890804e-01],\n",
              "       [8.70115764e-04],\n",
              "       [9.99544442e-01],\n",
              "       [9.99424338e-01],\n",
              "       [9.94037509e-01],\n",
              "       [1.43384963e-01],\n",
              "       [9.96078551e-01],\n",
              "       [1.26449307e-02],\n",
              "       [2.02402845e-02],\n",
              "       [9.95246351e-01],\n",
              "       [2.40038827e-01],\n",
              "       [9.55130830e-02],\n",
              "       [4.81868745e-04],\n",
              "       [9.09654307e-04],\n",
              "       [9.99998808e-01],\n",
              "       [9.99992847e-01],\n",
              "       [2.99261673e-03],\n",
              "       [9.99890089e-01],\n",
              "       [1.73840264e-04],\n",
              "       [1.62293434e-01],\n",
              "       [1.30942604e-02],\n",
              "       [9.99999166e-01],\n",
              "       [1.99766204e-01],\n",
              "       [4.29180302e-02],\n",
              "       [1.44564845e-02],\n",
              "       [1.49149792e-02],\n",
              "       [9.98748660e-01],\n",
              "       [8.47736490e-04],\n",
              "       [5.57501726e-02],\n",
              "       [9.99818623e-01]], dtype=float32)"
            ]
          },
          "metadata": {},
          "execution_count": 53
        }
      ]
    },
    {
      "cell_type": "code",
      "metadata": {
        "colab": {
          "base_uri": "https://localhost:8080/"
        },
        "id": "4qHTZTqps07B",
        "outputId": "0b09f8f5-95d7-4eb9-eaf1-61085799527c"
      },
      "source": [
        "import numpy as np\n",
        "np.where(model.predict(test_data)>0,\"Dog\",\"Cat\")"
      ],
      "execution_count": 52,
      "outputs": [
        {
          "output_type": "execute_result",
          "data": {
            "text/plain": [
              "array([['Dog'],\n",
              "       ['Dog'],\n",
              "       ['Dog'],\n",
              "       ['Dog'],\n",
              "       ['Dog'],\n",
              "       ['Dog']], dtype='<U3')"
            ]
          },
          "metadata": {},
          "execution_count": 52
        }
      ]
    },
    {
      "cell_type": "code",
      "metadata": {
        "id": "c95aKKZeEETA"
      },
      "source": [
        ""
      ],
      "execution_count": null,
      "outputs": []
    },
    {
      "cell_type": "code",
      "metadata": {
        "id": "4OVrnaZws_mG"
      },
      "source": [
        ""
      ],
      "execution_count": null,
      "outputs": []
    }
  ]
}