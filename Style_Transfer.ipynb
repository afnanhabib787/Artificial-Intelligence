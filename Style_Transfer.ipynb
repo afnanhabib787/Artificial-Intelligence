{
  "nbformat": 4,
  "nbformat_minor": 0,
  "metadata": {
    "accelerator": "GPU",
    "colab": {
      "name": "Style Transfer.ipynb",
      "provenance": [],
      "collapsed_sections": [],
      "authorship_tag": "ABX9TyMH3oWdQ8R3n6fUtXuIKiAl",
      "include_colab_link": true
    },
    "kernelspec": {
      "display_name": "Python 3",
      "name": "python3"
    },
    "language_info": {
      "name": "python"
    }
  },
  "cells": [
    {
      "cell_type": "markdown",
      "metadata": {
        "id": "view-in-github",
        "colab_type": "text"
      },
      "source": [
        "<a href=\"https://colab.research.google.com/github/afnanhabib787/Artificial-Intelligence/blob/main/Style_Transfer.ipynb\" target=\"_parent\"><img src=\"https://colab.research.google.com/assets/colab-badge.svg\" alt=\"Open In Colab\"/></a>"
      ]
    },
    {
      "cell_type": "code",
      "metadata": {
        "id": "ccDCid4-tzL3"
      },
      "source": [
        "import tensorflow as tf\n",
        "tf.compat.v1.disable_eager_execution()"
      ],
      "execution_count": 1,
      "outputs": []
    },
    {
      "cell_type": "code",
      "metadata": {
        "id": "DjL9LeIGt9nk"
      },
      "source": [
        "# Defining initial variables\n",
        "\n",
        "from keras.preprocessing.image import load_img, img_to_array\n",
        "target_image_path = '/content/myimage.jpg'\n",
        "style_reference_image_path = '/content/style3.png'\n",
        "width, height = load_img(target_image_path).size\n",
        "img_height = 400\n",
        "img_width = int(width * img_height / height)"
      ],
      "execution_count": 61,
      "outputs": []
    },
    {
      "cell_type": "code",
      "metadata": {
        "id": "xeAq6S-V9A22"
      },
      "source": [
        "import numpy as np\n",
        "from keras.applications import vgg19\n",
        "\n",
        "def preprocess_image(image_path):\n",
        "  img = load_img(image_path, target_size=(img_height, img_width))\n",
        "  img = img_to_array(img)\n",
        "  img = np.expand_dims(img, axis=0)\n",
        "  img = vgg19.preprocess_input(img)\n",
        "  return img\n",
        "\n",
        "def deprocess_image(x):\n",
        "  x[:, :, 0] += 103.939\n",
        "  x[:, :, 1] += 116.779\n",
        "  x[:, :, 2] += 123.68\n",
        "  x = x[:, :, ::-1]\n",
        "  x = np.clip(x, 0, 255).astype('uint8')\n",
        "  return x"
      ],
      "execution_count": 62,
      "outputs": []
    },
    {
      "cell_type": "code",
      "metadata": {
        "colab": {
          "base_uri": "https://localhost:8080/"
        },
        "id": "qD-_kBKV9LW9",
        "outputId": "aa628aee-669b-4f11-f2ba-63cee03767d2"
      },
      "source": [
        "from keras import backend as K\n",
        "\n",
        "target_image = K.constant(preprocess_image(target_image_path))\n",
        "style_reference_image = K.constant(preprocess_image(style_reference_image_path))\n",
        "combination_image = K.placeholder((1, img_height, img_width, 3))\n",
        "\n",
        "input_tensor = K.concatenate([target_image,\n",
        "                              style_reference_image,\n",
        "                              combination_image], axis=0)\n",
        "\n",
        "model = vgg19.VGG19(input_tensor=input_tensor,\n",
        "                    weights='imagenet',\n",
        "                    include_top=False)\n",
        "print('Model loaded.')"
      ],
      "execution_count": 63,
      "outputs": [
        {
          "output_type": "stream",
          "name": "stdout",
          "text": [
            "Model loaded.\n"
          ]
        }
      ]
    },
    {
      "cell_type": "code",
      "metadata": {
        "id": "ghqhmdNa9UcP"
      },
      "source": [
        "def content_loss(base, combination):\n",
        "  return K.sum(K.square(combination - base))"
      ],
      "execution_count": 64,
      "outputs": []
    },
    {
      "cell_type": "code",
      "metadata": {
        "id": "pae3O7eR9Z4p"
      },
      "source": [
        "def gram_matrix(x):\n",
        "  features = K.batch_flatten(K.permute_dimensions(x, (2, 0, 1)))\n",
        "  gram = K.dot(features, K.transpose(features))\n",
        "  return gram\n",
        "\n",
        "def style_loss(style, combination):\n",
        "  S = gram_matrix(style)\n",
        "  C = gram_matrix(combination)\n",
        "  channels = 3\n",
        "  size = img_height * img_width\n",
        "  return K.sum(K.square(S - C)) / (4. * (channels ** 2) * (size ** 2))"
      ],
      "execution_count": 65,
      "outputs": []
    },
    {
      "cell_type": "code",
      "metadata": {
        "id": "4Ji4FK9f9lSj"
      },
      "source": [
        "# Total variation loss\n",
        "\n",
        "def total_variation_loss(x):\n",
        "  a = K.square(\n",
        "      x[:, :img_height - 1, :img_width - 1, :] -\n",
        "      x[:, 1:, :img_width - 1, :])\n",
        "  b = K.square(\n",
        "      x[:, :img_height - 1, :img_width - 1, :] -\n",
        "      x[:, :img_height - 1, 1:, :])\n",
        "  return K.sum(K.pow(a + b, 1.25))"
      ],
      "execution_count": 66,
      "outputs": []
    },
    {
      "cell_type": "code",
      "metadata": {
        "id": "-kKn5PlO9ufe"
      },
      "source": [
        "# Defining the final loss that you’ll minimize\n",
        "\n",
        "outputs_dict = dict([(layer.name, layer.output) for layer in model.layers])\n",
        "\n",
        "content_layer = 'block5_conv2'\n",
        "style_layers = ['block1_conv1',\n",
        "                'block2_conv1',\n",
        "                'block3_conv1',\n",
        "                'block4_conv1',\n",
        "                'block5_conv1']\n",
        "\n",
        "total_variation_weight = 1e-4\n",
        "style_weight = 1.\n",
        "content_weight = 0.025\n",
        "\n",
        "loss = K.variable(0.)\n",
        "\n",
        "layer_features = outputs_dict[content_layer]\n",
        "target_image_features = layer_features[0, :, :, :]\n",
        "combination_features = layer_features[2, :, :, :]\n",
        "\n",
        "loss = loss + content_weight * content_loss(target_image_features,\n",
        "                                            combination_features)\n",
        "\n",
        "for layer_name in style_layers:\n",
        "  layer_features = outputs_dict[layer_name]\n",
        "  style_reference_features = layer_features[1, :, :, :]\n",
        "  combination_features = layer_features[2, :, :, :]\n",
        "  sl = style_loss(style_reference_features, combination_features)\n",
        "  loss += (style_weight / len(style_layers)) * sl\n",
        "\n",
        "loss = loss +  total_variation_weight * total_variation_loss(combination_image)"
      ],
      "execution_count": 67,
      "outputs": []
    },
    {
      "cell_type": "code",
      "metadata": {
        "id": "QZE_6haR-Ptb"
      },
      "source": [
        "# Setting up the gradient-descent process\n",
        "\n",
        "grads = K.gradients(loss, combination_image)[0]\n",
        "\n",
        "fetch_loss_and_grads = K.function([combination_image], [loss, grads])\n",
        "\n",
        "class Evaluator(object):\n",
        "  def __init__(self):\n",
        "    self.loss_value = None\n",
        "    self.grads_values = None\n",
        "\n",
        "  def loss(self, x):\n",
        "    assert self.loss_value is None\n",
        "    x = x.reshape((1, img_height, img_width, 3))\n",
        "    outs = fetch_loss_and_grads([x])\n",
        "    loss_value = outs[0]\n",
        "    grad_values = outs[1].flatten().astype('float64')\n",
        "    self.loss_value = loss_value\n",
        "    self.grad_values = grad_values\n",
        "    return self.loss_value\n",
        "\n",
        "  def grads(self, x):\n",
        "    assert self.loss_value is not None\n",
        "    grad_values = np.copy(self.grad_values)\n",
        "    self.loss_value = None\n",
        "    self.grad_values = None\n",
        "    return grad_values\n",
        "\n",
        "\n",
        "evaluator = Evaluator()"
      ],
      "execution_count": 68,
      "outputs": []
    },
    {
      "cell_type": "code",
      "metadata": {
        "colab": {
          "base_uri": "https://localhost:8080/"
        },
        "id": "AT4jrB80-nz7",
        "outputId": "45d6bae8-1c44-4dad-e561-d657bc17bb5a"
      },
      "source": [
        "from scipy.optimize import fmin_l_bfgs_b\n",
        "from tensorflow.keras.preprocessing.image import save_img\n",
        "#from scipy.misc import imsave\n",
        "import time\n",
        "\n",
        "result_prefix = 'my_result'\n",
        "iterations = 20\n",
        "\n",
        "x = preprocess_image(target_image_path)\n",
        "x = x.flatten()\n",
        "\n",
        "for i in range(iterations):\n",
        "  print('Start of iteration', i)\n",
        "  start_time = time.time()\n",
        "  x, min_val, info = fmin_l_bfgs_b(evaluator.loss,\n",
        "                                   x,\n",
        "                                   fprime=evaluator.grads,\n",
        "                                   maxfun=20)\n",
        "  print('Current loss value:', min_val)\n",
        "  img = x.copy().reshape((img_height, img_width, 3))\n",
        "  img = deprocess_image(img)\n",
        "  fname = result_prefix + '_at_iteration_%d.png' % i\n",
        "  save_img(fname, img)\n",
        "  print('Image saved as', fname)\n",
        "  end_time = time.time()\n",
        "  print('Iteration %d completed in %ds' % (i, end_time - start_time))"
      ],
      "execution_count": 69,
      "outputs": [
        {
          "output_type": "stream",
          "name": "stdout",
          "text": [
            "Start of iteration 0\n",
            "Current loss value: 8228165600.0\n",
            "Image saved as my_result_at_iteration_0.png\n",
            "Iteration 0 completed in 8s\n",
            "Start of iteration 1\n",
            "Current loss value: 3410829800.0\n",
            "Image saved as my_result_at_iteration_1.png\n",
            "Iteration 1 completed in 7s\n",
            "Start of iteration 2\n",
            "Current loss value: 2336142800.0\n",
            "Image saved as my_result_at_iteration_2.png\n",
            "Iteration 2 completed in 7s\n",
            "Start of iteration 3\n",
            "Current loss value: 1591412100.0\n",
            "Image saved as my_result_at_iteration_3.png\n",
            "Iteration 3 completed in 7s\n",
            "Start of iteration 4\n",
            "Current loss value: 1237091300.0\n",
            "Image saved as my_result_at_iteration_4.png\n",
            "Iteration 4 completed in 7s\n",
            "Start of iteration 5\n",
            "Current loss value: 1027168900.0\n",
            "Image saved as my_result_at_iteration_5.png\n",
            "Iteration 5 completed in 7s\n",
            "Start of iteration 6\n",
            "Current loss value: 891137340.0\n",
            "Image saved as my_result_at_iteration_6.png\n",
            "Iteration 6 completed in 7s\n",
            "Start of iteration 7\n",
            "Current loss value: 772568900.0\n",
            "Image saved as my_result_at_iteration_7.png\n",
            "Iteration 7 completed in 7s\n",
            "Start of iteration 8\n",
            "Current loss value: 684865900.0\n",
            "Image saved as my_result_at_iteration_8.png\n",
            "Iteration 8 completed in 7s\n",
            "Start of iteration 9\n",
            "Current loss value: 616296450.0\n",
            "Image saved as my_result_at_iteration_9.png\n",
            "Iteration 9 completed in 7s\n",
            "Start of iteration 10\n",
            "Current loss value: 570421600.0\n",
            "Image saved as my_result_at_iteration_10.png\n",
            "Iteration 10 completed in 7s\n",
            "Start of iteration 11\n",
            "Current loss value: 532536220.0\n",
            "Image saved as my_result_at_iteration_11.png\n",
            "Iteration 11 completed in 7s\n",
            "Start of iteration 12\n",
            "Current loss value: 497891040.0\n",
            "Image saved as my_result_at_iteration_12.png\n",
            "Iteration 12 completed in 7s\n",
            "Start of iteration 13\n",
            "Current loss value: 467835650.0\n",
            "Image saved as my_result_at_iteration_13.png\n",
            "Iteration 13 completed in 7s\n",
            "Start of iteration 14\n",
            "Current loss value: 444560480.0\n",
            "Image saved as my_result_at_iteration_14.png\n",
            "Iteration 14 completed in 7s\n",
            "Start of iteration 15\n",
            "Current loss value: 419562720.0\n",
            "Image saved as my_result_at_iteration_15.png\n",
            "Iteration 15 completed in 7s\n",
            "Start of iteration 16\n",
            "Current loss value: 401933950.0\n",
            "Image saved as my_result_at_iteration_16.png\n",
            "Iteration 16 completed in 7s\n",
            "Start of iteration 17\n",
            "Current loss value: 383175970.0\n",
            "Image saved as my_result_at_iteration_17.png\n",
            "Iteration 17 completed in 7s\n",
            "Start of iteration 18\n",
            "Current loss value: 368051970.0\n",
            "Image saved as my_result_at_iteration_18.png\n",
            "Iteration 18 completed in 7s\n",
            "Start of iteration 19\n",
            "Current loss value: 356782600.0\n",
            "Image saved as my_result_at_iteration_19.png\n",
            "Iteration 19 completed in 7s\n"
          ]
        }
      ]
    },
    {
      "cell_type": "code",
      "metadata": {
        "id": "rLA6iavx_WVX"
      },
      "source": [
        ""
      ],
      "execution_count": 69,
      "outputs": []
    }
  ]
}