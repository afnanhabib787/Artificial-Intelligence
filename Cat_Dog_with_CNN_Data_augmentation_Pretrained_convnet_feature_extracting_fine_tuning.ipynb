{
  "nbformat": 4,
  "nbformat_minor": 0,
  "metadata": {
    "colab": {
      "name": "Cat Dog with CNN-Data augmentation-Pretrained convnet-feature extracting-fine tuning.ipynb",
      "provenance": [],
      "collapsed_sections": [],
      "authorship_tag": "ABX9TyOht1HtmwaH0QBM3DlNDxTD",
      "include_colab_link": true
    },
    "kernelspec": {
      "name": "python3",
      "display_name": "Python 3"
    },
    "language_info": {
      "name": "python"
    },
    "accelerator": "GPU"
  },
  "cells": [
    {
      "cell_type": "markdown",
      "metadata": {
        "id": "view-in-github",
        "colab_type": "text"
      },
      "source": [
        "<a href=\"https://colab.research.google.com/github/afnanhabib787/Artificial-Intelligence/blob/main/Cat_Dog_with_CNN_Data_augmentation_Pretrained_convnet_feature_extracting_fine_tuning.ipynb\" target=\"_parent\"><img src=\"https://colab.research.google.com/assets/colab-badge.svg\" alt=\"Open In Colab\"/></a>"
      ]
    },
    {
      "cell_type": "code",
      "metadata": {
        "colab": {
          "base_uri": "https://localhost:8080/"
        },
        "id": "n_r-_QioRVpD",
        "outputId": "bb0a6834-abb2-44d2-c623-d85d0fde3815"
      },
      "source": [
        "!pip install kaggle\\"
      ],
      "execution_count": 1,
      "outputs": [
        {
          "output_type": "stream",
          "name": "stdout",
          "text": [
            "Requirement already satisfied: kaggle in /usr/local/lib/python3.7/dist-packages (1.5.12)\n",
            "Requirement already satisfied: python-dateutil in /usr/local/lib/python3.7/dist-packages (from kaggle) (2.8.2)\n",
            "Requirement already satisfied: tqdm in /usr/local/lib/python3.7/dist-packages (from kaggle) (4.62.2)\n",
            "Requirement already satisfied: certifi in /usr/local/lib/python3.7/dist-packages (from kaggle) (2021.5.30)\n",
            "Requirement already satisfied: requests in /usr/local/lib/python3.7/dist-packages (from kaggle) (2.23.0)\n",
            "Requirement already satisfied: urllib3 in /usr/local/lib/python3.7/dist-packages (from kaggle) (1.24.3)\n",
            "Requirement already satisfied: six>=1.10 in /usr/local/lib/python3.7/dist-packages (from kaggle) (1.15.0)\n",
            "Requirement already satisfied: python-slugify in /usr/local/lib/python3.7/dist-packages (from kaggle) (5.0.2)\n",
            "Requirement already satisfied: text-unidecode>=1.3 in /usr/local/lib/python3.7/dist-packages (from python-slugify->kaggle) (1.3)\n",
            "Requirement already satisfied: chardet<4,>=3.0.2 in /usr/local/lib/python3.7/dist-packages (from requests->kaggle) (3.0.4)\n",
            "Requirement already satisfied: idna<3,>=2.5 in /usr/local/lib/python3.7/dist-packages (from requests->kaggle) (2.10)\n"
          ]
        }
      ]
    },
    {
      "cell_type": "code",
      "metadata": {
        "colab": {
          "base_uri": "https://localhost:8080/",
          "height": 35
        },
        "id": "RKN_dAQosHOb",
        "outputId": "163db2cc-6236-4b7d-8ae7-74496821e87e"
      },
      "source": [
        "import tensorflow as tf\n",
        "tf.test.gpu_device_name()"
      ],
      "execution_count": 1,
      "outputs": [
        {
          "output_type": "execute_result",
          "data": {
            "application/vnd.google.colaboratory.intrinsic+json": {
              "type": "string"
            },
            "text/plain": [
              "'/device:GPU:0'"
            ]
          },
          "metadata": {},
          "execution_count": 1
        }
      ]
    },
    {
      "cell_type": "code",
      "metadata": {
        "colab": {
          "resources": {
            "http://localhost:8080/nbextensions/google.colab/files.js": {
              "data": "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",
              "ok": true,
              "headers": [
                [
                  "content-type",
                  "application/javascript"
                ]
              ],
              "status": 200,
              "status_text": ""
            }
          },
          "base_uri": "https://localhost:8080/",
          "height": 109
        },
        "id": "YdQ9SxmJRjgP",
        "outputId": "1c112363-dda1-48da-c2c0-ca2bec80e4f5"
      },
      "source": [
        "from google.colab import files\n",
        "files.upload()"
      ],
      "execution_count": 2,
      "outputs": [
        {
          "output_type": "display_data",
          "data": {
            "text/html": [
              "\n",
              "     <input type=\"file\" id=\"files-40792f44-1610-4d06-9f3a-1f4e58c018e1\" name=\"files[]\" multiple disabled\n",
              "        style=\"border:none\" />\n",
              "     <output id=\"result-40792f44-1610-4d06-9f3a-1f4e58c018e1\">\n",
              "      Upload widget is only available when the cell has been executed in the\n",
              "      current browser session. Please rerun this cell to enable.\n",
              "      </output>\n",
              "      <script src=\"/nbextensions/google.colab/files.js\"></script> "
            ],
            "text/plain": [
              "<IPython.core.display.HTML object>"
            ]
          },
          "metadata": {}
        },
        {
          "output_type": "stream",
          "name": "stdout",
          "text": [
            "Saving kaggle.json to kaggle.json\n"
          ]
        },
        {
          "output_type": "execute_result",
          "data": {
            "text/plain": [
              "{'kaggle.json': b'{\"username\":\"afnanhabib787\",\"key\":\"30b2e622f6c5384f87a3c6ea1e6a3cab\"}'}"
            ]
          },
          "metadata": {},
          "execution_count": 2
        }
      ]
    },
    {
      "cell_type": "code",
      "metadata": {
        "id": "nOE5rhQaRl_R"
      },
      "source": [
        "#Make a directory named kaggle and copy the kaggle.json file there.\n",
        "!mkdir -p ~/.kaggle\n",
        "!cp kaggle.json ~/.kaggle/\n",
        "# change the permission of the file\n",
        "!chmod 600 ~/.kaggle/kaggle.json"
      ],
      "execution_count": 3,
      "outputs": []
    },
    {
      "cell_type": "code",
      "metadata": {
        "colab": {
          "base_uri": "https://localhost:8080/"
        },
        "id": "XldFIhGrRqJh",
        "outputId": "ad337e8c-1238-43a8-b92b-de687c41476a"
      },
      "source": [
        "!kaggle datasets download -d biaiscience/dogs-vs-cats"
      ],
      "execution_count": 4,
      "outputs": [
        {
          "output_type": "stream",
          "name": "stdout",
          "text": [
            "Downloading dogs-vs-cats.zip to /content\n",
            "100% 814M/817M [00:05<00:00, 160MB/s]\n",
            "100% 817M/817M [00:05<00:00, 154MB/s]\n"
          ]
        }
      ]
    },
    {
      "cell_type": "code",
      "metadata": {
        "colab": {
          "base_uri": "https://localhost:8080/"
        },
        "id": "CA0P3i1aR0Xo",
        "outputId": "9feb3f03-5ce0-453c-9e84-c3444a59bda5"
      },
      "source": [
        "from zipfile import ZipFile\n",
        "file_name = 'dogs-vs-cats.zip' #the file is your dataset exact name\n",
        "with ZipFile(file_name, 'r') as zip:\n",
        "  zip.extractall()\n",
        "  print('Done')"
      ],
      "execution_count": 5,
      "outputs": [
        {
          "output_type": "stream",
          "name": "stdout",
          "text": [
            "Done\n"
          ]
        }
      ]
    },
    {
      "cell_type": "code",
      "metadata": {
        "id": "v-wkM9ekTZtd"
      },
      "source": [
        "import os, shutil"
      ],
      "execution_count": 6,
      "outputs": []
    },
    {
      "cell_type": "code",
      "metadata": {
        "id": "rGwL3WjsTpXi"
      },
      "source": [
        "original_dataset_dir = '/content/train/train'\n"
      ],
      "execution_count": 7,
      "outputs": []
    },
    {
      "cell_type": "code",
      "metadata": {
        "id": "EylIjsdTT7DZ"
      },
      "source": [
        "base_dir = '/content/cats_and_dogs_small'\n",
        "os.mkdir(base_dir)"
      ],
      "execution_count": 8,
      "outputs": []
    },
    {
      "cell_type": "code",
      "metadata": {
        "id": "QBw3mFznUFRE"
      },
      "source": [
        "train_dir = os.path.join(base_dir, 'train')\n",
        "os.mkdir(train_dir)"
      ],
      "execution_count": 9,
      "outputs": []
    },
    {
      "cell_type": "code",
      "metadata": {
        "id": "yKig4zYkUXKC"
      },
      "source": [
        "validation_dir = os.path.join(base_dir, 'validation')\n",
        "os.mkdir(validation_dir)"
      ],
      "execution_count": 10,
      "outputs": []
    },
    {
      "cell_type": "code",
      "metadata": {
        "id": "kVxFqLMHUm-r"
      },
      "source": [
        "test_dir = os.path.join(base_dir, 'test')\n",
        "os.mkdir(test_dir)"
      ],
      "execution_count": 11,
      "outputs": []
    },
    {
      "cell_type": "code",
      "metadata": {
        "id": "6MQr234oUxk9"
      },
      "source": [
        "train_cats_dir = os.path.join(train_dir, 'cats')\n",
        "os.mkdir(train_cats_dir)"
      ],
      "execution_count": 12,
      "outputs": []
    },
    {
      "cell_type": "code",
      "metadata": {
        "id": "iFCrLm9KVAoV"
      },
      "source": [
        "train_dogs_dir = os.path.join(train_dir, 'dogs')\n",
        "os.mkdir(train_dogs_dir)"
      ],
      "execution_count": 13,
      "outputs": []
    },
    {
      "cell_type": "code",
      "metadata": {
        "id": "6pxMYbvvVI_Q"
      },
      "source": [
        "validation_cats_dir = os.path.join(validation_dir, 'cats')\n",
        "os.mkdir(validation_cats_dir)"
      ],
      "execution_count": 14,
      "outputs": []
    },
    {
      "cell_type": "code",
      "metadata": {
        "id": "Z0EnyAhsViEC"
      },
      "source": [
        "validation_dogs_dir = os.path.join(validation_dir, 'dogs')\n",
        "os.mkdir(validation_dogs_dir)"
      ],
      "execution_count": 15,
      "outputs": []
    },
    {
      "cell_type": "code",
      "metadata": {
        "id": "Rdg86P_SVwB7"
      },
      "source": [
        "test_cats_dir = os.path.join(test_dir, 'cats')\n",
        "os.mkdir(test_cats_dir)"
      ],
      "execution_count": 16,
      "outputs": []
    },
    {
      "cell_type": "code",
      "metadata": {
        "id": "ArsU683rWFuI"
      },
      "source": [
        "test_dogs_dir = os.path.join(test_dir, 'dogs')\n",
        "os.mkdir(test_dogs_dir)"
      ],
      "execution_count": 17,
      "outputs": []
    },
    {
      "cell_type": "code",
      "metadata": {
        "id": "TgbuwZgPWPUw"
      },
      "source": [
        "fnames = ['cat.{}.jpg'.format(i) for i in range(1000)]\n",
        "for fname in fnames:\n",
        "  src = os.path.join(original_dataset_dir, fname)\n",
        "  dst = os.path.join(train_cats_dir, fname)\n",
        "  shutil.copyfile(src, dst)"
      ],
      "execution_count": 18,
      "outputs": []
    },
    {
      "cell_type": "code",
      "metadata": {
        "id": "2IgC5IgeYIPB"
      },
      "source": [
        "fnames = ['cat.{}.jpg'.format(i) for i in range(1000, 1500)]\n",
        "for fname in fnames:\n",
        "  src = os.path.join(original_dataset_dir, fname)\n",
        "  dst = os.path.join(validation_cats_dir,fname)\n",
        "  shutil.copyfile(src, dst)"
      ],
      "execution_count": 19,
      "outputs": []
    },
    {
      "cell_type": "code",
      "metadata": {
        "id": "suPirRHPZUt2"
      },
      "source": [
        "fnames = ['cat.{}.jpg'.format(i) for i in range(1500, 2000)]\n",
        "for fname in fnames:\n",
        "  src = os.path.join(original_dataset_dir, fname)\n",
        "  dst = os.path.join(test_cats_dir,fname)\n",
        "  shutil.copyfile(src, dst)"
      ],
      "execution_count": 20,
      "outputs": []
    },
    {
      "cell_type": "code",
      "metadata": {
        "id": "frOswBS1ZsF9"
      },
      "source": [
        "fnames = ['dog.{}.jpg'.format(i) for i in range(1000)]\n",
        "for fname in fnames:\n",
        "  src = os.path.join(original_dataset_dir, fname)\n",
        "  dst = os.path.join(train_dogs_dir,fname)\n",
        "  shutil.copyfile(src, dst)"
      ],
      "execution_count": 21,
      "outputs": []
    },
    {
      "cell_type": "code",
      "metadata": {
        "id": "67MbS-ifaDih"
      },
      "source": [
        "fnames = ['dog.{}.jpg'.format(i) for i in range(1000, 1500)]\n",
        "for fname in fnames:\n",
        "  src = os.path.join(original_dataset_dir, fname)\n",
        "  dst = os.path.join(validation_dogs_dir,fname)\n",
        "  shutil.copyfile(src, dst)"
      ],
      "execution_count": 22,
      "outputs": []
    },
    {
      "cell_type": "code",
      "metadata": {
        "id": "vs7qqychaTnf"
      },
      "source": [
        "fnames = ['dog.{}.jpg'.format(i) for i in range(1500, 2000)]\n",
        "for fname in fnames:\n",
        "  src = os.path.join(original_dataset_dir, fname)\n",
        "  dst = os.path.join(test_dogs_dir,fname)\n",
        "  shutil.copyfile(src, dst)"
      ],
      "execution_count": 23,
      "outputs": []
    },
    {
      "cell_type": "code",
      "metadata": {
        "colab": {
          "base_uri": "https://localhost:8080/"
        },
        "id": "MejkoNucaYdz",
        "outputId": "f7776cb9-c5e4-47b6-e4c8-f5507829ba22"
      },
      "source": [
        "print('total training cat images:', len(os.listdir(train_cats_dir)))"
      ],
      "execution_count": 24,
      "outputs": [
        {
          "output_type": "stream",
          "name": "stdout",
          "text": [
            "total training cat images: 1000\n"
          ]
        }
      ]
    },
    {
      "cell_type": "code",
      "metadata": {
        "colab": {
          "base_uri": "https://localhost:8080/"
        },
        "id": "qVMZ1ycYazzY",
        "outputId": "b8b2bf4a-03b3-4f59-ed25-e1d059ca2576"
      },
      "source": [
        "print('total training dog images:', len(os.listdir(train_dogs_dir)))"
      ],
      "execution_count": 25,
      "outputs": [
        {
          "output_type": "stream",
          "name": "stdout",
          "text": [
            "total training dog images: 1000\n"
          ]
        }
      ]
    },
    {
      "cell_type": "code",
      "metadata": {
        "colab": {
          "base_uri": "https://localhost:8080/"
        },
        "id": "MDB0ak68a54b",
        "outputId": "b23fe954-9a27-4d04-e1ff-61b4f0716a02"
      },
      "source": [
        "print('total validation cat images:', len(os.listdir(validation_cats_dir)))"
      ],
      "execution_count": 26,
      "outputs": [
        {
          "output_type": "stream",
          "name": "stdout",
          "text": [
            "total validation cat images: 500\n"
          ]
        }
      ]
    },
    {
      "cell_type": "code",
      "metadata": {
        "colab": {
          "base_uri": "https://localhost:8080/"
        },
        "id": "X_NumxxWa-81",
        "outputId": "3508b778-42ab-4cef-8082-35138fde3bea"
      },
      "source": [
        "print('total validation dog images:', len(os.listdir(validation_dogs_dir)))"
      ],
      "execution_count": 27,
      "outputs": [
        {
          "output_type": "stream",
          "name": "stdout",
          "text": [
            "total validation dog images: 500\n"
          ]
        }
      ]
    },
    {
      "cell_type": "code",
      "metadata": {
        "id": "rB0mKrdqbFfb"
      },
      "source": [
        "from tensorflow.keras import layers\n",
        "from tensorflow.keras import models\n",
        "model = models.Sequential()\n",
        "\n",
        "model.add(layers.Conv2D(32, (3, 3), activation='relu',\n",
        "input_shape=(150, 150, 3)))\n",
        "model.add(layers.MaxPooling2D((2, 2)))\n",
        "\n",
        "model.add(layers.Conv2D(64, (3, 3), activation='relu'))\n",
        "model.add(layers.MaxPooling2D((2, 2)))\n",
        "\n",
        "model.add(layers.Conv2D(128, (3, 3), activation='relu'))\n",
        "model.add(layers.MaxPooling2D((2, 2)))\n",
        "\n",
        "model.add(layers.Conv2D(128, (3, 3), activation='relu'))\n",
        "model.add(layers.MaxPooling2D((2, 2)))\n",
        "\n",
        "\n",
        "model.add(layers.Flatten())\n",
        "model.add(layers.Dense(512, activation='relu'))\n",
        "model.add(layers.Dense(1, activation='sigmoid'))"
      ],
      "execution_count": 34,
      "outputs": []
    },
    {
      "cell_type": "code",
      "metadata": {
        "colab": {
          "base_uri": "https://localhost:8080/"
        },
        "id": "r_PwlvkucY8o",
        "outputId": "28789337-9ec4-428a-ea76-427ae79e6e32"
      },
      "source": [
        "model.summary()"
      ],
      "execution_count": 30,
      "outputs": [
        {
          "output_type": "stream",
          "name": "stdout",
          "text": [
            "Model: \"sequential\"\n",
            "_________________________________________________________________\n",
            "Layer (type)                 Output Shape              Param #   \n",
            "=================================================================\n",
            "conv2d (Conv2D)              (None, 148, 148, 32)      896       \n",
            "_________________________________________________________________\n",
            "max_pooling2d (MaxPooling2D) (None, 74, 74, 32)        0         \n",
            "_________________________________________________________________\n",
            "conv2d_1 (Conv2D)            (None, 72, 72, 64)        18496     \n",
            "_________________________________________________________________\n",
            "max_pooling2d_1 (MaxPooling2 (None, 36, 36, 64)        0         \n",
            "_________________________________________________________________\n",
            "conv2d_2 (Conv2D)            (None, 34, 34, 128)       73856     \n",
            "_________________________________________________________________\n",
            "max_pooling2d_2 (MaxPooling2 (None, 17, 17, 128)       0         \n",
            "_________________________________________________________________\n",
            "conv2d_3 (Conv2D)            (None, 15, 15, 128)       147584    \n",
            "_________________________________________________________________\n",
            "max_pooling2d_3 (MaxPooling2 (None, 7, 7, 128)         0         \n",
            "_________________________________________________________________\n",
            "flatten (Flatten)            (None, 6272)              0         \n",
            "_________________________________________________________________\n",
            "dense (Dense)                (None, 512)               3211776   \n",
            "_________________________________________________________________\n",
            "dense_1 (Dense)              (None, 1)                 513       \n",
            "=================================================================\n",
            "Total params: 3,453,121\n",
            "Trainable params: 3,453,121\n",
            "Non-trainable params: 0\n",
            "_________________________________________________________________\n"
          ]
        }
      ]
    },
    {
      "cell_type": "code",
      "metadata": {
        "id": "9Skef5fFcbuh"
      },
      "source": [
        "from tensorflow.keras import optimizers\n",
        "model.compile(loss='binary_crossentropy',\n",
        "              optimizer=optimizers.RMSprop(learning_rate=1e-4),\n",
        "              metrics=[['acc']])"
      ],
      "execution_count": 36,
      "outputs": []
    },
    {
      "cell_type": "code",
      "metadata": {
        "colab": {
          "base_uri": "https://localhost:8080/"
        },
        "id": "SV5iL0tYeY1w",
        "outputId": "2ea784ab-c5eb-441c-ae0e-5eb6dec35de6"
      },
      "source": [
        "from tensorflow.keras.preprocessing.image import ImageDataGenerator\n",
        "\n",
        "train_datagen = ImageDataGenerator(rescale=1./255)\n",
        "test_datagen = ImageDataGenerator(rescale=1./255)\n",
        "\n",
        "train_generator = train_datagen.flow_from_directory(\n",
        "    train_dir,\n",
        "    target_size=(150,150),\n",
        "    batch_size=20,\n",
        "    class_mode='binary'\n",
        ")\n",
        "validation_generator = test_datagen.flow_from_directory(\n",
        "    validation_dir,\n",
        "    target_size=(150,150),\n",
        "    batch_size=20,\n",
        "    class_mode='binary'\n",
        ")"
      ],
      "execution_count": 29,
      "outputs": [
        {
          "output_type": "stream",
          "name": "stdout",
          "text": [
            "Found 2000 images belonging to 2 classes.\n",
            "Found 1000 images belonging to 2 classes.\n"
          ]
        }
      ]
    },
    {
      "cell_type": "code",
      "metadata": {
        "id": "9F1TD4UTAexq"
      },
      "source": [
        ""
      ],
      "execution_count": 35,
      "outputs": []
    },
    {
      "cell_type": "code",
      "metadata": {
        "colab": {
          "base_uri": "https://localhost:8080/"
        },
        "id": "2uftCB77f0_3",
        "outputId": "53e91010-9ce6-49cb-b69a-883b1669ed8d"
      },
      "source": [
        "history = model.fit_generator(\n",
        "    train_generator,\n",
        "    steps_per_epoch=100,\n",
        "    epochs=30,\n",
        "    validation_data=validation_generator,\n",
        "    validation_steps=50)"
      ],
      "execution_count": 36,
      "outputs": [
        {
          "output_type": "stream",
          "name": "stderr",
          "text": [
            "/usr/local/lib/python3.7/dist-packages/keras/engine/training.py:1972: UserWarning: `Model.fit_generator` is deprecated and will be removed in a future version. Please use `Model.fit`, which supports generators.\n",
            "  warnings.warn('`Model.fit_generator` is deprecated and '\n"
          ]
        },
        {
          "output_type": "stream",
          "name": "stdout",
          "text": [
            "Epoch 1/30\n",
            "100/100 [==============================] - 44s 114ms/step - loss: 0.6929 - acc: 0.5345 - val_loss: 0.6757 - val_acc: 0.6050\n",
            "Epoch 2/30\n",
            "100/100 [==============================] - 11s 114ms/step - loss: 0.6570 - acc: 0.6080 - val_loss: 0.6487 - val_acc: 0.6200\n",
            "Epoch 3/30\n",
            "100/100 [==============================] - 11s 113ms/step - loss: 0.6213 - acc: 0.6615 - val_loss: 0.7000 - val_acc: 0.5610\n",
            "Epoch 4/30\n",
            "100/100 [==============================] - 11s 114ms/step - loss: 0.5839 - acc: 0.6910 - val_loss: 0.6281 - val_acc: 0.6330\n",
            "Epoch 5/30\n",
            "100/100 [==============================] - 12s 115ms/step - loss: 0.5401 - acc: 0.7290 - val_loss: 0.5807 - val_acc: 0.6900\n",
            "Epoch 6/30\n",
            "100/100 [==============================] - 11s 114ms/step - loss: 0.5106 - acc: 0.7460 - val_loss: 0.6038 - val_acc: 0.6710\n",
            "Epoch 7/30\n",
            "100/100 [==============================] - 11s 114ms/step - loss: 0.4816 - acc: 0.7550 - val_loss: 0.5695 - val_acc: 0.6870\n",
            "Epoch 8/30\n",
            "100/100 [==============================] - 11s 114ms/step - loss: 0.4452 - acc: 0.8020 - val_loss: 0.6077 - val_acc: 0.6870\n",
            "Epoch 9/30\n",
            "100/100 [==============================] - 11s 114ms/step - loss: 0.4225 - acc: 0.8070 - val_loss: 0.6006 - val_acc: 0.6910\n",
            "Epoch 10/30\n",
            "100/100 [==============================] - 11s 115ms/step - loss: 0.3961 - acc: 0.8295 - val_loss: 0.5654 - val_acc: 0.7150\n",
            "Epoch 11/30\n",
            "100/100 [==============================] - 11s 114ms/step - loss: 0.3658 - acc: 0.8425 - val_loss: 0.5410 - val_acc: 0.7270\n",
            "Epoch 12/30\n",
            "100/100 [==============================] - 11s 113ms/step - loss: 0.3461 - acc: 0.8555 - val_loss: 0.5662 - val_acc: 0.7210\n",
            "Epoch 13/30\n",
            "100/100 [==============================] - 11s 113ms/step - loss: 0.3196 - acc: 0.8630 - val_loss: 0.7282 - val_acc: 0.6740\n",
            "Epoch 14/30\n",
            "100/100 [==============================] - 11s 115ms/step - loss: 0.2901 - acc: 0.8830 - val_loss: 0.6072 - val_acc: 0.7040\n",
            "Epoch 15/30\n",
            "100/100 [==============================] - 11s 114ms/step - loss: 0.2678 - acc: 0.8930 - val_loss: 0.6162 - val_acc: 0.7300\n",
            "Epoch 16/30\n",
            "100/100 [==============================] - 11s 114ms/step - loss: 0.2390 - acc: 0.9060 - val_loss: 0.6128 - val_acc: 0.7210\n",
            "Epoch 17/30\n",
            "100/100 [==============================] - 11s 115ms/step - loss: 0.2115 - acc: 0.9210 - val_loss: 0.6647 - val_acc: 0.7170\n",
            "Epoch 18/30\n",
            "100/100 [==============================] - 11s 114ms/step - loss: 0.1896 - acc: 0.9295 - val_loss: 0.7981 - val_acc: 0.7080\n",
            "Epoch 19/30\n",
            "100/100 [==============================] - 11s 115ms/step - loss: 0.1658 - acc: 0.9355 - val_loss: 0.6450 - val_acc: 0.7410\n",
            "Epoch 20/30\n",
            "100/100 [==============================] - 13s 135ms/step - loss: 0.1435 - acc: 0.9505 - val_loss: 0.7262 - val_acc: 0.7110\n",
            "Epoch 21/30\n",
            "100/100 [==============================] - 12s 115ms/step - loss: 0.1273 - acc: 0.9575 - val_loss: 0.7268 - val_acc: 0.7220\n",
            "Epoch 22/30\n",
            "100/100 [==============================] - 11s 115ms/step - loss: 0.1003 - acc: 0.9660 - val_loss: 0.8067 - val_acc: 0.7210\n",
            "Epoch 23/30\n",
            "100/100 [==============================] - 11s 114ms/step - loss: 0.0893 - acc: 0.9715 - val_loss: 0.9406 - val_acc: 0.7100\n",
            "Epoch 24/30\n",
            "100/100 [==============================] - 12s 115ms/step - loss: 0.0785 - acc: 0.9770 - val_loss: 1.0089 - val_acc: 0.7060\n",
            "Epoch 25/30\n",
            "100/100 [==============================] - 12s 115ms/step - loss: 0.0646 - acc: 0.9810 - val_loss: 0.9782 - val_acc: 0.7090\n",
            "Epoch 26/30\n",
            "100/100 [==============================] - 12s 115ms/step - loss: 0.0541 - acc: 0.9870 - val_loss: 1.0235 - val_acc: 0.7000\n",
            "Epoch 27/30\n",
            "100/100 [==============================] - 12s 116ms/step - loss: 0.0477 - acc: 0.9865 - val_loss: 0.9824 - val_acc: 0.7060\n",
            "Epoch 28/30\n",
            "100/100 [==============================] - 12s 117ms/step - loss: 0.0425 - acc: 0.9855 - val_loss: 1.0951 - val_acc: 0.7050\n",
            "Epoch 29/30\n",
            "100/100 [==============================] - 12s 115ms/step - loss: 0.0329 - acc: 0.9930 - val_loss: 1.2419 - val_acc: 0.7060\n",
            "Epoch 30/30\n",
            "100/100 [==============================] - 12s 116ms/step - loss: 0.0315 - acc: 0.9915 - val_loss: 1.1814 - val_acc: 0.7080\n"
          ]
        }
      ]
    },
    {
      "cell_type": "code",
      "metadata": {
        "id": "SI4wdHCIhZ97"
      },
      "source": [
        "model.save('cats_and_dogs_small_1.h5')"
      ],
      "execution_count": 37,
      "outputs": []
    },
    {
      "cell_type": "code",
      "metadata": {
        "colab": {
          "base_uri": "https://localhost:8080/"
        },
        "id": "1XG82yC0lZq0",
        "outputId": "0561a54b-da96-45fa-883b-04e4e73acc97"
      },
      "source": [
        ""
      ],
      "execution_count": 56,
      "outputs": [
        {
          "output_type": "execute_result",
          "data": {
            "text/plain": [
              "[0.6140000224113464]"
            ]
          },
          "metadata": {},
          "execution_count": 56
        }
      ]
    },
    {
      "cell_type": "code",
      "metadata": {
        "colab": {
          "base_uri": "https://localhost:8080/",
          "height": 673
        },
        "id": "S8-rhDiGqt8j",
        "outputId": "91373d6b-0c0a-4736-d68b-f3f93cb0050e"
      },
      "source": [
        "import matplotlib.pyplot as plt\n",
        "\n",
        "acc = history.history['acc']\n",
        "val_acc = history.history['val_acc']\n",
        "loss = history.history['loss']\n",
        "val_loss = history.history['val_loss']\n",
        "\n",
        "epochs = range(1, len(acc) + 1)\n",
        "\n",
        "plt.plot(epochs, acc, 'bo', label='Training acc')\n",
        "plt.plot(epochs, val_acc, 'b', label='Validation acc')\n",
        "plt.title('Training and Validataion accuracy')\n",
        "plt.legend()\n",
        "plt.figure()\n",
        "\n",
        "plt.plot(epochs, loss, 'bo', label='Training loss')\n",
        "plt.plot(epochs, val_loss, 'b', label='Validation loss')\n",
        "plt.title('Training and Validation loss')\n",
        "plt.legend()\n",
        "\n",
        "plt.show()"
      ],
      "execution_count": 54,
      "outputs": [
        {
          "output_type": "error",
          "ename": "ValueError",
          "evalue": "ignored",
          "traceback": [
            "\u001b[0;31m---------------------------------------------------------------------------\u001b[0m",
            "\u001b[0;31mValueError\u001b[0m                                Traceback (most recent call last)",
            "\u001b[0;32m<ipython-input-54-ad37e1eea618>\u001b[0m in \u001b[0;36m<module>\u001b[0;34m()\u001b[0m\n\u001b[1;32m     11\u001b[0m \u001b[0;34m\u001b[0m\u001b[0m\n\u001b[1;32m     12\u001b[0m \u001b[0mplt\u001b[0m\u001b[0;34m.\u001b[0m\u001b[0mplot\u001b[0m\u001b[0;34m(\u001b[0m\u001b[0mepochs\u001b[0m\u001b[0;34m,\u001b[0m \u001b[0mloss\u001b[0m\u001b[0;34m,\u001b[0m \u001b[0;34m'bo'\u001b[0m\u001b[0;34m,\u001b[0m \u001b[0mlabel\u001b[0m\u001b[0;34m=\u001b[0m\u001b[0;34m'Training loss'\u001b[0m\u001b[0;34m)\u001b[0m\u001b[0;34m\u001b[0m\u001b[0;34m\u001b[0m\u001b[0m\n\u001b[0;32m---> 13\u001b[0;31m \u001b[0mplt\u001b[0m\u001b[0;34m.\u001b[0m\u001b[0mplot\u001b[0m\u001b[0;34m(\u001b[0m\u001b[0mepochs\u001b[0m\u001b[0;34m,\u001b[0m \u001b[0mval_loss\u001b[0m\u001b[0;34m,\u001b[0m \u001b[0;34m'b'\u001b[0m\u001b[0;34m,\u001b[0m \u001b[0mlabel\u001b[0m\u001b[0;34m=\u001b[0m\u001b[0;34m'Validation loss'\u001b[0m\u001b[0;34m)\u001b[0m\u001b[0;34m\u001b[0m\u001b[0;34m\u001b[0m\u001b[0m\n\u001b[0m\u001b[1;32m     14\u001b[0m \u001b[0mplt\u001b[0m\u001b[0;34m.\u001b[0m\u001b[0mtitle\u001b[0m\u001b[0;34m(\u001b[0m\u001b[0;34m'Training and Validation loss'\u001b[0m\u001b[0;34m)\u001b[0m\u001b[0;34m\u001b[0m\u001b[0;34m\u001b[0m\u001b[0m\n\u001b[1;32m     15\u001b[0m \u001b[0mplt\u001b[0m\u001b[0;34m.\u001b[0m\u001b[0mlegend\u001b[0m\u001b[0;34m(\u001b[0m\u001b[0;34m)\u001b[0m\u001b[0;34m\u001b[0m\u001b[0;34m\u001b[0m\u001b[0m\n",
            "\u001b[0;32m/usr/local/lib/python3.7/dist-packages/matplotlib/pyplot.py\u001b[0m in \u001b[0;36mplot\u001b[0;34m(scalex, scaley, data, *args, **kwargs)\u001b[0m\n\u001b[1;32m   2761\u001b[0m     return gca().plot(\n\u001b[1;32m   2762\u001b[0m         *args, scalex=scalex, scaley=scaley, **({\"data\": data} if data\n\u001b[0;32m-> 2763\u001b[0;31m         is not None else {}), **kwargs)\n\u001b[0m\u001b[1;32m   2764\u001b[0m \u001b[0;34m\u001b[0m\u001b[0m\n\u001b[1;32m   2765\u001b[0m \u001b[0;34m\u001b[0m\u001b[0m\n",
            "\u001b[0;32m/usr/local/lib/python3.7/dist-packages/matplotlib/axes/_axes.py\u001b[0m in \u001b[0;36mplot\u001b[0;34m(self, scalex, scaley, data, *args, **kwargs)\u001b[0m\n\u001b[1;32m   1645\u001b[0m         \"\"\"\n\u001b[1;32m   1646\u001b[0m         \u001b[0mkwargs\u001b[0m \u001b[0;34m=\u001b[0m \u001b[0mcbook\u001b[0m\u001b[0;34m.\u001b[0m\u001b[0mnormalize_kwargs\u001b[0m\u001b[0;34m(\u001b[0m\u001b[0mkwargs\u001b[0m\u001b[0;34m,\u001b[0m \u001b[0mmlines\u001b[0m\u001b[0;34m.\u001b[0m\u001b[0mLine2D\u001b[0m\u001b[0;34m)\u001b[0m\u001b[0;34m\u001b[0m\u001b[0;34m\u001b[0m\u001b[0m\n\u001b[0;32m-> 1647\u001b[0;31m         \u001b[0mlines\u001b[0m \u001b[0;34m=\u001b[0m \u001b[0;34m[\u001b[0m\u001b[0;34m*\u001b[0m\u001b[0mself\u001b[0m\u001b[0;34m.\u001b[0m\u001b[0m_get_lines\u001b[0m\u001b[0;34m(\u001b[0m\u001b[0;34m*\u001b[0m\u001b[0margs\u001b[0m\u001b[0;34m,\u001b[0m \u001b[0mdata\u001b[0m\u001b[0;34m=\u001b[0m\u001b[0mdata\u001b[0m\u001b[0;34m,\u001b[0m \u001b[0;34m**\u001b[0m\u001b[0mkwargs\u001b[0m\u001b[0;34m)\u001b[0m\u001b[0;34m]\u001b[0m\u001b[0;34m\u001b[0m\u001b[0;34m\u001b[0m\u001b[0m\n\u001b[0m\u001b[1;32m   1648\u001b[0m         \u001b[0;32mfor\u001b[0m \u001b[0mline\u001b[0m \u001b[0;32min\u001b[0m \u001b[0mlines\u001b[0m\u001b[0;34m:\u001b[0m\u001b[0;34m\u001b[0m\u001b[0;34m\u001b[0m\u001b[0m\n\u001b[1;32m   1649\u001b[0m             \u001b[0mself\u001b[0m\u001b[0;34m.\u001b[0m\u001b[0madd_line\u001b[0m\u001b[0;34m(\u001b[0m\u001b[0mline\u001b[0m\u001b[0;34m)\u001b[0m\u001b[0;34m\u001b[0m\u001b[0;34m\u001b[0m\u001b[0m\n",
            "\u001b[0;32m/usr/local/lib/python3.7/dist-packages/matplotlib/axes/_base.py\u001b[0m in \u001b[0;36m__call__\u001b[0;34m(self, *args, **kwargs)\u001b[0m\n\u001b[1;32m    214\u001b[0m                 \u001b[0mthis\u001b[0m \u001b[0;34m+=\u001b[0m \u001b[0margs\u001b[0m\u001b[0;34m[\u001b[0m\u001b[0;36m0\u001b[0m\u001b[0;34m]\u001b[0m\u001b[0;34m,\u001b[0m\u001b[0;34m\u001b[0m\u001b[0;34m\u001b[0m\u001b[0m\n\u001b[1;32m    215\u001b[0m                 \u001b[0margs\u001b[0m \u001b[0;34m=\u001b[0m \u001b[0margs\u001b[0m\u001b[0;34m[\u001b[0m\u001b[0;36m1\u001b[0m\u001b[0;34m:\u001b[0m\u001b[0;34m]\u001b[0m\u001b[0;34m\u001b[0m\u001b[0;34m\u001b[0m\u001b[0m\n\u001b[0;32m--> 216\u001b[0;31m             \u001b[0;32myield\u001b[0m \u001b[0;32mfrom\u001b[0m \u001b[0mself\u001b[0m\u001b[0;34m.\u001b[0m\u001b[0m_plot_args\u001b[0m\u001b[0;34m(\u001b[0m\u001b[0mthis\u001b[0m\u001b[0;34m,\u001b[0m \u001b[0mkwargs\u001b[0m\u001b[0;34m)\u001b[0m\u001b[0;34m\u001b[0m\u001b[0;34m\u001b[0m\u001b[0m\n\u001b[0m\u001b[1;32m    217\u001b[0m \u001b[0;34m\u001b[0m\u001b[0m\n\u001b[1;32m    218\u001b[0m     \u001b[0;32mdef\u001b[0m \u001b[0mget_next_color\u001b[0m\u001b[0;34m(\u001b[0m\u001b[0mself\u001b[0m\u001b[0;34m)\u001b[0m\u001b[0;34m:\u001b[0m\u001b[0;34m\u001b[0m\u001b[0;34m\u001b[0m\u001b[0m\n",
            "\u001b[0;32m/usr/local/lib/python3.7/dist-packages/matplotlib/axes/_base.py\u001b[0m in \u001b[0;36m_plot_args\u001b[0;34m(self, tup, kwargs)\u001b[0m\n\u001b[1;32m    340\u001b[0m \u001b[0;34m\u001b[0m\u001b[0m\n\u001b[1;32m    341\u001b[0m         \u001b[0;32mif\u001b[0m \u001b[0mx\u001b[0m\u001b[0;34m.\u001b[0m\u001b[0mshape\u001b[0m\u001b[0;34m[\u001b[0m\u001b[0;36m0\u001b[0m\u001b[0;34m]\u001b[0m \u001b[0;34m!=\u001b[0m \u001b[0my\u001b[0m\u001b[0;34m.\u001b[0m\u001b[0mshape\u001b[0m\u001b[0;34m[\u001b[0m\u001b[0;36m0\u001b[0m\u001b[0;34m]\u001b[0m\u001b[0;34m:\u001b[0m\u001b[0;34m\u001b[0m\u001b[0;34m\u001b[0m\u001b[0m\n\u001b[0;32m--> 342\u001b[0;31m             raise ValueError(f\"x and y must have same first dimension, but \"\n\u001b[0m\u001b[1;32m    343\u001b[0m                              f\"have shapes {x.shape} and {y.shape}\")\n\u001b[1;32m    344\u001b[0m         \u001b[0;32mif\u001b[0m \u001b[0mx\u001b[0m\u001b[0;34m.\u001b[0m\u001b[0mndim\u001b[0m \u001b[0;34m>\u001b[0m \u001b[0;36m2\u001b[0m \u001b[0;32mor\u001b[0m \u001b[0my\u001b[0m\u001b[0;34m.\u001b[0m\u001b[0mndim\u001b[0m \u001b[0;34m>\u001b[0m \u001b[0;36m2\u001b[0m\u001b[0;34m:\u001b[0m\u001b[0;34m\u001b[0m\u001b[0;34m\u001b[0m\u001b[0m\n",
            "\u001b[0;31mValueError\u001b[0m: x and y must have same first dimension, but have shapes (100,) and (1,)"
          ]
        },
        {
          "output_type": "display_data",
          "data": {
            "image/png": "[encoded data removed]",
            "text/plain": [
              "<Figure size 432x288 with 1 Axes>"
            ]
          },
          "metadata": {
            "needs_background": "light"
          }
        }
      ]
    },
    {
      "cell_type": "code",
      "metadata": {
        "id": "sjbhKgkcMNIq"
      },
      "source": [
        "datagen = ImageDataGenerator(\n",
        "    rotation_range=40,\n",
        "    width_shift_range=0.2,\n",
        "    height_shift_range=0.2,\n",
        "    shear_range=0.2,\n",
        "    zoom_range=0.2,\n",
        "    horizontal_flip=True,\n",
        "    fill_mode='nearest'\n",
        ")"
      ],
      "execution_count": 30,
      "outputs": []
    },
    {
      "cell_type": "code",
      "metadata": {
        "id": "yqjd3C6wM-BZ"
      },
      "source": [
        "from keras.preprocessing import image\n",
        "\n",
        "fnames = [os.path.join(train_cats_dir, fname) for\n",
        "          fname in os.listdir(train_cats_dir)]\n",
        "\n",
        "img_path = fnames[3]\n",
        "\n",
        "img = image.load_img(img_path, target_size=(150,150))"
      ],
      "execution_count": 31,
      "outputs": []
    },
    {
      "cell_type": "code",
      "metadata": {
        "colab": {
          "base_uri": "https://localhost:8080/",
          "height": 231
        },
        "id": "rFu6k37JO5rD",
        "outputId": "5e9c36a0-718a-43fa-fc11-1ac398b4a8d5"
      },
      "source": [
        "x = image.img_to_array(img)\n",
        "\n",
        "x = x.reshape((1,) + x.shape)\n",
        "\n",
        "i = 0\n",
        "for batch in datagen.flow(x, batch_size=1):\n",
        "  plt.figure(i)\n",
        "  imgplot = plt.imshow(image.array_to_img(batch[0]))\n",
        "  i +=1\n",
        "  if i % 4 == 0:\n",
        "    break\n",
        "plt.show()"
      ],
      "execution_count": 32,
      "outputs": [
        {
          "output_type": "error",
          "ename": "NameError",
          "evalue": "ignored",
          "traceback": [
            "\u001b[0;31m---------------------------------------------------------------------------\u001b[0m",
            "\u001b[0;31mNameError\u001b[0m                                 Traceback (most recent call last)",
            "\u001b[0;32m<ipython-input-32-7cec4e48e69e>\u001b[0m in \u001b[0;36m<module>\u001b[0;34m()\u001b[0m\n\u001b[1;32m      5\u001b[0m \u001b[0mi\u001b[0m \u001b[0;34m=\u001b[0m \u001b[0;36m0\u001b[0m\u001b[0;34m\u001b[0m\u001b[0;34m\u001b[0m\u001b[0m\n\u001b[1;32m      6\u001b[0m \u001b[0;32mfor\u001b[0m \u001b[0mbatch\u001b[0m \u001b[0;32min\u001b[0m \u001b[0mdatagen\u001b[0m\u001b[0;34m.\u001b[0m\u001b[0mflow\u001b[0m\u001b[0;34m(\u001b[0m\u001b[0mx\u001b[0m\u001b[0;34m,\u001b[0m \u001b[0mbatch_size\u001b[0m\u001b[0;34m=\u001b[0m\u001b[0;36m1\u001b[0m\u001b[0;34m)\u001b[0m\u001b[0;34m:\u001b[0m\u001b[0;34m\u001b[0m\u001b[0;34m\u001b[0m\u001b[0m\n\u001b[0;32m----> 7\u001b[0;31m   \u001b[0mplt\u001b[0m\u001b[0;34m.\u001b[0m\u001b[0mfigure\u001b[0m\u001b[0;34m(\u001b[0m\u001b[0mi\u001b[0m\u001b[0;34m)\u001b[0m\u001b[0;34m\u001b[0m\u001b[0;34m\u001b[0m\u001b[0m\n\u001b[0m\u001b[1;32m      8\u001b[0m   \u001b[0mimgplot\u001b[0m \u001b[0;34m=\u001b[0m \u001b[0mplt\u001b[0m\u001b[0;34m.\u001b[0m\u001b[0mimshow\u001b[0m\u001b[0;34m(\u001b[0m\u001b[0mimage\u001b[0m\u001b[0;34m.\u001b[0m\u001b[0marray_to_img\u001b[0m\u001b[0;34m(\u001b[0m\u001b[0mbatch\u001b[0m\u001b[0;34m[\u001b[0m\u001b[0;36m0\u001b[0m\u001b[0;34m]\u001b[0m\u001b[0;34m)\u001b[0m\u001b[0;34m)\u001b[0m\u001b[0;34m\u001b[0m\u001b[0;34m\u001b[0m\u001b[0m\n\u001b[1;32m      9\u001b[0m   \u001b[0mi\u001b[0m \u001b[0;34m+=\u001b[0m\u001b[0;36m1\u001b[0m\u001b[0;34m\u001b[0m\u001b[0;34m\u001b[0m\u001b[0m\n",
            "\u001b[0;31mNameError\u001b[0m: name 'plt' is not defined"
          ]
        }
      ]
    },
    {
      "cell_type": "code",
      "metadata": {
        "id": "JZN6avRRPgh1"
      },
      "source": [
        "model = models.Sequential()\n",
        "\n",
        "model.add(layers.Conv2D(32, (3, 3), activation='relu',\n",
        "input_shape=(150, 150, 3)))\n",
        "model.add(layers.MaxPooling2D((2, 2)))\n",
        "\n",
        "model.add(layers.Conv2D(64, (3, 3), activation='relu'))\n",
        "model.add(layers.MaxPooling2D((2, 2)))\n",
        "\n",
        "model.add(layers.Conv2D(128, (3, 3), activation='relu'))\n",
        "model.add(layers.MaxPooling2D((2, 2)))\n",
        "\n",
        "model.add(layers.Conv2D(128, (3, 3), activation='relu'))\n",
        "model.add(layers.MaxPooling2D((2, 2)))\n",
        "\n",
        "model.add(layers.Flatten())\n",
        "\n",
        "model.add(layers.Dropout(0.5))\n",
        "\n",
        "model.add(layers.Dense(512, activation='relu'))\n",
        "model.add(layers.Dense(1, activation='sigmoid'))\n",
        "\n",
        "model.compile(loss='binary_crossentropy',\n",
        "optimizer=optimizers.RMSprop(learning_rate=1e-4),\n",
        "metrics=['acc'])"
      ],
      "execution_count": 37,
      "outputs": []
    },
    {
      "cell_type": "code",
      "metadata": {
        "colab": {
          "base_uri": "https://localhost:8080/"
        },
        "id": "ftwHoKVqQV-H",
        "outputId": "6323f31e-cf0a-49d5-b9a3-02fb7412e33d"
      },
      "source": [
        "train_datagen = ImageDataGenerator(\n",
        "    rescale=1./255,\n",
        "    rotation_range=40,\n",
        "    width_shift_range=0.2,\n",
        "    height_shift_range=0.2,\n",
        "    shear_range=0.2,\n",
        "    zoom_range=0.2,\n",
        "    horizontal_flip=True,)\n",
        "\n",
        "test_datagen = ImageDataGenerator(rescale=1./255)\n",
        "\n",
        "train_generator = train_datagen.flow_from_directory(\n",
        "    train_dir,\n",
        "    target_size=(150, 150),\n",
        "    batch_size=32,\n",
        "    class_mode='binary')\n",
        "validation_generator = test_datagen.flow_from_directory(\n",
        "    validation_dir,\n",
        "    target_size=(150, 150),\n",
        "    batch_size=32,\n",
        "    class_mode='binary')\n",
        "\n",
        "history = model.fit_generator(\n",
        "    train_generator,\n",
        "    steps_per_epoch=len(train_dir),\n",
        "    epochs=100,\n",
        "    validation_data=validation_generator,\n",
        "    validation_steps=len(test_dir))"
      ],
      "execution_count": 38,
      "outputs": [
        {
          "output_type": "stream",
          "name": "stdout",
          "text": [
            "Found 2000 images belonging to 2 classes.\n",
            "Found 1000 images belonging to 2 classes.\n"
          ]
        },
        {
          "output_type": "stream",
          "name": "stderr",
          "text": [
            "/usr/local/lib/python3.7/dist-packages/keras/engine/training.py:1972: UserWarning: `Model.fit_generator` is deprecated and will be removed in a future version. Please use `Model.fit`, which supports generators.\n",
            "  warnings.warn('`Model.fit_generator` is deprecated and '\n"
          ]
        },
        {
          "output_type": "stream",
          "name": "stdout",
          "text": [
            "Epoch 1/100\n",
            "34/34 [==============================] - ETA: 0s - loss: 0.6958 - acc: 0.4936WARNING:tensorflow:Your input ran out of data; interrupting training. Make sure that your dataset or generator can generate at least `steps_per_epoch * epochs` batches (in this case, 33 batches). You may need to use the repeat() function when building your dataset.\n",
            "34/34 [==============================] - 47s 429ms/step - loss: 0.6958 - acc: 0.4936 - val_loss: 0.6894 - val_acc: 0.5000\n",
            "Epoch 2/100\n",
            "34/34 [==============================] - 9s 270ms/step - loss: 0.6911 - acc: 0.5285\n",
            "Epoch 3/100\n",
            "34/34 [==============================] - 9s 268ms/step - loss: 0.6854 - acc: 0.5542\n",
            "Epoch 4/100\n",
            "34/34 [==============================] - 9s 269ms/step - loss: 0.6802 - acc: 0.5634\n",
            "Epoch 5/100\n",
            "34/34 [==============================] - 9s 269ms/step - loss: 0.6713 - acc: 0.5744\n",
            "Epoch 6/100\n",
            "34/34 [==============================] - 9s 276ms/step - loss: 0.6657 - acc: 0.5928\n",
            "Epoch 7/100\n",
            "34/34 [==============================] - 9s 270ms/step - loss: 0.6654 - acc: 0.5868\n",
            "Epoch 8/100\n",
            "34/34 [==============================] - 9s 268ms/step - loss: 0.6684 - acc: 0.5873\n",
            "Epoch 9/100\n",
            "34/34 [==============================] - 9s 266ms/step - loss: 0.6623 - acc: 0.6140\n",
            "Epoch 10/100\n",
            "34/34 [==============================] - 9s 265ms/step - loss: 0.6452 - acc: 0.6259\n",
            "Epoch 11/100\n",
            "34/34 [==============================] - 9s 270ms/step - loss: 0.6443 - acc: 0.6175\n",
            "Epoch 12/100\n",
            "34/34 [==============================] - 9s 271ms/step - loss: 0.6368 - acc: 0.6268\n",
            "Epoch 13/100\n",
            "34/34 [==============================] - 9s 273ms/step - loss: 0.6493 - acc: 0.6314\n",
            "Epoch 14/100\n",
            "34/34 [==============================] - 9s 269ms/step - loss: 0.6204 - acc: 0.6567\n",
            "Epoch 15/100\n",
            "34/34 [==============================] - 9s 270ms/step - loss: 0.6140 - acc: 0.6710\n",
            "Epoch 16/100\n",
            "34/34 [==============================] - 9s 271ms/step - loss: 0.6232 - acc: 0.6608\n",
            "Epoch 17/100\n",
            "34/34 [==============================] - 9s 271ms/step - loss: 0.6233 - acc: 0.6434\n",
            "Epoch 18/100\n",
            "34/34 [==============================] - 9s 270ms/step - loss: 0.6093 - acc: 0.6590\n",
            "Epoch 19/100\n",
            "34/34 [==============================] - 9s 265ms/step - loss: 0.6122 - acc: 0.6399\n",
            "Epoch 20/100\n",
            "34/34 [==============================] - 9s 270ms/step - loss: 0.5995 - acc: 0.6903\n",
            "Epoch 21/100\n",
            "34/34 [==============================] - 9s 265ms/step - loss: 0.5918 - acc: 0.6819\n",
            "Epoch 22/100\n",
            "34/34 [==============================] - 9s 266ms/step - loss: 0.5856 - acc: 0.6931\n",
            "Epoch 23/100\n",
            "34/34 [==============================] - 9s 270ms/step - loss: 0.5890 - acc: 0.6921\n",
            "Epoch 24/100\n",
            "34/34 [==============================] - 9s 274ms/step - loss: 0.5873 - acc: 0.6912\n",
            "Epoch 25/100\n",
            "34/34 [==============================] - 9s 271ms/step - loss: 0.5976 - acc: 0.6756\n",
            "Epoch 26/100\n",
            "34/34 [==============================] - 9s 269ms/step - loss: 0.5801 - acc: 0.6838\n",
            "Epoch 27/100\n",
            "34/34 [==============================] - 9s 271ms/step - loss: 0.5831 - acc: 0.6949\n",
            "Epoch 28/100\n",
            "34/34 [==============================] - 9s 273ms/step - loss: 0.5524 - acc: 0.7142\n",
            "Epoch 29/100\n",
            "34/34 [==============================] - 9s 273ms/step - loss: 0.5690 - acc: 0.7105\n",
            "Epoch 30/100\n",
            "34/34 [==============================] - 9s 269ms/step - loss: 0.5531 - acc: 0.7062\n",
            "Epoch 31/100\n",
            "34/34 [==============================] - 9s 273ms/step - loss: 0.5804 - acc: 0.7013\n",
            "Epoch 32/100\n",
            "34/34 [==============================] - 9s 274ms/step - loss: 0.5695 - acc: 0.6994\n",
            "Epoch 33/100\n",
            "34/34 [==============================] - 9s 272ms/step - loss: 0.5674 - acc: 0.7043\n",
            "Epoch 34/100\n",
            "34/34 [==============================] - 9s 275ms/step - loss: 0.5682 - acc: 0.7013\n",
            "Epoch 35/100\n",
            "34/34 [==============================] - 9s 270ms/step - loss: 0.5660 - acc: 0.7123\n",
            "Epoch 36/100\n",
            "34/34 [==============================] - 9s 271ms/step - loss: 0.5543 - acc: 0.7108\n",
            "Epoch 37/100\n",
            "34/34 [==============================] - 9s 269ms/step - loss: 0.5525 - acc: 0.7229\n",
            "Epoch 38/100\n",
            "34/34 [==============================] - 9s 266ms/step - loss: 0.5337 - acc: 0.7341\n",
            "Epoch 39/100\n",
            "34/34 [==============================] - 9s 269ms/step - loss: 0.5481 - acc: 0.7295\n",
            "Epoch 40/100\n",
            "34/34 [==============================] - 9s 267ms/step - loss: 0.5639 - acc: 0.7052\n",
            "Epoch 41/100\n",
            "34/34 [==============================] - 9s 270ms/step - loss: 0.5452 - acc: 0.7233\n",
            "Epoch 42/100\n",
            "34/34 [==============================] - 9s 270ms/step - loss: 0.5531 - acc: 0.7206\n",
            "Epoch 43/100\n",
            "34/34 [==============================] - 9s 268ms/step - loss: 0.5602 - acc: 0.7024\n",
            "Epoch 44/100\n",
            "34/34 [==============================] - 9s 268ms/step - loss: 0.5240 - acc: 0.7248\n",
            "Epoch 45/100\n",
            "34/34 [==============================] - 9s 270ms/step - loss: 0.5265 - acc: 0.7220\n",
            "Epoch 46/100\n",
            "34/34 [==============================] - 9s 276ms/step - loss: 0.5314 - acc: 0.7344\n",
            "Epoch 47/100\n",
            "34/34 [==============================] - 9s 271ms/step - loss: 0.5357 - acc: 0.7491\n",
            "Epoch 48/100\n",
            "34/34 [==============================] - 9s 273ms/step - loss: 0.5576 - acc: 0.7031\n",
            "Epoch 49/100\n",
            "34/34 [==============================] - 9s 268ms/step - loss: 0.5153 - acc: 0.7304\n",
            "Epoch 50/100\n",
            "34/34 [==============================] - 9s 273ms/step - loss: 0.5266 - acc: 0.7307\n",
            "Epoch 51/100\n",
            "34/34 [==============================] - 9s 268ms/step - loss: 0.5308 - acc: 0.7211\n",
            "Epoch 52/100\n",
            "34/34 [==============================] - 9s 270ms/step - loss: 0.5226 - acc: 0.7270\n",
            "Epoch 53/100\n",
            "34/34 [==============================] - 9s 273ms/step - loss: 0.5370 - acc: 0.7289\n",
            "Epoch 54/100\n",
            "34/34 [==============================] - 9s 272ms/step - loss: 0.5542 - acc: 0.7151\n",
            "Epoch 55/100\n",
            "34/34 [==============================] - 9s 269ms/step - loss: 0.5360 - acc: 0.7257\n",
            "Epoch 56/100\n",
            "34/34 [==============================] - 9s 268ms/step - loss: 0.5453 - acc: 0.7220\n",
            "Epoch 57/100\n",
            "34/34 [==============================] - 9s 273ms/step - loss: 0.5055 - acc: 0.7528\n",
            "Epoch 58/100\n",
            "34/34 [==============================] - 9s 271ms/step - loss: 0.5131 - acc: 0.7472\n",
            "Epoch 59/100\n",
            "34/34 [==============================] - 9s 271ms/step - loss: 0.5200 - acc: 0.7399\n",
            "Epoch 60/100\n",
            "34/34 [==============================] - 9s 274ms/step - loss: 0.5265 - acc: 0.7344\n",
            "Epoch 61/100\n",
            "34/34 [==============================] - 9s 269ms/step - loss: 0.5037 - acc: 0.7416\n",
            "Epoch 62/100\n",
            "34/34 [==============================] - 9s 274ms/step - loss: 0.5201 - acc: 0.7463\n",
            "Epoch 63/100\n",
            "34/34 [==============================] - 9s 277ms/step - loss: 0.5097 - acc: 0.7445\n",
            "Epoch 64/100\n",
            "34/34 [==============================] - 9s 274ms/step - loss: 0.5337 - acc: 0.7351\n",
            "Epoch 65/100\n",
            "34/34 [==============================] - 9s 272ms/step - loss: 0.5197 - acc: 0.7518\n",
            "Epoch 66/100\n",
            "34/34 [==============================] - 9s 269ms/step - loss: 0.5043 - acc: 0.7481\n",
            "Epoch 67/100\n",
            "34/34 [==============================] - 9s 273ms/step - loss: 0.5134 - acc: 0.7537\n",
            "Epoch 68/100\n",
            "34/34 [==============================] - 9s 267ms/step - loss: 0.5362 - acc: 0.7313\n",
            "Epoch 69/100\n",
            "34/34 [==============================] - 9s 272ms/step - loss: 0.5063 - acc: 0.7436\n",
            "Epoch 70/100\n",
            "34/34 [==============================] - 9s 270ms/step - loss: 0.4779 - acc: 0.7849\n",
            "Epoch 71/100\n",
            "34/34 [==============================] - 9s 267ms/step - loss: 0.5212 - acc: 0.7528\n",
            "Epoch 72/100\n",
            "34/34 [==============================] - 9s 265ms/step - loss: 0.4942 - acc: 0.7453\n",
            "Epoch 73/100\n",
            "34/34 [==============================] - 9s 274ms/step - loss: 0.4852 - acc: 0.7583\n",
            "Epoch 74/100\n",
            "34/34 [==============================] - 9s 271ms/step - loss: 0.5031 - acc: 0.7388\n",
            "Epoch 75/100\n",
            "34/34 [==============================] - 9s 275ms/step - loss: 0.4990 - acc: 0.7546\n",
            "Epoch 76/100\n",
            "34/34 [==============================] - 9s 267ms/step - loss: 0.4830 - acc: 0.7696\n",
            "Epoch 77/100\n",
            "34/34 [==============================] - 9s 275ms/step - loss: 0.5040 - acc: 0.7546\n",
            "Epoch 78/100\n",
            "34/34 [==============================] - 9s 272ms/step - loss: 0.4947 - acc: 0.7675\n",
            "Epoch 79/100\n",
            "34/34 [==============================] - 9s 266ms/step - loss: 0.4724 - acc: 0.7659\n",
            "Epoch 80/100\n",
            "34/34 [==============================] - 9s 271ms/step - loss: 0.4925 - acc: 0.7453\n",
            "Epoch 81/100\n",
            "34/34 [==============================] - 9s 270ms/step - loss: 0.4911 - acc: 0.7659\n",
            "Epoch 82/100\n",
            "34/34 [==============================] - 9s 268ms/step - loss: 0.4959 - acc: 0.7472\n",
            "Epoch 83/100\n",
            "34/34 [==============================] - 9s 274ms/step - loss: 0.5151 - acc: 0.7565\n",
            "Epoch 84/100\n",
            "34/34 [==============================] - 9s 270ms/step - loss: 0.5068 - acc: 0.7491\n",
            "Epoch 85/100\n",
            "34/34 [==============================] - 9s 273ms/step - loss: 0.4789 - acc: 0.7752\n",
            "Epoch 86/100\n",
            "34/34 [==============================] - 9s 272ms/step - loss: 0.4846 - acc: 0.7668\n",
            "Epoch 87/100\n",
            "34/34 [==============================] - 9s 276ms/step - loss: 0.4821 - acc: 0.7601\n",
            "Epoch 88/100\n",
            "34/34 [==============================] - 9s 278ms/step - loss: 0.4699 - acc: 0.7803\n",
            "Epoch 89/100\n",
            "34/34 [==============================] - 9s 273ms/step - loss: 0.4797 - acc: 0.7649\n",
            "Epoch 90/100\n",
            "34/34 [==============================] - 9s 274ms/step - loss: 0.4648 - acc: 0.7817\n",
            "Epoch 91/100\n",
            "34/34 [==============================] - 9s 276ms/step - loss: 0.4960 - acc: 0.7463\n",
            "Epoch 92/100\n",
            "34/34 [==============================] - 9s 276ms/step - loss: 0.4882 - acc: 0.7592\n",
            "Epoch 93/100\n",
            "34/34 [==============================] - 9s 277ms/step - loss: 0.4814 - acc: 0.7482\n",
            "Epoch 94/100\n",
            "34/34 [==============================] - 9s 274ms/step - loss: 0.5019 - acc: 0.7537\n",
            "Epoch 95/100\n",
            "34/34 [==============================] - 9s 270ms/step - loss: 0.5057 - acc: 0.7453\n",
            "Epoch 96/100\n",
            "34/34 [==============================] - 9s 270ms/step - loss: 0.4700 - acc: 0.7705\n",
            "Epoch 97/100\n",
            "34/34 [==============================] - 9s 271ms/step - loss: 0.4782 - acc: 0.7705\n",
            "Epoch 98/100\n",
            "34/34 [==============================] - 9s 274ms/step - loss: 0.4808 - acc: 0.7647\n",
            "Epoch 99/100\n",
            "34/34 [==============================] - 9s 270ms/step - loss: 0.4765 - acc: 0.7649\n",
            "Epoch 100/100\n",
            "34/34 [==============================] - 9s 271ms/step - loss: 0.4806 - acc: 0.7724\n"
          ]
        }
      ]
    },
    {
      "cell_type": "code",
      "metadata": {
        "id": "X18CpBqDTZfn"
      },
      "source": [
        "model.save('cats_and_dogs_small_2.h5')"
      ],
      "execution_count": 39,
      "outputs": []
    },
    {
      "cell_type": "code",
      "metadata": {
        "colab": {
          "base_uri": "https://localhost:8080/"
        },
        "id": "bHwm6cI5mJmN",
        "outputId": "30609ade-db16-492c-962e-2f7dd8b29bf7"
      },
      "source": [
        "history.history['val_acc']"
      ],
      "execution_count": 62,
      "outputs": [
        {
          "output_type": "execute_result",
          "data": {
            "text/plain": [
              "[0.7699999809265137]"
            ]
          },
          "metadata": {},
          "execution_count": 62
        }
      ]
    },
    {
      "cell_type": "code",
      "metadata": {
        "colab": {
          "base_uri": "https://localhost:8080/",
          "height": 676
        },
        "id": "74rKBRlBck0h",
        "outputId": "6cb29ae8-e4ef-40f8-81d9-d17c314319f4"
      },
      "source": [
        "import matplotlib.pyplot as plt\n",
        "\n",
        "acc = history.history['acc']\n",
        "val_acc = history.history['val_acc']\n",
        "loss = history.history['loss']\n",
        "val_loss = history.history['val_loss']\n",
        "\n",
        "epochs = range(1, len(acc) + 1)\n",
        "\n",
        "plt.plot(epochs, acc, 'bo', label='Training acc')\n",
        "plt.plot(epochs, val_acc, 'b', label='Validation acc')\n",
        "plt.title('Training and Validataion accuracy')\n",
        "plt.legend()\n",
        "plt.figure()\n",
        "\n",
        "plt.plot(epochs, loss, 'bo', label='Training loss')\n",
        "plt.plot(epochs, val_loss, 'b', label='Validation loss')\n",
        "plt.title('Training and Validation loss')\n",
        "plt.legend()\n",
        "\n",
        "plt.show()"
      ],
      "execution_count": 63,
      "outputs": [
        {
          "output_type": "error",
          "ename": "ValueError",
          "evalue": "ignored",
          "traceback": [
            "\u001b[0;31m---------------------------------------------------------------------------\u001b[0m",
            "\u001b[0;31mValueError\u001b[0m                                Traceback (most recent call last)",
            "\u001b[0;32m<ipython-input-63-b51cda41d424>\u001b[0m in \u001b[0;36m<module>\u001b[0;34m()\u001b[0m\n\u001b[1;32m      9\u001b[0m \u001b[0;34m\u001b[0m\u001b[0m\n\u001b[1;32m     10\u001b[0m \u001b[0mplt\u001b[0m\u001b[0;34m.\u001b[0m\u001b[0mplot\u001b[0m\u001b[0;34m(\u001b[0m\u001b[0mepochs\u001b[0m\u001b[0;34m,\u001b[0m \u001b[0macc\u001b[0m\u001b[0;34m,\u001b[0m \u001b[0;34m'bo'\u001b[0m\u001b[0;34m,\u001b[0m \u001b[0mlabel\u001b[0m\u001b[0;34m=\u001b[0m\u001b[0;34m'Training acc'\u001b[0m\u001b[0;34m)\u001b[0m\u001b[0;34m\u001b[0m\u001b[0;34m\u001b[0m\u001b[0m\n\u001b[0;32m---> 11\u001b[0;31m \u001b[0mplt\u001b[0m\u001b[0;34m.\u001b[0m\u001b[0mplot\u001b[0m\u001b[0;34m(\u001b[0m\u001b[0mepochs\u001b[0m\u001b[0;34m,\u001b[0m \u001b[0mval_acc\u001b[0m\u001b[0;34m,\u001b[0m \u001b[0;34m'b'\u001b[0m\u001b[0;34m,\u001b[0m \u001b[0mlabel\u001b[0m\u001b[0;34m=\u001b[0m\u001b[0;34m'Validation acc'\u001b[0m\u001b[0;34m)\u001b[0m\u001b[0;34m\u001b[0m\u001b[0;34m\u001b[0m\u001b[0m\n\u001b[0m\u001b[1;32m     12\u001b[0m \u001b[0mplt\u001b[0m\u001b[0;34m.\u001b[0m\u001b[0mtitle\u001b[0m\u001b[0;34m(\u001b[0m\u001b[0;34m'Training and Validataion accuracy'\u001b[0m\u001b[0;34m)\u001b[0m\u001b[0;34m\u001b[0m\u001b[0;34m\u001b[0m\u001b[0m\n\u001b[1;32m     13\u001b[0m \u001b[0mplt\u001b[0m\u001b[0;34m.\u001b[0m\u001b[0mlegend\u001b[0m\u001b[0;34m(\u001b[0m\u001b[0;34m)\u001b[0m\u001b[0;34m\u001b[0m\u001b[0;34m\u001b[0m\u001b[0m\n",
            "\u001b[0;32m/usr/local/lib/python3.7/dist-packages/matplotlib/pyplot.py\u001b[0m in \u001b[0;36mplot\u001b[0;34m(scalex, scaley, data, *args, **kwargs)\u001b[0m\n\u001b[1;32m   2761\u001b[0m     return gca().plot(\n\u001b[1;32m   2762\u001b[0m         *args, scalex=scalex, scaley=scaley, **({\"data\": data} if data\n\u001b[0;32m-> 2763\u001b[0;31m         is not None else {}), **kwargs)\n\u001b[0m\u001b[1;32m   2764\u001b[0m \u001b[0;34m\u001b[0m\u001b[0m\n\u001b[1;32m   2765\u001b[0m \u001b[0;34m\u001b[0m\u001b[0m\n",
            "\u001b[0;32m/usr/local/lib/python3.7/dist-packages/matplotlib/axes/_axes.py\u001b[0m in \u001b[0;36mplot\u001b[0;34m(self, scalex, scaley, data, *args, **kwargs)\u001b[0m\n\u001b[1;32m   1645\u001b[0m         \"\"\"\n\u001b[1;32m   1646\u001b[0m         \u001b[0mkwargs\u001b[0m \u001b[0;34m=\u001b[0m \u001b[0mcbook\u001b[0m\u001b[0;34m.\u001b[0m\u001b[0mnormalize_kwargs\u001b[0m\u001b[0;34m(\u001b[0m\u001b[0mkwargs\u001b[0m\u001b[0;34m,\u001b[0m \u001b[0mmlines\u001b[0m\u001b[0;34m.\u001b[0m\u001b[0mLine2D\u001b[0m\u001b[0;34m)\u001b[0m\u001b[0;34m\u001b[0m\u001b[0;34m\u001b[0m\u001b[0m\n\u001b[0;32m-> 1647\u001b[0;31m         \u001b[0mlines\u001b[0m \u001b[0;34m=\u001b[0m \u001b[0;34m[\u001b[0m\u001b[0;34m*\u001b[0m\u001b[0mself\u001b[0m\u001b[0;34m.\u001b[0m\u001b[0m_get_lines\u001b[0m\u001b[0;34m(\u001b[0m\u001b[0;34m*\u001b[0m\u001b[0margs\u001b[0m\u001b[0;34m,\u001b[0m \u001b[0mdata\u001b[0m\u001b[0;34m=\u001b[0m\u001b[0mdata\u001b[0m\u001b[0;34m,\u001b[0m \u001b[0;34m**\u001b[0m\u001b[0mkwargs\u001b[0m\u001b[0;34m)\u001b[0m\u001b[0;34m]\u001b[0m\u001b[0;34m\u001b[0m\u001b[0;34m\u001b[0m\u001b[0m\n\u001b[0m\u001b[1;32m   1648\u001b[0m         \u001b[0;32mfor\u001b[0m \u001b[0mline\u001b[0m \u001b[0;32min\u001b[0m \u001b[0mlines\u001b[0m\u001b[0;34m:\u001b[0m\u001b[0;34m\u001b[0m\u001b[0;34m\u001b[0m\u001b[0m\n\u001b[1;32m   1649\u001b[0m             \u001b[0mself\u001b[0m\u001b[0;34m.\u001b[0m\u001b[0madd_line\u001b[0m\u001b[0;34m(\u001b[0m\u001b[0mline\u001b[0m\u001b[0;34m)\u001b[0m\u001b[0;34m\u001b[0m\u001b[0;34m\u001b[0m\u001b[0m\n",
            "\u001b[0;32m/usr/local/lib/python3.7/dist-packages/matplotlib/axes/_base.py\u001b[0m in \u001b[0;36m__call__\u001b[0;34m(self, *args, **kwargs)\u001b[0m\n\u001b[1;32m    214\u001b[0m                 \u001b[0mthis\u001b[0m \u001b[0;34m+=\u001b[0m \u001b[0margs\u001b[0m\u001b[0;34m[\u001b[0m\u001b[0;36m0\u001b[0m\u001b[0;34m]\u001b[0m\u001b[0;34m,\u001b[0m\u001b[0;34m\u001b[0m\u001b[0;34m\u001b[0m\u001b[0m\n\u001b[1;32m    215\u001b[0m                 \u001b[0margs\u001b[0m \u001b[0;34m=\u001b[0m \u001b[0margs\u001b[0m\u001b[0;34m[\u001b[0m\u001b[0;36m1\u001b[0m\u001b[0;34m:\u001b[0m\u001b[0;34m]\u001b[0m\u001b[0;34m\u001b[0m\u001b[0;34m\u001b[0m\u001b[0m\n\u001b[0;32m--> 216\u001b[0;31m             \u001b[0;32myield\u001b[0m \u001b[0;32mfrom\u001b[0m \u001b[0mself\u001b[0m\u001b[0;34m.\u001b[0m\u001b[0m_plot_args\u001b[0m\u001b[0;34m(\u001b[0m\u001b[0mthis\u001b[0m\u001b[0;34m,\u001b[0m \u001b[0mkwargs\u001b[0m\u001b[0;34m)\u001b[0m\u001b[0;34m\u001b[0m\u001b[0;34m\u001b[0m\u001b[0m\n\u001b[0m\u001b[1;32m    217\u001b[0m \u001b[0;34m\u001b[0m\u001b[0m\n\u001b[1;32m    218\u001b[0m     \u001b[0;32mdef\u001b[0m \u001b[0mget_next_color\u001b[0m\u001b[0;34m(\u001b[0m\u001b[0mself\u001b[0m\u001b[0;34m)\u001b[0m\u001b[0;34m:\u001b[0m\u001b[0;34m\u001b[0m\u001b[0;34m\u001b[0m\u001b[0m\n",
            "\u001b[0;32m/usr/local/lib/python3.7/dist-packages/matplotlib/axes/_base.py\u001b[0m in \u001b[0;36m_plot_args\u001b[0;34m(self, tup, kwargs)\u001b[0m\n\u001b[1;32m    340\u001b[0m \u001b[0;34m\u001b[0m\u001b[0m\n\u001b[1;32m    341\u001b[0m         \u001b[0;32mif\u001b[0m \u001b[0mx\u001b[0m\u001b[0;34m.\u001b[0m\u001b[0mshape\u001b[0m\u001b[0;34m[\u001b[0m\u001b[0;36m0\u001b[0m\u001b[0;34m]\u001b[0m \u001b[0;34m!=\u001b[0m \u001b[0my\u001b[0m\u001b[0;34m.\u001b[0m\u001b[0mshape\u001b[0m\u001b[0;34m[\u001b[0m\u001b[0;36m0\u001b[0m\u001b[0;34m]\u001b[0m\u001b[0;34m:\u001b[0m\u001b[0;34m\u001b[0m\u001b[0;34m\u001b[0m\u001b[0m\n\u001b[0;32m--> 342\u001b[0;31m             raise ValueError(f\"x and y must have same first dimension, but \"\n\u001b[0m\u001b[1;32m    343\u001b[0m                              f\"have shapes {x.shape} and {y.shape}\")\n\u001b[1;32m    344\u001b[0m         \u001b[0;32mif\u001b[0m \u001b[0mx\u001b[0m\u001b[0;34m.\u001b[0m\u001b[0mndim\u001b[0m \u001b[0;34m>\u001b[0m \u001b[0;36m2\u001b[0m \u001b[0;32mor\u001b[0m \u001b[0my\u001b[0m\u001b[0;34m.\u001b[0m\u001b[0mndim\u001b[0m \u001b[0;34m>\u001b[0m \u001b[0;36m2\u001b[0m\u001b[0;34m:\u001b[0m\u001b[0;34m\u001b[0m\u001b[0;34m\u001b[0m\u001b[0m\n",
            "\u001b[0;31mValueError\u001b[0m: x and y must have same first dimension, but have shapes (100,) and (1,)"
          ]
        },
        {
          "output_type": "display_data",
          "data": {
            "image/png": "[encoded data removed]",
            "text/plain": [
              "<Figure size 432x288 with 1 Axes>"
            ]
          },
          "metadata": {
            "needs_background": "light"
          }
        }
      ]
    },
    {
      "cell_type": "code",
      "metadata": {
        "id": "LV5chmHtcrbp"
      },
      "source": [
        "from tensorflow.keras.applications import VGG16"
      ],
      "execution_count": 28,
      "outputs": []
    },
    {
      "cell_type": "code",
      "metadata": {
        "colab": {
          "base_uri": "https://localhost:8080/"
        },
        "id": "wUDflfzLoddu",
        "outputId": "0e84bdf1-df59-41e1-8f16-803859e40096"
      },
      "source": [
        "conv_base = VGG16(weights='imagenet',\n",
        "                  include_top=False,\n",
        "                  input_shape=(150,150,3))"
      ],
      "execution_count": 29,
      "outputs": [
        {
          "output_type": "stream",
          "name": "stdout",
          "text": [
            "Downloading data from https://storage.googleapis.com/tensorflow/keras-applications/vgg16/vgg16_weights_tf_dim_ordering_tf_kernels_notop.h5\n",
            "58892288/58889256 [==============================] - 1s 0us/step\n",
            "58900480/58889256 [==============================] - 1s 0us/step\n"
          ]
        }
      ]
    },
    {
      "cell_type": "code",
      "metadata": {
        "colab": {
          "base_uri": "https://localhost:8080/"
        },
        "id": "muWpCcrAoyYu",
        "outputId": "cf185152-18ec-4c95-8f73-f4a189595cff"
      },
      "source": [
        "conv_base.summary()"
      ],
      "execution_count": 30,
      "outputs": [
        {
          "output_type": "stream",
          "name": "stdout",
          "text": [
            "Model: \"vgg16\"\n",
            "_________________________________________________________________\n",
            "Layer (type)                 Output Shape              Param #   \n",
            "=================================================================\n",
            "input_1 (InputLayer)         [(None, 150, 150, 3)]     0         \n",
            "_________________________________________________________________\n",
            "block1_conv1 (Conv2D)        (None, 150, 150, 64)      1792      \n",
            "_________________________________________________________________\n",
            "block1_conv2 (Conv2D)        (None, 150, 150, 64)      36928     \n",
            "_________________________________________________________________\n",
            "block1_pool (MaxPooling2D)   (None, 75, 75, 64)        0         \n",
            "_________________________________________________________________\n",
            "block2_conv1 (Conv2D)        (None, 75, 75, 128)       73856     \n",
            "_________________________________________________________________\n",
            "block2_conv2 (Conv2D)        (None, 75, 75, 128)       147584    \n",
            "_________________________________________________________________\n",
            "block2_pool (MaxPooling2D)   (None, 37, 37, 128)       0         \n",
            "_________________________________________________________________\n",
            "block3_conv1 (Conv2D)        (None, 37, 37, 256)       295168    \n",
            "_________________________________________________________________\n",
            "block3_conv2 (Conv2D)        (None, 37, 37, 256)       590080    \n",
            "_________________________________________________________________\n",
            "block3_conv3 (Conv2D)        (None, 37, 37, 256)       590080    \n",
            "_________________________________________________________________\n",
            "block3_pool (MaxPooling2D)   (None, 18, 18, 256)       0         \n",
            "_________________________________________________________________\n",
            "block4_conv1 (Conv2D)        (None, 18, 18, 512)       1180160   \n",
            "_________________________________________________________________\n",
            "block4_conv2 (Conv2D)        (None, 18, 18, 512)       2359808   \n",
            "_________________________________________________________________\n",
            "block4_conv3 (Conv2D)        (None, 18, 18, 512)       2359808   \n",
            "_________________________________________________________________\n",
            "block4_pool (MaxPooling2D)   (None, 9, 9, 512)         0         \n",
            "_________________________________________________________________\n",
            "block5_conv1 (Conv2D)        (None, 9, 9, 512)         2359808   \n",
            "_________________________________________________________________\n",
            "block5_conv2 (Conv2D)        (None, 9, 9, 512)         2359808   \n",
            "_________________________________________________________________\n",
            "block5_conv3 (Conv2D)        (None, 9, 9, 512)         2359808   \n",
            "_________________________________________________________________\n",
            "block5_pool (MaxPooling2D)   (None, 4, 4, 512)         0         \n",
            "=================================================================\n",
            "Total params: 14,714,688\n",
            "Trainable params: 14,714,688\n",
            "Non-trainable params: 0\n",
            "_________________________________________________________________\n"
          ]
        }
      ]
    },
    {
      "cell_type": "code",
      "metadata": {
        "colab": {
          "base_uri": "https://localhost:8080/"
        },
        "id": "MhOd0v3ipOnU",
        "outputId": "360cf586-8ea7-4b3b-f36f-caa329cd6b96"
      },
      "source": [
        "import os\n",
        "import numpy as np\n",
        "from tensorflow.keras.preprocessing.image import ImageDataGenerator\n",
        "\n",
        "datagen = ImageDataGenerator(rescale=1./255)\n",
        "batch_size=20\n",
        "\n",
        "def extract_features(directory, sample_count):\n",
        "  features = np.zeros(shape=(sample_count,4,4,512))\n",
        "  labels = np.zeros(shape=(sample_count))\n",
        "  generator= datagen.flow_from_directory(\n",
        "      directory,\n",
        "      target_size=(150,150),\n",
        "      batch_size=batch_size,\n",
        "      class_mode='binary'\n",
        "  )\n",
        "  i = 0\n",
        "  for inputs_batch, labels_batch in generator:\n",
        "    features_batch = conv_base.predict(inputs_batch)\n",
        "    features[i*batch_size:(i+1)*batch_size] = features_batch\n",
        "    labels[i*batch_size:(i+1)*batch_size] = labels_batch\n",
        "    i += 1\n",
        "    if i*batch_size >= sample_count:\n",
        "      break\n",
        "  return features, labels\n",
        "\n",
        "train_features, train_labels = extract_features(train_dir, 2000)\n",
        "validation_features, validation_labels = extract_features(validation_dir, 1000)\n",
        "test_features, test_labels = extract_features(test_dir, 1000)"
      ],
      "execution_count": 34,
      "outputs": [
        {
          "output_type": "stream",
          "name": "stdout",
          "text": [
            "Found 2000 images belonging to 2 classes.\n",
            "Found 1000 images belonging to 2 classes.\n",
            "Found 1000 images belonging to 2 classes.\n"
          ]
        }
      ]
    },
    {
      "cell_type": "code",
      "metadata": {
        "id": "ShLXohmMv3bR"
      },
      "source": [
        "train_features = np.reshape(train_features, (2000, 4*4*512))\n",
        "validation_features = np.reshape(validation_features, (1000,4*4*512))\n",
        "test_features = np.reshape(test_features, (1000,4*4*512))"
      ],
      "execution_count": 36,
      "outputs": []
    },
    {
      "cell_type": "code",
      "metadata": {
        "colab": {
          "base_uri": "https://localhost:8080/"
        },
        "id": "2z7Gw971y7dd",
        "outputId": "06160637-50e0-49a7-a05b-918b10306d16"
      },
      "source": [
        "from tensorflow.keras import models\n",
        "from tensorflow.keras import layers\n",
        "from tensorflow.keras import optimizers\n",
        "model = models.Sequential()\n",
        "model.add(layers.Dense(256, activation='relu', input_dim=4*4*512))\n",
        "model.add(layers.Dropout(0.5))\n",
        "model.add(layers.Dense(1, activation='sigmoid'))\n",
        "\n",
        "model.compile(optimizer=optimizers.RMSprop(learning_rate=2e-5),\n",
        "              loss='binary_crossentropy',\n",
        "              metrics=['acc'])\n",
        "\n",
        "history = model.fit(train_features, train_labels,\n",
        "                    epochs=30,\n",
        "                    batch_size=20,\n",
        "                    validation_data=(validation_features,validation_labels))"
      ],
      "execution_count": 40,
      "outputs": [
        {
          "output_type": "stream",
          "name": "stdout",
          "text": [
            "Epoch 1/30\n",
            "100/100 [==============================] - 2s 8ms/step - loss: 0.5819 - acc: 0.6935 - val_loss: 0.4435 - val_acc: 0.8300\n",
            "Epoch 2/30\n",
            "100/100 [==============================] - 1s 6ms/step - loss: 0.4275 - acc: 0.8130 - val_loss: 0.3763 - val_acc: 0.8350\n",
            "Epoch 3/30\n",
            "100/100 [==============================] - 1s 6ms/step - loss: 0.3574 - acc: 0.8530 - val_loss: 0.3281 - val_acc: 0.8720\n",
            "Epoch 4/30\n",
            "100/100 [==============================] - 1s 6ms/step - loss: 0.3191 - acc: 0.8685 - val_loss: 0.3045 - val_acc: 0.8770\n",
            "Epoch 5/30\n",
            "100/100 [==============================] - 1s 6ms/step - loss: 0.2941 - acc: 0.8755 - val_loss: 0.3082 - val_acc: 0.8690\n",
            "Epoch 6/30\n",
            "100/100 [==============================] - 1s 6ms/step - loss: 0.2643 - acc: 0.8910 - val_loss: 0.2778 - val_acc: 0.8900\n",
            "Epoch 7/30\n",
            "100/100 [==============================] - 1s 6ms/step - loss: 0.2469 - acc: 0.9010 - val_loss: 0.2698 - val_acc: 0.8940\n",
            "Epoch 8/30\n",
            "100/100 [==============================] - 1s 6ms/step - loss: 0.2364 - acc: 0.9110 - val_loss: 0.2775 - val_acc: 0.8810\n",
            "Epoch 9/30\n",
            "100/100 [==============================] - 1s 6ms/step - loss: 0.2244 - acc: 0.9165 - val_loss: 0.2580 - val_acc: 0.8950\n",
            "Epoch 10/30\n",
            "100/100 [==============================] - 1s 7ms/step - loss: 0.2034 - acc: 0.9270 - val_loss: 0.2539 - val_acc: 0.8960\n",
            "Epoch 11/30\n",
            "100/100 [==============================] - 1s 6ms/step - loss: 0.1991 - acc: 0.9275 - val_loss: 0.2540 - val_acc: 0.8960\n",
            "Epoch 12/30\n",
            "100/100 [==============================] - 1s 6ms/step - loss: 0.1888 - acc: 0.9290 - val_loss: 0.2497 - val_acc: 0.8980\n",
            "Epoch 13/30\n",
            "100/100 [==============================] - 1s 6ms/step - loss: 0.1805 - acc: 0.9350 - val_loss: 0.2491 - val_acc: 0.8970\n",
            "Epoch 14/30\n",
            "100/100 [==============================] - 1s 6ms/step - loss: 0.1737 - acc: 0.9390 - val_loss: 0.2423 - val_acc: 0.9020\n",
            "Epoch 15/30\n",
            "100/100 [==============================] - 1s 6ms/step - loss: 0.1679 - acc: 0.9370 - val_loss: 0.2404 - val_acc: 0.9030\n",
            "Epoch 16/30\n",
            "100/100 [==============================] - 1s 6ms/step - loss: 0.1566 - acc: 0.9470 - val_loss: 0.2402 - val_acc: 0.9030\n",
            "Epoch 17/30\n",
            "100/100 [==============================] - 1s 6ms/step - loss: 0.1527 - acc: 0.9480 - val_loss: 0.2456 - val_acc: 0.9000\n",
            "Epoch 18/30\n",
            "100/100 [==============================] - 1s 6ms/step - loss: 0.1455 - acc: 0.9515 - val_loss: 0.2446 - val_acc: 0.8980\n",
            "Epoch 19/30\n",
            "100/100 [==============================] - 1s 6ms/step - loss: 0.1385 - acc: 0.9545 - val_loss: 0.2426 - val_acc: 0.9030\n",
            "Epoch 20/30\n",
            "100/100 [==============================] - 1s 6ms/step - loss: 0.1343 - acc: 0.9575 - val_loss: 0.2396 - val_acc: 0.9020\n",
            "Epoch 21/30\n",
            "100/100 [==============================] - 1s 6ms/step - loss: 0.1277 - acc: 0.9575 - val_loss: 0.2367 - val_acc: 0.9040\n",
            "Epoch 22/30\n",
            "100/100 [==============================] - 1s 6ms/step - loss: 0.1249 - acc: 0.9620 - val_loss: 0.2375 - val_acc: 0.8980\n",
            "Epoch 23/30\n",
            "100/100 [==============================] - 1s 6ms/step - loss: 0.1168 - acc: 0.9685 - val_loss: 0.2380 - val_acc: 0.8980\n",
            "Epoch 24/30\n",
            "100/100 [==============================] - 1s 6ms/step - loss: 0.1146 - acc: 0.9630 - val_loss: 0.2361 - val_acc: 0.9010\n",
            "Epoch 25/30\n",
            "100/100 [==============================] - 1s 6ms/step - loss: 0.1122 - acc: 0.9600 - val_loss: 0.2382 - val_acc: 0.9010\n",
            "Epoch 26/30\n",
            "100/100 [==============================] - 1s 6ms/step - loss: 0.1076 - acc: 0.9660 - val_loss: 0.2448 - val_acc: 0.9000\n",
            "Epoch 27/30\n",
            "100/100 [==============================] - 1s 6ms/step - loss: 0.1032 - acc: 0.9650 - val_loss: 0.2524 - val_acc: 0.9020\n",
            "Epoch 28/30\n",
            "100/100 [==============================] - 1s 6ms/step - loss: 0.0992 - acc: 0.9680 - val_loss: 0.2444 - val_acc: 0.9000\n",
            "Epoch 29/30\n",
            "100/100 [==============================] - 1s 6ms/step - loss: 0.0969 - acc: 0.9705 - val_loss: 0.2395 - val_acc: 0.9010\n",
            "Epoch 30/30\n",
            "100/100 [==============================] - 1s 6ms/step - loss: 0.0901 - acc: 0.9750 - val_loss: 0.2390 - val_acc: 0.9020\n"
          ]
        }
      ]
    },
    {
      "cell_type": "code",
      "metadata": {
        "colab": {
          "base_uri": "https://localhost:8080/",
          "height": 545
        },
        "id": "Q0e_k4P60eED",
        "outputId": "2a01f5af-5cb8-4cf3-d10b-225107c21197"
      },
      "source": [
        "import matplotlib.pyplot as plt\n",
        "\n",
        "acc = history.history['acc']\n",
        "val_acc = history.history['val_acc']\n",
        "loss = history.history['loss']\n",
        "val_loss = history.history['val_loss']\n",
        "\n",
        "epochs = range(1, len(acc) + 1)\n",
        "\n",
        "plt.plot(epochs, acc, 'bo', label='Training acc')\n",
        "plt.plot(epochs, val_acc, 'b', label='Validation acc')\n",
        "plt.title('Training and Validataion accuracy')\n",
        "plt.legend()\n",
        "plt.figure()\n",
        "\n",
        "plt.plot(epochs, loss, 'bo', label='Training loss')\n",
        "plt.plot(epochs, val_loss, 'b', label='Validation loss')\n",
        "plt.title('Training and Validation loss')\n",
        "plt.legend()\n",
        "\n",
        "plt.show()"
      ],
      "execution_count": 41,
      "outputs": [
        {
          "output_type": "display_data",
          "data": {
            "image/png": "[encoded data removed]",
            "text/plain": [
              "<Figure size 432x288 with 1 Axes>"
            ]
          },
          "metadata": {
            "needs_background": "light"
          }
        },
        {
          "output_type": "display_data",
          "data": {
            "image/png": "[encoded data removed]",
            "text/plain": [
              "<Figure size 432x288 with 1 Axes>"
            ]
          },
          "metadata": {
            "needs_background": "light"
          }
        }
      ]
    },
    {
      "cell_type": "code",
      "metadata": {
        "id": "p-buT8lC1Hii"
      },
      "source": [
        "from tensorflow.keras import models\n",
        "from tensorflow.keras import layers\n",
        "\n",
        "model = models.Sequential()\n",
        "model.add(conv_base)\n",
        "model.add(layers.Flatten())\n",
        "model.add(layers.Dense(256, activation='relu'))\n",
        "model.add(layers.Dense(1, activation='sigmoid'))"
      ],
      "execution_count": 33,
      "outputs": []
    },
    {
      "cell_type": "code",
      "metadata": {
        "colab": {
          "base_uri": "https://localhost:8080/"
        },
        "id": "1YGFyIk4FlNY",
        "outputId": "59cff604-18fe-474f-a744-fdf6a65fbb70"
      },
      "source": [
        "print(\"This is the nuber of trainable weights\"\n",
        "      'before freezing the conv base', len(model.trainable_weights))"
      ],
      "execution_count": 34,
      "outputs": [
        {
          "output_type": "stream",
          "name": "stdout",
          "text": [
            "This is the nuber of trainable weightsbefore freezing the conv base 10\n"
          ]
        }
      ]
    },
    {
      "cell_type": "code",
      "metadata": {
        "id": "_nXrpGbsF89l"
      },
      "source": [
        "conv_base.trainable = False"
      ],
      "execution_count": 35,
      "outputs": []
    },
    {
      "cell_type": "code",
      "metadata": {
        "colab": {
          "base_uri": "https://localhost:8080/"
        },
        "id": "TEpED5L_GG50",
        "outputId": "e2584215-54ee-4b56-b717-b66bac6ad9e9"
      },
      "source": [
        "print(\"This is the nuber of trainable weights\"\n",
        "      'after freezing the conv base', len(model.trainable_weights))"
      ],
      "execution_count": 36,
      "outputs": [
        {
          "output_type": "stream",
          "name": "stdout",
          "text": [
            "This is the nuber of trainable weightsafter freezing the conv base 4\n"
          ]
        }
      ]
    },
    {
      "cell_type": "code",
      "metadata": {
        "colab": {
          "base_uri": "https://localhost:8080/",
          "height": 717
        },
        "id": "6BLplrDeGIRX",
        "outputId": "bd015f22-2e3c-402e-ae1b-778928e725dc"
      },
      "source": [
        "from tensorflow.keras.preprocessing.image import ImageDataGenerator\n",
        "from tensorflow.keras import optimizers\n",
        "train_datagen = ImageDataGenerator(\n",
        "    rescale=1./255,\n",
        "    rotation_range=40,\n",
        "    width_shift_range=0.2,\n",
        "    height_shift_range=0.2,\n",
        "    shear_range=0.2,\n",
        "    zoom_range=0.2,\n",
        "    horizontal_flip=True,\n",
        "    fill_mode='nearest'\n",
        ")\n",
        "\n",
        "test_datagen = ImageDataGenerator(rescale=1./255)\n",
        "\n",
        "train_generator = train_datagen.flow_from_directory(\n",
        "    train_dir,\n",
        "    target_size=(150,150),\n",
        "    batch_size=20,\n",
        "    class_mode='binary'\n",
        ")\n",
        "\n",
        "validation_generator = test_datagen.flow_from_directory(\n",
        "    validation_dir,\n",
        "    target_size=(150,150),\n",
        "    batch_size = 20,\n",
        "    class_mode='binary'\n",
        ")\n",
        "\n",
        "model.compile(loss='binary_crossentropy',\n",
        "              optimizer=optimizers.RMSprop(learning_rate=2e-5),\n",
        "              metrics=['acc'])\n",
        "\n",
        "history = model.fit_generator(\n",
        "    train_generator,\n",
        "    steps_per_epoch=100,\n",
        "    epochs=30,\n",
        "    validation_data= validation_generator,\n",
        "    validation_steps=50\n",
        ")"
      ],
      "execution_count": 37,
      "outputs": [
        {
          "output_type": "stream",
          "name": "stdout",
          "text": [
            "Found 2000 images belonging to 2 classes.\n",
            "Found 1000 images belonging to 2 classes.\n"
          ]
        },
        {
          "output_type": "stream",
          "name": "stderr",
          "text": [
            "/usr/local/lib/python3.7/dist-packages/keras/engine/training.py:1972: UserWarning: `Model.fit_generator` is deprecated and will be removed in a future version. Please use `Model.fit`, which supports generators.\n",
            "  warnings.warn('`Model.fit_generator` is deprecated and '\n"
          ]
        },
        {
          "output_type": "stream",
          "name": "stdout",
          "text": [
            "Epoch 1/30\n",
            "100/100 [==============================] - 61s 270ms/step - loss: 0.5815 - acc: 0.7125 - val_loss: 0.4513 - val_acc: 0.8240\n",
            "Epoch 2/30\n",
            "100/100 [==============================] - 27s 267ms/step - loss: 0.4796 - acc: 0.7790 - val_loss: 0.3762 - val_acc: 0.8560\n",
            "Epoch 3/30\n",
            "100/100 [==============================] - 27s 268ms/step - loss: 0.4165 - acc: 0.8190 - val_loss: 0.3459 - val_acc: 0.8610\n",
            "Epoch 4/30\n",
            "100/100 [==============================] - 27s 266ms/step - loss: 0.4033 - acc: 0.8170 - val_loss: 0.3149 - val_acc: 0.8800\n",
            "Epoch 5/30\n",
            "100/100 [==============================] - 26s 265ms/step - loss: 0.3757 - acc: 0.8370 - val_loss: 0.3029 - val_acc: 0.8740\n",
            "Epoch 6/30\n",
            "100/100 [==============================] - 26s 261ms/step - loss: 0.3708 - acc: 0.8375 - val_loss: 0.2886 - val_acc: 0.8880\n",
            "Epoch 7/30\n",
            "  9/100 [=>............................] - ETA: 18s - loss: 0.3422 - acc: 0.8500"
          ]
        },
        {
          "output_type": "error",
          "ename": "KeyboardInterrupt",
          "evalue": "ignored",
          "traceback": [
            "\u001b[0;31m---------------------------------------------------------------------------\u001b[0m",
            "\u001b[0;31mKeyboardInterrupt\u001b[0m                         Traceback (most recent call last)",
            "\u001b[0;32m<ipython-input-37-543e7531cbcf>\u001b[0m in \u001b[0;36m<module>\u001b[0;34m()\u001b[0m\n\u001b[1;32m     37\u001b[0m     \u001b[0mepochs\u001b[0m\u001b[0;34m=\u001b[0m\u001b[0;36m30\u001b[0m\u001b[0;34m,\u001b[0m\u001b[0;34m\u001b[0m\u001b[0;34m\u001b[0m\u001b[0m\n\u001b[1;32m     38\u001b[0m     \u001b[0mvalidation_data\u001b[0m\u001b[0;34m=\u001b[0m \u001b[0mvalidation_generator\u001b[0m\u001b[0;34m,\u001b[0m\u001b[0;34m\u001b[0m\u001b[0;34m\u001b[0m\u001b[0m\n\u001b[0;32m---> 39\u001b[0;31m     \u001b[0mvalidation_steps\u001b[0m\u001b[0;34m=\u001b[0m\u001b[0;36m50\u001b[0m\u001b[0;34m\u001b[0m\u001b[0;34m\u001b[0m\u001b[0m\n\u001b[0m\u001b[1;32m     40\u001b[0m )\n",
            "\u001b[0;32m/usr/local/lib/python3.7/dist-packages/keras/engine/training.py\u001b[0m in \u001b[0;36mfit_generator\u001b[0;34m(self, generator, steps_per_epoch, epochs, verbose, callbacks, validation_data, validation_steps, validation_freq, class_weight, max_queue_size, workers, use_multiprocessing, shuffle, initial_epoch)\u001b[0m\n\u001b[1;32m   1987\u001b[0m         \u001b[0muse_multiprocessing\u001b[0m\u001b[0;34m=\u001b[0m\u001b[0muse_multiprocessing\u001b[0m\u001b[0;34m,\u001b[0m\u001b[0;34m\u001b[0m\u001b[0;34m\u001b[0m\u001b[0m\n\u001b[1;32m   1988\u001b[0m         \u001b[0mshuffle\u001b[0m\u001b[0;34m=\u001b[0m\u001b[0mshuffle\u001b[0m\u001b[0;34m,\u001b[0m\u001b[0;34m\u001b[0m\u001b[0;34m\u001b[0m\u001b[0m\n\u001b[0;32m-> 1989\u001b[0;31m         initial_epoch=initial_epoch)\n\u001b[0m\u001b[1;32m   1990\u001b[0m \u001b[0;34m\u001b[0m\u001b[0m\n\u001b[1;32m   1991\u001b[0m   \u001b[0;34m@\u001b[0m\u001b[0mdoc_controls\u001b[0m\u001b[0;34m.\u001b[0m\u001b[0mdo_not_generate_docs\u001b[0m\u001b[0;34m\u001b[0m\u001b[0;34m\u001b[0m\u001b[0m\n",
            "\u001b[0;32m/usr/local/lib/python3.7/dist-packages/keras/engine/training.py\u001b[0m in \u001b[0;36mfit\u001b[0;34m(self, x, y, batch_size, epochs, verbose, callbacks, validation_split, validation_data, shuffle, class_weight, sample_weight, initial_epoch, steps_per_epoch, validation_steps, validation_batch_size, validation_freq, max_queue_size, workers, use_multiprocessing)\u001b[0m\n\u001b[1;32m   1182\u001b[0m                 _r=1):\n\u001b[1;32m   1183\u001b[0m               \u001b[0mcallbacks\u001b[0m\u001b[0;34m.\u001b[0m\u001b[0mon_train_batch_begin\u001b[0m\u001b[0;34m(\u001b[0m\u001b[0mstep\u001b[0m\u001b[0;34m)\u001b[0m\u001b[0;34m\u001b[0m\u001b[0;34m\u001b[0m\u001b[0m\n\u001b[0;32m-> 1184\u001b[0;31m               \u001b[0mtmp_logs\u001b[0m \u001b[0;34m=\u001b[0m \u001b[0mself\u001b[0m\u001b[0;34m.\u001b[0m\u001b[0mtrain_function\u001b[0m\u001b[0;34m(\u001b[0m\u001b[0miterator\u001b[0m\u001b[0;34m)\u001b[0m\u001b[0;34m\u001b[0m\u001b[0;34m\u001b[0m\u001b[0m\n\u001b[0m\u001b[1;32m   1185\u001b[0m               \u001b[0;32mif\u001b[0m \u001b[0mdata_handler\u001b[0m\u001b[0;34m.\u001b[0m\u001b[0mshould_sync\u001b[0m\u001b[0;34m:\u001b[0m\u001b[0;34m\u001b[0m\u001b[0;34m\u001b[0m\u001b[0m\n\u001b[1;32m   1186\u001b[0m                 \u001b[0mcontext\u001b[0m\u001b[0;34m.\u001b[0m\u001b[0masync_wait\u001b[0m\u001b[0;34m(\u001b[0m\u001b[0;34m)\u001b[0m\u001b[0;34m\u001b[0m\u001b[0;34m\u001b[0m\u001b[0m\n",
            "\u001b[0;32m/usr/local/lib/python3.7/dist-packages/tensorflow/python/eager/def_function.py\u001b[0m in \u001b[0;36m__call__\u001b[0;34m(self, *args, **kwds)\u001b[0m\n\u001b[1;32m    883\u001b[0m \u001b[0;34m\u001b[0m\u001b[0m\n\u001b[1;32m    884\u001b[0m       \u001b[0;32mwith\u001b[0m \u001b[0mOptionalXlaContext\u001b[0m\u001b[0;34m(\u001b[0m\u001b[0mself\u001b[0m\u001b[0;34m.\u001b[0m\u001b[0m_jit_compile\u001b[0m\u001b[0;34m)\u001b[0m\u001b[0;34m:\u001b[0m\u001b[0;34m\u001b[0m\u001b[0;34m\u001b[0m\u001b[0m\n\u001b[0;32m--> 885\u001b[0;31m         \u001b[0mresult\u001b[0m \u001b[0;34m=\u001b[0m \u001b[0mself\u001b[0m\u001b[0;34m.\u001b[0m\u001b[0m_call\u001b[0m\u001b[0;34m(\u001b[0m\u001b[0;34m*\u001b[0m\u001b[0margs\u001b[0m\u001b[0;34m,\u001b[0m \u001b[0;34m**\u001b[0m\u001b[0mkwds\u001b[0m\u001b[0;34m)\u001b[0m\u001b[0;34m\u001b[0m\u001b[0;34m\u001b[0m\u001b[0m\n\u001b[0m\u001b[1;32m    886\u001b[0m \u001b[0;34m\u001b[0m\u001b[0m\n\u001b[1;32m    887\u001b[0m       \u001b[0mnew_tracing_count\u001b[0m \u001b[0;34m=\u001b[0m \u001b[0mself\u001b[0m\u001b[0;34m.\u001b[0m\u001b[0mexperimental_get_tracing_count\u001b[0m\u001b[0;34m(\u001b[0m\u001b[0;34m)\u001b[0m\u001b[0;34m\u001b[0m\u001b[0;34m\u001b[0m\u001b[0m\n",
            "\u001b[0;32m/usr/local/lib/python3.7/dist-packages/tensorflow/python/eager/def_function.py\u001b[0m in \u001b[0;36m_call\u001b[0;34m(self, *args, **kwds)\u001b[0m\n\u001b[1;32m    915\u001b[0m       \u001b[0;31m# In this case we have created variables on the first call, so we run the\u001b[0m\u001b[0;34m\u001b[0m\u001b[0;34m\u001b[0m\u001b[0;34m\u001b[0m\u001b[0m\n\u001b[1;32m    916\u001b[0m       \u001b[0;31m# defunned version which is guaranteed to never create variables.\u001b[0m\u001b[0;34m\u001b[0m\u001b[0;34m\u001b[0m\u001b[0;34m\u001b[0m\u001b[0m\n\u001b[0;32m--> 917\u001b[0;31m       \u001b[0;32mreturn\u001b[0m \u001b[0mself\u001b[0m\u001b[0;34m.\u001b[0m\u001b[0m_stateless_fn\u001b[0m\u001b[0;34m(\u001b[0m\u001b[0;34m*\u001b[0m\u001b[0margs\u001b[0m\u001b[0;34m,\u001b[0m \u001b[0;34m**\u001b[0m\u001b[0mkwds\u001b[0m\u001b[0;34m)\u001b[0m  \u001b[0;31m# pylint: disable=not-callable\u001b[0m\u001b[0;34m\u001b[0m\u001b[0;34m\u001b[0m\u001b[0m\n\u001b[0m\u001b[1;32m    918\u001b[0m     \u001b[0;32melif\u001b[0m \u001b[0mself\u001b[0m\u001b[0;34m.\u001b[0m\u001b[0m_stateful_fn\u001b[0m \u001b[0;32mis\u001b[0m \u001b[0;32mnot\u001b[0m \u001b[0;32mNone\u001b[0m\u001b[0;34m:\u001b[0m\u001b[0;34m\u001b[0m\u001b[0;34m\u001b[0m\u001b[0m\n\u001b[1;32m    919\u001b[0m       \u001b[0;31m# Release the lock early so that multiple threads can perform the call\u001b[0m\u001b[0;34m\u001b[0m\u001b[0;34m\u001b[0m\u001b[0;34m\u001b[0m\u001b[0m\n",
            "\u001b[0;32m/usr/local/lib/python3.7/dist-packages/tensorflow/python/eager/function.py\u001b[0m in \u001b[0;36m__call__\u001b[0;34m(self, *args, **kwargs)\u001b[0m\n\u001b[1;32m   3038\u001b[0m        filtered_flat_args) = self._maybe_define_function(args, kwargs)\n\u001b[1;32m   3039\u001b[0m     return graph_function._call_flat(\n\u001b[0;32m-> 3040\u001b[0;31m         filtered_flat_args, captured_inputs=graph_function.captured_inputs)  # pylint: disable=protected-access\n\u001b[0m\u001b[1;32m   3041\u001b[0m \u001b[0;34m\u001b[0m\u001b[0m\n\u001b[1;32m   3042\u001b[0m   \u001b[0;34m@\u001b[0m\u001b[0mproperty\u001b[0m\u001b[0;34m\u001b[0m\u001b[0;34m\u001b[0m\u001b[0m\n",
            "\u001b[0;32m/usr/local/lib/python3.7/dist-packages/tensorflow/python/eager/function.py\u001b[0m in \u001b[0;36m_call_flat\u001b[0;34m(self, args, captured_inputs, cancellation_manager)\u001b[0m\n\u001b[1;32m   1962\u001b[0m       \u001b[0;31m# No tape is watching; skip to running the function.\u001b[0m\u001b[0;34m\u001b[0m\u001b[0;34m\u001b[0m\u001b[0;34m\u001b[0m\u001b[0m\n\u001b[1;32m   1963\u001b[0m       return self._build_call_outputs(self._inference_function.call(\n\u001b[0;32m-> 1964\u001b[0;31m           ctx, args, cancellation_manager=cancellation_manager))\n\u001b[0m\u001b[1;32m   1965\u001b[0m     forward_backward = self._select_forward_and_backward_functions(\n\u001b[1;32m   1966\u001b[0m         \u001b[0margs\u001b[0m\u001b[0;34m,\u001b[0m\u001b[0;34m\u001b[0m\u001b[0;34m\u001b[0m\u001b[0m\n",
            "\u001b[0;32m/usr/local/lib/python3.7/dist-packages/tensorflow/python/eager/function.py\u001b[0m in \u001b[0;36mcall\u001b[0;34m(self, ctx, args, cancellation_manager)\u001b[0m\n\u001b[1;32m    594\u001b[0m               \u001b[0minputs\u001b[0m\u001b[0;34m=\u001b[0m\u001b[0margs\u001b[0m\u001b[0;34m,\u001b[0m\u001b[0;34m\u001b[0m\u001b[0;34m\u001b[0m\u001b[0m\n\u001b[1;32m    595\u001b[0m               \u001b[0mattrs\u001b[0m\u001b[0;34m=\u001b[0m\u001b[0mattrs\u001b[0m\u001b[0;34m,\u001b[0m\u001b[0;34m\u001b[0m\u001b[0;34m\u001b[0m\u001b[0m\n\u001b[0;32m--> 596\u001b[0;31m               ctx=ctx)\n\u001b[0m\u001b[1;32m    597\u001b[0m         \u001b[0;32melse\u001b[0m\u001b[0;34m:\u001b[0m\u001b[0;34m\u001b[0m\u001b[0;34m\u001b[0m\u001b[0m\n\u001b[1;32m    598\u001b[0m           outputs = execute.execute_with_cancellation(\n",
            "\u001b[0;32m/usr/local/lib/python3.7/dist-packages/tensorflow/python/eager/execute.py\u001b[0m in \u001b[0;36mquick_execute\u001b[0;34m(op_name, num_outputs, inputs, attrs, ctx, name)\u001b[0m\n\u001b[1;32m     58\u001b[0m     \u001b[0mctx\u001b[0m\u001b[0;34m.\u001b[0m\u001b[0mensure_initialized\u001b[0m\u001b[0;34m(\u001b[0m\u001b[0;34m)\u001b[0m\u001b[0;34m\u001b[0m\u001b[0;34m\u001b[0m\u001b[0m\n\u001b[1;32m     59\u001b[0m     tensors = pywrap_tfe.TFE_Py_Execute(ctx._handle, device_name, op_name,\n\u001b[0;32m---> 60\u001b[0;31m                                         inputs, attrs, num_outputs)\n\u001b[0m\u001b[1;32m     61\u001b[0m   \u001b[0;32mexcept\u001b[0m \u001b[0mcore\u001b[0m\u001b[0;34m.\u001b[0m\u001b[0m_NotOkStatusException\u001b[0m \u001b[0;32mas\u001b[0m \u001b[0me\u001b[0m\u001b[0;34m:\u001b[0m\u001b[0;34m\u001b[0m\u001b[0;34m\u001b[0m\u001b[0m\n\u001b[1;32m     62\u001b[0m     \u001b[0;32mif\u001b[0m \u001b[0mname\u001b[0m \u001b[0;32mis\u001b[0m \u001b[0;32mnot\u001b[0m \u001b[0;32mNone\u001b[0m\u001b[0;34m:\u001b[0m\u001b[0;34m\u001b[0m\u001b[0;34m\u001b[0m\u001b[0m\n",
            "\u001b[0;31mKeyboardInterrupt\u001b[0m: "
          ]
        }
      ]
    },
    {
      "cell_type": "code",
      "metadata": {
        "colab": {
          "base_uri": "https://localhost:8080/",
          "height": 545
        },
        "id": "bQsmXsEBHzxK",
        "outputId": "feba3035-0002-4365-a7fb-f8501483798b"
      },
      "source": [
        "import matplotlib.pyplot as plt\n",
        "\n",
        "acc = history.history['acc']\n",
        "val_acc = history.history['val_acc']\n",
        "loss = history.history['loss']\n",
        "val_loss = history.history['val_loss']\n",
        "\n",
        "epochs = range(1, len(acc) + 1)\n",
        "\n",
        "plt.plot(epochs, acc, 'bo', label='Training acc')\n",
        "plt.plot(epochs, val_acc, 'b', label='Validation acc')\n",
        "plt.title('Training and Validataion accuracy')\n",
        "plt.legend()\n",
        "plt.figure()\n",
        "\n",
        "plt.plot(epochs, loss, 'bo', label='Training loss')\n",
        "plt.plot(epochs, val_loss, 'b', label='Validation loss')\n",
        "plt.title('Training and Validation loss')\n",
        "plt.legend()\n",
        "\n",
        "plt.show()"
      ],
      "execution_count": 37,
      "outputs": [
        {
          "output_type": "display_data",
          "data": {
            "image/png": "[encoded data removed]",
            "text/plain": [
              "<Figure size 432x288 with 1 Axes>"
            ]
          },
          "metadata": {
            "needs_background": "light"
          }
        },
        {
          "output_type": "display_data",
          "data": {
            "image/png": "[encoded data removed]",
            "text/plain": [
              "<Figure size 432x288 with 1 Axes>"
            ]
          },
          "metadata": {
            "needs_background": "light"
          }
        }
      ]
    },
    {
      "cell_type": "code",
      "metadata": {
        "colab": {
          "base_uri": "https://localhost:8080/"
        },
        "id": "aICSQvbWdgsO",
        "outputId": "e23a8945-4b4a-4a5f-e246-b92b10d4fc82"
      },
      "source": [
        "conv_base.summary()"
      ],
      "execution_count": 38,
      "outputs": [
        {
          "output_type": "stream",
          "name": "stdout",
          "text": [
            "Model: \"vgg16\"\n",
            "_________________________________________________________________\n",
            "Layer (type)                 Output Shape              Param #   \n",
            "=================================================================\n",
            "input_1 (InputLayer)         [(None, 150, 150, 3)]     0         \n",
            "_________________________________________________________________\n",
            "block1_conv1 (Conv2D)        (None, 150, 150, 64)      1792      \n",
            "_________________________________________________________________\n",
            "block1_conv2 (Conv2D)        (None, 150, 150, 64)      36928     \n",
            "_________________________________________________________________\n",
            "block1_pool (MaxPooling2D)   (None, 75, 75, 64)        0         \n",
            "_________________________________________________________________\n",
            "block2_conv1 (Conv2D)        (None, 75, 75, 128)       73856     \n",
            "_________________________________________________________________\n",
            "block2_conv2 (Conv2D)        (None, 75, 75, 128)       147584    \n",
            "_________________________________________________________________\n",
            "block2_pool (MaxPooling2D)   (None, 37, 37, 128)       0         \n",
            "_________________________________________________________________\n",
            "block3_conv1 (Conv2D)        (None, 37, 37, 256)       295168    \n",
            "_________________________________________________________________\n",
            "block3_conv2 (Conv2D)        (None, 37, 37, 256)       590080    \n",
            "_________________________________________________________________\n",
            "block3_conv3 (Conv2D)        (None, 37, 37, 256)       590080    \n",
            "_________________________________________________________________\n",
            "block3_pool (MaxPooling2D)   (None, 18, 18, 256)       0         \n",
            "_________________________________________________________________\n",
            "block4_conv1 (Conv2D)        (None, 18, 18, 512)       1180160   \n",
            "_________________________________________________________________\n",
            "block4_conv2 (Conv2D)        (None, 18, 18, 512)       2359808   \n",
            "_________________________________________________________________\n",
            "block4_conv3 (Conv2D)        (None, 18, 18, 512)       2359808   \n",
            "_________________________________________________________________\n",
            "block4_pool (MaxPooling2D)   (None, 9, 9, 512)         0         \n",
            "_________________________________________________________________\n",
            "block5_conv1 (Conv2D)        (None, 9, 9, 512)         2359808   \n",
            "_________________________________________________________________\n",
            "block5_conv2 (Conv2D)        (None, 9, 9, 512)         2359808   \n",
            "_________________________________________________________________\n",
            "block5_conv3 (Conv2D)        (None, 9, 9, 512)         2359808   \n",
            "_________________________________________________________________\n",
            "block5_pool (MaxPooling2D)   (None, 4, 4, 512)         0         \n",
            "=================================================================\n",
            "Total params: 14,714,688\n",
            "Trainable params: 0\n",
            "Non-trainable params: 14,714,688\n",
            "_________________________________________________________________\n"
          ]
        }
      ]
    },
    {
      "cell_type": "code",
      "metadata": {
        "id": "qE92fZ3VdR_8"
      },
      "source": [
        "conv_base.trainable = True\n",
        "set_trainable = False\n",
        "for layer in conv_base.layers:\n",
        "  if layer.name == 'block5_conv1':\n",
        "    set_trainable = True\n",
        "  if set_trainable:\n",
        "    layer.trainable = True\n",
        "  else:\n",
        "    layer.trainable = False"
      ],
      "execution_count": 38,
      "outputs": []
    },
    {
      "cell_type": "code",
      "metadata": {
        "colab": {
          "base_uri": "https://localhost:8080/"
        },
        "id": "tGfJrAWcd2M_",
        "outputId": "bae4c243-ea01-4eb9-89df-949d3f59f096"
      },
      "source": [
        "model.compile(loss='binary_crossentropy',\n",
        "              optimizer=optimizers.RMSprop(lr=1e-5),\n",
        "              metrics=['acc'])\n",
        "history = model.fit_generator(\n",
        "      train_generator,\n",
        "      steps_per_epoch=100,\n",
        "      epochs=100,\n",
        "      validation_data=validation_generator,\n",
        "      validation_steps=50)"
      ],
      "execution_count": 39,
      "outputs": [
        {
          "output_type": "stream",
          "name": "stderr",
          "text": [
            "/usr/local/lib/python3.7/dist-packages/keras/optimizer_v2/optimizer_v2.py:356: UserWarning: The `lr` argument is deprecated, use `learning_rate` instead.\n",
            "  \"The `lr` argument is deprecated, use `learning_rate` instead.\")\n",
            "/usr/local/lib/python3.7/dist-packages/keras/engine/training.py:1972: UserWarning: `Model.fit_generator` is deprecated and will be removed in a future version. Please use `Model.fit`, which supports generators.\n",
            "  warnings.warn('`Model.fit_generator` is deprecated and '\n"
          ]
        },
        {
          "output_type": "stream",
          "name": "stdout",
          "text": [
            "Epoch 1/100\n",
            "100/100 [==============================] - 31s 279ms/step - loss: 0.3392 - acc: 0.8520 - val_loss: 0.2290 - val_acc: 0.9110\n",
            "Epoch 2/100\n",
            "100/100 [==============================] - 28s 277ms/step - loss: 0.2908 - acc: 0.8710 - val_loss: 0.2111 - val_acc: 0.9170\n",
            "Epoch 3/100\n",
            "100/100 [==============================] - 28s 276ms/step - loss: 0.2567 - acc: 0.8920 - val_loss: 0.2044 - val_acc: 0.9150\n",
            "Epoch 4/100\n",
            "100/100 [==============================] - 28s 275ms/step - loss: 0.2382 - acc: 0.8990 - val_loss: 0.2583 - val_acc: 0.8930\n",
            "Epoch 5/100\n",
            "100/100 [==============================] - 28s 277ms/step - loss: 0.2288 - acc: 0.9025 - val_loss: 0.1860 - val_acc: 0.9310\n",
            "Epoch 6/100\n",
            "100/100 [==============================] - 28s 280ms/step - loss: 0.2195 - acc: 0.9120 - val_loss: 0.1824 - val_acc: 0.9250\n",
            "Epoch 7/100\n",
            "100/100 [==============================] - 28s 279ms/step - loss: 0.2103 - acc: 0.9135 - val_loss: 0.1816 - val_acc: 0.9300\n",
            "Epoch 8/100\n",
            "100/100 [==============================] - 28s 275ms/step - loss: 0.1906 - acc: 0.9220 - val_loss: 0.1769 - val_acc: 0.9350\n",
            "Epoch 9/100\n",
            "100/100 [==============================] - 28s 278ms/step - loss: 0.1889 - acc: 0.9235 - val_loss: 0.1911 - val_acc: 0.9240\n",
            "Epoch 10/100\n",
            "100/100 [==============================] - 28s 278ms/step - loss: 0.1651 - acc: 0.9290 - val_loss: 0.2393 - val_acc: 0.9050\n",
            "Epoch 11/100\n",
            "100/100 [==============================] - 28s 278ms/step - loss: 0.1677 - acc: 0.9265 - val_loss: 0.1845 - val_acc: 0.9270\n",
            "Epoch 12/100\n",
            "100/100 [==============================] - 28s 277ms/step - loss: 0.1706 - acc: 0.9315 - val_loss: 0.1706 - val_acc: 0.9330\n",
            "Epoch 13/100\n",
            "100/100 [==============================] - 27s 274ms/step - loss: 0.1389 - acc: 0.9475 - val_loss: 0.1806 - val_acc: 0.9300\n",
            "Epoch 14/100\n",
            "100/100 [==============================] - 28s 278ms/step - loss: 0.1484 - acc: 0.9400 - val_loss: 0.1703 - val_acc: 0.9360\n",
            "Epoch 15/100\n",
            "100/100 [==============================] - 28s 278ms/step - loss: 0.1298 - acc: 0.9525 - val_loss: 0.1690 - val_acc: 0.9360\n",
            "Epoch 16/100\n",
            "100/100 [==============================] - 28s 279ms/step - loss: 0.1258 - acc: 0.9500 - val_loss: 0.1990 - val_acc: 0.9270\n",
            "Epoch 17/100\n",
            "100/100 [==============================] - 28s 281ms/step - loss: 0.1245 - acc: 0.9515 - val_loss: 0.1587 - val_acc: 0.9420\n",
            "Epoch 18/100\n",
            "100/100 [==============================] - 28s 280ms/step - loss: 0.1173 - acc: 0.9540 - val_loss: 0.1696 - val_acc: 0.9370\n",
            "Epoch 19/100\n",
            "100/100 [==============================] - 28s 278ms/step - loss: 0.1198 - acc: 0.9485 - val_loss: 0.1528 - val_acc: 0.9420\n",
            "Epoch 20/100\n",
            "100/100 [==============================] - 28s 276ms/step - loss: 0.1115 - acc: 0.9540 - val_loss: 0.1661 - val_acc: 0.9370\n",
            "Epoch 21/100\n",
            "100/100 [==============================] - 28s 277ms/step - loss: 0.1112 - acc: 0.9595 - val_loss: 0.1584 - val_acc: 0.9400\n",
            "Epoch 22/100\n",
            "100/100 [==============================] - 28s 278ms/step - loss: 0.1112 - acc: 0.9580 - val_loss: 0.1880 - val_acc: 0.9310\n",
            "Epoch 23/100\n",
            "100/100 [==============================] - 28s 279ms/step - loss: 0.0936 - acc: 0.9630 - val_loss: 0.1834 - val_acc: 0.9350\n",
            "Epoch 24/100\n",
            "100/100 [==============================] - 28s 279ms/step - loss: 0.0907 - acc: 0.9665 - val_loss: 0.1631 - val_acc: 0.9390\n",
            "Epoch 25/100\n",
            "100/100 [==============================] - 28s 279ms/step - loss: 0.0791 - acc: 0.9695 - val_loss: 0.1977 - val_acc: 0.9330\n",
            "Epoch 26/100\n",
            "100/100 [==============================] - 28s 279ms/step - loss: 0.1003 - acc: 0.9605 - val_loss: 0.2017 - val_acc: 0.9230\n",
            "Epoch 27/100\n",
            "100/100 [==============================] - 28s 282ms/step - loss: 0.0930 - acc: 0.9690 - val_loss: 0.1615 - val_acc: 0.9340\n",
            "Epoch 28/100\n",
            "100/100 [==============================] - 28s 280ms/step - loss: 0.0875 - acc: 0.9620 - val_loss: 0.2988 - val_acc: 0.9090\n",
            "Epoch 29/100\n",
            "100/100 [==============================] - 28s 279ms/step - loss: 0.0841 - acc: 0.9645 - val_loss: 0.1741 - val_acc: 0.9340\n",
            "Epoch 30/100\n",
            "100/100 [==============================] - 28s 278ms/step - loss: 0.0831 - acc: 0.9655 - val_loss: 0.1849 - val_acc: 0.9390\n",
            "Epoch 31/100\n",
            "100/100 [==============================] - 28s 277ms/step - loss: 0.0827 - acc: 0.9705 - val_loss: 0.2861 - val_acc: 0.9160\n",
            "Epoch 32/100\n",
            "100/100 [==============================] - 28s 277ms/step - loss: 0.0639 - acc: 0.9770 - val_loss: 0.5117 - val_acc: 0.8810\n",
            "Epoch 33/100\n",
            "100/100 [==============================] - 28s 281ms/step - loss: 0.0815 - acc: 0.9645 - val_loss: 0.2447 - val_acc: 0.9270\n",
            "Epoch 34/100\n",
            "100/100 [==============================] - 28s 279ms/step - loss: 0.0801 - acc: 0.9690 - val_loss: 0.1991 - val_acc: 0.9310\n",
            "Epoch 35/100\n",
            "100/100 [==============================] - 28s 277ms/step - loss: 0.0680 - acc: 0.9730 - val_loss: 0.2085 - val_acc: 0.9280\n",
            "Epoch 36/100\n",
            "100/100 [==============================] - 28s 278ms/step - loss: 0.0694 - acc: 0.9750 - val_loss: 0.1828 - val_acc: 0.9340\n",
            "Epoch 37/100\n",
            "100/100 [==============================] - 28s 277ms/step - loss: 0.0568 - acc: 0.9775 - val_loss: 0.1890 - val_acc: 0.9310\n",
            "Epoch 38/100\n",
            "100/100 [==============================] - 28s 282ms/step - loss: 0.0529 - acc: 0.9790 - val_loss: 0.1787 - val_acc: 0.9360\n",
            "Epoch 39/100\n",
            "100/100 [==============================] - 28s 277ms/step - loss: 0.0606 - acc: 0.9775 - val_loss: 0.1966 - val_acc: 0.9360\n",
            "Epoch 40/100\n",
            "100/100 [==============================] - 28s 275ms/step - loss: 0.0616 - acc: 0.9745 - val_loss: 0.1917 - val_acc: 0.9330\n",
            "Epoch 41/100\n",
            "100/100 [==============================] - 28s 275ms/step - loss: 0.0590 - acc: 0.9775 - val_loss: 0.1700 - val_acc: 0.9380\n",
            "Epoch 42/100\n",
            "100/100 [==============================] - 28s 278ms/step - loss: 0.0514 - acc: 0.9795 - val_loss: 0.2518 - val_acc: 0.9250\n",
            "Epoch 43/100\n",
            "100/100 [==============================] - 28s 276ms/step - loss: 0.0565 - acc: 0.9810 - val_loss: 0.1990 - val_acc: 0.9380\n",
            "Epoch 44/100\n",
            "100/100 [==============================] - 28s 278ms/step - loss: 0.0510 - acc: 0.9830 - val_loss: 0.1823 - val_acc: 0.9360\n",
            "Epoch 45/100\n",
            "100/100 [==============================] - 28s 276ms/step - loss: 0.0631 - acc: 0.9775 - val_loss: 0.1815 - val_acc: 0.9370\n",
            "Epoch 46/100\n",
            "100/100 [==============================] - 27s 273ms/step - loss: 0.0427 - acc: 0.9860 - val_loss: 0.1879 - val_acc: 0.9400\n",
            "Epoch 47/100\n",
            "100/100 [==============================] - 28s 276ms/step - loss: 0.0479 - acc: 0.9805 - val_loss: 0.2068 - val_acc: 0.9330\n",
            "Epoch 48/100\n",
            "100/100 [==============================] - 28s 278ms/step - loss: 0.0501 - acc: 0.9810 - val_loss: 0.1940 - val_acc: 0.9390\n",
            "Epoch 49/100\n",
            "100/100 [==============================] - 28s 278ms/step - loss: 0.0391 - acc: 0.9850 - val_loss: 0.2082 - val_acc: 0.9400\n",
            "Epoch 50/100\n",
            "100/100 [==============================] - 28s 278ms/step - loss: 0.0376 - acc: 0.9870 - val_loss: 0.1992 - val_acc: 0.9360\n",
            "Epoch 51/100\n",
            "100/100 [==============================] - 28s 278ms/step - loss: 0.0522 - acc: 0.9850 - val_loss: 0.2013 - val_acc: 0.9380\n",
            "Epoch 52/100\n",
            "100/100 [==============================] - 28s 278ms/step - loss: 0.0485 - acc: 0.9820 - val_loss: 0.2391 - val_acc: 0.9260\n",
            "Epoch 53/100\n",
            "100/100 [==============================] - 28s 280ms/step - loss: 0.0370 - acc: 0.9865 - val_loss: 0.1974 - val_acc: 0.9410\n",
            "Epoch 54/100\n",
            "100/100 [==============================] - 28s 281ms/step - loss: 0.0409 - acc: 0.9860 - val_loss: 0.1990 - val_acc: 0.9370\n",
            "Epoch 55/100\n",
            "100/100 [==============================] - 28s 278ms/step - loss: 0.0369 - acc: 0.9875 - val_loss: 0.1983 - val_acc: 0.9350\n",
            "Epoch 56/100\n",
            "100/100 [==============================] - 28s 276ms/step - loss: 0.0333 - acc: 0.9865 - val_loss: 0.2012 - val_acc: 0.9400\n",
            "Epoch 57/100\n",
            "100/100 [==============================] - 28s 276ms/step - loss: 0.0369 - acc: 0.9875 - val_loss: 0.1993 - val_acc: 0.9410\n",
            "Epoch 58/100\n",
            "100/100 [==============================] - 28s 277ms/step - loss: 0.0424 - acc: 0.9840 - val_loss: 0.2330 - val_acc: 0.9370\n",
            "Epoch 59/100\n",
            "100/100 [==============================] - 28s 277ms/step - loss: 0.0341 - acc: 0.9885 - val_loss: 0.3586 - val_acc: 0.9160\n",
            "Epoch 60/100\n",
            "100/100 [==============================] - 28s 276ms/step - loss: 0.0463 - acc: 0.9850 - val_loss: 0.2266 - val_acc: 0.9290\n",
            "Epoch 61/100\n",
            "100/100 [==============================] - 27s 274ms/step - loss: 0.0300 - acc: 0.9865 - val_loss: 0.2140 - val_acc: 0.9370\n",
            "Epoch 62/100\n",
            "100/100 [==============================] - 28s 276ms/step - loss: 0.0288 - acc: 0.9880 - val_loss: 0.2348 - val_acc: 0.9400\n",
            "Epoch 63/100\n",
            "100/100 [==============================] - 28s 280ms/step - loss: 0.0287 - acc: 0.9885 - val_loss: 0.2253 - val_acc: 0.9310\n",
            "Epoch 64/100\n",
            "100/100 [==============================] - 28s 278ms/step - loss: 0.0374 - acc: 0.9885 - val_loss: 0.1813 - val_acc: 0.9420\n",
            "Epoch 65/100\n",
            "100/100 [==============================] - 28s 277ms/step - loss: 0.0369 - acc: 0.9845 - val_loss: 0.2107 - val_acc: 0.9310\n",
            "Epoch 66/100\n",
            "100/100 [==============================] - 28s 278ms/step - loss: 0.0346 - acc: 0.9860 - val_loss: 0.1878 - val_acc: 0.9420\n",
            "Epoch 67/100\n",
            "100/100 [==============================] - 28s 277ms/step - loss: 0.0409 - acc: 0.9890 - val_loss: 0.2534 - val_acc: 0.9330\n",
            "Epoch 68/100\n",
            "100/100 [==============================] - 28s 276ms/step - loss: 0.0290 - acc: 0.9885 - val_loss: 0.1963 - val_acc: 0.9420\n",
            "Epoch 69/100\n",
            "100/100 [==============================] - 28s 277ms/step - loss: 0.0349 - acc: 0.9895 - val_loss: 0.1934 - val_acc: 0.9410\n",
            "Epoch 70/100\n",
            "100/100 [==============================] - 28s 278ms/step - loss: 0.0384 - acc: 0.9840 - val_loss: 0.2587 - val_acc: 0.9350\n",
            "Epoch 71/100\n",
            "100/100 [==============================] - 28s 277ms/step - loss: 0.0355 - acc: 0.9885 - val_loss: 0.2192 - val_acc: 0.9440\n",
            "Epoch 72/100\n",
            "100/100 [==============================] - 28s 279ms/step - loss: 0.0307 - acc: 0.9900 - val_loss: 0.3319 - val_acc: 0.9220\n",
            "Epoch 73/100\n",
            "100/100 [==============================] - 28s 277ms/step - loss: 0.0247 - acc: 0.9915 - val_loss: 0.2494 - val_acc: 0.9260\n",
            "Epoch 74/100\n",
            "100/100 [==============================] - 28s 276ms/step - loss: 0.0273 - acc: 0.9915 - val_loss: 0.2519 - val_acc: 0.9390\n",
            "Epoch 75/100\n",
            "100/100 [==============================] - 27s 274ms/step - loss: 0.0297 - acc: 0.9905 - val_loss: 0.4148 - val_acc: 0.9170\n",
            "Epoch 76/100\n",
            "100/100 [==============================] - 28s 277ms/step - loss: 0.0210 - acc: 0.9900 - val_loss: 0.2200 - val_acc: 0.9400\n",
            "Epoch 77/100\n",
            "100/100 [==============================] - 28s 276ms/step - loss: 0.0197 - acc: 0.9960 - val_loss: 0.2404 - val_acc: 0.9370\n",
            "Epoch 78/100\n",
            "100/100 [==============================] - 28s 275ms/step - loss: 0.0267 - acc: 0.9915 - val_loss: 0.2519 - val_acc: 0.9370\n",
            "Epoch 79/100\n",
            "100/100 [==============================] - 27s 274ms/step - loss: 0.0259 - acc: 0.9895 - val_loss: 0.3032 - val_acc: 0.9360\n",
            "Epoch 80/100\n",
            "100/100 [==============================] - 28s 275ms/step - loss: 0.0328 - acc: 0.9855 - val_loss: 0.2214 - val_acc: 0.9330\n",
            "Epoch 81/100\n",
            "100/100 [==============================] - 28s 279ms/step - loss: 0.0208 - acc: 0.9930 - val_loss: 0.2755 - val_acc: 0.9370\n",
            "Epoch 82/100\n",
            "100/100 [==============================] - 28s 275ms/step - loss: 0.0282 - acc: 0.9925 - val_loss: 0.2495 - val_acc: 0.9390\n",
            "Epoch 83/100\n",
            "100/100 [==============================] - 28s 279ms/step - loss: 0.0243 - acc: 0.9915 - val_loss: 0.2332 - val_acc: 0.9410\n",
            "Epoch 84/100\n",
            "100/100 [==============================] - 27s 274ms/step - loss: 0.0251 - acc: 0.9915 - val_loss: 0.2940 - val_acc: 0.9350\n",
            "Epoch 85/100\n",
            "100/100 [==============================] - 27s 274ms/step - loss: 0.0158 - acc: 0.9950 - val_loss: 0.2709 - val_acc: 0.9430\n",
            "Epoch 86/100\n",
            "100/100 [==============================] - 27s 272ms/step - loss: 0.0247 - acc: 0.9935 - val_loss: 0.3299 - val_acc: 0.9350\n",
            "Epoch 87/100\n",
            "100/100 [==============================] - 27s 273ms/step - loss: 0.0244 - acc: 0.9900 - val_loss: 0.2766 - val_acc: 0.9330\n",
            "Epoch 88/100\n",
            "100/100 [==============================] - 27s 273ms/step - loss: 0.0243 - acc: 0.9905 - val_loss: 0.2732 - val_acc: 0.9390\n",
            "Epoch 89/100\n",
            "100/100 [==============================] - 28s 276ms/step - loss: 0.0200 - acc: 0.9930 - val_loss: 0.5138 - val_acc: 0.9120\n",
            "Epoch 90/100\n",
            "100/100 [==============================] - 28s 276ms/step - loss: 0.0280 - acc: 0.9905 - val_loss: 0.3671 - val_acc: 0.9260\n",
            "Epoch 91/100\n",
            "100/100 [==============================] - 28s 277ms/step - loss: 0.0205 - acc: 0.9910 - val_loss: 0.2864 - val_acc: 0.9360\n",
            "Epoch 92/100\n",
            "100/100 [==============================] - 28s 276ms/step - loss: 0.0215 - acc: 0.9905 - val_loss: 0.3911 - val_acc: 0.9300\n",
            "Epoch 93/100\n",
            "100/100 [==============================] - 28s 277ms/step - loss: 0.0171 - acc: 0.9945 - val_loss: 0.3518 - val_acc: 0.9350\n",
            "Epoch 94/100\n",
            "100/100 [==============================] - 28s 277ms/step - loss: 0.0235 - acc: 0.9925 - val_loss: 0.2802 - val_acc: 0.9410\n",
            "Epoch 95/100\n",
            "100/100 [==============================] - 28s 276ms/step - loss: 0.0190 - acc: 0.9935 - val_loss: 0.2805 - val_acc: 0.9350\n",
            "Epoch 96/100\n",
            "100/100 [==============================] - 28s 276ms/step - loss: 0.0198 - acc: 0.9935 - val_loss: 0.2852 - val_acc: 0.9400\n",
            "Epoch 97/100\n",
            "100/100 [==============================] - 28s 275ms/step - loss: 0.0207 - acc: 0.9920 - val_loss: 0.2831 - val_acc: 0.9390\n",
            "Epoch 98/100\n",
            "100/100 [==============================] - 28s 276ms/step - loss: 0.0184 - acc: 0.9940 - val_loss: 0.2391 - val_acc: 0.9430\n",
            "Epoch 99/100\n",
            "100/100 [==============================] - 28s 277ms/step - loss: 0.0111 - acc: 0.9970 - val_loss: 0.3315 - val_acc: 0.9380\n",
            "Epoch 100/100\n",
            "100/100 [==============================] - 28s 276ms/step - loss: 0.0171 - acc: 0.9950 - val_loss: 0.2348 - val_acc: 0.9460\n"
          ]
        }
      ]
    },
    {
      "cell_type": "code",
      "metadata": {
        "colab": {
          "base_uri": "https://localhost:8080/",
          "height": 545
        },
        "id": "hL5Ol9teea-U",
        "outputId": "a80514fa-c363-4c14-be60-cb77fe697a27"
      },
      "source": [
        "import matplotlib.pyplot as plt\n",
        "\n",
        "acc = history.history['acc']\n",
        "val_acc = history.history['val_acc']\n",
        "loss = history.history['loss']\n",
        "val_loss = history.history['val_loss']\n",
        "\n",
        "epochs = range(1, len(acc) + 1)\n",
        "\n",
        "plt.plot(epochs, acc, 'bo', label='Training acc')\n",
        "plt.plot(epochs, val_acc, 'b', label='Validation acc')\n",
        "plt.title('Training and Validataion accuracy')\n",
        "plt.legend()\n",
        "plt.figure()\n",
        "\n",
        "plt.plot(epochs, loss, 'bo', label='Training loss')\n",
        "plt.plot(epochs, val_loss, 'b', label='Validation loss')\n",
        "plt.title('Training and Validation loss')\n",
        "plt.legend()\n",
        "\n",
        "plt.show()"
      ],
      "execution_count": 36,
      "outputs": [
        {
          "output_type": "display_data",
          "data": {
            "image/png": "[encoded data removed]",
            "text/plain": [
              "<Figure size 432x288 with 1 Axes>"
            ]
          },
          "metadata": {
            "needs_background": "light"
          }
        },
        {
          "output_type": "display_data",
          "data": {
            "image/png": "[encoded data removed]",
            "text/plain": [
              "<Figure size 432x288 with 1 Axes>"
            ]
          },
          "metadata": {
            "needs_background": "light"
          }
        }
      ]
    },
    {
      "cell_type": "code",
      "metadata": {
        "id": "aLTd-at7DnMl"
      },
      "source": [
        "##Visualizing intermediate activities"
      ],
      "execution_count": 43,
      "outputs": []
    },
    {
      "cell_type": "code",
      "metadata": {
        "colab": {
          "base_uri": "https://localhost:8080/"
        },
        "id": "OBlpSvPqOjmr",
        "outputId": "735359b2-b169-4679-878e-08d46ba6df43"
      },
      "source": [
        "from tensorflow.keras.models import load_model\n",
        "model = load_model('cats_and_dogs_small_2.h5')\n",
        "model.summary()"
      ],
      "execution_count": 40,
      "outputs": [
        {
          "output_type": "stream",
          "name": "stdout",
          "text": [
            "Model: \"sequential_2\"\n",
            "_________________________________________________________________\n",
            "Layer (type)                 Output Shape              Param #   \n",
            "=================================================================\n",
            "conv2d_8 (Conv2D)            (None, 148, 148, 32)      896       \n",
            "_________________________________________________________________\n",
            "max_pooling2d_8 (MaxPooling2 (None, 74, 74, 32)        0         \n",
            "_________________________________________________________________\n",
            "conv2d_9 (Conv2D)            (None, 72, 72, 64)        18496     \n",
            "_________________________________________________________________\n",
            "max_pooling2d_9 (MaxPooling2 (None, 36, 36, 64)        0         \n",
            "_________________________________________________________________\n",
            "conv2d_10 (Conv2D)           (None, 34, 34, 128)       73856     \n",
            "_________________________________________________________________\n",
            "max_pooling2d_10 (MaxPooling (None, 17, 17, 128)       0         \n",
            "_________________________________________________________________\n",
            "conv2d_11 (Conv2D)           (None, 15, 15, 128)       147584    \n",
            "_________________________________________________________________\n",
            "max_pooling2d_11 (MaxPooling (None, 7, 7, 128)         0         \n",
            "_________________________________________________________________\n",
            "flatten_2 (Flatten)          (None, 6272)              0         \n",
            "_________________________________________________________________\n",
            "dropout_1 (Dropout)          (None, 6272)              0         \n",
            "_________________________________________________________________\n",
            "dense_4 (Dense)              (None, 512)               3211776   \n",
            "_________________________________________________________________\n",
            "dense_5 (Dense)              (None, 1)                 513       \n",
            "=================================================================\n",
            "Total params: 3,453,121\n",
            "Trainable params: 3,453,121\n",
            "Non-trainable params: 0\n",
            "_________________________________________________________________\n"
          ]
        }
      ]
    },
    {
      "cell_type": "code",
      "metadata": {
        "colab": {
          "base_uri": "https://localhost:8080/"
        },
        "id": "VOjArNlBOz10",
        "outputId": "c1778700-f977-4f9b-a547-68849d329a8d"
      },
      "source": [
        "img_path = '/content/cats_and_dogs_small/test/cats/cat.1700.jpg'\n",
        "\n",
        "from keras.preprocessing import image\n",
        "import numpy as np\n",
        "\n",
        "img = image.load_img(img_path, target_size=(150, 150))\n",
        "img_tensor = image.img_to_array(img)\n",
        "img_tensor = np.expand_dims(img_tensor, axis=0)\n",
        "img_tensor /= 255.\n",
        "\n",
        "print(img_tensor.shape)"
      ],
      "execution_count": 41,
      "outputs": [
        {
          "output_type": "stream",
          "name": "stdout",
          "text": [
            "(1, 150, 150, 3)\n"
          ]
        }
      ]
    },
    {
      "cell_type": "code",
      "metadata": {
        "colab": {
          "base_uri": "https://localhost:8080/",
          "height": 269
        },
        "id": "48Sc4biu0u8A",
        "outputId": "b27ef184-2c43-4bcb-bcd1-d7eb376548b4"
      },
      "source": [
        "import matplotlib.pyplot as plt\n",
        "plt.imshow(img_tensor[0])\n",
        "plt.show()"
      ],
      "execution_count": 42,
      "outputs": [
        {
          "output_type": "display_data",
          "data": {
            "image/png": "[encoded data removed]",
            "text/plain": [
              "<Figure size 432x288 with 1 Axes>"
            ]
          },
          "metadata": {
            "needs_background": "light"
          }
        }
      ]
    },
    {
      "cell_type": "code",
      "metadata": {
        "id": "xVjeJVXM04yE"
      },
      "source": [
        "from keras import models\n",
        "layer_outputs = [layer.output for layer in model.layers[:8]]\n",
        "activation_model = models.Model(inputs=model.input, outputs=layer_outputs)"
      ],
      "execution_count": 43,
      "outputs": []
    },
    {
      "cell_type": "code",
      "metadata": {
        "id": "MG5entSn16ZD"
      },
      "source": [
        "activations = activation_model.predict(img_tensor)"
      ],
      "execution_count": 44,
      "outputs": []
    },
    {
      "cell_type": "code",
      "metadata": {
        "colab": {
          "base_uri": "https://localhost:8080/"
        },
        "id": "ZJRSS-nI1-Cp",
        "outputId": "12172887-1677-4a0a-9648-4c039d962611"
      },
      "source": [
        " first_layer_activation = activations[0]\n",
        " print(first_layer_activation.shape)"
      ],
      "execution_count": 45,
      "outputs": [
        {
          "output_type": "stream",
          "name": "stdout",
          "text": [
            "(1, 148, 148, 32)\n"
          ]
        }
      ]
    },
    {
      "cell_type": "code",
      "metadata": {
        "colab": {
          "base_uri": "https://localhost:8080/",
          "height": 292
        },
        "id": "OPF56WsQ2ZMT",
        "outputId": "2f0b94a0-fbc1-40de-df55-cdf4c8f584ad"
      },
      "source": [
        "import matplotlib.pyplot as plt\n",
        "plt.matshow(first_layer_activation[0, :, :, 4], cmap='viridis')"
      ],
      "execution_count": 46,
      "outputs": [
        {
          "output_type": "execute_result",
          "data": {
            "text/plain": [
              "<matplotlib.image.AxesImage at 0x7f8046208890>"
            ]
          },
          "metadata": {},
          "execution_count": 46
        },
        {
          "output_type": "display_data",
          "data": {
            "image/png": "[encoded data removed]",
            "text/plain": [
              "<Figure size 288x288 with 1 Axes>"
            ]
          },
          "metadata": {
            "needs_background": "light"
          }
        }
      ]
    },
    {
      "cell_type": "code",
      "metadata": {
        "colab": {
          "base_uri": "https://localhost:8080/",
          "height": 292
        },
        "id": "nyQl3QHr2b-H",
        "outputId": "d41ce544-816f-4ba9-fffa-29bbff5d2ea7"
      },
      "source": [
        "plt.matshow(first_layer_activation[0, :, :, 7], cmap='viridis')\n"
      ],
      "execution_count": 47,
      "outputs": [
        {
          "output_type": "execute_result",
          "data": {
            "text/plain": [
              "<matplotlib.image.AxesImage at 0x7f8046160f50>"
            ]
          },
          "metadata": {},
          "execution_count": 47
        },
        {
          "output_type": "display_data",
          "data": {
            "image/png": "[encoded data removed]",
            "text/plain": [
              "<Figure size 288x288 with 1 Axes>"
            ]
          },
          "metadata": {
            "needs_background": "light"
          }
        }
      ]
    },
    {
      "cell_type": "code",
      "metadata": {
        "colab": {
          "base_uri": "https://localhost:8080/",
          "height": 231
        },
        "id": "HFwWVYt42nDw",
        "outputId": "25c38ecb-5e30-4edc-d516-fc07c6897f5e"
      },
      "source": [
        "layer_names = []\n",
        "for layer in model.layers[:8]:\n",
        "  layer_names.append(layer.name)\n",
        "images_per_row = 16\n",
        "for layer_name, layer_activation in zip(layer_names, activations):\n",
        "  n_features = layer_activation.shape[-1]\n",
        "  size = layer_activation.shape[1]\n",
        "  n_cols = n_features // images_per_row\n",
        "  display_grid = np.zeros((size * n_cols, images_per_row * size))\n",
        "  for col in range(n_cols):\n",
        "    for row in range(images_per_row):\n",
        "      channel_image = layer_activation[0,\n",
        "                                        :, :,\n",
        "                                        col * images_per_row + row]\n",
        "      channel_image -= channel_image.mean()\n",
        "      channel_image /= channel_image.std()\n",
        "      channel_image *= 64\n",
        "      channel_image += 128\n",
        "      channel_image = np.clip(channel_image, 0, 255).astype('uint8')\n",
        "      display_grid[col * size : (col + 1) * size,\n",
        "                   row * size : (row + 1) * size] = channel_image\n",
        "  scale = 1. / size\n",
        "\n",
        "plt.figure(figsize=(scale * display_grid.shape[1],\n",
        "                   scale * display_grid.shape[0]))\n",
        "plt.title(layer_name)\n",
        "plt.grid(False)\n",
        "plt.imshow(display_grid, aspect='auto', cmap='viridis')"
      ],
      "execution_count": 48,
      "outputs": [
        {
          "output_type": "error",
          "ename": "TypeError",
          "evalue": "ignored",
          "traceback": [
            "\u001b[0;31m---------------------------------------------------------------------------\u001b[0m",
            "\u001b[0;31mTypeError\u001b[0m                                 Traceback (most recent call last)",
            "\u001b[0;32m<ipython-input-48-657818119da7>\u001b[0m in \u001b[0;36m<module>\u001b[0;34m()\u001b[0m\n\u001b[1;32m      3\u001b[0m   \u001b[0mlayer_names\u001b[0m\u001b[0;34m.\u001b[0m\u001b[0mappend\u001b[0m\u001b[0;34m(\u001b[0m\u001b[0mlayer\u001b[0m\u001b[0;34m.\u001b[0m\u001b[0mname\u001b[0m\u001b[0;34m)\u001b[0m\u001b[0;34m\u001b[0m\u001b[0;34m\u001b[0m\u001b[0m\n\u001b[1;32m      4\u001b[0m \u001b[0mimages_per_row\u001b[0m \u001b[0;34m=\u001b[0m \u001b[0;36m16\u001b[0m\u001b[0;34m\u001b[0m\u001b[0;34m\u001b[0m\u001b[0m\n\u001b[0;32m----> 5\u001b[0;31m \u001b[0;32mfor\u001b[0m \u001b[0mlayer_name\u001b[0m\u001b[0;34m,\u001b[0m \u001b[0mlayer_activation\u001b[0m \u001b[0;32min\u001b[0m \u001b[0mzip\u001b[0m\u001b[0;34m(\u001b[0m\u001b[0mlayer_names\u001b[0m\u001b[0;34m,\u001b[0m \u001b[0mactivations\u001b[0m\u001b[0;34m)\u001b[0m\u001b[0;34m:\u001b[0m\u001b[0;34m\u001b[0m\u001b[0;34m\u001b[0m\u001b[0m\n\u001b[0m\u001b[1;32m      6\u001b[0m   \u001b[0mn_features\u001b[0m \u001b[0;34m=\u001b[0m \u001b[0mlayer_activation\u001b[0m\u001b[0;34m.\u001b[0m\u001b[0mshape\u001b[0m\u001b[0;34m[\u001b[0m\u001b[0;34m-\u001b[0m\u001b[0;36m1\u001b[0m\u001b[0;34m]\u001b[0m\u001b[0;34m\u001b[0m\u001b[0;34m\u001b[0m\u001b[0m\n\u001b[1;32m      7\u001b[0m   \u001b[0msize\u001b[0m \u001b[0;34m=\u001b[0m \u001b[0mlayer_activation\u001b[0m\u001b[0;34m.\u001b[0m\u001b[0mshape\u001b[0m\u001b[0;34m[\u001b[0m\u001b[0;36m1\u001b[0m\u001b[0;34m]\u001b[0m\u001b[0;34m\u001b[0m\u001b[0;34m\u001b[0m\u001b[0m\n",
            "\u001b[0;31mTypeError\u001b[0m: 'ZipFile' object is not callable"
          ]
        }
      ]
    },
    {
      "cell_type": "code",
      "metadata": {
        "id": "1qK1m47U37FN"
      },
      "source": [
        ""
      ],
      "execution_count": null,
      "outputs": []
    }
  ]
}