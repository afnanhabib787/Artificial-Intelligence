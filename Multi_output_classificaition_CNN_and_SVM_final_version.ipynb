{
  "cells": [
    {
      "cell_type": "markdown",
      "metadata": {
        "id": "view-in-github",
        "colab_type": "text"
      },
      "source": [
        "<a href=\"https://colab.research.google.com/github/afnanhabib787/Artificial-Intelligence/blob/main/Multi_output_classificaition_CNN_and_SVM_final_version.ipynb\" target=\"_parent\"><img src=\"https://colab.research.google.com/assets/colab-badge.svg\" alt=\"Open In Colab\"/></a>"
      ]
    },
    {
      "cell_type": "code",
      "execution_count": 1,
      "metadata": {
        "colab": {
          "base_uri": "https://localhost:8080/"
        },
        "id": "5zNe2VhjVNum",
        "outputId": "d4c0c419-f082-4099-b38e-415351a8836c"
      },
      "outputs": [
        {
          "output_type": "stream",
          "name": "stdout",
          "text": [
            "Mounted at /content/drive\n"
          ]
        }
      ],
      "source": [
        "from google.colab import drive\n",
        "drive.mount('/content/drive')"
      ]
    },
    {
      "cell_type": "code",
      "execution_count": null,
      "metadata": {
        "id": "Om7l7WRLVPUK"
      },
      "outputs": [],
      "source": [
        "!unzip /content/drive/MyDrive/DAiSEE.zip"
      ]
    },
    {
      "cell_type": "code",
      "execution_count": 201,
      "metadata": {
        "id": "Mi6pKLE2XGlS"
      },
      "outputs": [],
      "source": [
        "import pandas as pd\n",
        "lables = pd.read_csv('/content/DAiSEE/Labels/TrainLabels.csv')\n",
        "\n",
        "val_lables = pd.read_csv('/content/DAiSEE/Labels/ValidationLabels.csv')\n"
      ]
    },
    {
      "cell_type": "code",
      "execution_count": 202,
      "metadata": {
        "id": "dts1XCl6Y4Sq"
      },
      "outputs": [],
      "source": [
        "import glob \n",
        "videos = glob.glob(\"/content/DAiSEE/DataSet/Train/*/*/*\")\n"
      ]
    },
    {
      "cell_type": "code",
      "execution_count": 203,
      "metadata": {
        "id": "x63IWTgbmqOS"
      },
      "outputs": [],
      "source": [
        "val_videos = glob.glob(\"/content/DAiSEE/DataSet/Validation/*/*/*\")\n"
      ]
    },
    {
      "cell_type": "code",
      "execution_count": 204,
      "metadata": {
        "id": "x-av1qZUpb9o"
      },
      "outputs": [],
      "source": [
        "import cv2\n",
        "from google.colab.patches import cv2_imshow\n",
        "from PIL import Image\n",
        "import numpy as np\n",
        "clahe = cv2.createCLAHE(clipLimit=2.0, tileGridSize=(8,8))\n",
        "train_images = []\n",
        "train_labels = []\n",
        "i=0\n",
        "for vid in videos[:]:\n",
        "  # Opens the Video file\n",
        "  cap= cv2.VideoCapture(vid)\n",
        "  \n",
        "  fr = 0\n",
        "  while(fr <1):\n",
        "    ret, frame = cap.read()\n",
        "    if ret == False:\n",
        "      break\n",
        "    v = vid[-14:]\n",
        "    \n",
        "    if v in lables.ClipID.values:\n",
        "      current_label = lables.loc[lables['ClipID'] == v]\n",
        "      current_label = current_label.iloc[:,1:]\n",
        "      \n",
        "      train_labels.append(current_label.values)\n",
        "      \n",
        "      gray = cv2.cvtColor(frame, cv2.COLOR_BGR2GRAY) #convert to grayscale\n",
        "      gray=np.asarray(Image.fromarray(gray).resize((48,48)))\n",
        "      clahe_image = clahe.apply(gray)\n",
        "      clahe_image=clahe_image.reshape(48*48)\n",
        "      \n",
        "      s=\"\"\n",
        "    \n",
        "      for i in clahe_image:\n",
        "        s=s+str(i)+\" \"\n",
        "      train_images.append(s)\n",
        "    fr+=1\n",
        "    i+=1\n",
        "  cap.release()\n",
        "  cv2.destroyAllWindows()\n",
        "  \n",
        "\n"
      ]
    },
    {
      "cell_type": "code",
      "execution_count": 205,
      "metadata": {
        "id": "bRkOSfhFmxku"
      },
      "outputs": [],
      "source": [
        "import cv2\n",
        "from PIL import Image\n",
        "import numpy as np\n",
        "clahe = cv2.createCLAHE(clipLimit=2.0, tileGridSize=(8,8))\n",
        "val_images = []\n",
        "val_labels = []\n",
        "i=0\n",
        "for vid_ in val_videos[:]:\n",
        "  # Opens the Video file\n",
        "  cap= cv2.VideoCapture(vid_)\n",
        "  \n",
        "  fr = 0\n",
        "  while(fr <1):\n",
        "    ret, frame = cap.read()\n",
        "    if ret == False:\n",
        "      break\n",
        "    v = vid_[-14:]\n",
        "    if v in val_lables.ClipID.values:\n",
        "      current_label = val_lables.loc[val_lables['ClipID'] == v]\n",
        "      current_label = current_label.iloc[:,1:]\n",
        "      val_labels.append(current_label.values)\n",
        "      gray = cv2.cvtColor(frame, cv2.COLOR_BGR2GRAY) #convert to grayscale\n",
        "      gray=np.asarray(Image.fromarray(gray).resize((48,48)))\n",
        "      clahe_image = clahe.apply(gray)\n",
        "      clahe_image=clahe_image.reshape(48*48)\n",
        "      s=\"\"\n",
        "    \n",
        "      for i in clahe_image:\n",
        "        s=s+str(i)+\" \"\n",
        "      val_images.append(s)    \n",
        "    fr+=1\n",
        "    i+=1\n",
        "  cap.release()\n",
        "  cv2.destroyAllWindows()\n",
        "  \n",
        "\n"
      ]
    },
    {
      "cell_type": "code",
      "execution_count": 206,
      "metadata": {
        "id": "9iAUkPaf_q44"
      },
      "outputs": [],
      "source": [
        "boredom = []\n",
        "Engagement = []\n",
        "Confusion = []\n",
        "Frustration = []\n",
        "for l in train_labels:\n",
        "  boredom.append(l[0][0])\n",
        "  Engagement.append(l[0][1])\n",
        "  Confusion.append(l[0][2])\n",
        "  Frustration.append(l[0][3])"
      ]
    },
    {
      "cell_type": "code",
      "execution_count": 207,
      "metadata": {
        "id": "AJFHxaahnYMo"
      },
      "outputs": [],
      "source": [
        "val_boredom = []\n",
        "val_Engagement = []\n",
        "val_Confusion = []\n",
        "val_Frustration = []\n",
        "for l in val_labels:\n",
        "  val_boredom.append(l[0][0])\n",
        "  val_Engagement.append(l[0][1])\n",
        "  val_Confusion.append(l[0][2])\n",
        "  val_Frustration.append(l[0][3])"
      ]
    },
    {
      "cell_type": "code",
      "execution_count": 208,
      "metadata": {
        "id": "rycg_5YTrrjg"
      },
      "outputs": [],
      "source": [
        "df1 = pd.DataFrame(\n",
        "    {\n",
        "        'pixels': train_images\n",
        "    }\n",
        ")\n",
        "for l in train_labels:\n",
        "  df1['Boredom'] = boredom\n",
        "\n",
        "\n",
        "df2 = pd.DataFrame(\n",
        "    {\n",
        "        'pixels': train_images\n",
        "    }\n",
        ")\n",
        "for l in train_labels:\n",
        "  df2['Engagement'] = Engagement\n",
        "\n",
        "df3 = pd.DataFrame(\n",
        "    {\n",
        "        'pixels': train_images\n",
        "    }\n",
        ")\n",
        "for l in train_labels:\n",
        "  df3['Confusion'] = Confusion\n",
        "  \n",
        "\n",
        "df4 = pd.DataFrame(\n",
        "    {\n",
        "        'pixels': train_images\n",
        "    }\n",
        ")\n",
        "for l in train_labels:\n",
        "  df4['Frustration'] = Frustration"
      ]
    },
    {
      "cell_type": "code",
      "execution_count": 209,
      "metadata": {
        "id": "dsF4t06nQMXl"
      },
      "outputs": [],
      "source": [
        "val_df1 = pd.DataFrame(\n",
        "    {\n",
        "        'pixels': val_images\n",
        "    }\n",
        ")\n",
        "for l in val_labels:\n",
        "  val_df1['Boredom'] = val_boredom\n",
        "\n",
        "val_df2 = pd.DataFrame(\n",
        "    {\n",
        "        'pixels': val_images\n",
        "    }\n",
        ")\n",
        "for l in val_labels:\n",
        "  val_df2['Engagement'] = val_Engagement\n",
        "\n",
        "\n",
        "val_df3 = pd.DataFrame(\n",
        "    {\n",
        "        'pixels': val_images\n",
        "    }\n",
        ")\n",
        "for l in val_labels:\n",
        "  val_df3['Confusion'] = val_Confusion\n",
        "\n",
        "val_df4 = pd.DataFrame(\n",
        "    {\n",
        "        'pixels': val_images\n",
        "    }\n",
        ")\n",
        "for l in val_labels:\n",
        "  val_df4['Frustration'] = val_Frustration"
      ]
    },
    {
      "cell_type": "code",
      "execution_count": 210,
      "metadata": {
        "id": "1GULEBwI1iLo"
      },
      "outputs": [],
      "source": [
        "import pandas as pd\n",
        "from matplotlib import pyplot\n",
        "from math import sqrt \n",
        "import numpy as np \n",
        "import scipy.misc \n",
        "from IPython.display import display \n",
        "from keras.utils import np_utils\n",
        "from keras.preprocessing.image import ImageDataGenerator \n",
        "from tensorflow.keras.utils import plot_model\n",
        "from tensorflow.keras.models import Model\n",
        "from keras.layers import Input, Dense, Flatten, Dropout, BatchNormalization,GlobalAveragePooling2D\n",
        "from keras.layers.convolutional import Conv2D\n",
        "from keras.layers.pooling import MaxPooling2D\n",
        "from keras.layers.merge import concatenate\n",
        "from tensorflow.keras.optimizers import Adam, SGD\n",
        "from tensorflow.keras.regularizers import l1, l2\n",
        "from matplotlib import pyplot as plt\n",
        "from sklearn.metrics import confusion_matrix\n",
        "import itertools\n",
        "from sklearn.utils import shuffle\n",
        "%matplotlib inline\n",
        "\n",
        "data1=shuffle(df1)\n",
        "data2=shuffle(df2)\n",
        "data3=shuffle(df3)\n",
        "data4=shuffle(df4)\n",
        "val_data1 = shuffle(val_df1)\n",
        "val_data2 = shuffle(val_df2)\n",
        "val_data3 = shuffle(val_df3)\n",
        "val_data4 = shuffle(val_df4)\n"
      ]
    },
    {
      "cell_type": "code",
      "execution_count": 211,
      "metadata": {
        "id": "DdasNp5n_Y8h"
      },
      "outputs": [],
      "source": [
        "num_classes = 4\n",
        "emotion_labels = ['Boredm','Confusion','Engagement','Frustration']\n",
        "classes=np.array(('0','1','2','3'))"
      ]
    },
    {
      "cell_type": "code",
      "execution_count": 212,
      "metadata": {
        "id": "BtLjMktx2DVt"
      },
      "outputs": [],
      "source": [
        "train_set1 = data1 \n",
        "train_set1=shuffle(train_set1)\n",
        "train_set2 = data2 \n",
        "train_set2=shuffle(train_set2)\n",
        "train_set3 = data3 \n",
        "train_set3=shuffle(train_set3)\n",
        "train_set4 = data4 \n",
        "train_set4=shuffle(train_set4)\n",
        "val_set1 = val_data1\n",
        "val_set1=shuffle(val_set1)\n",
        "val_set2 = val_data2\n",
        "val_set2=shuffle(val_set2)\n",
        "val_set3 = val_data3\n",
        "val_set3=shuffle(val_set3)\n",
        "val_set4 = val_data4\n",
        "val_set4=shuffle(val_set4)\n"
      ]
    },
    {
      "cell_type": "code",
      "source": [
        "X_train1 = np.array(list(map(str.split, train_set1.pixels)), np.float32)\n",
        "X_val1 = np.array(list(map(str.split, val_set1.pixels)), np.float32) \n",
        "X_train1 = X_train1.reshape(X_train1.shape[0], 48,48) \n",
        "X_val1 = X_val1.reshape(X_val1.shape[0], 48,48)\n",
        "print(X_train1.shape, X_val1.shape,sep='\\n')\n"
      ],
      "metadata": {
        "id": "JT2he9K_yEP7",
        "colab": {
          "base_uri": "https://localhost:8080/"
        },
        "outputId": "db427b59-2db8-40fc-9adf-9708b07d2da9"
      },
      "execution_count": 213,
      "outputs": [
        {
          "output_type": "stream",
          "name": "stdout",
          "text": [
            "(4903, 48, 48)\n",
            "(1400, 48, 48)\n"
          ]
        }
      ]
    },
    {
      "cell_type": "code",
      "source": [
        "X_train2 = np.array(list(map(str.split, train_set2.pixels)), np.float32)\n",
        "X_val2 = np.array(list(map(str.split, val_set2.pixels)), np.float32) \n",
        "X_train2 = X_train2.reshape(X_train2.shape[0], 48,48) \n",
        "X_val2 = X_val2.reshape(X_val2.shape[0], 48,48)\n",
        "print(X_train2.shape, X_val2.shape,sep='\\n')\n"
      ],
      "metadata": {
        "id": "MaoIYEsBYeKJ",
        "colab": {
          "base_uri": "https://localhost:8080/"
        },
        "outputId": "6688b474-eb96-4b7d-f2b1-e5ebbc488720"
      },
      "execution_count": 214,
      "outputs": [
        {
          "output_type": "stream",
          "name": "stdout",
          "text": [
            "(4903, 48, 48)\n",
            "(1400, 48, 48)\n"
          ]
        }
      ]
    },
    {
      "cell_type": "code",
      "source": [
        "X_train3 = np.array(list(map(str.split, train_set3.pixels)), np.float32)\n",
        "X_val3 = np.array(list(map(str.split, val_set3.pixels)), np.float32) \n",
        "X_train3 = X_train3.reshape(X_train3.shape[0], 48,48) \n",
        "X_val3 = X_val3.reshape(X_val3.shape[0], 48,48)\n",
        "print(X_train3.shape, X_val3.shape,sep='\\n')\n"
      ],
      "metadata": {
        "id": "IVyr5dFVYlHh",
        "colab": {
          "base_uri": "https://localhost:8080/"
        },
        "outputId": "cd74e081-cec0-4615-fb2e-2f8c0d754126"
      },
      "execution_count": 215,
      "outputs": [
        {
          "output_type": "stream",
          "name": "stdout",
          "text": [
            "(4903, 48, 48)\n",
            "(1400, 48, 48)\n"
          ]
        }
      ]
    },
    {
      "cell_type": "code",
      "source": [
        "X_train4 = np.array(list(map(str.split, train_set4.pixels)), np.float32)\n",
        "X_val4 = np.array(list(map(str.split, val_set4.pixels)), np.float32) \n",
        "X_train4 = X_train4.reshape(X_train4.shape[0], 48,48) \n",
        "X_val4 = X_val4.reshape(X_val4.shape[0], 48,48)\n",
        "print(X_train4.shape, X_val4.shape,sep='\\n')\n"
      ],
      "metadata": {
        "id": "X5F8BcBaYq-I",
        "colab": {
          "base_uri": "https://localhost:8080/"
        },
        "outputId": "341769af-cb07-4267-bc00-68f3d274be8a"
      },
      "execution_count": 216,
      "outputs": [
        {
          "output_type": "stream",
          "name": "stdout",
          "text": [
            "(4903, 48, 48)\n",
            "(1400, 48, 48)\n"
          ]
        }
      ]
    },
    {
      "cell_type": "code",
      "source": [
        "y_train1 = train_set1.Boredom\n",
        "y_train1 = np_utils.to_categorical(y_train1, num_classes) \n",
        "y_val1 = val_set1.Boredom \n",
        "y_val1 = np_utils.to_categorical(y_val1, num_classes) "
      ],
      "metadata": {
        "id": "iaKz_JJaZkgl"
      },
      "execution_count": 217,
      "outputs": []
    },
    {
      "cell_type": "code",
      "source": [
        "y_train2 = train_set2.Engagement\n",
        "y_train2 = np_utils.to_categorical(y_train2, num_classes) \n",
        "y_val2 = val_set2.Engagement\n",
        "y_val2 = np_utils.to_categorical(y_val2, num_classes) "
      ],
      "metadata": {
        "id": "Frn0St6raCDZ"
      },
      "execution_count": 218,
      "outputs": []
    },
    {
      "cell_type": "code",
      "source": [
        "y_train3 = train_set3.Confusion\n",
        "y_train3 = np_utils.to_categorical(y_train3, num_classes) \n",
        "y_val3 = val_set3.Confusion\n",
        "y_val3 = np_utils.to_categorical(y_val3, num_classes) "
      ],
      "metadata": {
        "id": "iG81ASosaONQ"
      },
      "execution_count": 219,
      "outputs": []
    },
    {
      "cell_type": "code",
      "source": [
        "y_train4 = train_set4.Frustration\n",
        "y_train4 = np_utils.to_categorical(y_train4, num_classes) \n",
        "y_val4 = val_set4.Frustration\n",
        "y_val4 = np_utils.to_categorical(y_val4, num_classes) "
      ],
      "metadata": {
        "id": "U-wwAew9aaOY"
      },
      "execution_count": 220,
      "outputs": []
    },
    {
      "cell_type": "code",
      "execution_count": 221,
      "metadata": {
        "id": "bteFygRArlYr"
      },
      "outputs": [],
      "source": [
        "from keras.models import Sequential\n",
        "from keras import layers\n",
        "from keras import models\n",
        "from keras import optimizers\n",
        "from keras import layers\n",
        "from keras import models\n",
        "from keras import optimizers\n",
        "from keras.layers import LeakyReLU\n",
        "width=48\n",
        "height=48\n",
        "model1 = Sequential()\n",
        "num_features=32\n",
        "model1.add(Conv2D(num_features, kernel_size=(3, 3), activation='relu', input_shape=(width, height, 1), data_format='channels_last', kernel_regularizer=l2(0.01)))\n",
        "model1.add(Conv2D(num_features, kernel_size=(3, 3), activation='relu', padding='same'))\n",
        "model1.add(BatchNormalization())\n",
        "model1.add(MaxPooling2D(pool_size=(2, 2), strides=(2, 2)))\n",
        "\n",
        "\n",
        "model1.add(Conv2D(2*num_features, kernel_size=(3, 3), activation='relu', padding='same'))\n",
        "model1.add(BatchNormalization())\n",
        "model1.add(Conv2D(2*num_features, kernel_size=(3, 3), activation='relu', padding='same'))\n",
        "model1.add(BatchNormalization())\n",
        "model1.add(MaxPooling2D(pool_size=(2, 2), strides=(2, 2)))\n",
        "\n",
        "model1.add(Flatten())\n",
        "model1.add(Dense(256))\n",
        "model1.add(LeakyReLU(alpha=0.05))\n",
        "model1.add(Dense(128))\n",
        "model1.add(LeakyReLU(alpha=0.05))\n",
        "model1.add(Dense(64))\n",
        "model1.add(LeakyReLU(alpha=0.05))\n",
        "model1.add(Dropout(0.2))\n",
        "model1.add(Dense(64))\n",
        "model1.add(LeakyReLU(alpha=0.05))\n",
        "model1.add(Dense(num_classes, activation='softmax'))\n",
        "model1.compile(loss='categorical_crossentropy', optimizer='adam', metrics=['accuracy'])"
      ]
    },
    {
      "cell_type": "code",
      "source": [
        "model2 = Sequential()\n",
        "num_features=32\n",
        "model2.add(Conv2D(num_features, kernel_size=(3, 3), activation='relu', input_shape=(width, height, 1), data_format='channels_last', kernel_regularizer=l2(0.01)))\n",
        "model2.add(Conv2D(num_features, kernel_size=(3, 3), activation='relu', padding='same'))\n",
        "model2.add(BatchNormalization())\n",
        "model2.add(MaxPooling2D(pool_size=(2, 2), strides=(2, 2)))\n",
        "\n",
        "\n",
        "model2.add(Conv2D(2*num_features, kernel_size=(3, 3), activation='relu', padding='same'))\n",
        "model2.add(BatchNormalization())\n",
        "model2.add(Conv2D(2*num_features, kernel_size=(3, 3), activation='relu', padding='same'))\n",
        "model2.add(BatchNormalization())\n",
        "model2.add(MaxPooling2D(pool_size=(2, 2), strides=(2, 2)))\n",
        "\n",
        "model2.add(Flatten())\n",
        "model2.add(Dense(256))\n",
        "model2.add(LeakyReLU(alpha=0.05))\n",
        "model2.add(Dense(128))\n",
        "model2.add(LeakyReLU(alpha=0.05))\n",
        "model2.add(Dense(64))\n",
        "model2.add(LeakyReLU(alpha=0.05))\n",
        "model2.add(Dropout(0.2))\n",
        "model2.add(Dense(64))\n",
        "model2.add(LeakyReLU(alpha=0.05))\n",
        "model2.add(Dense(num_classes, activation='softmax'))\n",
        "model2.compile(loss='categorical_crossentropy', optimizer='adam', metrics=['accuracy'])"
      ],
      "metadata": {
        "id": "ogASULrBdLY9"
      },
      "execution_count": 222,
      "outputs": []
    },
    {
      "cell_type": "code",
      "source": [
        "model3 = Sequential()\n",
        "num_features=32\n",
        "model3.add(Conv2D(num_features, kernel_size=(3, 3), activation='relu', input_shape=(width, height, 1), data_format='channels_last', kernel_regularizer=l2(0.01)))\n",
        "model3.add(Conv2D(num_features, kernel_size=(3, 3), activation='relu', padding='same'))\n",
        "model3.add(BatchNormalization())\n",
        "model3.add(MaxPooling2D(pool_size=(2, 2), strides=(2, 2)))\n",
        "\n",
        "\n",
        "model3.add(Conv2D(2*num_features, kernel_size=(3, 3), activation='relu', padding='same'))\n",
        "model3.add(BatchNormalization())\n",
        "model3.add(Conv2D(2*num_features, kernel_size=(3, 3), activation='relu', padding='same'))\n",
        "model3.add(BatchNormalization())\n",
        "model3.add(MaxPooling2D(pool_size=(2, 2), strides=(2, 2)))\n",
        "\n",
        "model3.add(Flatten())\n",
        "model3.add(Dense(256))\n",
        "model3.add(LeakyReLU(alpha=0.05))\n",
        "model3.add(Dense(128))\n",
        "model3.add(LeakyReLU(alpha=0.05))\n",
        "model3.add(Dense(64))\n",
        "model3.add(LeakyReLU(alpha=0.05))\n",
        "model3.add(Dropout(0.2))\n",
        "model3.add(Dense(64))\n",
        "model3.add(LeakyReLU(alpha=0.05))\n",
        "model3.add(Dense(num_classes, activation='softmax'))\n",
        "model3.compile(loss='categorical_crossentropy', optimizer='adam', metrics=['accuracy'])"
      ],
      "metadata": {
        "id": "IYQyNhu2dL6f"
      },
      "execution_count": 223,
      "outputs": []
    },
    {
      "cell_type": "code",
      "source": [
        "model4 = Sequential()\n",
        "\n",
        "num_features=32\n",
        "model4.add(Conv2D(num_features, kernel_size=(3, 3), activation='relu', input_shape=(width, height, 1), data_format='channels_last', kernel_regularizer=l2(0.01)))\n",
        "model4.add(Conv2D(num_features, kernel_size=(3, 3), activation='relu', padding='same'))\n",
        "model4.add(BatchNormalization())\n",
        "model4.add(MaxPooling2D(pool_size=(2, 2), strides=(2, 2)))\n",
        "\n",
        "\n",
        "model4.add(Conv2D(2*num_features, kernel_size=(3, 3), activation='relu', padding='same'))\n",
        "model4.add(BatchNormalization())\n",
        "model4.add(Conv2D(2*num_features, kernel_size=(3, 3), activation='relu', padding='same'))\n",
        "model4.add(BatchNormalization())\n",
        "model4.add(MaxPooling2D(pool_size=(2, 2), strides=(2, 2)))\n",
        "\n",
        "model4.add(Flatten())\n",
        "model4.add(Dense(256))\n",
        "model4.add(LeakyReLU(alpha=0.05))\n",
        "model4.add(Dense(128))\n",
        "model4.add(LeakyReLU(alpha=0.05))\n",
        "model4.add(Dense(64))\n",
        "model4.add(LeakyReLU(alpha=0.05))\n",
        "model4.add(Dropout(0.2))\n",
        "model4.add(Dense(64))\n",
        "model4.add(LeakyReLU(alpha=0.05))\n",
        "model4.add(Dense(num_classes, activation='softmax'))\n",
        "model4.compile(loss='categorical_crossentropy', optimizer='adam', metrics=['accuracy'])"
      ],
      "metadata": {
        "id": "OtAI7Y1hdMQ9"
      },
      "execution_count": 224,
      "outputs": []
    },
    {
      "cell_type": "code",
      "execution_count": 225,
      "metadata": {
        "id": "UkbBSogLk4cM"
      },
      "outputs": [],
      "source": [
        "#fit model1\n",
        "nb_epoch =20\n",
        "batch_size = 64\n",
        "history1 = model1.fit(X_train1,y_train1, epochs=nb_epoch,\n",
        "          validation_data=(X_val1,y_val1), shuffle=True, verbose=0)"
      ]
    },
    {
      "cell_type": "code",
      "source": [
        "import matplotlib.pyplot as plt\n",
        "\n",
        "acc = history1.history['accuracy']\n",
        "val_acc = history1.history['val_accuracy']\n",
        "loss = history1.history['loss']\n",
        "val_loss = history1.history['val_loss']\n",
        "\n",
        "epochs = range(1, len(acc) + 1)\n",
        "\n",
        "plt.plot(epochs, acc, 'bo', label='Training acc')\n",
        "plt.plot(epochs, val_acc, 'b', label='Validation acc')\n",
        "plt.title('Training and Validataion accuracy')\n",
        "plt.legend()\n",
        "plt.figure()\n",
        "\n",
        "plt.plot(epochs, loss, 'bo', label='Training loss')\n",
        "plt.plot(epochs, val_loss, 'b', label='Validation loss')\n",
        "plt.title('Training and Validation loss')\n",
        "plt.legend()\n",
        "\n",
        "plt.show()"
      ],
      "metadata": {
        "colab": {
          "base_uri": "https://localhost:8080/",
          "height": 545
        },
        "id": "_qEzRMxQuSZj",
        "outputId": "3ba30470-853a-4c58-b4d1-ad1541a85c25"
      },
      "execution_count": 226,
      "outputs": [
        {
          "output_type": "display_data",
          "data": {
            "text/plain": [
              "<Figure size 432x288 with 1 Axes>"
            ],
            "image/png": "[encoded data removed]"
          },
          "metadata": {
            "needs_background": "light"
          }
        },
        {
          "output_type": "display_data",
          "data": {
            "text/plain": [
              "<Figure size 432x288 with 1 Axes>"
            ],
            "image/png": "[encoded data removed]"
          },
          "metadata": {
            "needs_background": "light"
          }
        }
      ]
    },
    {
      "cell_type": "code",
      "source": [
        "#fit model2\n",
        "nb_epoch =25\n",
        "batch_size = 64\n",
        "history2 = model2.fit(X_train2,y_train2, epochs=nb_epoch,\n",
        "          validation_data=(X_val2,y_val2), shuffle=True, verbose=0)"
      ],
      "metadata": {
        "id": "TBjnRobodpwI"
      },
      "execution_count": 227,
      "outputs": []
    },
    {
      "cell_type": "code",
      "source": [
        "import matplotlib.pyplot as plt\n",
        "\n",
        "acc = history2.history['accuracy']\n",
        "val_acc = history2.history['val_accuracy']\n",
        "loss = history2.history['loss']\n",
        "val_loss = history2.history['val_loss']\n",
        "\n",
        "epochs = range(1, len(acc) + 1)\n",
        "\n",
        "plt.plot(epochs, acc, 'bo', label='Training acc')\n",
        "plt.plot(epochs, val_acc, 'b', label='Validation acc')\n",
        "plt.title('Training and Validataion accuracy')\n",
        "plt.legend()\n",
        "plt.figure()\n",
        "\n",
        "plt.plot(epochs, loss, 'bo', label='Training loss')\n",
        "plt.plot(epochs, val_loss, 'b', label='Validation loss')\n",
        "plt.title('Training and Validation loss')\n",
        "plt.legend()\n",
        "\n",
        "plt.show()"
      ],
      "metadata": {
        "colab": {
          "base_uri": "https://localhost:8080/",
          "height": 545
        },
        "id": "ooKl7uf0uWOc",
        "outputId": "26a0604a-fb63-490c-d571-a03405b2d641"
      },
      "execution_count": 228,
      "outputs": [
        {
          "output_type": "display_data",
          "data": {
            "text/plain": [
              "<Figure size 432x288 with 1 Axes>"
            ],
            "image/png": "[encoded data removed]"
          },
          "metadata": {
            "needs_background": "light"
          }
        },
        {
          "output_type": "display_data",
          "data": {
            "text/plain": [
              "<Figure size 432x288 with 1 Axes>"
            ],
            "image/png": "[encoded data removed]"
          },
          "metadata": {
            "needs_background": "light"
          }
        }
      ]
    },
    {
      "cell_type": "code",
      "source": [
        "#fit model3\n",
        "nb_epoch =25\n",
        "batch_size = 64\n",
        "history3 = model3.fit(X_train3,y_train3, epochs=nb_epoch,\n",
        "          validation_data=(X_val3,y_val3), shuffle=True, verbose=0)"
      ],
      "metadata": {
        "id": "cAaP3gwZb2IR"
      },
      "execution_count": 229,
      "outputs": []
    },
    {
      "cell_type": "code",
      "source": [
        "import matplotlib.pyplot as plt\n",
        "\n",
        "acc = history3.history['accuracy']\n",
        "val_acc = history3.history['val_accuracy']\n",
        "loss = history3.history['loss']\n",
        "val_loss = history3.history['val_loss']\n",
        "\n",
        "epochs = range(1, len(acc) + 1)\n",
        "\n",
        "plt.plot(epochs, acc, 'bo', label='Training acc')\n",
        "plt.plot(epochs, val_acc, 'b', label='Validation acc')\n",
        "plt.title('Training and Validataion accuracy')\n",
        "plt.legend()\n",
        "plt.figure()\n",
        "\n",
        "plt.plot(epochs, loss, 'bo', label='Training loss')\n",
        "plt.plot(epochs, val_loss, 'b', label='Validation loss')\n",
        "plt.title('Training and Validation loss')\n",
        "plt.legend()\n",
        "\n",
        "plt.show()"
      ],
      "metadata": {
        "colab": {
          "base_uri": "https://localhost:8080/",
          "height": 545
        },
        "id": "HEgdkE8vuiJB",
        "outputId": "9a1803b3-843d-49d1-c463-e2b64ac54428"
      },
      "execution_count": 230,
      "outputs": [
        {
          "output_type": "display_data",
          "data": {
            "text/plain": [
              "<Figure size 432x288 with 1 Axes>"
            ],
            "image/png": "[encoded data removed]"
          },
          "metadata": {
            "needs_background": "light"
          }
        },
        {
          "output_type": "display_data",
          "data": {
            "text/plain": [
              "<Figure size 432x288 with 1 Axes>"
            ],
            "image/png": "[encoded data removed]"
          },
          "metadata": {
            "needs_background": "light"
          }
        }
      ]
    },
    {
      "cell_type": "code",
      "source": [
        "#fit model4\n",
        "nb_epoch =25\n",
        "batch_size = 64\n",
        "history4 = model4.fit(X_train4,y_train4, epochs=nb_epoch,\n",
        "          validation_data=(X_val4,y_val4), shuffle=True, verbose=0)"
      ],
      "metadata": {
        "id": "kT1x2Tppd1D1"
      },
      "execution_count": 231,
      "outputs": []
    },
    {
      "cell_type": "code",
      "source": [
        "import matplotlib.pyplot as plt\n",
        "\n",
        "acc = history4.history['accuracy']\n",
        "val_acc = history4.history['val_accuracy']\n",
        "loss = history4.history['loss']\n",
        "val_loss = history4.history['val_loss']\n",
        "\n",
        "epochs = range(1, len(acc) + 1)\n",
        "\n",
        "plt.plot(epochs, acc, 'bo', label='Training acc')\n",
        "plt.plot(epochs, val_acc, 'b', label='Validation acc')\n",
        "plt.title('Training and Validataion accuracy')\n",
        "plt.legend()\n",
        "plt.figure()\n",
        "\n",
        "plt.plot(epochs, loss, 'bo', label='Training loss')\n",
        "plt.plot(epochs, val_loss, 'b', label='Validation loss')\n",
        "plt.title('Training and Validation loss')\n",
        "plt.legend()\n",
        "\n",
        "plt.show()"
      ],
      "metadata": {
        "colab": {
          "base_uri": "https://localhost:8080/",
          "height": 545
        },
        "id": "hPKAOLbQuZMU",
        "outputId": "cc48e4b7-9dcd-4fef-9764-879584ea5bca"
      },
      "execution_count": 232,
      "outputs": [
        {
          "output_type": "display_data",
          "data": {
            "text/plain": [
              "<Figure size 432x288 with 1 Axes>"
            ],
            "image/png": "[encoded data removed]"
          },
          "metadata": {
            "needs_background": "light"
          }
        },
        {
          "output_type": "display_data",
          "data": {
            "text/plain": [
              "<Figure size 432x288 with 1 Axes>"
            ],
            "image/png": "[encoded data removed]"
          },
          "metadata": {
            "needs_background": "light"
          }
        }
      ]
    },
    {
      "cell_type": "code",
      "execution_count": 233,
      "metadata": {
        "id": "F0fXGTIxlFFG"
      },
      "outputs": [],
      "source": [
        "model_1=Model(inputs=model1.input,outputs=model1.layers[-6].output)\n",
        "model_2=Model(inputs=model2.input,outputs=model2.layers[-6].output)\n",
        "model_3=Model(inputs=model3.input,outputs=model3.layers[-6].output)\n",
        "model_4=Model(inputs=model4.input,outputs=model4.layers[-6].output)"
      ]
    },
    {
      "cell_type": "code",
      "execution_count": 234,
      "metadata": {
        "id": "EgKNKjealQNJ"
      },
      "outputs": [],
      "source": [
        "from sklearn.svm import SVC\n",
        "clf1 = SVC(kernel='linear', verbose=True,probability=True, tol=1e-3)\n",
        "\n",
        "clf2 = SVC(kernel='linear', verbose=True,probability=True, tol=1e-3)\n",
        "\n",
        "clf3 = SVC(kernel='linear', verbose=True,probability=True, tol=1e-3)\n",
        "\n",
        "clf4 = SVC(kernel='linear', verbose=True,probability=True, tol=1e-3)"
      ]
    },
    {
      "cell_type": "code",
      "source": [
        "val_labs1=np.asarray([np.argmax(i) for i in y_val1])\n",
        "train_labs1=np.asarray([np.argmax(i) for i in y_train1])"
      ],
      "metadata": {
        "id": "pD30fe5Qzq_8"
      },
      "execution_count": 235,
      "outputs": []
    },
    {
      "cell_type": "code",
      "source": [
        "val_labs2=np.asarray([np.argmax(i) for i in y_val2])\n",
        "train_labs2=np.asarray([np.argmax(i) for i in y_train2])"
      ],
      "metadata": {
        "id": "S21oA4Wejiol"
      },
      "execution_count": 236,
      "outputs": []
    },
    {
      "cell_type": "code",
      "source": [
        "val_labs3=np.asarray([np.argmax(i) for i in y_val3])\n",
        "train_labs3=np.asarray([np.argmax(i) for i in y_train3])"
      ],
      "metadata": {
        "id": "sLtlh9ErjjXJ"
      },
      "execution_count": 237,
      "outputs": []
    },
    {
      "cell_type": "code",
      "source": [
        "val_labs4=np.asarray([np.argmax(i) for i in y_val4])\n",
        "train_labs4=np.asarray([np.argmax(i) for i in y_train4])"
      ],
      "metadata": {
        "id": "4czJ3p5kjjvL"
      },
      "execution_count": 238,
      "outputs": []
    },
    {
      "cell_type": "code",
      "execution_count": 239,
      "metadata": {
        "id": "NMgzJ10llWiA"
      },
      "outputs": [],
      "source": [
        "def plot_confusion_matrix(y_test, y_pred, classes,\n",
        "                          normalize=False,\n",
        "                          title='Unnormalized confusion matrix',\n",
        "                          cmap=plt.cm.Blues):\n",
        "    cm = confusion_matrix(y_test, y_pred)\n",
        "    \n",
        "    if normalize:\n",
        "        cm = np.round(cm.astype('float') / cm.sum(axis=1)[:, np.newaxis], 2)\n",
        "        \n",
        "    np.set_printoptions(precision=2)\n",
        "        \n",
        "    plt.imshow(cm, interpolation='nearest', cmap=cmap)\n",
        "    plt.title(title)\n",
        "    plt.colorbar()\n",
        "    tick_marks = np.arange(len(classes))\n",
        "    plt.xticks(tick_marks, classes, rotation=45)\n",
        "    plt.yticks(tick_marks, classes)\n",
        "\n",
        "    thresh = cm.min() + (cm.max() - cm.min()) / 2.\n",
        "    for i, j in itertools.product(range(cm.shape[0]), range(cm.shape[1])):\n",
        "        plt.text(j, i, cm[i, j],\n",
        "                 horizontalalignment=\"center\",\n",
        "                 color=\"white\" if cm[i, j] > thresh else \"black\")\n",
        "\n",
        "    plt.tight_layout()\n",
        "    plt.ylabel('True expression')\n",
        "    plt.xlabel('Predicted expression')\n",
        "\n",
        "    plt.show()"
      ]
    },
    {
      "cell_type": "code",
      "execution_count": 240,
      "metadata": {
        "id": "zhHfBkehlg0V"
      },
      "outputs": [],
      "source": [
        "import dlib\n",
        "import math\n",
        "predictor = dlib.shape_predictor(\"/content/drive/MyDrive/shape_predictor_68_face_landmarks (1).dat\")\n",
        "def get_landmarks(image):\n",
        "    dlibRect =[dlib.rectangle(0, 48, 48, 0)] \n",
        "    for d in dlibRect: #For all detected face instances individually\n",
        "        shape = predictor(image, d) #Draw Facial Landmarks with the predictor class\n",
        "        xlist = []\n",
        "        ylist = []\n",
        "        for i in range(1,68): #Store X and Y coordinates in two lists\n",
        "            xlist.append(float(shape.part(i).x))\n",
        "            ylist.append(float(shape.part(i).y))\n",
        "        xmean = np.mean(xlist)\n",
        "        ymean = np.mean(ylist)\n",
        "        xcentral = [(x-xmean) for x in xlist]\n",
        "        ycentral = [(y-ymean) for y in ylist]\n",
        "        landmarks_vectorised = []\n",
        "        for x, y, w, z in zip(xcentral, ycentral, xlist, ylist):\n",
        "            landmarks_vectorised.append(w)\n",
        "            landmarks_vectorised.append(z)\n",
        "            meannp = np.asarray((ymean,xmean))\n",
        "            coornp = np.asarray((z,w))\n",
        "            dist = np.linalg.norm(coornp-meannp)\n",
        "            landmarks_vectorised.append(dist)\n",
        "            landmarks_vectorised.append((math.atan2(y, x)*360)/(2*math.pi))\n",
        "        return np.asarray(landmarks_vectorised)"
      ]
    },
    {
      "cell_type": "code",
      "execution_count": 241,
      "metadata": {
        "id": "re8qkKs9mEv-"
      },
      "outputs": [],
      "source": [
        "def get_hand_features(data):\n",
        "  print(\"getting Handcrafted Features.............\")\n",
        "  l=[]\n",
        "  for i in data:\n",
        "    z=i.reshape(48,48)\n",
        "    z=z.astype('uint8')\n",
        "    l.append(get_landmarks(z))\n",
        "  return np.asarray(l)"
      ]
    },
    {
      "cell_type": "code",
      "execution_count": 242,
      "metadata": {
        "id": "zhPh15eBmKBv"
      },
      "outputs": [],
      "source": [
        "def append_CNN_hand(cnn_features,hand_features):\n",
        "  print(\"Merging Both Fearures.............\")\n",
        "  if cnn_features.shape[0]!=hand_features.shape[0]:\n",
        "    return 'shape not equal'\n",
        "  else:\n",
        "    l=[]\n",
        "    for i in range(cnn_features.shape[0]):\n",
        "      k=np.append(cnn_features[i],hand_features[i])\n",
        "      l.append(k)\n",
        "    return np.asarray(l)"
      ]
    },
    {
      "cell_type": "code",
      "execution_count": 243,
      "metadata": {
        "id": "r_LQYGSZmQDv",
        "colab": {
          "base_uri": "https://localhost:8080/"
        },
        "outputId": "12c4ba1e-5925-4f42-c765-7bc5a672a432"
      },
      "outputs": [
        {
          "output_type": "stream",
          "name": "stdout",
          "text": [
            "WARNING:tensorflow:Compiled the loaded model, but the compiled metrics have yet to be built. `model.compile_metrics` will be empty until you train or evaluate the model.\n"
          ]
        }
      ],
      "source": [
        "model_1.save('/content/drive/My Drive/Project/Model_for_daisee_less_arch_FC.hdf5')"
      ]
    },
    {
      "cell_type": "code",
      "execution_count": 244,
      "metadata": {
        "colab": {
          "base_uri": "https://localhost:8080/",
          "height": 363
        },
        "id": "SXbPCDchmXE_",
        "outputId": "0ede50a5-4aa0-4e3d-cd8f-7008610865d2"
      },
      "outputs": [
        {
          "output_type": "stream",
          "name": "stdout",
          "text": [
            "Training the classifier........\n",
            "[LibSVM]time taken:  0.34722304344177246\n"
          ]
        },
        {
          "output_type": "display_data",
          "data": {
            "text/plain": [
              "<Figure size 432x288 with 2 Axes>"
            ],
            "image/png": "[encoded data removed]"
          },
          "metadata": {
            "needs_background": "light"
          }
        },
        {
          "output_type": "stream",
          "name": "stdout",
          "text": [
            "obtained_accuracy:  0.36\n"
          ]
        }
      ],
      "source": [
        "#only CNN\n",
        "import time\n",
        "print(\"Training the classifier........\")\n",
        "for i in range(1):\n",
        "  s=time.time()\n",
        "  train_data=model_1.predict(X_train1[:100])\n",
        "  val_data=model_1.predict(X_val1[:25])\n",
        "  clf1.fit(train_data,train_labs1[:100])\n",
        "  print('time taken: ',time.time()-s)\n",
        "  pred_lin = clf1.score(val_data,val_labs1[:25])\n",
        "  plot_confusion_matrix(val_labs1[:25],clf1.predict(val_data),classes,normalize=True,title=\"Confusion _matrix\")\n",
        "  print('obtained_accuracy: ',pred_lin)"
      ]
    },
    {
      "cell_type": "code",
      "source": [
        "#only CNN\n",
        "import time\n",
        "print(\"Training the classifier........\")\n",
        "for i in range(1):\n",
        "  s=time.time()\n",
        "  train_data=model_1.predict(X_train2[:100])\n",
        "  val_data=model_1.predict(X_val2[:25])\n",
        "  clf2.fit(train_data,train_labs2[:100])\n",
        "  print('time taken: ',time.time()-s)\n",
        "  pred_lin = clf2.score(val_data,val_labs2[:25])\n",
        "  plot_confusion_matrix(val_labs2[:25],clf2.predict(val_data),classes,normalize=True,title=\"Confusion _matrix\")\n",
        "  print('obtained_accuracy: ',pred_lin)"
      ],
      "metadata": {
        "id": "nTiyhNHvjWQB",
        "colab": {
          "base_uri": "https://localhost:8080/",
          "height": 363
        },
        "outputId": "e788a5df-a371-4c1d-d6d6-8e7890e9aa8d"
      },
      "execution_count": 245,
      "outputs": [
        {
          "output_type": "stream",
          "name": "stdout",
          "text": [
            "Training the classifier........\n",
            "[LibSVM]time taken:  0.32033586502075195\n"
          ]
        },
        {
          "output_type": "display_data",
          "data": {
            "text/plain": [
              "<Figure size 432x288 with 2 Axes>"
            ],
            "image/png": "[encoded data removed]"
          },
          "metadata": {
            "needs_background": "light"
          }
        },
        {
          "output_type": "stream",
          "name": "stdout",
          "text": [
            "obtained_accuracy:  0.52\n"
          ]
        }
      ]
    },
    {
      "cell_type": "code",
      "source": [
        "#only CNN\n",
        "import time\n",
        "print(\"Training the classifier........\")\n",
        "for i in range(1):\n",
        "  s=time.time()\n",
        "  train_data=model_3.predict(X_train3[:100])\n",
        "  val_data=model_3.predict(X_val3[:25])\n",
        "  clf3.fit(train_data,train_labs3[:100])\n",
        "  print('time taken: ',time.time()-s)\n",
        "  pred_lin = clf3.score(val_data,val_labs3[:25])\n",
        "  plot_confusion_matrix(val_labs3[:25],clf3.predict(val_data),classes,normalize=True,title=\"Confusion _matrix\")\n",
        "  print('obtained_accuracy: ',pred_lin)"
      ],
      "metadata": {
        "colab": {
          "base_uri": "https://localhost:8080/",
          "height": 363
        },
        "id": "7_4DbzVmrWnW",
        "outputId": "3ae16dd9-5af0-4b79-f016-3b865cb45fb2"
      },
      "execution_count": 246,
      "outputs": [
        {
          "output_type": "stream",
          "name": "stdout",
          "text": [
            "Training the classifier........\n",
            "[LibSVM]time taken:  0.35421156883239746\n"
          ]
        },
        {
          "output_type": "display_data",
          "data": {
            "text/plain": [
              "<Figure size 432x288 with 2 Axes>"
            ],
            "image/png": "[encoded data removed]"
          },
          "metadata": {
            "needs_background": "light"
          }
        },
        {
          "output_type": "stream",
          "name": "stdout",
          "text": [
            "obtained_accuracy:  0.64\n"
          ]
        }
      ]
    },
    {
      "cell_type": "code",
      "source": [
        "#only CNN\n",
        "import time\n",
        "print(\"Training the classifier........\")\n",
        "for i in range(1):\n",
        "  s=time.time()\n",
        "  train_data=model_4.predict(X_train4[:100])\n",
        "  val_data=model_4.predict(X_val4[:25])\n",
        "  clf4.fit(train_data,train_labs4[:100])\n",
        "  print('time taken: ',time.time()-s)\n",
        "  pred_lin = clf4.score(val_data,val_labs4[:25])\n",
        "  plot_confusion_matrix(val_labs4[:25],clf4.predict(val_data),classes,normalize=True,title=\"Confusion _matrix\")\n",
        "  print('obtained_accuracy: ',pred_lin)"
      ],
      "metadata": {
        "colab": {
          "base_uri": "https://localhost:8080/",
          "height": 363
        },
        "id": "VQ87Hf0srrHq",
        "outputId": "2f6d3b54-a2db-4e3c-9ad7-4e6d5f2ccb14"
      },
      "execution_count": 247,
      "outputs": [
        {
          "output_type": "stream",
          "name": "stdout",
          "text": [
            "Training the classifier........\n",
            "[LibSVM]time taken:  0.37940526008605957\n"
          ]
        },
        {
          "output_type": "display_data",
          "data": {
            "text/plain": [
              "<Figure size 432x288 with 2 Axes>"
            ],
            "image/png": "[encoded data removed]"
          },
          "metadata": {
            "needs_background": "light"
          }
        },
        {
          "output_type": "stream",
          "name": "stdout",
          "text": [
            "obtained_accuracy:  0.72\n"
          ]
        }
      ]
    },
    {
      "cell_type": "code",
      "source": [
        "val_data=model_1.predict(X_val1[:1])\n",
        "ans1=clf1.predict(val_data)"
      ],
      "metadata": {
        "id": "d4gmvsK-peXs"
      },
      "execution_count": 248,
      "outputs": []
    },
    {
      "cell_type": "code",
      "source": [
        "val_data2=model_2.predict(X_val1[:1])\n",
        "ans2=clf2.predict(val_data2)"
      ],
      "metadata": {
        "id": "go0EX6CTW14W"
      },
      "execution_count": 249,
      "outputs": []
    },
    {
      "cell_type": "code",
      "source": [
        "val_data3=model_3.predict(X_val1[:1])\n",
        "ans3=clf3.predict(val_data3)"
      ],
      "metadata": {
        "id": "rJ3Vx293rQas"
      },
      "execution_count": 250,
      "outputs": []
    },
    {
      "cell_type": "code",
      "source": [
        "val_data4=model_4.predict(X_val1[:1])\n",
        "ans4=clf4.predict(val_data4)"
      ],
      "metadata": {
        "id": "dyvSnV59r4Xn"
      },
      "execution_count": 251,
      "outputs": []
    },
    {
      "cell_type": "code",
      "source": [
        "print('Prediction Using CNN features \\n for pixel {} \\n the answer are boredom = {}, Engagement = {}, Confusion = {}, Frustration = {}'.format(X_val1[:1], ans1, ans2, ans3, ans4))"
      ],
      "metadata": {
        "colab": {
          "base_uri": "https://localhost:8080/"
        },
        "id": "aLDxeOPTr9Ot",
        "outputId": "629f7e93-5669-4edb-a41a-1e49d251c55b"
      },
      "execution_count": 252,
      "outputs": [
        {
          "output_type": "stream",
          "name": "stdout",
          "text": [
            "Prediction Using CNN features \n",
            " for pixel [[[156. 184. 184. ... 220. 220. 212.]\n",
            "  [149. 170. 177. ... 220. 212. 212.]\n",
            "  [120. 135. 170. ... 220. 220. 212.]\n",
            "  ...\n",
            "  [156. 156. 156. ... 149. 212. 220.]\n",
            "  [142. 156. 156. ... 106. 163. 220.]\n",
            "  [135. 142. 142. ...  92. 135. 191.]]] \n",
            " the answer are boredom = [0], Engagement = [1], Confusion = [1], Frustration = [0]\n"
          ]
        }
      ]
    },
    {
      "cell_type": "code",
      "execution_count": 253,
      "metadata": {
        "id": "_HXUqzBkU7qZ",
        "colab": {
          "base_uri": "https://localhost:8080/",
          "height": 398
        },
        "outputId": "26b990d2-9341-449d-8103-eae2aa970bdb"
      },
      "outputs": [
        {
          "output_type": "stream",
          "name": "stdout",
          "text": [
            "Training the classifier........\n",
            "getting Handcrafted Features.............\n",
            "getting Handcrafted Features.............\n",
            "[LibSVM]time taken:  0.7775936126708984\n"
          ]
        },
        {
          "output_type": "display_data",
          "data": {
            "text/plain": [
              "<Figure size 432x288 with 2 Axes>"
            ],
            "image/png": "[encoded data removed]"
          },
          "metadata": {
            "needs_background": "light"
          }
        },
        {
          "output_type": "stream",
          "name": "stdout",
          "text": [
            "obtained_accuracy:  0.36\n"
          ]
        }
      ],
      "source": [
        "#only Handy\n",
        "print(\"Training the classifier........\")\n",
        "for i in range(1):\n",
        "  s=time.time()\n",
        "  train_data=get_hand_features(X_train1[:100])                                                         \n",
        "  val_data=get_hand_features(X_val1[:25])\n",
        "  clf1.fit(train_data,train_labs1[:100])\n",
        "  print('time taken: ',time.time()-s)\n",
        "  pred_lin = clf1.score(val_data,val_labs1[:25])\n",
        "  plot_confusion_matrix(val_labs1[:25],clf1.predict(val_data),classes,normalize=True,title=\"Confusion _matrix\")\n",
        "  print('obtained_accuracy: ',pred_lin)"
      ]
    },
    {
      "cell_type": "code",
      "execution_count": 254,
      "metadata": {
        "id": "Q57bNw5Ge_Su",
        "colab": {
          "base_uri": "https://localhost:8080/",
          "height": 398
        },
        "outputId": "395d39af-9644-4080-ab84-432358b586bb"
      },
      "outputs": [
        {
          "output_type": "stream",
          "name": "stdout",
          "text": [
            "Training the classifier........\n",
            "getting Handcrafted Features.............\n",
            "getting Handcrafted Features.............\n",
            "[LibSVM]time taken:  0.9462156295776367\n"
          ]
        },
        {
          "output_type": "display_data",
          "data": {
            "text/plain": [
              "<Figure size 432x288 with 2 Axes>"
            ],
            "image/png": "[encoded data removed]"
          },
          "metadata": {
            "needs_background": "light"
          }
        },
        {
          "output_type": "stream",
          "name": "stdout",
          "text": [
            "obtained_accuracy:  0.52\n"
          ]
        }
      ],
      "source": [
        "#only Handy\n",
        "print(\"Training the classifier........\")\n",
        "for i in range(1):\n",
        "  s=time.time()\n",
        "  train_data=get_hand_features(X_train2[:100])                                                         \n",
        "  val_data=get_hand_features(X_val2[:25])\n",
        "  clf2.fit(train_data,train_labs2[:100])\n",
        "  print('time taken: ',time.time()-s)\n",
        "  pred_lin = clf2.score(val_data,val_labs2[:25])\n",
        "  plot_confusion_matrix(val_labs2[:25],clf2.predict(val_data),classes,normalize=True,title=\"Confusion _matrix\")\n",
        "  print('obtained_accuracy: ',pred_lin)"
      ]
    },
    {
      "cell_type": "code",
      "source": [
        "#only Handy\n",
        "print(\"Training the classifier........\")\n",
        "for i in range(1):\n",
        "  s=time.time()\n",
        "  train_data=get_hand_features(X_train3[:100])                                                         \n",
        "  val_data=get_hand_features(X_val3[:25])\n",
        "  clf3.fit(train_data,train_labs3[:100])\n",
        "  print('time taken: ',time.time()-s)\n",
        "  pred_lin = clf3.score(val_data,val_labs3[:25])\n",
        "  plot_confusion_matrix(val_labs3[:25],clf3.predict(val_data),classes,normalize=True,title=\"Confusion _matrix\")\n",
        "  print('obtained_accuracy: ',pred_lin)"
      ],
      "metadata": {
        "colab": {
          "base_uri": "https://localhost:8080/",
          "height": 398
        },
        "id": "5_D2MFuZx8mC",
        "outputId": "d6a6bc01-70e2-4dd9-bced-1a4681758a68"
      },
      "execution_count": 255,
      "outputs": [
        {
          "output_type": "stream",
          "name": "stdout",
          "text": [
            "Training the classifier........\n",
            "getting Handcrafted Features.............\n",
            "getting Handcrafted Features.............\n",
            "[LibSVM]time taken:  0.5782573223114014\n"
          ]
        },
        {
          "output_type": "display_data",
          "data": {
            "text/plain": [
              "<Figure size 432x288 with 2 Axes>"
            ],
            "image/png": "[encoded data removed]"
          },
          "metadata": {
            "needs_background": "light"
          }
        },
        {
          "output_type": "stream",
          "name": "stdout",
          "text": [
            "obtained_accuracy:  0.4\n"
          ]
        }
      ]
    },
    {
      "cell_type": "code",
      "source": [
        "#only Handy\n",
        "print(\"Training the classifier........\")\n",
        "for i in range(1):\n",
        "  s=time.time()\n",
        "  train_data=get_hand_features(X_train4[:100])                                                         \n",
        "  val_data=get_hand_features(X_val4[:25])\n",
        "  clf4.fit(train_data,train_labs4[:100])\n",
        "  print('time taken: ',time.time()-s)\n",
        "  pred_lin = clf4.score(val_data,val_labs4[:25])\n",
        "  plot_confusion_matrix(val_labs4[:25],clf4.predict(val_data),classes,normalize=True,title=\"Confusion _matrix\")\n",
        "  print('obtained_accuracy: ',pred_lin)"
      ],
      "metadata": {
        "colab": {
          "base_uri": "https://localhost:8080/",
          "height": 398
        },
        "id": "Qucpoi1wyDwZ",
        "outputId": "da35988e-f786-44f7-9649-1b8b8d19e0b3"
      },
      "execution_count": 256,
      "outputs": [
        {
          "output_type": "stream",
          "name": "stdout",
          "text": [
            "Training the classifier........\n",
            "getting Handcrafted Features.............\n",
            "getting Handcrafted Features.............\n",
            "[LibSVM]time taken:  0.7111244201660156\n"
          ]
        },
        {
          "output_type": "display_data",
          "data": {
            "text/plain": [
              "<Figure size 432x288 with 2 Axes>"
            ],
            "image/png": "[encoded data removed]"
          },
          "metadata": {
            "needs_background": "light"
          }
        },
        {
          "output_type": "stream",
          "name": "stdout",
          "text": [
            "obtained_accuracy:  0.72\n"
          ]
        }
      ]
    },
    {
      "cell_type": "code",
      "source": [
        "val_data=get_hand_features(X_val1[:1])\n",
        "ans1 = clf1.predict(val_data)\n",
        "ans1"
      ],
      "metadata": {
        "colab": {
          "base_uri": "https://localhost:8080/"
        },
        "id": "PPc5YRpuyK8B",
        "outputId": "3beb4b34-9a19-4870-c8c7-ecea2450c30b"
      },
      "execution_count": 257,
      "outputs": [
        {
          "output_type": "stream",
          "name": "stdout",
          "text": [
            "getting Handcrafted Features.............\n"
          ]
        },
        {
          "output_type": "execute_result",
          "data": {
            "text/plain": [
              "array([1])"
            ]
          },
          "metadata": {},
          "execution_count": 257
        }
      ]
    },
    {
      "cell_type": "code",
      "source": [
        "val_data=get_hand_features(X_val2[:1])\n",
        "ans2 = clf2.predict(val_data)\n",
        "ans2"
      ],
      "metadata": {
        "colab": {
          "base_uri": "https://localhost:8080/"
        },
        "id": "GNblIn3LyTFT",
        "outputId": "5b1a0d3d-308d-40d5-9209-bdd23cc6359b"
      },
      "execution_count": 258,
      "outputs": [
        {
          "output_type": "stream",
          "name": "stdout",
          "text": [
            "getting Handcrafted Features.............\n"
          ]
        },
        {
          "output_type": "execute_result",
          "data": {
            "text/plain": [
              "array([3])"
            ]
          },
          "metadata": {},
          "execution_count": 258
        }
      ]
    },
    {
      "cell_type": "code",
      "source": [
        "val_data=get_hand_features(X_val3[:1])\n",
        "ans3 = clf3.predict(val_data)\n",
        "ans3"
      ],
      "metadata": {
        "colab": {
          "base_uri": "https://localhost:8080/"
        },
        "id": "GuDMyqbSybFL",
        "outputId": "c2fe986f-1546-42cb-f410-6181e4487e13"
      },
      "execution_count": 259,
      "outputs": [
        {
          "output_type": "stream",
          "name": "stdout",
          "text": [
            "getting Handcrafted Features.............\n"
          ]
        },
        {
          "output_type": "execute_result",
          "data": {
            "text/plain": [
              "array([1])"
            ]
          },
          "metadata": {},
          "execution_count": 259
        }
      ]
    },
    {
      "cell_type": "code",
      "source": [
        "val_data=get_hand_features(X_val4[:1])\n",
        "ans4 = clf4.predict(val_data)\n",
        "ans4"
      ],
      "metadata": {
        "colab": {
          "base_uri": "https://localhost:8080/"
        },
        "id": "NZ0tM1eryd3a",
        "outputId": "8010ac3c-ad79-491a-bfd7-88cc39cbac2f"
      },
      "execution_count": 260,
      "outputs": [
        {
          "output_type": "stream",
          "name": "stdout",
          "text": [
            "getting Handcrafted Features.............\n"
          ]
        },
        {
          "output_type": "execute_result",
          "data": {
            "text/plain": [
              "array([0])"
            ]
          },
          "metadata": {},
          "execution_count": 260
        }
      ]
    },
    {
      "cell_type": "code",
      "source": [
        "print('Prediction Using Hand Crafted features \\n for pixel {} \\n the answer are boredom = {}, Engagement = {}, Confusion = {}, Frustration = {}'.format(X_val1[:1], ans1, ans2, ans3, ans4))"
      ],
      "metadata": {
        "colab": {
          "base_uri": "https://localhost:8080/"
        },
        "id": "tyC63tNKyh8t",
        "outputId": "f8aecd79-4edb-49ad-c4da-802dd6f18b41"
      },
      "execution_count": 261,
      "outputs": [
        {
          "output_type": "stream",
          "name": "stdout",
          "text": [
            "Prediction Using Hand Crafted features \n",
            " for pixel [[[156. 184. 184. ... 220. 220. 212.]\n",
            "  [149. 170. 177. ... 220. 212. 212.]\n",
            "  [120. 135. 170. ... 220. 220. 212.]\n",
            "  ...\n",
            "  [156. 156. 156. ... 149. 212. 220.]\n",
            "  [142. 156. 156. ... 106. 163. 220.]\n",
            "  [135. 142. 142. ...  92. 135. 191.]]] \n",
            " the answer are boredom = [1], Engagement = [3], Confusion = [1], Frustration = [0]\n"
          ]
        }
      ]
    }
  ],
  "metadata": {
    "accelerator": "GPU",
    "colab": {
      "collapsed_sections": [],
      "name": "Multi_output_classificaition_CNN_and_SVM_final_version.ipynb",
      "provenance": [],
      "include_colab_link": true
    },
    "kernelspec": {
      "display_name": "Python 3",
      "name": "python3"
    },
    "language_info": {
      "name": "python"
    }
  },
  "nbformat": 4,
  "nbformat_minor": 0
}