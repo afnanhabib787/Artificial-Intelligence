{
  "nbformat": 4,
  "nbformat_minor": 0,
  "metadata": {
    "colab": {
      "name": "fiver.ipynb",
      "provenance": [],
      "collapsed_sections": [],
      "authorship_tag": "ABX9TyPsxQJCsNh63HpqV9bMTkzI",
      "include_colab_link": true
    },
    "kernelspec": {
      "name": "python3",
      "display_name": "Python 3"
    },
    "language_info": {
      "name": "python"
    },
    "accelerator": "GPU"
  },
  "cells": [
    {
      "cell_type": "markdown",
      "metadata": {
        "id": "view-in-github",
        "colab_type": "text"
      },
      "source": [
        "<a href=\"https://colab.research.google.com/github/afnanhabib787/Artificial-Intelligence/blob/main/fiver.ipynb\" target=\"_parent\"><img src=\"https://colab.research.google.com/assets/colab-badge.svg\" alt=\"Open In Colab\"/></a>"
      ]
    },
    {
      "cell_type": "code",
      "execution_count": 7,
      "metadata": {
        "id": "0BuwoYoleExI"
      },
      "outputs": [],
      "source": [
        "import pandas as pd"
      ]
    },
    {
      "cell_type": "code",
      "source": [
        "csv_url = 'https://raw.githubusercontent.com/jbrownlee/Datasets/master/pollution.csv'"
      ],
      "metadata": {
        "id": "i27pHr0recRa"
      },
      "execution_count": 8,
      "outputs": []
    },
    {
      "cell_type": "code",
      "source": [
        "original_df = pd.read_csv(csv_url)\n",
        "original_df"
      ],
      "metadata": {
        "colab": {
          "base_uri": "https://localhost:8080/",
          "height": 424
        },
        "id": "KlSTFfcAemSK",
        "outputId": "e9bce041-1cbb-4a4f-903b-8e20351b009c"
      },
      "execution_count": 9,
      "outputs": [
        {
          "output_type": "execute_result",
          "data": {
            "text/html": [
              "<div>\n",
              "<style scoped>\n",
              "    .dataframe tbody tr th:only-of-type {\n",
              "        vertical-align: middle;\n",
              "    }\n",
              "\n",
              "    .dataframe tbody tr th {\n",
              "        vertical-align: top;\n",
              "    }\n",
              "\n",
              "    .dataframe thead th {\n",
              "        text-align: right;\n",
              "    }\n",
              "</style>\n",
              "<table border=\"1\" class=\"dataframe\">\n",
              "  <thead>\n",
              "    <tr style=\"text-align: right;\">\n",
              "      <th></th>\n",
              "      <th>No</th>\n",
              "      <th>year</th>\n",
              "      <th>month</th>\n",
              "      <th>day</th>\n",
              "      <th>hour</th>\n",
              "      <th>pm2.5</th>\n",
              "      <th>DEWP</th>\n",
              "      <th>TEMP</th>\n",
              "      <th>PRES</th>\n",
              "      <th>cbwd</th>\n",
              "      <th>Iws</th>\n",
              "      <th>Is</th>\n",
              "      <th>Ir</th>\n",
              "    </tr>\n",
              "  </thead>\n",
              "  <tbody>\n",
              "    <tr>\n",
              "      <th>0</th>\n",
              "      <td>1</td>\n",
              "      <td>2010</td>\n",
              "      <td>1</td>\n",
              "      <td>1</td>\n",
              "      <td>0</td>\n",
              "      <td>NaN</td>\n",
              "      <td>-21</td>\n",
              "      <td>-11.0</td>\n",
              "      <td>1021.0</td>\n",
              "      <td>NW</td>\n",
              "      <td>1.79</td>\n",
              "      <td>0</td>\n",
              "      <td>0</td>\n",
              "    </tr>\n",
              "    <tr>\n",
              "      <th>1</th>\n",
              "      <td>2</td>\n",
              "      <td>2010</td>\n",
              "      <td>1</td>\n",
              "      <td>1</td>\n",
              "      <td>1</td>\n",
              "      <td>NaN</td>\n",
              "      <td>-21</td>\n",
              "      <td>-12.0</td>\n",
              "      <td>1020.0</td>\n",
              "      <td>NW</td>\n",
              "      <td>4.92</td>\n",
              "      <td>0</td>\n",
              "      <td>0</td>\n",
              "    </tr>\n",
              "    <tr>\n",
              "      <th>2</th>\n",
              "      <td>3</td>\n",
              "      <td>2010</td>\n",
              "      <td>1</td>\n",
              "      <td>1</td>\n",
              "      <td>2</td>\n",
              "      <td>NaN</td>\n",
              "      <td>-21</td>\n",
              "      <td>-11.0</td>\n",
              "      <td>1019.0</td>\n",
              "      <td>NW</td>\n",
              "      <td>6.71</td>\n",
              "      <td>0</td>\n",
              "      <td>0</td>\n",
              "    </tr>\n",
              "    <tr>\n",
              "      <th>3</th>\n",
              "      <td>4</td>\n",
              "      <td>2010</td>\n",
              "      <td>1</td>\n",
              "      <td>1</td>\n",
              "      <td>3</td>\n",
              "      <td>NaN</td>\n",
              "      <td>-21</td>\n",
              "      <td>-14.0</td>\n",
              "      <td>1019.0</td>\n",
              "      <td>NW</td>\n",
              "      <td>9.84</td>\n",
              "      <td>0</td>\n",
              "      <td>0</td>\n",
              "    </tr>\n",
              "    <tr>\n",
              "      <th>4</th>\n",
              "      <td>5</td>\n",
              "      <td>2010</td>\n",
              "      <td>1</td>\n",
              "      <td>1</td>\n",
              "      <td>4</td>\n",
              "      <td>NaN</td>\n",
              "      <td>-20</td>\n",
              "      <td>-12.0</td>\n",
              "      <td>1018.0</td>\n",
              "      <td>NW</td>\n",
              "      <td>12.97</td>\n",
              "      <td>0</td>\n",
              "      <td>0</td>\n",
              "    </tr>\n",
              "    <tr>\n",
              "      <th>...</th>\n",
              "      <td>...</td>\n",
              "      <td>...</td>\n",
              "      <td>...</td>\n",
              "      <td>...</td>\n",
              "      <td>...</td>\n",
              "      <td>...</td>\n",
              "      <td>...</td>\n",
              "      <td>...</td>\n",
              "      <td>...</td>\n",
              "      <td>...</td>\n",
              "      <td>...</td>\n",
              "      <td>...</td>\n",
              "      <td>...</td>\n",
              "    </tr>\n",
              "    <tr>\n",
              "      <th>43819</th>\n",
              "      <td>43820</td>\n",
              "      <td>2014</td>\n",
              "      <td>12</td>\n",
              "      <td>31</td>\n",
              "      <td>19</td>\n",
              "      <td>8.0</td>\n",
              "      <td>-23</td>\n",
              "      <td>-2.0</td>\n",
              "      <td>1034.0</td>\n",
              "      <td>NW</td>\n",
              "      <td>231.97</td>\n",
              "      <td>0</td>\n",
              "      <td>0</td>\n",
              "    </tr>\n",
              "    <tr>\n",
              "      <th>43820</th>\n",
              "      <td>43821</td>\n",
              "      <td>2014</td>\n",
              "      <td>12</td>\n",
              "      <td>31</td>\n",
              "      <td>20</td>\n",
              "      <td>10.0</td>\n",
              "      <td>-22</td>\n",
              "      <td>-3.0</td>\n",
              "      <td>1034.0</td>\n",
              "      <td>NW</td>\n",
              "      <td>237.78</td>\n",
              "      <td>0</td>\n",
              "      <td>0</td>\n",
              "    </tr>\n",
              "    <tr>\n",
              "      <th>43821</th>\n",
              "      <td>43822</td>\n",
              "      <td>2014</td>\n",
              "      <td>12</td>\n",
              "      <td>31</td>\n",
              "      <td>21</td>\n",
              "      <td>10.0</td>\n",
              "      <td>-22</td>\n",
              "      <td>-3.0</td>\n",
              "      <td>1034.0</td>\n",
              "      <td>NW</td>\n",
              "      <td>242.70</td>\n",
              "      <td>0</td>\n",
              "      <td>0</td>\n",
              "    </tr>\n",
              "    <tr>\n",
              "      <th>43822</th>\n",
              "      <td>43823</td>\n",
              "      <td>2014</td>\n",
              "      <td>12</td>\n",
              "      <td>31</td>\n",
              "      <td>22</td>\n",
              "      <td>8.0</td>\n",
              "      <td>-22</td>\n",
              "      <td>-4.0</td>\n",
              "      <td>1034.0</td>\n",
              "      <td>NW</td>\n",
              "      <td>246.72</td>\n",
              "      <td>0</td>\n",
              "      <td>0</td>\n",
              "    </tr>\n",
              "    <tr>\n",
              "      <th>43823</th>\n",
              "      <td>43824</td>\n",
              "      <td>2014</td>\n",
              "      <td>12</td>\n",
              "      <td>31</td>\n",
              "      <td>23</td>\n",
              "      <td>12.0</td>\n",
              "      <td>-21</td>\n",
              "      <td>-3.0</td>\n",
              "      <td>1034.0</td>\n",
              "      <td>NW</td>\n",
              "      <td>249.85</td>\n",
              "      <td>0</td>\n",
              "      <td>0</td>\n",
              "    </tr>\n",
              "  </tbody>\n",
              "</table>\n",
              "<p>43824 rows × 13 columns</p>\n",
              "</div>"
            ],
            "text/plain": [
              "          No  year  month  day  hour  pm2.5  ...  TEMP    PRES  cbwd     Iws  Is  Ir\n",
              "0          1  2010      1    1     0    NaN  ... -11.0  1021.0    NW    1.79   0   0\n",
              "1          2  2010      1    1     1    NaN  ... -12.0  1020.0    NW    4.92   0   0\n",
              "2          3  2010      1    1     2    NaN  ... -11.0  1019.0    NW    6.71   0   0\n",
              "3          4  2010      1    1     3    NaN  ... -14.0  1019.0    NW    9.84   0   0\n",
              "4          5  2010      1    1     4    NaN  ... -12.0  1018.0    NW   12.97   0   0\n",
              "...      ...   ...    ...  ...   ...    ...  ...   ...     ...   ...     ...  ..  ..\n",
              "43819  43820  2014     12   31    19    8.0  ...  -2.0  1034.0    NW  231.97   0   0\n",
              "43820  43821  2014     12   31    20   10.0  ...  -3.0  1034.0    NW  237.78   0   0\n",
              "43821  43822  2014     12   31    21   10.0  ...  -3.0  1034.0    NW  242.70   0   0\n",
              "43822  43823  2014     12   31    22    8.0  ...  -4.0  1034.0    NW  246.72   0   0\n",
              "43823  43824  2014     12   31    23   12.0  ...  -3.0  1034.0    NW  249.85   0   0\n",
              "\n",
              "[43824 rows x 13 columns]"
            ]
          },
          "metadata": {},
          "execution_count": 9
        }
      ]
    },
    {
      "cell_type": "code",
      "source": [
        "output = original_df['pm2.5']\n",
        "print(output)\n",
        "output.isnull().sum()"
      ],
      "metadata": {
        "colab": {
          "base_uri": "https://localhost:8080/"
        },
        "id": "7lAZMBDAnozh",
        "outputId": "991a454d-53ac-445d-992c-bfb07bd27cef"
      },
      "execution_count": 10,
      "outputs": [
        {
          "output_type": "stream",
          "name": "stdout",
          "text": [
            "0         NaN\n",
            "1         NaN\n",
            "2         NaN\n",
            "3         NaN\n",
            "4         NaN\n",
            "         ... \n",
            "43819     8.0\n",
            "43820    10.0\n",
            "43821    10.0\n",
            "43822     8.0\n",
            "43823    12.0\n",
            "Name: pm2.5, Length: 43824, dtype: float64\n"
          ]
        },
        {
          "output_type": "execute_result",
          "data": {
            "text/plain": [
              "2067"
            ]
          },
          "metadata": {},
          "execution_count": 10
        }
      ]
    },
    {
      "cell_type": "code",
      "source": [
        "output.fillna(value=output.mean(),inplace=True)"
      ],
      "metadata": {
        "id": "n-jscCQwocWe"
      },
      "execution_count": 11,
      "outputs": []
    },
    {
      "cell_type": "code",
      "source": [
        "output = original_df['pm2.5']\n",
        "print(output)\n",
        "output.isnull().sum()"
      ],
      "metadata": {
        "colab": {
          "base_uri": "https://localhost:8080/"
        },
        "id": "DviyZ7fVohSg",
        "outputId": "97a42992-1013-43f1-b12f-bbd6f6221df8"
      },
      "execution_count": 12,
      "outputs": [
        {
          "output_type": "stream",
          "name": "stdout",
          "text": [
            "0        98.613215\n",
            "1        98.613215\n",
            "2        98.613215\n",
            "3        98.613215\n",
            "4        98.613215\n",
            "           ...    \n",
            "43819     8.000000\n",
            "43820    10.000000\n",
            "43821    10.000000\n",
            "43822     8.000000\n",
            "43823    12.000000\n",
            "Name: pm2.5, Length: 43824, dtype: float64\n"
          ]
        },
        {
          "output_type": "execute_result",
          "data": {
            "text/plain": [
              "0"
            ]
          },
          "metadata": {},
          "execution_count": 12
        }
      ]
    },
    {
      "cell_type": "code",
      "source": [
        "df = original_df[['year', 'month', 'day', 'hour', 'DEWP', 'TEMP', 'PRES', 'Iws', 'Is', 'Ir']]\n",
        "df"
      ],
      "metadata": {
        "colab": {
          "base_uri": "https://localhost:8080/",
          "height": 424
        },
        "id": "o29o4XW5erhj",
        "outputId": "1ee05893-ea8a-4f7d-9cd4-b0c4d6fe14a5"
      },
      "execution_count": 13,
      "outputs": [
        {
          "output_type": "execute_result",
          "data": {
            "text/html": [
              "<div>\n",
              "<style scoped>\n",
              "    .dataframe tbody tr th:only-of-type {\n",
              "        vertical-align: middle;\n",
              "    }\n",
              "\n",
              "    .dataframe tbody tr th {\n",
              "        vertical-align: top;\n",
              "    }\n",
              "\n",
              "    .dataframe thead th {\n",
              "        text-align: right;\n",
              "    }\n",
              "</style>\n",
              "<table border=\"1\" class=\"dataframe\">\n",
              "  <thead>\n",
              "    <tr style=\"text-align: right;\">\n",
              "      <th></th>\n",
              "      <th>year</th>\n",
              "      <th>month</th>\n",
              "      <th>day</th>\n",
              "      <th>hour</th>\n",
              "      <th>DEWP</th>\n",
              "      <th>TEMP</th>\n",
              "      <th>PRES</th>\n",
              "      <th>Iws</th>\n",
              "      <th>Is</th>\n",
              "      <th>Ir</th>\n",
              "    </tr>\n",
              "  </thead>\n",
              "  <tbody>\n",
              "    <tr>\n",
              "      <th>0</th>\n",
              "      <td>2010</td>\n",
              "      <td>1</td>\n",
              "      <td>1</td>\n",
              "      <td>0</td>\n",
              "      <td>-21</td>\n",
              "      <td>-11.0</td>\n",
              "      <td>1021.0</td>\n",
              "      <td>1.79</td>\n",
              "      <td>0</td>\n",
              "      <td>0</td>\n",
              "    </tr>\n",
              "    <tr>\n",
              "      <th>1</th>\n",
              "      <td>2010</td>\n",
              "      <td>1</td>\n",
              "      <td>1</td>\n",
              "      <td>1</td>\n",
              "      <td>-21</td>\n",
              "      <td>-12.0</td>\n",
              "      <td>1020.0</td>\n",
              "      <td>4.92</td>\n",
              "      <td>0</td>\n",
              "      <td>0</td>\n",
              "    </tr>\n",
              "    <tr>\n",
              "      <th>2</th>\n",
              "      <td>2010</td>\n",
              "      <td>1</td>\n",
              "      <td>1</td>\n",
              "      <td>2</td>\n",
              "      <td>-21</td>\n",
              "      <td>-11.0</td>\n",
              "      <td>1019.0</td>\n",
              "      <td>6.71</td>\n",
              "      <td>0</td>\n",
              "      <td>0</td>\n",
              "    </tr>\n",
              "    <tr>\n",
              "      <th>3</th>\n",
              "      <td>2010</td>\n",
              "      <td>1</td>\n",
              "      <td>1</td>\n",
              "      <td>3</td>\n",
              "      <td>-21</td>\n",
              "      <td>-14.0</td>\n",
              "      <td>1019.0</td>\n",
              "      <td>9.84</td>\n",
              "      <td>0</td>\n",
              "      <td>0</td>\n",
              "    </tr>\n",
              "    <tr>\n",
              "      <th>4</th>\n",
              "      <td>2010</td>\n",
              "      <td>1</td>\n",
              "      <td>1</td>\n",
              "      <td>4</td>\n",
              "      <td>-20</td>\n",
              "      <td>-12.0</td>\n",
              "      <td>1018.0</td>\n",
              "      <td>12.97</td>\n",
              "      <td>0</td>\n",
              "      <td>0</td>\n",
              "    </tr>\n",
              "    <tr>\n",
              "      <th>...</th>\n",
              "      <td>...</td>\n",
              "      <td>...</td>\n",
              "      <td>...</td>\n",
              "      <td>...</td>\n",
              "      <td>...</td>\n",
              "      <td>...</td>\n",
              "      <td>...</td>\n",
              "      <td>...</td>\n",
              "      <td>...</td>\n",
              "      <td>...</td>\n",
              "    </tr>\n",
              "    <tr>\n",
              "      <th>43819</th>\n",
              "      <td>2014</td>\n",
              "      <td>12</td>\n",
              "      <td>31</td>\n",
              "      <td>19</td>\n",
              "      <td>-23</td>\n",
              "      <td>-2.0</td>\n",
              "      <td>1034.0</td>\n",
              "      <td>231.97</td>\n",
              "      <td>0</td>\n",
              "      <td>0</td>\n",
              "    </tr>\n",
              "    <tr>\n",
              "      <th>43820</th>\n",
              "      <td>2014</td>\n",
              "      <td>12</td>\n",
              "      <td>31</td>\n",
              "      <td>20</td>\n",
              "      <td>-22</td>\n",
              "      <td>-3.0</td>\n",
              "      <td>1034.0</td>\n",
              "      <td>237.78</td>\n",
              "      <td>0</td>\n",
              "      <td>0</td>\n",
              "    </tr>\n",
              "    <tr>\n",
              "      <th>43821</th>\n",
              "      <td>2014</td>\n",
              "      <td>12</td>\n",
              "      <td>31</td>\n",
              "      <td>21</td>\n",
              "      <td>-22</td>\n",
              "      <td>-3.0</td>\n",
              "      <td>1034.0</td>\n",
              "      <td>242.70</td>\n",
              "      <td>0</td>\n",
              "      <td>0</td>\n",
              "    </tr>\n",
              "    <tr>\n",
              "      <th>43822</th>\n",
              "      <td>2014</td>\n",
              "      <td>12</td>\n",
              "      <td>31</td>\n",
              "      <td>22</td>\n",
              "      <td>-22</td>\n",
              "      <td>-4.0</td>\n",
              "      <td>1034.0</td>\n",
              "      <td>246.72</td>\n",
              "      <td>0</td>\n",
              "      <td>0</td>\n",
              "    </tr>\n",
              "    <tr>\n",
              "      <th>43823</th>\n",
              "      <td>2014</td>\n",
              "      <td>12</td>\n",
              "      <td>31</td>\n",
              "      <td>23</td>\n",
              "      <td>-21</td>\n",
              "      <td>-3.0</td>\n",
              "      <td>1034.0</td>\n",
              "      <td>249.85</td>\n",
              "      <td>0</td>\n",
              "      <td>0</td>\n",
              "    </tr>\n",
              "  </tbody>\n",
              "</table>\n",
              "<p>43824 rows × 10 columns</p>\n",
              "</div>"
            ],
            "text/plain": [
              "       year  month  day  hour  DEWP  TEMP    PRES     Iws  Is  Ir\n",
              "0      2010      1    1     0   -21 -11.0  1021.0    1.79   0   0\n",
              "1      2010      1    1     1   -21 -12.0  1020.0    4.92   0   0\n",
              "2      2010      1    1     2   -21 -11.0  1019.0    6.71   0   0\n",
              "3      2010      1    1     3   -21 -14.0  1019.0    9.84   0   0\n",
              "4      2010      1    1     4   -20 -12.0  1018.0   12.97   0   0\n",
              "...     ...    ...  ...   ...   ...   ...     ...     ...  ..  ..\n",
              "43819  2014     12   31    19   -23  -2.0  1034.0  231.97   0   0\n",
              "43820  2014     12   31    20   -22  -3.0  1034.0  237.78   0   0\n",
              "43821  2014     12   31    21   -22  -3.0  1034.0  242.70   0   0\n",
              "43822  2014     12   31    22   -22  -4.0  1034.0  246.72   0   0\n",
              "43823  2014     12   31    23   -21  -3.0  1034.0  249.85   0   0\n",
              "\n",
              "[43824 rows x 10 columns]"
            ]
          },
          "metadata": {},
          "execution_count": 13
        }
      ]
    },
    {
      "cell_type": "code",
      "source": [
        "df.duplicated().any()"
      ],
      "metadata": {
        "colab": {
          "base_uri": "https://localhost:8080/"
        },
        "id": "Tuk_hNVJev72",
        "outputId": "99e5b3ef-1f87-4605-a6f7-1298b68b0bb9"
      },
      "execution_count": 14,
      "outputs": [
        {
          "output_type": "execute_result",
          "data": {
            "text/plain": [
              "False"
            ]
          },
          "metadata": {},
          "execution_count": 14
        }
      ]
    },
    {
      "cell_type": "code",
      "source": [
        "df.isnull().sum()"
      ],
      "metadata": {
        "colab": {
          "base_uri": "https://localhost:8080/"
        },
        "id": "qt3mJbzQkE7N",
        "outputId": "5e6f72e5-43da-45ef-dab1-068b6683d458"
      },
      "execution_count": 15,
      "outputs": [
        {
          "output_type": "execute_result",
          "data": {
            "text/plain": [
              "year     0\n",
              "month    0\n",
              "day      0\n",
              "hour     0\n",
              "DEWP     0\n",
              "TEMP     0\n",
              "PRES     0\n",
              "Iws      0\n",
              "Is       0\n",
              "Ir       0\n",
              "dtype: int64"
            ]
          },
          "metadata": {},
          "execution_count": 15
        }
      ]
    },
    {
      "cell_type": "code",
      "source": [
        "df"
      ],
      "metadata": {
        "colab": {
          "base_uri": "https://localhost:8080/",
          "height": 424
        },
        "id": "D5-8xCJWuThL",
        "outputId": "8dd376f9-e6c4-4029-f954-9c1568f2122d"
      },
      "execution_count": 16,
      "outputs": [
        {
          "output_type": "execute_result",
          "data": {
            "text/html": [
              "<div>\n",
              "<style scoped>\n",
              "    .dataframe tbody tr th:only-of-type {\n",
              "        vertical-align: middle;\n",
              "    }\n",
              "\n",
              "    .dataframe tbody tr th {\n",
              "        vertical-align: top;\n",
              "    }\n",
              "\n",
              "    .dataframe thead th {\n",
              "        text-align: right;\n",
              "    }\n",
              "</style>\n",
              "<table border=\"1\" class=\"dataframe\">\n",
              "  <thead>\n",
              "    <tr style=\"text-align: right;\">\n",
              "      <th></th>\n",
              "      <th>year</th>\n",
              "      <th>month</th>\n",
              "      <th>day</th>\n",
              "      <th>hour</th>\n",
              "      <th>DEWP</th>\n",
              "      <th>TEMP</th>\n",
              "      <th>PRES</th>\n",
              "      <th>Iws</th>\n",
              "      <th>Is</th>\n",
              "      <th>Ir</th>\n",
              "    </tr>\n",
              "  </thead>\n",
              "  <tbody>\n",
              "    <tr>\n",
              "      <th>0</th>\n",
              "      <td>2010</td>\n",
              "      <td>1</td>\n",
              "      <td>1</td>\n",
              "      <td>0</td>\n",
              "      <td>-21</td>\n",
              "      <td>-11.0</td>\n",
              "      <td>1021.0</td>\n",
              "      <td>1.79</td>\n",
              "      <td>0</td>\n",
              "      <td>0</td>\n",
              "    </tr>\n",
              "    <tr>\n",
              "      <th>1</th>\n",
              "      <td>2010</td>\n",
              "      <td>1</td>\n",
              "      <td>1</td>\n",
              "      <td>1</td>\n",
              "      <td>-21</td>\n",
              "      <td>-12.0</td>\n",
              "      <td>1020.0</td>\n",
              "      <td>4.92</td>\n",
              "      <td>0</td>\n",
              "      <td>0</td>\n",
              "    </tr>\n",
              "    <tr>\n",
              "      <th>2</th>\n",
              "      <td>2010</td>\n",
              "      <td>1</td>\n",
              "      <td>1</td>\n",
              "      <td>2</td>\n",
              "      <td>-21</td>\n",
              "      <td>-11.0</td>\n",
              "      <td>1019.0</td>\n",
              "      <td>6.71</td>\n",
              "      <td>0</td>\n",
              "      <td>0</td>\n",
              "    </tr>\n",
              "    <tr>\n",
              "      <th>3</th>\n",
              "      <td>2010</td>\n",
              "      <td>1</td>\n",
              "      <td>1</td>\n",
              "      <td>3</td>\n",
              "      <td>-21</td>\n",
              "      <td>-14.0</td>\n",
              "      <td>1019.0</td>\n",
              "      <td>9.84</td>\n",
              "      <td>0</td>\n",
              "      <td>0</td>\n",
              "    </tr>\n",
              "    <tr>\n",
              "      <th>4</th>\n",
              "      <td>2010</td>\n",
              "      <td>1</td>\n",
              "      <td>1</td>\n",
              "      <td>4</td>\n",
              "      <td>-20</td>\n",
              "      <td>-12.0</td>\n",
              "      <td>1018.0</td>\n",
              "      <td>12.97</td>\n",
              "      <td>0</td>\n",
              "      <td>0</td>\n",
              "    </tr>\n",
              "    <tr>\n",
              "      <th>...</th>\n",
              "      <td>...</td>\n",
              "      <td>...</td>\n",
              "      <td>...</td>\n",
              "      <td>...</td>\n",
              "      <td>...</td>\n",
              "      <td>...</td>\n",
              "      <td>...</td>\n",
              "      <td>...</td>\n",
              "      <td>...</td>\n",
              "      <td>...</td>\n",
              "    </tr>\n",
              "    <tr>\n",
              "      <th>43819</th>\n",
              "      <td>2014</td>\n",
              "      <td>12</td>\n",
              "      <td>31</td>\n",
              "      <td>19</td>\n",
              "      <td>-23</td>\n",
              "      <td>-2.0</td>\n",
              "      <td>1034.0</td>\n",
              "      <td>231.97</td>\n",
              "      <td>0</td>\n",
              "      <td>0</td>\n",
              "    </tr>\n",
              "    <tr>\n",
              "      <th>43820</th>\n",
              "      <td>2014</td>\n",
              "      <td>12</td>\n",
              "      <td>31</td>\n",
              "      <td>20</td>\n",
              "      <td>-22</td>\n",
              "      <td>-3.0</td>\n",
              "      <td>1034.0</td>\n",
              "      <td>237.78</td>\n",
              "      <td>0</td>\n",
              "      <td>0</td>\n",
              "    </tr>\n",
              "    <tr>\n",
              "      <th>43821</th>\n",
              "      <td>2014</td>\n",
              "      <td>12</td>\n",
              "      <td>31</td>\n",
              "      <td>21</td>\n",
              "      <td>-22</td>\n",
              "      <td>-3.0</td>\n",
              "      <td>1034.0</td>\n",
              "      <td>242.70</td>\n",
              "      <td>0</td>\n",
              "      <td>0</td>\n",
              "    </tr>\n",
              "    <tr>\n",
              "      <th>43822</th>\n",
              "      <td>2014</td>\n",
              "      <td>12</td>\n",
              "      <td>31</td>\n",
              "      <td>22</td>\n",
              "      <td>-22</td>\n",
              "      <td>-4.0</td>\n",
              "      <td>1034.0</td>\n",
              "      <td>246.72</td>\n",
              "      <td>0</td>\n",
              "      <td>0</td>\n",
              "    </tr>\n",
              "    <tr>\n",
              "      <th>43823</th>\n",
              "      <td>2014</td>\n",
              "      <td>12</td>\n",
              "      <td>31</td>\n",
              "      <td>23</td>\n",
              "      <td>-21</td>\n",
              "      <td>-3.0</td>\n",
              "      <td>1034.0</td>\n",
              "      <td>249.85</td>\n",
              "      <td>0</td>\n",
              "      <td>0</td>\n",
              "    </tr>\n",
              "  </tbody>\n",
              "</table>\n",
              "<p>43824 rows × 10 columns</p>\n",
              "</div>"
            ],
            "text/plain": [
              "       year  month  day  hour  DEWP  TEMP    PRES     Iws  Is  Ir\n",
              "0      2010      1    1     0   -21 -11.0  1021.0    1.79   0   0\n",
              "1      2010      1    1     1   -21 -12.0  1020.0    4.92   0   0\n",
              "2      2010      1    1     2   -21 -11.0  1019.0    6.71   0   0\n",
              "3      2010      1    1     3   -21 -14.0  1019.0    9.84   0   0\n",
              "4      2010      1    1     4   -20 -12.0  1018.0   12.97   0   0\n",
              "...     ...    ...  ...   ...   ...   ...     ...     ...  ..  ..\n",
              "43819  2014     12   31    19   -23  -2.0  1034.0  231.97   0   0\n",
              "43820  2014     12   31    20   -22  -3.0  1034.0  237.78   0   0\n",
              "43821  2014     12   31    21   -22  -3.0  1034.0  242.70   0   0\n",
              "43822  2014     12   31    22   -22  -4.0  1034.0  246.72   0   0\n",
              "43823  2014     12   31    23   -21  -3.0  1034.0  249.85   0   0\n",
              "\n",
              "[43824 rows x 10 columns]"
            ]
          },
          "metadata": {},
          "execution_count": 16
        }
      ]
    },
    {
      "cell_type": "code",
      "source": [
        "df.shape"
      ],
      "metadata": {
        "colab": {
          "base_uri": "https://localhost:8080/"
        },
        "id": "YkTmzZpguRv_",
        "outputId": "1639f4ca-e4fd-4f1d-a6e3-b584c08e37ef"
      },
      "execution_count": 17,
      "outputs": [
        {
          "output_type": "execute_result",
          "data": {
            "text/plain": [
              "(43824, 10)"
            ]
          },
          "metadata": {},
          "execution_count": 17
        }
      ]
    },
    {
      "cell_type": "code",
      "source": [
        "from sklearn.model_selection import train_test_split\n",
        "\n",
        "\n",
        "y = output\n",
        "X = df\n",
        "\n",
        "X_train,X_test,y_train,y_test = train_test_split(X,y,test_size=0.2)"
      ],
      "metadata": {
        "id": "dVF01dHB00xZ"
      },
      "execution_count": 55,
      "outputs": []
    },
    {
      "cell_type": "code",
      "source": [
        "X_train"
      ],
      "metadata": {
        "colab": {
          "base_uri": "https://localhost:8080/",
          "height": 424
        },
        "id": "n0KP6zFl074h",
        "outputId": "e579ca88-e628-4b88-c094-76986dd4a8db"
      },
      "execution_count": 56,
      "outputs": [
        {
          "output_type": "execute_result",
          "data": {
            "text/html": [
              "<div>\n",
              "<style scoped>\n",
              "    .dataframe tbody tr th:only-of-type {\n",
              "        vertical-align: middle;\n",
              "    }\n",
              "\n",
              "    .dataframe tbody tr th {\n",
              "        vertical-align: top;\n",
              "    }\n",
              "\n",
              "    .dataframe thead th {\n",
              "        text-align: right;\n",
              "    }\n",
              "</style>\n",
              "<table border=\"1\" class=\"dataframe\">\n",
              "  <thead>\n",
              "    <tr style=\"text-align: right;\">\n",
              "      <th></th>\n",
              "      <th>year</th>\n",
              "      <th>month</th>\n",
              "      <th>day</th>\n",
              "      <th>hour</th>\n",
              "      <th>DEWP</th>\n",
              "      <th>TEMP</th>\n",
              "      <th>PRES</th>\n",
              "      <th>Iws</th>\n",
              "      <th>Is</th>\n",
              "      <th>Ir</th>\n",
              "    </tr>\n",
              "  </thead>\n",
              "  <tbody>\n",
              "    <tr>\n",
              "      <th>28987</th>\n",
              "      <td>2013</td>\n",
              "      <td>4</td>\n",
              "      <td>22</td>\n",
              "      <td>19</td>\n",
              "      <td>6</td>\n",
              "      <td>15.0</td>\n",
              "      <td>1012.0</td>\n",
              "      <td>34.87</td>\n",
              "      <td>0</td>\n",
              "      <td>0</td>\n",
              "    </tr>\n",
              "    <tr>\n",
              "      <th>14229</th>\n",
              "      <td>2011</td>\n",
              "      <td>8</td>\n",
              "      <td>16</td>\n",
              "      <td>21</td>\n",
              "      <td>21</td>\n",
              "      <td>27.0</td>\n",
              "      <td>1005.0</td>\n",
              "      <td>20.12</td>\n",
              "      <td>0</td>\n",
              "      <td>0</td>\n",
              "    </tr>\n",
              "    <tr>\n",
              "      <th>39840</th>\n",
              "      <td>2014</td>\n",
              "      <td>7</td>\n",
              "      <td>19</td>\n",
              "      <td>0</td>\n",
              "      <td>24</td>\n",
              "      <td>28.0</td>\n",
              "      <td>1007.0</td>\n",
              "      <td>3.57</td>\n",
              "      <td>0</td>\n",
              "      <td>0</td>\n",
              "    </tr>\n",
              "    <tr>\n",
              "      <th>2047</th>\n",
              "      <td>2010</td>\n",
              "      <td>3</td>\n",
              "      <td>27</td>\n",
              "      <td>7</td>\n",
              "      <td>-8</td>\n",
              "      <td>2.0</td>\n",
              "      <td>1026.0</td>\n",
              "      <td>13.86</td>\n",
              "      <td>0</td>\n",
              "      <td>0</td>\n",
              "    </tr>\n",
              "    <tr>\n",
              "      <th>16769</th>\n",
              "      <td>2011</td>\n",
              "      <td>11</td>\n",
              "      <td>30</td>\n",
              "      <td>17</td>\n",
              "      <td>-14</td>\n",
              "      <td>2.0</td>\n",
              "      <td>1037.0</td>\n",
              "      <td>0.89</td>\n",
              "      <td>0</td>\n",
              "      <td>0</td>\n",
              "    </tr>\n",
              "    <tr>\n",
              "      <th>...</th>\n",
              "      <td>...</td>\n",
              "      <td>...</td>\n",
              "      <td>...</td>\n",
              "      <td>...</td>\n",
              "      <td>...</td>\n",
              "      <td>...</td>\n",
              "      <td>...</td>\n",
              "      <td>...</td>\n",
              "      <td>...</td>\n",
              "      <td>...</td>\n",
              "    </tr>\n",
              "    <tr>\n",
              "      <th>7875</th>\n",
              "      <td>2010</td>\n",
              "      <td>11</td>\n",
              "      <td>25</td>\n",
              "      <td>3</td>\n",
              "      <td>-12</td>\n",
              "      <td>-5.0</td>\n",
              "      <td>1029.0</td>\n",
              "      <td>1.79</td>\n",
              "      <td>0</td>\n",
              "      <td>0</td>\n",
              "    </tr>\n",
              "    <tr>\n",
              "      <th>13221</th>\n",
              "      <td>2011</td>\n",
              "      <td>7</td>\n",
              "      <td>5</td>\n",
              "      <td>21</td>\n",
              "      <td>21</td>\n",
              "      <td>25.0</td>\n",
              "      <td>998.0</td>\n",
              "      <td>0.89</td>\n",
              "      <td>0</td>\n",
              "      <td>0</td>\n",
              "    </tr>\n",
              "    <tr>\n",
              "      <th>7124</th>\n",
              "      <td>2010</td>\n",
              "      <td>10</td>\n",
              "      <td>24</td>\n",
              "      <td>20</td>\n",
              "      <td>1</td>\n",
              "      <td>6.0</td>\n",
              "      <td>1029.0</td>\n",
              "      <td>8.94</td>\n",
              "      <td>0</td>\n",
              "      <td>0</td>\n",
              "    </tr>\n",
              "    <tr>\n",
              "      <th>25847</th>\n",
              "      <td>2012</td>\n",
              "      <td>12</td>\n",
              "      <td>12</td>\n",
              "      <td>23</td>\n",
              "      <td>-4</td>\n",
              "      <td>-3.0</td>\n",
              "      <td>1028.0</td>\n",
              "      <td>0.89</td>\n",
              "      <td>0</td>\n",
              "      <td>0</td>\n",
              "    </tr>\n",
              "    <tr>\n",
              "      <th>15999</th>\n",
              "      <td>2011</td>\n",
              "      <td>10</td>\n",
              "      <td>29</td>\n",
              "      <td>15</td>\n",
              "      <td>9</td>\n",
              "      <td>16.0</td>\n",
              "      <td>1020.0</td>\n",
              "      <td>11.63</td>\n",
              "      <td>0</td>\n",
              "      <td>0</td>\n",
              "    </tr>\n",
              "  </tbody>\n",
              "</table>\n",
              "<p>35059 rows × 10 columns</p>\n",
              "</div>"
            ],
            "text/plain": [
              "       year  month  day  hour  DEWP  TEMP    PRES    Iws  Is  Ir\n",
              "28987  2013      4   22    19     6  15.0  1012.0  34.87   0   0\n",
              "14229  2011      8   16    21    21  27.0  1005.0  20.12   0   0\n",
              "39840  2014      7   19     0    24  28.0  1007.0   3.57   0   0\n",
              "2047   2010      3   27     7    -8   2.0  1026.0  13.86   0   0\n",
              "16769  2011     11   30    17   -14   2.0  1037.0   0.89   0   0\n",
              "...     ...    ...  ...   ...   ...   ...     ...    ...  ..  ..\n",
              "7875   2010     11   25     3   -12  -5.0  1029.0   1.79   0   0\n",
              "13221  2011      7    5    21    21  25.0   998.0   0.89   0   0\n",
              "7124   2010     10   24    20     1   6.0  1029.0   8.94   0   0\n",
              "25847  2012     12   12    23    -4  -3.0  1028.0   0.89   0   0\n",
              "15999  2011     10   29    15     9  16.0  1020.0  11.63   0   0\n",
              "\n",
              "[35059 rows x 10 columns]"
            ]
          },
          "metadata": {},
          "execution_count": 56
        }
      ]
    },
    {
      "cell_type": "code",
      "source": [
        "X_train['year'].value_counts"
      ],
      "metadata": {
        "colab": {
          "base_uri": "https://localhost:8080/"
        },
        "id": "dRcgCmwj1KBZ",
        "outputId": "9817d50d-c35e-4d4c-ff7e-c2b7cd093f1f"
      },
      "execution_count": 70,
      "outputs": [
        {
          "output_type": "execute_result",
          "data": {
            "text/plain": [
              "<bound method IndexOpsMixin.value_counts of 28987    2013\n",
              "14229    2011\n",
              "39840    2014\n",
              "2047     2010\n",
              "16769    2011\n",
              "         ... \n",
              "7875     2010\n",
              "13221    2011\n",
              "7124     2010\n",
              "25847    2012\n",
              "15999    2011\n",
              "Name: year, Length: 35059, dtype: int64>"
            ]
          },
          "metadata": {},
          "execution_count": 70
        }
      ]
    },
    {
      "cell_type": "code",
      "source": [
        "y_train"
      ],
      "metadata": {
        "colab": {
          "base_uri": "https://localhost:8080/"
        },
        "id": "3NwcDQdk1MYb",
        "outputId": "4de0fedf-0ab5-4d57-e9f1-38b381086483"
      },
      "execution_count": 21,
      "outputs": [
        {
          "output_type": "execute_result",
          "data": {
            "text/plain": [
              "9746     105.000000\n",
              "38920     59.000000\n",
              "15450     98.613215\n",
              "28059    217.000000\n",
              "31133     65.000000\n",
              "            ...    \n",
              "28552     78.000000\n",
              "36594     39.000000\n",
              "2066      44.000000\n",
              "41618     83.000000\n",
              "39069    111.000000\n",
              "Name: pm2.5, Length: 35059, dtype: float64"
            ]
          },
          "metadata": {},
          "execution_count": 21
        }
      ]
    },
    {
      "cell_type": "code",
      "source": [
        "y_test.shape"
      ],
      "metadata": {
        "colab": {
          "base_uri": "https://localhost:8080/"
        },
        "id": "IZMR9itX1PZD",
        "outputId": "4ac69bd8-30b5-4502-8781-de8d1929e472"
      },
      "execution_count": 41,
      "outputs": [
        {
          "output_type": "execute_result",
          "data": {
            "text/plain": [
              "(8765,)"
            ]
          },
          "metadata": {},
          "execution_count": 41
        }
      ]
    },
    {
      "cell_type": "code",
      "source": [
        "#X_train = X_train.drop(['Is','Ir'], axis=1)\n",
        "#X_test = X_test.drop(['Is','Ir'], axis=1)\n"
      ],
      "metadata": {
        "id": "nBH7mlbH6NZ9"
      },
      "execution_count": 48,
      "outputs": []
    },
    {
      "cell_type": "code",
      "source": [
        "X_train.shape"
      ],
      "metadata": {
        "colab": {
          "base_uri": "https://localhost:8080/"
        },
        "id": "4LTcEpBUBfSl",
        "outputId": "5708df90-a113-4010-b06f-8179a5c2f604"
      },
      "execution_count": 44,
      "outputs": [
        {
          "output_type": "execute_result",
          "data": {
            "text/plain": [
              "(35059, 8)"
            ]
          },
          "metadata": {},
          "execution_count": 44
        }
      ]
    },
    {
      "cell_type": "code",
      "source": [
        "float_data = X_train.values"
      ],
      "metadata": {
        "id": "M5jYBAyODSnm"
      },
      "execution_count": 71,
      "outputs": []
    },
    {
      "cell_type": "code",
      "source": [
        "mean = float_data.mean(axis=0)\n",
        "float_data -= mean\n",
        "std = float_data.std(axis=0)\n",
        "float_data /= std\n"
      ],
      "metadata": {
        "id": "FbXBYJ-UDLZg"
      },
      "execution_count": 72,
      "outputs": []
    },
    {
      "cell_type": "code",
      "source": [
        ""
      ],
      "metadata": {
        "id": "weAciXiRDuMG"
      },
      "execution_count": null,
      "outputs": []
    },
    {
      "cell_type": "code",
      "source": [
        "float_data"
      ],
      "metadata": {
        "colab": {
          "base_uri": "https://localhost:8080/"
        },
        "id": "JJIjWyK4DZfy",
        "outputId": "2fde4fd5-c7da-423a-98b5-eb3599538ea0"
      },
      "execution_count": 73,
      "outputs": [
        {
          "output_type": "execute_result",
          "data": {
            "text/plain": [
              "array([[ 0.70911496, -0.73140679,  0.71205368, ...,  0.21581579,\n",
              "        -0.06955113, -0.13807882],\n",
              "       [-0.70500076,  0.42736182,  0.02960415, ..., -0.0775547 ,\n",
              "        -0.06955113, -0.13807882],\n",
              "       [ 1.41617282,  0.13766967,  0.37082891, ..., -0.40672632,\n",
              "        -0.06955113, -0.13807882],\n",
              "       ...,\n",
              "       [-1.41205862,  1.00674613,  0.93953685, ..., -0.29991958,\n",
              "        -0.06955113, -0.13807882],\n",
              "       [ 0.0020571 ,  1.58613044, -0.4253622 , ..., -0.46003025,\n",
              "        -0.06955113, -0.13807882],\n",
              "       [-0.70500076,  1.00674613,  1.50824479, ..., -0.24641676,\n",
              "        -0.06955113, -0.13807882]])"
            ]
          },
          "metadata": {},
          "execution_count": 73
        }
      ]
    },
    {
      "cell_type": "code",
      "source": [
        "X_train2 = X_train.values\n",
        "X_train2.shape"
      ],
      "metadata": {
        "colab": {
          "base_uri": "https://localhost:8080/"
        },
        "id": "IYZ-xm5NDvxL",
        "outputId": "59114df6-9203-49a1-b05d-843a7775717f"
      },
      "execution_count": 105,
      "outputs": [
        {
          "output_type": "execute_result",
          "data": {
            "text/plain": [
              "(35059, 10)"
            ]
          },
          "metadata": {},
          "execution_count": 105
        }
      ]
    },
    {
      "cell_type": "code",
      "source": [
        "sample_size = X_train2.shape[0] # number of samples in train set\n",
        "time_steps  = X_train2.shape[1] # number of features in train set\n",
        "input_dimension = 1               # each feature is represented by 1 number\n",
        "\n",
        "train_data_reshaped = X_train2.reshape(sample_size,time_steps,input_dimension)\n",
        "print(\"After reshape train data set shape:\\n\", train_data_reshaped.shape)\n",
        "print(\"1 Sample shape:\\n\",train_data_reshaped[0].shape)\n",
        "print(\"An example sample:\\n\", train_data_reshaped[0])"
      ],
      "metadata": {
        "colab": {
          "base_uri": "https://localhost:8080/"
        },
        "id": "VqsFcj49D1JQ",
        "outputId": "de86d3a5-a805-40ca-ef4b-cddf9bc85fa0"
      },
      "execution_count": 107,
      "outputs": [
        {
          "output_type": "stream",
          "name": "stdout",
          "text": [
            "After reshape train data set shape:\n",
            " (35059, 10, 1)\n",
            "1 Sample shape:\n",
            " (10, 1)\n",
            "An example sample:\n",
            " [[2013.  ]\n",
            " [   4.  ]\n",
            " [  22.  ]\n",
            " [  19.  ]\n",
            " [   6.  ]\n",
            " [  15.  ]\n",
            " [1012.  ]\n",
            " [  34.87]\n",
            " [   0.  ]\n",
            " [   0.  ]]\n"
          ]
        }
      ]
    },
    {
      "cell_type": "code",
      "source": [
        "#test_data_reshaped = test_data.reshape(test_data.shape[0],test_data.shape[1],1)"
      ],
      "metadata": {
        "id": "8CGK6fk8D4CP"
      },
      "execution_count": null,
      "outputs": []
    },
    {
      "cell_type": "code",
      "source": [
        "from tensorflow.keras.models import Sequential\n",
        "from tensorflow.keras import layers\n",
        "from tensorflow.keras.optimizers import RMSprop, Adam\n",
        "\n",
        "n_timesteps = train_data_reshaped.shape[1] #13\n",
        "n_features  = train_data_reshaped.shape[2] #1 \n",
        "\n",
        "model = Sequential()\n",
        "model.add(keras.layers.Input(shape=(n_timesteps,n_features)))\n",
        "model.add(layers.Conv1D(32, 7, activation='relu'))\n",
        "model.add(layers.MaxPooling1D(2))\n",
        "\n",
        "model.add(layers.GlobalMaxPooling1D())\n",
        "model.add(layers.Dense(1))\n"
      ],
      "metadata": {
        "id": "0MkRlbiGnS4L"
      },
      "execution_count": null,
      "outputs": []
    },
    {
      "cell_type": "code",
      "source": [
        "model.summary()\n",
        "model.compile(loss='mse', optimizer=RMSprop(learning_rate=0.05), metrics=['mae'])\n",
        "    \n",
        "\n",
        "model.fit(X_train, y_train,\n",
        "                    epochs=50,\n",
        "                    batch_size=128,\n",
        "                    validation_split=0.2)"
      ],
      "metadata": {
        "colab": {
          "base_uri": "https://localhost:8080/"
        },
        "id": "vjlT4MIDppit",
        "outputId": "9324d5c0-b380-4426-ea05-c41284acb1d3"
      },
      "execution_count": 101,
      "outputs": [
        {
          "output_type": "stream",
          "name": "stdout",
          "text": [
            "Model: \"sequential_13\"\n",
            "_________________________________________________________________\n",
            " Layer (type)                Output Shape              Param #   \n",
            "=================================================================\n",
            " conv1d_20 (Conv1D)          (None, 4, 32)             256       \n",
            "                                                                 \n",
            " max_pooling1d_13 (MaxPoolin  (None, 2, 32)            0         \n",
            " g1D)                                                            \n",
            "                                                                 \n",
            " global_max_pooling1d_8 (Glo  (None, 32)               0         \n",
            " balMaxPooling1D)                                                \n",
            "                                                                 \n",
            " dense_8 (Dense)             (None, 1)                 33        \n",
            "                                                                 \n",
            "=================================================================\n",
            "Total params: 289\n",
            "Trainable params: 289\n",
            "Non-trainable params: 0\n",
            "_________________________________________________________________\n",
            "Epoch 1/50\n",
            "220/220 [==============================] - 44s 6ms/step - loss: 8073.6440 - mae: 65.6115 - val_loss: 8078.1162 - val_mae: 66.1797\n",
            "Epoch 2/50\n",
            "220/220 [==============================] - 1s 5ms/step - loss: 8073.4971 - mae: 65.6190 - val_loss: 8077.6470 - val_mae: 66.2043\n",
            "Epoch 3/50\n",
            "220/220 [==============================] - 1s 5ms/step - loss: 8073.5674 - mae: 65.6127 - val_loss: 8077.7505 - val_mae: 66.1987\n",
            "Epoch 4/50\n",
            "220/220 [==============================] - 1s 5ms/step - loss: 8073.5166 - mae: 65.6199 - val_loss: 8077.7319 - val_mae: 66.1996\n",
            "Epoch 5/50\n",
            "220/220 [==============================] - 1s 5ms/step - loss: 8073.3145 - mae: 65.6736 - val_loss: 8077.9580 - val_mae: 66.1877\n",
            "Epoch 6/50\n",
            "220/220 [==============================] - 1s 5ms/step - loss: 8073.3237 - mae: 65.5955 - val_loss: 8076.6421 - val_mae: 66.2854\n",
            "Epoch 7/50\n",
            "220/220 [==============================] - 1s 6ms/step - loss: 8073.4517 - mae: 65.6266 - val_loss: 8076.5732 - val_mae: 66.2934\n",
            "Epoch 8/50\n",
            "220/220 [==============================] - 1s 5ms/step - loss: 8073.5220 - mae: 65.6554 - val_loss: 8076.3638 - val_mae: 66.3188\n",
            "Epoch 9/50\n",
            "220/220 [==============================] - 1s 5ms/step - loss: 8073.3779 - mae: 65.7129 - val_loss: 8077.5801 - val_mae: 66.2079\n",
            "Epoch 10/50\n",
            "220/220 [==============================] - 1s 5ms/step - loss: 8073.5132 - mae: 65.6118 - val_loss: 8076.9097 - val_mae: 66.2566\n",
            "Epoch 11/50\n",
            "220/220 [==============================] - 1s 5ms/step - loss: 8073.4858 - mae: 65.6402 - val_loss: 8076.8452 - val_mae: 66.2634\n",
            "Epoch 12/50\n",
            "220/220 [==============================] - 1s 5ms/step - loss: 8073.5044 - mae: 65.6638 - val_loss: 8077.2207 - val_mae: 66.2289\n",
            "Epoch 13/50\n",
            "220/220 [==============================] - 1s 5ms/step - loss: 8073.3779 - mae: 65.6590 - val_loss: 8078.0107 - val_mae: 66.1850\n",
            "Epoch 14/50\n",
            "220/220 [==============================] - 1s 5ms/step - loss: 8073.5391 - mae: 65.6148 - val_loss: 8078.2266 - val_mae: 66.1743\n",
            "Epoch 15/50\n",
            "220/220 [==============================] - 1s 5ms/step - loss: 8073.4155 - mae: 65.6379 - val_loss: 8077.9785 - val_mae: 66.1867\n",
            "Epoch 16/50\n",
            "220/220 [==============================] - 1s 5ms/step - loss: 8073.5146 - mae: 65.6067 - val_loss: 8078.1206 - val_mae: 66.1795\n",
            "Epoch 17/50\n",
            "220/220 [==============================] - 1s 5ms/step - loss: 8073.4360 - mae: 65.5964 - val_loss: 8076.8706 - val_mae: 66.2608\n",
            "Epoch 18/50\n",
            "220/220 [==============================] - 1s 5ms/step - loss: 8073.4458 - mae: 65.6671 - val_loss: 8077.0845 - val_mae: 66.2392\n",
            "Epoch 19/50\n",
            "220/220 [==============================] - 1s 5ms/step - loss: 8073.4429 - mae: 65.6187 - val_loss: 8076.6494 - val_mae: 66.2846\n",
            "Epoch 20/50\n",
            "220/220 [==============================] - 1s 5ms/step - loss: 8073.3491 - mae: 65.7010 - val_loss: 8078.1367 - val_mae: 66.1788\n",
            "Epoch 21/50\n",
            "220/220 [==============================] - 1s 5ms/step - loss: 8073.5337 - mae: 65.6238 - val_loss: 8077.5693 - val_mae: 66.2085\n",
            "Epoch 22/50\n",
            "220/220 [==============================] - 1s 5ms/step - loss: 8073.4883 - mae: 65.6312 - val_loss: 8077.4414 - val_mae: 66.2158\n",
            "Epoch 23/50\n",
            "220/220 [==============================] - 1s 5ms/step - loss: 8073.4697 - mae: 65.6266 - val_loss: 8077.7432 - val_mae: 66.1990\n",
            "Epoch 24/50\n",
            "220/220 [==============================] - 1s 5ms/step - loss: 8073.4961 - mae: 65.6467 - val_loss: 8077.4771 - val_mae: 66.2139\n",
            "Epoch 25/50\n",
            "220/220 [==============================] - 1s 5ms/step - loss: 8073.4692 - mae: 65.6472 - val_loss: 8076.6909 - val_mae: 66.2800\n",
            "Epoch 26/50\n",
            "220/220 [==============================] - 1s 5ms/step - loss: 8073.3647 - mae: 65.7149 - val_loss: 8077.7051 - val_mae: 66.2011\n",
            "Epoch 27/50\n",
            "220/220 [==============================] - 1s 5ms/step - loss: 8073.2900 - mae: 65.5842 - val_loss: 8076.5791 - val_mae: 66.2928\n",
            "Epoch 28/50\n",
            "220/220 [==============================] - 1s 5ms/step - loss: 8073.5039 - mae: 65.7066 - val_loss: 8077.1616 - val_mae: 66.2325\n",
            "Epoch 29/50\n",
            "220/220 [==============================] - 1s 5ms/step - loss: 8073.5073 - mae: 65.6013 - val_loss: 8076.6948 - val_mae: 66.2795\n",
            "Epoch 30/50\n",
            "220/220 [==============================] - 1s 6ms/step - loss: 8073.2949 - mae: 65.6979 - val_loss: 8077.7290 - val_mae: 66.1999\n",
            "Epoch 31/50\n",
            "220/220 [==============================] - 1s 5ms/step - loss: 8073.3970 - mae: 65.6657 - val_loss: 8078.4907 - val_mae: 66.1616\n",
            "Epoch 32/50\n",
            "220/220 [==============================] - 1s 5ms/step - loss: 8073.5977 - mae: 65.6041 - val_loss: 8078.2886 - val_mae: 66.1713\n",
            "Epoch 33/50\n",
            "220/220 [==============================] - 1s 5ms/step - loss: 8073.6143 - mae: 65.5633 - val_loss: 8077.3994 - val_mae: 66.2182\n",
            "Epoch 34/50\n",
            "220/220 [==============================] - 1s 5ms/step - loss: 8073.5068 - mae: 65.5814 - val_loss: 8076.5327 - val_mae: 66.2982\n",
            "Epoch 35/50\n",
            "220/220 [==============================] - 1s 5ms/step - loss: 8073.4819 - mae: 65.6749 - val_loss: 8077.7300 - val_mae: 66.1997\n",
            "Epoch 36/50\n",
            "220/220 [==============================] - 1s 5ms/step - loss: 8073.3247 - mae: 65.5888 - val_loss: 8076.4658 - val_mae: 66.3061\n",
            "Epoch 37/50\n",
            "220/220 [==============================] - 1s 5ms/step - loss: 8073.3838 - mae: 65.6737 - val_loss: 8076.8945 - val_mae: 66.2581\n",
            "Epoch 38/50\n",
            "220/220 [==============================] - 1s 5ms/step - loss: 8073.5010 - mae: 65.6756 - val_loss: 8077.1938 - val_mae: 66.2305\n",
            "Epoch 39/50\n",
            "220/220 [==============================] - 1s 5ms/step - loss: 8073.4717 - mae: 65.6727 - val_loss: 8077.3545 - val_mae: 66.2208\n",
            "Epoch 40/50\n",
            "220/220 [==============================] - 1s 5ms/step - loss: 8073.4282 - mae: 65.6585 - val_loss: 8077.2344 - val_mae: 66.2281\n",
            "Epoch 41/50\n",
            "220/220 [==============================] - 1s 5ms/step - loss: 8073.4780 - mae: 65.6415 - val_loss: 8077.5649 - val_mae: 66.2088\n",
            "Epoch 42/50\n",
            "220/220 [==============================] - 1s 5ms/step - loss: 8073.4824 - mae: 65.6267 - val_loss: 8077.1548 - val_mae: 66.2330\n",
            "Epoch 43/50\n",
            "220/220 [==============================] - 1s 5ms/step - loss: 8073.4771 - mae: 65.6878 - val_loss: 8077.5962 - val_mae: 66.2070\n",
            "Epoch 44/50\n",
            "220/220 [==============================] - 1s 5ms/step - loss: 8073.5356 - mae: 65.6135 - val_loss: 8077.0586 - val_mae: 66.2418\n",
            "Epoch 45/50\n",
            "220/220 [==============================] - 1s 5ms/step - loss: 8073.4478 - mae: 65.6939 - val_loss: 8077.4551 - val_mae: 66.2150\n",
            "Epoch 46/50\n",
            "220/220 [==============================] - 1s 5ms/step - loss: 8073.5176 - mae: 65.6419 - val_loss: 8077.6562 - val_mae: 66.2037\n",
            "Epoch 47/50\n",
            "220/220 [==============================] - 1s 5ms/step - loss: 8073.4771 - mae: 65.6007 - val_loss: 8077.3647 - val_mae: 66.2203\n",
            "Epoch 48/50\n",
            "220/220 [==============================] - 1s 5ms/step - loss: 8073.5024 - mae: 65.6444 - val_loss: 8077.3716 - val_mae: 66.2199\n",
            "Epoch 49/50\n",
            "220/220 [==============================] - 1s 5ms/step - loss: 8073.5562 - mae: 65.6200 - val_loss: 8077.1709 - val_mae: 66.2320\n",
            "Epoch 50/50\n",
            "220/220 [==============================] - 1s 6ms/step - loss: 8073.5190 - mae: 65.6391 - val_loss: 8076.7896 - val_mae: 66.2692\n"
          ]
        },
        {
          "output_type": "execute_result",
          "data": {
            "text/plain": [
              "<keras.callbacks.History at 0x7f6d3506db50>"
            ]
          },
          "metadata": {},
          "execution_count": 101
        }
      ]
    },
    {
      "cell_type": "code",
      "source": [
        "model.evaluate(X_test, y_test)"
      ],
      "metadata": {
        "colab": {
          "base_uri": "https://localhost:8080/"
        },
        "id": "2NX8WytXrUag",
        "outputId": "a8b8347b-ff3d-4e8d-da36-f4a12a1d70ee"
      },
      "execution_count": 75,
      "outputs": [
        {
          "output_type": "stream",
          "name": "stdout",
          "text": [
            "274/274 [==============================] - 1s 3ms/step - loss: 19271.8047 - mae: 126.7616\n"
          ]
        },
        {
          "output_type": "execute_result",
          "data": {
            "text/plain": [
              "[19271.8046875, 126.7615966796875]"
            ]
          },
          "metadata": {},
          "execution_count": 75
        }
      ]
    },
    {
      "cell_type": "code",
      "source": [
        "model.predict(X_test)"
      ],
      "metadata": {
        "colab": {
          "base_uri": "https://localhost:8080/"
        },
        "id": "OoLWIt0-3sqh",
        "outputId": "ae5d8a46-43c2-4e1c-fb2d-468d9c9a3ef1"
      },
      "execution_count": 76,
      "outputs": [
        {
          "output_type": "execute_result",
          "data": {
            "text/plain": [
              "array([[207.04579],\n",
              "       [207.04482],\n",
              "       [206.34885],\n",
              "       ...,\n",
              "       [202.96162],\n",
              "       [191.99907],\n",
              "       [206.65176]], dtype=float32)"
            ]
          },
          "metadata": {},
          "execution_count": 76
        }
      ]
    },
    {
      "cell_type": "code",
      "source": [
        "X_test"
      ],
      "metadata": {
        "colab": {
          "base_uri": "https://localhost:8080/",
          "height": 424
        },
        "id": "xS02R7v-2eaQ",
        "outputId": "6a7283c5-1e5a-449c-ddf7-904e2ae4941d"
      },
      "execution_count": 95,
      "outputs": [
        {
          "output_type": "execute_result",
          "data": {
            "text/html": [
              "<div>\n",
              "<style scoped>\n",
              "    .dataframe tbody tr th:only-of-type {\n",
              "        vertical-align: middle;\n",
              "    }\n",
              "\n",
              "    .dataframe tbody tr th {\n",
              "        vertical-align: top;\n",
              "    }\n",
              "\n",
              "    .dataframe thead th {\n",
              "        text-align: right;\n",
              "    }\n",
              "</style>\n",
              "<table border=\"1\" class=\"dataframe\">\n",
              "  <thead>\n",
              "    <tr style=\"text-align: right;\">\n",
              "      <th></th>\n",
              "      <th>year</th>\n",
              "      <th>month</th>\n",
              "      <th>day</th>\n",
              "      <th>hour</th>\n",
              "      <th>DEWP</th>\n",
              "      <th>TEMP</th>\n",
              "      <th>PRES</th>\n",
              "      <th>Iws</th>\n",
              "      <th>Is</th>\n",
              "      <th>Ir</th>\n",
              "    </tr>\n",
              "  </thead>\n",
              "  <tbody>\n",
              "    <tr>\n",
              "      <th>6161</th>\n",
              "      <td>2010</td>\n",
              "      <td>9</td>\n",
              "      <td>14</td>\n",
              "      <td>17</td>\n",
              "      <td>15</td>\n",
              "      <td>31.0</td>\n",
              "      <td>1012.0</td>\n",
              "      <td>12.52</td>\n",
              "      <td>0</td>\n",
              "      <td>0</td>\n",
              "    </tr>\n",
              "    <tr>\n",
              "      <th>4378</th>\n",
              "      <td>2010</td>\n",
              "      <td>7</td>\n",
              "      <td>2</td>\n",
              "      <td>10</td>\n",
              "      <td>18</td>\n",
              "      <td>30.0</td>\n",
              "      <td>1000.0</td>\n",
              "      <td>0.89</td>\n",
              "      <td>0</td>\n",
              "      <td>0</td>\n",
              "    </tr>\n",
              "    <tr>\n",
              "      <th>37940</th>\n",
              "      <td>2014</td>\n",
              "      <td>4</td>\n",
              "      <td>30</td>\n",
              "      <td>20</td>\n",
              "      <td>10</td>\n",
              "      <td>22.0</td>\n",
              "      <td>1007.0</td>\n",
              "      <td>33.08</td>\n",
              "      <td>0</td>\n",
              "      <td>0</td>\n",
              "    </tr>\n",
              "    <tr>\n",
              "      <th>41308</th>\n",
              "      <td>2014</td>\n",
              "      <td>9</td>\n",
              "      <td>18</td>\n",
              "      <td>4</td>\n",
              "      <td>11</td>\n",
              "      <td>11.0</td>\n",
              "      <td>1021.0</td>\n",
              "      <td>3.13</td>\n",
              "      <td>0</td>\n",
              "      <td>0</td>\n",
              "    </tr>\n",
              "    <tr>\n",
              "      <th>26930</th>\n",
              "      <td>2013</td>\n",
              "      <td>1</td>\n",
              "      <td>27</td>\n",
              "      <td>2</td>\n",
              "      <td>-8</td>\n",
              "      <td>-5.0</td>\n",
              "      <td>1030.0</td>\n",
              "      <td>1.78</td>\n",
              "      <td>0</td>\n",
              "      <td>0</td>\n",
              "    </tr>\n",
              "    <tr>\n",
              "      <th>...</th>\n",
              "      <td>...</td>\n",
              "      <td>...</td>\n",
              "      <td>...</td>\n",
              "      <td>...</td>\n",
              "      <td>...</td>\n",
              "      <td>...</td>\n",
              "      <td>...</td>\n",
              "      <td>...</td>\n",
              "      <td>...</td>\n",
              "      <td>...</td>\n",
              "    </tr>\n",
              "    <tr>\n",
              "      <th>8663</th>\n",
              "      <td>2010</td>\n",
              "      <td>12</td>\n",
              "      <td>27</td>\n",
              "      <td>23</td>\n",
              "      <td>-19</td>\n",
              "      <td>-3.0</td>\n",
              "      <td>1016.0</td>\n",
              "      <td>107.73</td>\n",
              "      <td>0</td>\n",
              "      <td>0</td>\n",
              "    </tr>\n",
              "    <tr>\n",
              "      <th>27359</th>\n",
              "      <td>2013</td>\n",
              "      <td>2</td>\n",
              "      <td>13</td>\n",
              "      <td>23</td>\n",
              "      <td>-6</td>\n",
              "      <td>-5.0</td>\n",
              "      <td>1023.0</td>\n",
              "      <td>1.79</td>\n",
              "      <td>0</td>\n",
              "      <td>0</td>\n",
              "    </tr>\n",
              "    <tr>\n",
              "      <th>8267</th>\n",
              "      <td>2010</td>\n",
              "      <td>12</td>\n",
              "      <td>11</td>\n",
              "      <td>11</td>\n",
              "      <td>-17</td>\n",
              "      <td>1.0</td>\n",
              "      <td>1023.0</td>\n",
              "      <td>16.09</td>\n",
              "      <td>0</td>\n",
              "      <td>0</td>\n",
              "    </tr>\n",
              "    <tr>\n",
              "      <th>24922</th>\n",
              "      <td>2012</td>\n",
              "      <td>11</td>\n",
              "      <td>4</td>\n",
              "      <td>10</td>\n",
              "      <td>2</td>\n",
              "      <td>3.0</td>\n",
              "      <td>1010.0</td>\n",
              "      <td>147.08</td>\n",
              "      <td>0</td>\n",
              "      <td>25</td>\n",
              "    </tr>\n",
              "    <tr>\n",
              "      <th>5225</th>\n",
              "      <td>2010</td>\n",
              "      <td>8</td>\n",
              "      <td>6</td>\n",
              "      <td>17</td>\n",
              "      <td>14</td>\n",
              "      <td>29.0</td>\n",
              "      <td>1014.0</td>\n",
              "      <td>16.10</td>\n",
              "      <td>0</td>\n",
              "      <td>0</td>\n",
              "    </tr>\n",
              "  </tbody>\n",
              "</table>\n",
              "<p>8765 rows × 10 columns</p>\n",
              "</div>"
            ],
            "text/plain": [
              "       year  month  day  hour  DEWP  TEMP    PRES     Iws  Is  Ir\n",
              "6161   2010      9   14    17    15  31.0  1012.0   12.52   0   0\n",
              "4378   2010      7    2    10    18  30.0  1000.0    0.89   0   0\n",
              "37940  2014      4   30    20    10  22.0  1007.0   33.08   0   0\n",
              "41308  2014      9   18     4    11  11.0  1021.0    3.13   0   0\n",
              "26930  2013      1   27     2    -8  -5.0  1030.0    1.78   0   0\n",
              "...     ...    ...  ...   ...   ...   ...     ...     ...  ..  ..\n",
              "8663   2010     12   27    23   -19  -3.0  1016.0  107.73   0   0\n",
              "27359  2013      2   13    23    -6  -5.0  1023.0    1.79   0   0\n",
              "8267   2010     12   11    11   -17   1.0  1023.0   16.09   0   0\n",
              "24922  2012     11    4    10     2   3.0  1010.0  147.08   0  25\n",
              "5225   2010      8    6    17    14  29.0  1014.0   16.10   0   0\n",
              "\n",
              "[8765 rows x 10 columns]"
            ]
          },
          "metadata": {},
          "execution_count": 95
        }
      ]
    },
    {
      "cell_type": "code",
      "source": [
        "y_test"
      ],
      "metadata": {
        "colab": {
          "base_uri": "https://localhost:8080/"
        },
        "id": "KAWaXAEE2GcV",
        "outputId": "bb5581e2-6e6c-4dd3-a333-8af21bf285e5"
      },
      "execution_count": 96,
      "outputs": [
        {
          "output_type": "execute_result",
          "data": {
            "text/plain": [
              "6161     166.0\n",
              "4378      34.0\n",
              "37940     91.0\n",
              "41308    104.0\n",
              "26930    347.0\n",
              "         ...  \n",
              "8663      21.0\n",
              "27359    384.0\n",
              "8267      40.0\n",
              "24922     27.0\n",
              "5225      20.0\n",
              "Name: pm2.5, Length: 8765, dtype: float64"
            ]
          },
          "metadata": {},
          "execution_count": 96
        }
      ]
    },
    {
      "cell_type": "code",
      "source": [
        ""
      ],
      "metadata": {
        "id": "U7JsXQrh2ZgQ"
      },
      "execution_count": null,
      "outputs": []
    }
  ]
}